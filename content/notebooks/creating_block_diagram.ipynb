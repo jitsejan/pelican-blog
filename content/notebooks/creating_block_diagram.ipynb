{
 "cells": [
  {
   "cell_type": "markdown",
   "metadata": {
    "slideshow": {
     "slide_type": "slide"
    }
   },
   "source": [
    "# Creating block diagram"
   ]
  },
  {
   "cell_type": "markdown",
   "metadata": {
    "slideshow": {
     "slide_type": "slide"
    }
   },
   "source": [
    "## Install the blockdiag library\n",
    "We will use the [blockdiag](http://blockdiag.com/en/blockdiag/) library to easily create a block diagram to insert in the Jupyter notebook."
   ]
  },
  {
   "cell_type": "code",
   "execution_count": 1,
   "metadata": {
    "slideshow": {
     "slide_type": "fragment"
    }
   },
   "outputs": [
    {
     "name": "stdout",
     "output_type": "stream",
     "text": [
      "Requirement already satisfied: blockdiag in /opt/conda/lib/python3.6/site-packages\n",
      "Requirement already satisfied: funcparserlib in /opt/conda/lib/python3.6/site-packages (from blockdiag)\n",
      "Requirement already satisfied: setuptools in /opt/conda/lib/python3.6/site-packages (from blockdiag)\n",
      "Requirement already satisfied: Pillow in /opt/conda/lib/python3.6/site-packages (from blockdiag)\n",
      "Requirement already satisfied: webcolors in /opt/conda/lib/python3.6/site-packages (from blockdiag)\n",
      "Requirement already satisfied: olefile in /opt/conda/lib/python3.6/site-packages (from Pillow->blockdiag)\n"
     ]
    }
   ],
   "source": [
    "!pip install blockdiag"
   ]
  },
  {
   "cell_type": "markdown",
   "metadata": {
    "slideshow": {
     "slide_type": "slide"
    }
   },
   "source": [
    "## Diagram definition\n",
    "First we create the folder:"
   ]
  },
  {
   "cell_type": "code",
   "execution_count": 2,
   "metadata": {
    "slideshow": {
     "slide_type": "fragment"
    }
   },
   "outputs": [],
   "source": [
    "!mkdir diagrams"
   ]
  },
  {
   "cell_type": "markdown",
   "metadata": {
    "slideshow": {
     "slide_type": "fragment"
    }
   },
   "source": [
    "and we create a new file inside the `diagrams` folder with the definition of the graph:"
   ]
  },
  {
   "cell_type": "code",
   "execution_count": 3,
   "metadata": {
    "slideshow": {
     "slide_type": "fragment"
    }
   },
   "outputs": [
    {
     "name": "stdout",
     "output_type": "stream",
     "text": [
      "Writing diagrams/block_diagram\n"
     ]
    }
   ],
   "source": [
    "%%file diagrams/block_diagram\n",
    "blockdiag {\n",
    "  // Define class (list of attributes)\n",
    "  class emphasis [color = lightblue, style = dashed];\n",
    "  class redline [color = red, style = dotted];\n",
    "\n",
    "  Extract -> Transform -> Load;\n",
    "\n",
    "  // Set class to node\n",
    "  Transform [class = \"emphasis\"];\n",
    "\n",
    "  // Set class to edge\n",
    "  Transform -> Load [class = \"redline\"];\n",
    "}"
   ]
  },
  {
   "cell_type": "markdown",
   "metadata": {
    "slideshow": {
     "slide_type": "slide"
    }
   },
   "source": [
    "## Convert the diagram to PNG\n",
    "Using the `blockdiag` library, we can convert the diagram from the definition to a PNG by running the `blockdiag` command from the command line with the graph definition as first argument:"
   ]
  },
  {
   "cell_type": "code",
   "execution_count": 4,
   "metadata": {
    "slideshow": {
     "slide_type": "fragment"
    }
   },
   "outputs": [],
   "source": [
    "!blockdiag diagrams/block_diagram"
   ]
  },
  {
   "cell_type": "markdown",
   "metadata": {
    "slideshow": {
     "slide_type": "slide"
    }
   },
   "source": [
    "## Display the PNG\n",
    "By using the display functionality of the Jupyter notebook we can show the generated PNG:"
   ]
  },
  {
   "cell_type": "code",
   "execution_count": 5,
   "metadata": {
    "slideshow": {
     "slide_type": "fragment"
    }
   },
   "outputs": [
    {
     "data": {
      "image/png": "[encoded data removed]",
      "text/plain": [
       "<IPython.core.display.Image object>"
      ]
     },
     "execution_count": 5,
     "metadata": {},
     "output_type": "execute_result"
    }
   ],
   "source": [
    "from IPython.display import Image\n",
    "Image(\"diagrams/block_diagram.png\")"
   ]
  },
  {
   "cell_type": "markdown",
   "metadata": {
    "slideshow": {
     "slide_type": "slide"
    }
   },
   "source": [
    "## Convert to slides\n",
    "Jupyter has the functionality to convert a Jupyter notebook to a fancy looking presentation. By using `nbconvert` and with the output set to `slides`, the notebook will be translated to an HTML page, which will be transformed into a beautiful presentation by adding the [RevealJS](https://revealjs.com/#/) library."
   ]
  },
  {
   "cell_type": "code",
   "execution_count": 6,
   "metadata": {
    "slideshow": {
     "slide_type": "fragment"
    }
   },
   "outputs": [
    {
     "name": "stdout",
     "output_type": "stream",
     "text": [
      "[NbConvertApp] Converting notebook Create block diagram.ipynb to slides\n",
      "[NbConvertApp] Writing 333804 bytes to Create block diagram.slides.html\n"
     ]
    }
   ],
   "source": [
    "!jupyter nbconvert Create\\ block\\ diagram.ipynb --to slides"
   ]
  },
  {
   "cell_type": "markdown",
   "metadata": {
    "slideshow": {
     "slide_type": "slide"
    }
   },
   "source": [
    "## Check for resulting HTML\n",
    "After conversion we should see both the .ipynb and .html in the directory."
   ]
  },
  {
   "cell_type": "code",
   "execution_count": 7,
   "metadata": {
    "slideshow": {
     "slide_type": "fragment"
    }
   },
   "outputs": [
    {
     "name": "stdout",
     "output_type": "stream",
     "text": [
      "-rw-r--r-- 1 jovyan users   6143 Dec 18 11:58 Create block diagram.ipynb\r\n",
      "-rw-r--r-- 1 jovyan users 333804 Dec 18 11:59 Create block diagram.slides.html\r\n"
     ]
    }
   ],
   "source": [
    "!ls -la Create\\ block\\ diagram*"
   ]
  },
  {
   "cell_type": "markdown",
   "metadata": {
    "slideshow": {
     "slide_type": "slide"
    }
   },
   "source": [
    "## Retrieve RevealJS\n",
    "To use Jupyter slides we need to download RevealJS to the root directory of the notebooks. We do this by cloning the `reveal.js` Git repository directly in the current folder."
   ]
  },
  {
   "cell_type": "code",
   "execution_count": null,
   "metadata": {
    "slideshow": {
     "slide_type": "fragment"
    }
   },
   "outputs": [
    {
     "name": "stdout",
     "output_type": "stream",
     "text": [
      "Cloning into 'reveal.js'...\n",
      "remote: Counting objects: 10252, done.\u001b[K\n",
      "remote: Total 10252 (delta 0), reused 0 (delta 0), pack-reused 10252\u001b[K\n",
      "Receiving objects: 100% (10252/10252), 7.57 MiB | 0 bytes/s, done.\n",
      "Resolving deltas: 100% (5644/5644), done.\n",
      "Checking connectivity... done.\n"
     ]
    }
   ],
   "source": [
    "!git clone https://github.com/hakimel/reveal.js.git"
   ]
  },
  {
   "cell_type": "markdown",
   "metadata": {
    "slideshow": {
     "slide_type": "slide"
    }
   },
   "source": [
    "## Start Python webserver\n",
    "Use `http.server` for Python 3 and `SimpleHTTPServer` when using Python 2 to start the server to view the HTML page."
   ]
  },
  {
   "cell_type": "code",
   "execution_count": null,
   "metadata": {
    "slideshow": {
     "slide_type": "subslide"
    }
   },
   "outputs": [
    {
     "name": "stdout",
     "output_type": "stream",
     "text": [
      "Serving HTTP on 0.0.0.0 port 8000 (http://0.0.0.0:8000/) ...\r\n"
     ]
    }
   ],
   "source": [
    "!python -m http.server 8000"
   ]
  },
  {
   "cell_type": "markdown",
   "metadata": {
    "slideshow": {
     "slide_type": "subslide"
    }
   },
   "source": [
    "Check port 8000 and open the HTML page containing the slides. In this case the HTML of this notebook will be visible on http://dev.jitsejan.com:8558/view/work/Create%20block%20diagram.slides.html."
   ]
  }
 ],
 "metadata": {
  "celltoolbar": "Slideshow",
  "kernelspec": {
   "display_name": "Python 3",
   "language": "python",
   "name": "python3"
  },
  "language_info": {
   "codemirror_mode": {
    "name": "ipython",
    "version": 3
   },
   "file_extension": ".py",
   "mimetype": "text/x-python",
   "name": "python",
   "nbconvert_exporter": "python",
   "pygments_lexer": "ipython3",
   "version": "3.6.3"
  }
 },
 "nbformat": 4,
 "nbformat_minor": 2
}
