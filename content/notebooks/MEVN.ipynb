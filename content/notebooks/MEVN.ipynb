{
 "cells": [
  {
   "cell_type": "markdown",
   "metadata": {},
   "source": [
    "# MEVN stack experiment with Jupyter\n",
    "\n",
    "In this notebook I want to play with Jupyter and show the steps of how to create a MEVN application from a notebook. Normally I would do this in the normal Linux terminal and a text editor, but since we can combine code, explanation and shell commands, I want to create a story in this notebook which hopefully will be of any help of people experimenting with full-stack development. I will create the application, use some simple Linux tricks and use Selenium to test the application.\n",
    "\n",
    "Please note development like this is far from optimal, but I think it is very cool what you can achieve without leaving your notebook, knowing a bit of Docker, Linux and Python.\n",
    "\n",
    "\n",
    "## Objective\n",
    "Setup an application with the following elements\n",
    "\n",
    "* [MongoDB](https://www.mongodb.com/)\n",
    "* [ExpressJS](https://expressjs.com/)\n",
    "* [VueJS](https://vuejs.org/)\n",
    "* [NodeJS](https://nodejs.org/en/)\n",
    "\n",
    "using\n",
    "\n",
    "* [Jupyter](http://jupyter.org/) notebook\n",
    "* [Docker](https://www.docker.com/)\n",
    "* [Scrapy](https://scrapy.org/)\n",
    "* [PyMongo](https://api.mongodb.com/python/current/)\n",
    "* [Selenium](http://www.seleniumhq.org/)"
   ]
  },
  {
   "cell_type": "markdown",
   "metadata": {},
   "source": [
    "<img class=\"logo\" src=\"logos/jupyter.png\" />"
   ]
  },
  {
   "cell_type": "markdown",
   "metadata": {},
   "source": [
    "### Notebook settings"
   ]
  },
  {
   "cell_type": "code",
   "execution_count": 2,
   "metadata": {
    "collapsed": false
   },
   "outputs": [
    {
     "data": {
      "text/html": [
       "<style>\n",
       "img.logo{\n",
       "    height: 100px;\n",
       "}\n",
       "\n",
       "img.screenshot{\n",
       "    max-width:500px; \n",
       "    -webkit-filter: drop-shadow(5px 5px 5px #222);\n",
       "    filter: drop-shadow(2px 5px 5px #222);\n",
       "    margin: 50px auto;\n",
       "}\n",
       "</style>"
      ],
      "text/plain": [
       "<IPython.core.display.HTML object>"
      ]
     },
     "metadata": {},
     "output_type": "display_data"
    }
   ],
   "source": [
    "%%html\n",
    "<style>\n",
    "img.logo{\n",
    "    height: 100px;\n",
    "}\n",
    "\n",
    "img.screenshot{\n",
    "    max-width:500px; \n",
    "    -webkit-filter: drop-shadow(5px 5px 5px #222);\n",
    "    filter: drop-shadow(2px 5px 5px #222);\n",
    "    margin: 50px auto;\n",
    "}\n",
    "</style>"
   ]
  },
  {
   "cell_type": "markdown",
   "metadata": {},
   "source": [
    "Clean up the images from earlier runs."
   ]
  },
  {
   "cell_type": "code",
   "execution_count": 3,
   "metadata": {
    "collapsed": false
   },
   "outputs": [
    {
     "name": "stdout",
     "output_type": "stream",
     "text": [
      "rm: *.png: No such file or directory\r\n"
     ]
    }
   ],
   "source": [
    "rm *.png"
   ]
  },
  {
   "cell_type": "code",
   "execution_count": 4,
   "metadata": {
    "collapsed": true
   },
   "outputs": [],
   "source": [
    "from IPython.core.interactiveshell import InteractiveShell\n",
    "InteractiveShell.ast_node_interactivity = \"all\""
   ]
  },
  {
   "cell_type": "code",
   "execution_count": 5,
   "metadata": {
    "collapsed": false
   },
   "outputs": [
    {
     "name": "stdout",
     "output_type": "stream",
     "text": [
      "4.2.1\r\n"
     ]
    }
   ],
   "source": [
    "!jupyter --version"
   ]
  },
  {
   "cell_type": "code",
   "execution_count": 6,
   "metadata": {
    "collapsed": false
   },
   "outputs": [
    {
     "name": "stdout",
     "output_type": "stream",
     "text": [
      "4.3.1\r\n"
     ]
    }
   ],
   "source": [
    "!jupyter notebook --version"
   ]
  },
  {
   "cell_type": "markdown",
   "metadata": {},
   "source": [
    "<img class=\"logo\" src=\"logos/python.PNG\"/>\n",
    "### Python version"
   ]
  },
  {
   "cell_type": "code",
   "execution_count": 7,
   "metadata": {
    "collapsed": false
   },
   "outputs": [
    {
     "data": {
      "text/plain": [
       "'3.6.0'"
      ]
     },
     "execution_count": 7,
     "metadata": {},
     "output_type": "execute_result"
    }
   ],
   "source": [
    "import platform\n",
    "platform.python_version()"
   ]
  },
  {
   "cell_type": "markdown",
   "metadata": {},
   "source": [
    "<img class=\"logo\" src=\"logos/docker.PNG\"/>\n",
    "\n",
    "## Docker setup\n",
    "### Docker version"
   ]
  },
  {
   "cell_type": "code",
   "execution_count": 8,
   "metadata": {
    "collapsed": false
   },
   "outputs": [
    {
     "name": "stdout",
     "output_type": "stream",
     "text": [
      "Client:\r\n",
      " Version:      17.09.1-ce\r\n",
      " API version:  1.32\r\n",
      " Go version:   go1.8.3\r\n",
      " Git commit:   19e2cf6\r\n",
      " Built:        Thu Dec  7 22:22:25 2017\r\n",
      " OS/Arch:      darwin/amd64\r\n",
      "\r\n",
      "Server:\r\n",
      " Version:      17.09.1-ce\r\n",
      " API version:  1.32 (minimum version 1.12)\r\n",
      " Go version:   go1.8.3\r\n",
      " Git commit:   19e2cf6\r\n",
      " Built:        Thu Dec  7 22:28:28 2017\r\n",
      " OS/Arch:      linux/amd64\r\n",
      " Experimental: true\r\n"
     ]
    }
   ],
   "source": [
    "!docker version"
   ]
  },
  {
   "cell_type": "code",
   "execution_count": 9,
   "metadata": {
    "collapsed": false
   },
   "outputs": [
    {
     "name": "stdout",
     "output_type": "stream",
     "text": [
      "CONTAINER ID        IMAGE                      COMMAND             CREATED             STATUS              PORTS                    NAMES\r\n",
      "4764e63d228b        jitsejan/pelican-python3   \"fab reserve\"       29 minutes ago      Up 30 minutes       0.0.0.0:8093->8093/tcp   pelicanblog_pelican_1\r\n"
     ]
    }
   ],
   "source": [
    "!docker ps"
   ]
  },
  {
   "cell_type": "markdown",
   "metadata": {},
   "source": [
    "### Docker client\n",
    "#### Setup the client"
   ]
  },
  {
   "cell_type": "code",
   "execution_count": 11,
   "metadata": {
    "collapsed": false
   },
   "outputs": [
    {
     "name": "stdout",
     "output_type": "stream",
     "text": [
      "Collecting docker\n",
      "  Downloading docker-2.7.0-py2.py3-none-any.whl (119kB)\n",
      "\u001b[K    100% |████████████████████████████████| 122kB 307kB/s ta 0:00:01\n",
      "\u001b[?25hCollecting websocket-client>=0.32.0 (from docker)\n",
      "  Downloading websocket_client-0.46.0-py2.py3-none-any.whl (200kB)\n",
      "\u001b[K    100% |████████████████████████████████| 204kB 513kB/s ta 0:00:01\n",
      "\u001b[?25hCollecting requests!=2.18.0,>=2.14.2 (from docker)\n",
      "  Downloading requests-2.18.4-py2.py3-none-any.whl (88kB)\n",
      "\u001b[K    100% |████████████████████████████████| 92kB 2.8MB/s ta 0:00:011\n",
      "\u001b[?25hRequirement already satisfied: six>=1.4.0 in /anaconda/lib/python3.6/site-packages (from docker)\n",
      "Collecting docker-pycreds>=0.2.1 (from docker)\n",
      "  Downloading docker_pycreds-0.2.1-py2.py3-none-any.whl\n",
      "Collecting idna<2.7,>=2.5 (from requests!=2.18.0,>=2.14.2->docker)\n",
      "  Downloading idna-2.6-py2.py3-none-any.whl (56kB)\n",
      "\u001b[K    100% |████████████████████████████████| 61kB 4.1MB/s eta 0:00:01\n",
      "\u001b[?25hCollecting certifi>=2017.4.17 (from requests!=2.18.0,>=2.14.2->docker)\n",
      "  Downloading certifi-2017.11.5-py2.py3-none-any.whl (330kB)\n",
      "\u001b[K    100% |████████████████████████████████| 337kB 1.5MB/s eta 0:00:01\n",
      "\u001b[?25hCollecting urllib3<1.23,>=1.21.1 (from requests!=2.18.0,>=2.14.2->docker)\n",
      "  Downloading urllib3-1.22-py2.py3-none-any.whl (132kB)\n",
      "\u001b[K    100% |████████████████████████████████| 133kB 1.7MB/s eta 0:00:01\n",
      "\u001b[?25hCollecting chardet<3.1.0,>=3.0.2 (from requests!=2.18.0,>=2.14.2->docker)\n",
      "  Downloading chardet-3.0.4-py2.py3-none-any.whl (133kB)\n",
      "\u001b[K    100% |████████████████████████████████| 143kB 1.8MB/s ta 0:00:01\n",
      "\u001b[?25hInstalling collected packages: websocket-client, idna, certifi, urllib3, chardet, requests, docker-pycreds, docker\n",
      "  Found existing installation: idna 2.2\n",
      "    Uninstalling idna-2.2:\n",
      "      Successfully uninstalled idna-2.2\n",
      "  Found existing installation: urllib3 1.20\n",
      "    Uninstalling urllib3-1.20:\n",
      "      Successfully uninstalled urllib3-1.20\n",
      "  Found existing installation: chardet 2.3.0\n",
      "    Uninstalling chardet-2.3.0:\n",
      "      Successfully uninstalled chardet-2.3.0\n",
      "  Found existing installation: requests 2.12.4\n",
      "    Uninstalling requests-2.12.4:\n",
      "      Successfully uninstalled requests-2.12.4\n",
      "Successfully installed certifi-2017.11.5 chardet-3.0.4 docker-2.7.0 docker-pycreds-0.2.1 idna-2.6 requests-2.18.4 urllib3-1.22 websocket-client-0.46.0\n"
     ]
    }
   ],
   "source": [
    "!pip install docker"
   ]
  },
  {
   "cell_type": "code",
   "execution_count": 12,
   "metadata": {
    "collapsed": false
   },
   "outputs": [],
   "source": [
    "import docker\n",
    "docker_client = docker.from_env()"
   ]
  },
  {
   "cell_type": "markdown",
   "metadata": {},
   "source": [
    "#### Available containers"
   ]
  },
  {
   "cell_type": "code",
   "execution_count": 13,
   "metadata": {
    "collapsed": false
   },
   "outputs": [
    {
     "name": "stdout",
     "output_type": "stream",
     "text": [
      "name=pelicanblog_pelican_1 (id=4764e63d228b8cfcfc71eba449cb3036ac5e14292facc096e4d16dc3e6329d3b)\n"
     ]
    }
   ],
   "source": [
    "for cntr in docker_client.containers.list():\n",
    "    print(\"name={} (id={})\".format(cntr.name, cntr.id))"
   ]
  },
  {
   "cell_type": "markdown",
   "metadata": {},
   "source": [
    "<img class=\"logo\" src=\"logos/mongodb.PNG\"/>\n",
    "\n",
    "## MongoDB"
   ]
  },
  {
   "cell_type": "markdown",
   "metadata": {},
   "source": [
    "Check if the Mongo Docker container is running, otherwise, start the container."
   ]
  },
  {
   "cell_type": "code",
   "execution_count": 14,
   "metadata": {
    "collapsed": true
   },
   "outputs": [],
   "source": [
    "mongo_running = False\n",
    "for cntr in docker_client.containers.list():\n",
    "    if 'mongo' in cntr.attrs['Config']['Image']:\n",
    "        mongo_running = True\n",
    "        container = cntr\n",
    "if mongo_running is False:\n",
    "    container = docker_client.containers.run(\"mongo:latest\", name='mongo', ports={'27017': '27017'}, detach=True)"
   ]
  },
  {
   "cell_type": "code",
   "execution_count": 15,
   "metadata": {
    "collapsed": false
   },
   "outputs": [
    {
     "data": {
      "text/plain": [
       "<Container: 77f8450c94>"
      ]
     },
     "execution_count": 15,
     "metadata": {},
     "output_type": "execute_result"
    }
   ],
   "source": [
    "container"
   ]
  },
  {
   "cell_type": "markdown",
   "metadata": {},
   "source": [
    "Verification that the Mongo container is running:"
   ]
  },
  {
   "cell_type": "code",
   "execution_count": 16,
   "metadata": {
    "collapsed": false
   },
   "outputs": [
    {
     "name": "stdout",
     "output_type": "stream",
     "text": [
      "77f8450c94fb        mongo:latest               \"docker-entrypoint...\"   Less than a second ago   Up Less than a second   0.0.0.0:27017->27017/tcp   mongo\r\n"
     ]
    }
   ],
   "source": [
    "!docker ps | grep mongo"
   ]
  },
  {
   "cell_type": "markdown",
   "metadata": {},
   "source": [
    "See [Documentation](https://api.mongodb.com/python/current/installation.html) to install PyMongo.\n",
    "\n",
    "```shell\n",
    "$ pip install pymongo\n",
    "```"
   ]
  },
  {
   "cell_type": "code",
   "execution_count": 17,
   "metadata": {
    "collapsed": true
   },
   "outputs": [],
   "source": [
    "from pymongo import MongoClient\n",
    "mongo_client = MongoClient('localhost', 27017)"
   ]
  },
  {
   "cell_type": "markdown",
   "metadata": {},
   "source": [
    "<img class=\"logo\" src=\"logos/scrapy.PNG\"/>\n",
    "\n",
    "## Data gathering\n",
    "\n",
    "Create the Scrapy pipeline to write the scraping results to MongoDB."
   ]
  },
  {
   "cell_type": "code",
   "execution_count": 19,
   "metadata": {
    "collapsed": true
   },
   "outputs": [],
   "source": [
    "import pymongo\n",
    "\n",
    "class MongoPipeline(object):\n",
    "\n",
    "    collection_name = 'games'\n",
    "\n",
    "    def __init__(self, mongo_uri, mongo_db):\n",
    "        self.mongo_uri = mongo_uri\n",
    "        self.mongo_db = mongo_db\n",
    "\n",
    "    @classmethod\n",
    "    def from_crawler(cls, crawler):\n",
    "        return cls(\n",
    "            mongo_uri=crawler.settings.get('MONGO_URI'),\n",
    "            mongo_db=crawler.settings.get('MONGO_DATABASE', 'items')\n",
    "        )\n",
    "\n",
    "    def open_spider(self, spider):\n",
    "        self.client = pymongo.MongoClient(self.mongo_uri)\n",
    "        self.db = self.client[self.mongo_db]\n",
    "\n",
    "    def close_spider(self, spider):\n",
    "        self.client.close()\n",
    "\n",
    "    def process_item(self, item, spider):\n",
    "        self.db[self.collection_name].insert_one(dict(item))\n",
    "        return item"
   ]
  },
  {
   "cell_type": "markdown",
   "metadata": {},
   "source": [
    "Retrieving data from https://www.nintendo.co.jp/ir/en/finance/software/index.html with the following markup:\n",
    "\n",
    "```html\n",
    "<ul class=\"sales_layout\">\n",
    "    <li class=\"sales_layout_list\">\n",
    "        <div class=\"ta_l\">\n",
    "            <p class=\"sales_title\">The Legend of Zelda:<br> Breath of the Wild</p>\n",
    "            <p class=\"sales_value\"><span>4.70</span> million pcs.</p>\n",
    "        </div>\n",
    "        <div class=\"ta_r\">\n",
    "            <p>\n",
    "                <img src=\"./img/data_switch_001.png\" alt=\"\" width=\"110\" height=\"\" class=\"sales_product1\">\n",
    "            </p>\n",
    "        </div>\n",
    "    </li>\n",
    "</ul>\n",
    "```\n",
    "\n",
    "Using Scrapy we can gather the data in a convenient way."
   ]
  },
  {
   "cell_type": "code",
   "execution_count": 20,
   "metadata": {
    "collapsed": true
   },
   "outputs": [],
   "source": [
    "import logging\n",
    "import scrapy\n",
    "from scrapy.crawler import CrawlerProcess\n",
    "import re\n",
    "\n",
    "class ConsoleSpider(scrapy.Spider):\n",
    "    name = \"games\"\n",
    "    start_urls = [\n",
    "        \"https://www.nintendo.co.jp/ir/en/finance/software/index.html\",\n",
    "        \"https://www.nintendo.co.jp/ir/en/finance/software/wiiu.html\",\n",
    "        \"https://www.nintendo.co.jp/ir/en/finance/software/3ds.html\",\n",
    "        \"https://www.nintendo.co.jp/ir/en/finance/software/wii.html\",\n",
    "        \"https://www.nintendo.co.jp/ir/en/finance/software/ds.html\"\n",
    "    ]\n",
    "    custom_settings = {\n",
    "        'LOG_LEVEL': logging.CRITICAL,\n",
    "        'DOWNLOAD_DELAY': .25,\n",
    "        'RANDOMIZE_DOWNLOAD_DELAY': True,\n",
    "        'ITEM_PIPELINES': {\n",
    "            '__main__.MongoPipeline': 300,\n",
    "        },\n",
    "        'MONGO_URI': 'mongodb://localhost:27017',\n",
    "        'MONGO_DATABASE': 'nintendo'\n",
    "    }\n",
    "\n",
    "    def parse(self, response):\n",
    "         for cons in response.css('li.sales_layout_list'):\n",
    "            yield {\n",
    "                'console': response.css('div.tab div.tabInner span::text').extract_first(),\n",
    "                'name': cons.css('p.sales_title::text').extract_first().strip(),\n",
    "                'image': 'https://www.nintendo.co.jp/ir/en/finance/software' + cons.css('p img::attr(src)').extract_first()[1:],\n",
    "                'sales': cons.css('p.sales_value span::text').extract()[0].strip()\n",
    "            }"
   ]
  },
  {
   "cell_type": "code",
   "execution_count": 21,
   "metadata": {
    "collapsed": false
   },
   "outputs": [
    {
     "name": "stderr",
     "output_type": "stream",
     "text": [
      "2018-01-15 01:04:34 [scrapy.utils.log] INFO: Scrapy 1.3.3 started (bot: scrapybot)\n",
      "2018-01-15 01:04:34 [scrapy.utils.log] INFO: Overridden settings: {'USER_AGENT': 'Mozilla/4.0 (compatible; MSIE 7.0; Windows NT 5.1)'}\n",
      "2018-01-15 01:04:34 [scrapy.middleware] INFO: Enabled extensions:\n",
      "['scrapy.extensions.corestats.CoreStats',\n",
      " 'scrapy.extensions.telnet.TelnetConsole',\n",
      " 'scrapy.extensions.logstats.LogStats']\n",
      "2018-01-15 01:04:35 [scrapy.middleware] INFO: Enabled downloader middlewares:\n",
      "['scrapy.downloadermiddlewares.httpauth.HttpAuthMiddleware',\n",
      " 'scrapy.downloadermiddlewares.downloadtimeout.DownloadTimeoutMiddleware',\n",
      " 'scrapy.downloadermiddlewares.defaultheaders.DefaultHeadersMiddleware',\n",
      " 'scrapy.downloadermiddlewares.useragent.UserAgentMiddleware',\n",
      " 'scrapy.downloadermiddlewares.retry.RetryMiddleware',\n",
      " 'scrapy.downloadermiddlewares.redirect.MetaRefreshMiddleware',\n",
      " 'scrapy.downloadermiddlewares.httpcompression.HttpCompressionMiddleware',\n",
      " 'scrapy.downloadermiddlewares.redirect.RedirectMiddleware',\n",
      " 'scrapy.downloadermiddlewares.cookies.CookiesMiddleware',\n",
      " 'scrapy.downloadermiddlewares.stats.DownloaderStats']\n",
      "2018-01-15 01:04:35 [scrapy.middleware] INFO: Enabled spider middlewares:\n",
      "['scrapy.spidermiddlewares.httperror.HttpErrorMiddleware',\n",
      " 'scrapy.spidermiddlewares.offsite.OffsiteMiddleware',\n",
      " 'scrapy.spidermiddlewares.referer.RefererMiddleware',\n",
      " 'scrapy.spidermiddlewares.urllength.UrlLengthMiddleware',\n",
      " 'scrapy.spidermiddlewares.depth.DepthMiddleware']\n",
      "2018-01-15 01:04:35 [scrapy.middleware] INFO: Enabled item pipelines:\n",
      "['__main__.MongoPipeline']\n",
      "2018-01-15 01:04:35 [scrapy.core.engine] INFO: Spider opened\n",
      "2018-01-15 01:04:35 [scrapy.extensions.logstats] INFO: Crawled 0 pages (at 0 pages/min), scraped 0 items (at 0 items/min)\n",
      "2018-01-15 01:04:35 [scrapy.extensions.telnet] DEBUG: Telnet console listening on 127.0.0.1:6023\n"
     ]
    },
    {
     "data": {
      "text/plain": [
       "<Deferred at 0x110537a90>"
      ]
     },
     "execution_count": 21,
     "metadata": {},
     "output_type": "execute_result"
    },
    {
     "name": "stderr",
     "output_type": "stream",
     "text": [
      "2018-01-15 01:04:36 [scrapy.core.engine] DEBUG: Crawled (200) <GET https://www.nintendo.co.jp/ir/en/finance/software/wiiu.html> (referer: None)\n",
      "2018-01-15 01:04:36 [scrapy.core.scraper] DEBUG: Scraped from <200 https://www.nintendo.co.jp/ir/en/finance/software/wiiu.html>\n",
      "{'console': 'Wii U', 'name': 'Mario Kart 8', 'image': 'https://www.nintendo.co.jp/ir/en/finance/software/img/data_wiiu_mariokart8.png', 'sales': '8.38'}\n",
      "2018-01-15 01:04:36 [scrapy.core.scraper] DEBUG: Scraped from <200 https://www.nintendo.co.jp/ir/en/finance/software/wiiu.html>\n",
      "{'console': 'Wii U', 'name': 'New', 'image': 'https://www.nintendo.co.jp/ir/en/finance/software/img/data_wiiu_newmariou.png', 'sales': '5.73'}\n",
      "2018-01-15 01:04:36 [scrapy.core.scraper] DEBUG: Scraped from <200 https://www.nintendo.co.jp/ir/en/finance/software/wiiu.html>\n",
      "{'console': 'Wii U', 'name': 'Super Mario 3D World', 'image': 'https://www.nintendo.co.jp/ir/en/finance/software/img/data_wiiu_mario3dworld.png', 'sales': '5.70'}\n",
      "2018-01-15 01:04:36 [scrapy.core.scraper] DEBUG: Scraped from <200 https://www.nintendo.co.jp/ir/en/finance/software/wiiu.html>\n",
      "{'console': 'Wii U', 'name': 'Super Smash Bros.', 'image': 'https://www.nintendo.co.jp/ir/en/finance/software/img/data_wiiu_smashbros.png', 'sales': '5.26'}\n",
      "2018-01-15 01:04:36 [scrapy.core.scraper] DEBUG: Scraped from <200 https://www.nintendo.co.jp/ir/en/finance/software/wiiu.html>\n",
      "{'console': 'Wii U', 'name': 'Nintendo Land', 'image': 'https://www.nintendo.co.jp/ir/en/finance/software/img/data_wiiu_nintendoland.png', 'sales': '5.18'}\n",
      "2018-01-15 01:04:36 [scrapy.core.scraper] DEBUG: Scraped from <200 https://www.nintendo.co.jp/ir/en/finance/software/wiiu.html>\n",
      "{'console': 'Wii U', 'name': 'Splatoon', 'image': 'https://www.nintendo.co.jp/ir/en/finance/software/img/data_wiiu_splatoon.jpg', 'sales': '4.87'}\n",
      "2018-01-15 01:04:36 [scrapy.core.scraper] DEBUG: Scraped from <200 https://www.nintendo.co.jp/ir/en/finance/software/wiiu.html>\n",
      "{'console': 'Wii U', 'name': 'Super Mario Maker', 'image': 'https://www.nintendo.co.jp/ir/en/finance/software/img/data_wiiu_supermariomaker.png', 'sales': '3.98'}\n",
      "2018-01-15 01:04:36 [scrapy.core.scraper] DEBUG: Scraped from <200 https://www.nintendo.co.jp/ir/en/finance/software/wiiu.html>\n",
      "{'console': 'Wii U', 'name': 'New Super Luigi U', 'image': 'https://www.nintendo.co.jp/ir/en/finance/software/img/data_wiiu_newsuperluigiu.png', 'sales': '2.99'}\n",
      "2018-01-15 01:04:36 [scrapy.core.scraper] DEBUG: Scraped from <200 https://www.nintendo.co.jp/ir/en/finance/software/wiiu.html>\n",
      "{'console': 'Wii U', 'name': 'The Legend of Zelda:', 'image': 'https://www.nintendo.co.jp/ir/en/finance/software/img/data_wiiu_zeldahd.png', 'sales': '2.23'}\n",
      "2018-01-15 01:04:36 [scrapy.core.scraper] DEBUG: Scraped from <200 https://www.nintendo.co.jp/ir/en/finance/software/wiiu.html>\n",
      "{'console': 'Wii U', 'name': 'Mario Party 10', 'image': 'https://www.nintendo.co.jp/ir/en/finance/software/img/data_wiiu_marioparty10.jpg', 'sales': '2.13'}\n",
      "2018-01-15 01:04:36 [scrapy.core.engine] DEBUG: Crawled (200) <GET https://www.nintendo.co.jp/ir/en/finance/software/index.html> (referer: None)\n",
      "2018-01-15 01:04:36 [scrapy.core.scraper] DEBUG: Scraped from <200 https://www.nintendo.co.jp/ir/en/finance/software/index.html>\n",
      "{'console': 'Nintendo Switch', 'name': 'The Legend of Zelda:', 'image': 'https://www.nintendo.co.jp/ir/en/finance/software/img/data_switch_001.png', 'sales': '4.70'}\n",
      "2018-01-15 01:04:36 [scrapy.core.scraper] DEBUG: Scraped from <200 https://www.nintendo.co.jp/ir/en/finance/software/index.html>\n",
      "{'console': 'Nintendo Switch', 'name': 'Mario Kart 8 Deluxe', 'image': 'https://www.nintendo.co.jp/ir/en/finance/software/img/data_switch_002.png', 'sales': '4.42'}\n",
      "2018-01-15 01:04:36 [scrapy.core.scraper] DEBUG: Scraped from <200 https://www.nintendo.co.jp/ir/en/finance/software/index.html>\n",
      "{'console': 'Nintendo Switch', 'name': 'Splatoon 2', 'image': 'https://www.nintendo.co.jp/ir/en/finance/software/img/data_switch_005.png', 'sales': '3.61'}\n",
      "2018-01-15 01:04:36 [scrapy.core.scraper] DEBUG: Scraped from <200 https://www.nintendo.co.jp/ir/en/finance/software/index.html>\n",
      "{'console': 'Nintendo Switch', 'name': '1-2-Switch', 'image': 'https://www.nintendo.co.jp/ir/en/finance/software/img/data_switch_003.png', 'sales': '1.37'}\n",
      "2018-01-15 01:04:36 [scrapy.core.scraper] DEBUG: Scraped from <200 https://www.nintendo.co.jp/ir/en/finance/software/index.html>\n",
      "{'console': 'Nintendo Switch', 'name': 'ARMS', 'image': 'https://www.nintendo.co.jp/ir/en/finance/software/img/data_switch_004.png', 'sales': '1.35'}\n",
      "2018-01-15 01:04:37 [scrapy.core.engine] DEBUG: Crawled (200) <GET https://www.nintendo.co.jp/ir/en/finance/software/3ds.html> (referer: None)\n",
      "2018-01-15 01:04:37 [scrapy.core.scraper] DEBUG: Scraped from <200 https://www.nintendo.co.jp/ir/en/finance/software/3ds.html>\n",
      "{'console': 'Nintendo 3DS', 'name': 'Pokémon X/Pokémon Y', 'image': 'https://www.nintendo.co.jp/ir/en/finance/software/img/data_3ds_pokemonxy.jpg', 'sales': '16.20'}\n",
      "2018-01-15 01:04:37 [scrapy.core.scraper] DEBUG: Scraped from <200 https://www.nintendo.co.jp/ir/en/finance/software/3ds.html>\n",
      "{'console': 'Nintendo 3DS', 'name': 'Mario Kart 7', 'image': 'https://www.nintendo.co.jp/ir/en/finance/software/img/data_3ds_002.jpg', 'sales': '15.95'}\n",
      "2018-01-15 01:04:37 [scrapy.core.scraper] DEBUG: Scraped from <200 https://www.nintendo.co.jp/ir/en/finance/software/3ds.html>\n",
      "{'console': 'Nintendo 3DS', 'name': 'Pokémon Sun/', 'image': 'https://www.nintendo.co.jp/ir/en/finance/software/img/data_3ds_pokemonsunmoon.jpg', 'sales': '15.91'}\n",
      "2018-01-15 01:04:37 [scrapy.core.scraper] DEBUG: Scraped from <200 https://www.nintendo.co.jp/ir/en/finance/software/3ds.html>\n",
      "{'console': 'Nintendo 3DS', 'name': 'Pokémon Omega Ruby/', 'image': 'https://www.nintendo.co.jp/ir/en/finance/software/img/data_3ds_pokemonoras.jpg', 'sales': '13.85'}\n",
      "2018-01-15 01:04:37 [scrapy.core.scraper] DEBUG: Scraped from <200 https://www.nintendo.co.jp/ir/en/finance/software/3ds.html>\n",
      "{'console': 'Nintendo 3DS', 'name': 'New', 'image': 'https://www.nintendo.co.jp/ir/en/finance/software/img/data_3ds_003.jpg', 'sales': '11.73'}\n",
      "2018-01-15 01:04:37 [scrapy.core.scraper] DEBUG: Scraped from <200 https://www.nintendo.co.jp/ir/en/finance/software/3ds.html>\n",
      "{'console': 'Nintendo 3DS', 'name': 'SUPER MARIO', 'image': 'https://www.nintendo.co.jp/ir/en/finance/software/img/data_3ds_001.jpg', 'sales': '11.40'}\n",
      "2018-01-15 01:04:37 [scrapy.core.scraper] DEBUG: Scraped from <200 https://www.nintendo.co.jp/ir/en/finance/software/3ds.html>\n",
      "{'console': 'Nintendo 3DS', 'name': 'Animal Crossing:', 'image': 'https://www.nintendo.co.jp/ir/en/finance/software/img/data_3ds_004.jpg', 'sales': '11.23'}\n",
      "2018-01-15 01:04:37 [scrapy.core.scraper] DEBUG: Scraped from <200 https://www.nintendo.co.jp/ir/en/finance/software/3ds.html>\n",
      "{'console': 'Nintendo 3DS', 'name': 'Super Smash Bros.', 'image': 'https://www.nintendo.co.jp/ir/en/finance/software/img/data_3ds_smashbros.jpg', 'sales': '8.91'}\n",
      "2018-01-15 01:04:37 [scrapy.core.scraper] DEBUG: Scraped from <200 https://www.nintendo.co.jp/ir/en/finance/software/3ds.html>\n",
      "{'console': 'Nintendo 3DS', 'name': 'Tomodachi Life', 'image': 'https://www.nintendo.co.jp/ir/en/finance/software/img/data_3ds_tomodachicollection.jpg', 'sales': '5.93'}\n",
      "2018-01-15 01:04:37 [scrapy.core.scraper] DEBUG: Scraped from <200 https://www.nintendo.co.jp/ir/en/finance/software/3ds.html>\n",
      "{'console': 'Nintendo 3DS', 'name': \"Luigi's Mansion:\", 'image': 'https://www.nintendo.co.jp/ir/en/finance/software/img/data_3ds_009.jpg', 'sales': '5.45'}\n",
      "2018-01-15 01:04:37 [scrapy.core.engine] DEBUG: Crawled (200) <GET https://www.nintendo.co.jp/ir/en/finance/software/wii.html> (referer: None)\n",
      "2018-01-15 01:04:37 [scrapy.core.engine] DEBUG: Crawled (200) <GET https://www.nintendo.co.jp/ir/en/finance/software/ds.html> (referer: None)\n",
      "2018-01-15 01:04:37 [scrapy.core.scraper] DEBUG: Scraped from <200 https://www.nintendo.co.jp/ir/en/finance/software/wii.html>\n",
      "{'console': 'Wii', 'name': 'Wii Sports', 'image': 'https://www.nintendo.co.jp/ir/en/finance/software/img/data_wii_001.jpg', 'sales': '82.83'}\n",
      "2018-01-15 01:04:37 [scrapy.core.scraper] DEBUG: Scraped from <200 https://www.nintendo.co.jp/ir/en/finance/software/wii.html>\n",
      "{'console': 'Wii', 'name': 'Mario Kart Wii', 'image': 'https://www.nintendo.co.jp/ir/en/finance/software/img/data_wii_002.jpg', 'sales': '37.02'}\n",
      "2018-01-15 01:04:37 [scrapy.core.scraper] DEBUG: Scraped from <200 https://www.nintendo.co.jp/ir/en/finance/software/wii.html>\n",
      "{'console': 'Wii', 'name': 'Wii Sports Resort', 'image': 'https://www.nintendo.co.jp/ir/en/finance/software/img/data_wii_003.jpg', 'sales': '33.06'}\n",
      "2018-01-15 01:04:37 [scrapy.core.scraper] DEBUG: Scraped from <200 https://www.nintendo.co.jp/ir/en/finance/software/wii.html>\n",
      "{'console': 'Wii', 'name': 'New', 'image': 'https://www.nintendo.co.jp/ir/en/finance/software/img/data_wii_005.jpg', 'sales': '30.11'}\n",
      "2018-01-15 01:04:37 [scrapy.core.scraper] DEBUG: Scraped from <200 https://www.nintendo.co.jp/ir/en/finance/software/wii.html>\n",
      "{'console': 'Wii', 'name': 'Wii Play', 'image': 'https://www.nintendo.co.jp/ir/en/finance/software/img/data_wii_004.jpg', 'sales': '28.02'}\n",
      "2018-01-15 01:04:37 [scrapy.core.scraper] DEBUG: Scraped from <200 https://www.nintendo.co.jp/ir/en/finance/software/wii.html>\n",
      "{'console': 'Wii', 'name': 'Wii Fit', 'image': 'https://www.nintendo.co.jp/ir/en/finance/software/img/data_wii_006.jpg', 'sales': '22.67'}\n",
      "2018-01-15 01:04:37 [scrapy.core.scraper] DEBUG: Scraped from <200 https://www.nintendo.co.jp/ir/en/finance/software/wii.html>\n",
      "{'console': 'Wii', 'name': 'Wii Fit Plus', 'image': 'https://www.nintendo.co.jp/ir/en/finance/software/img/data_wii_007.jpg', 'sales': '21.13'}\n",
      "2018-01-15 01:04:37 [scrapy.core.scraper] DEBUG: Scraped from <200 https://www.nintendo.co.jp/ir/en/finance/software/wii.html>\n",
      "{'console': 'Wii', 'name': 'Super Smash Bros.', 'image': 'https://www.nintendo.co.jp/ir/en/finance/software/img/data_wii_009.jpg', 'sales': '13.25'}\n",
      "2018-01-15 01:04:37 [scrapy.core.scraper] DEBUG: Scraped from <200 https://www.nintendo.co.jp/ir/en/finance/software/wii.html>\n",
      "{'console': 'Wii', 'name': 'Super Mario Galaxy', 'image': 'https://www.nintendo.co.jp/ir/en/finance/software/img/data_wii_008.jpg', 'sales': '12.76'}\n",
      "2018-01-15 01:04:37 [scrapy.core.scraper] DEBUG: Scraped from <200 https://www.nintendo.co.jp/ir/en/finance/software/wii.html>\n",
      "{'console': 'Wii', 'name': 'Wii Party', 'image': 'https://www.nintendo.co.jp/ir/en/finance/software/img/data_wii_wiiparty.jpg', 'sales': '9.29'}\n",
      "2018-01-15 01:04:37 [scrapy.core.scraper] DEBUG: Scraped from <200 https://www.nintendo.co.jp/ir/en/finance/software/ds.html>\n",
      "{'console': 'Nintendo DS', 'name': 'New Super Mario Bros.', 'image': 'https://www.nintendo.co.jp/ir/en/finance/software/img/data_ds_001.jpg', 'sales': '30.80'}\n",
      "2018-01-15 01:04:37 [scrapy.core.scraper] DEBUG: Scraped from <200 https://www.nintendo.co.jp/ir/en/finance/software/ds.html>\n",
      "{'console': 'Nintendo DS', 'name': 'nintendogs', 'image': 'https://www.nintendo.co.jp/ir/en/finance/softwaremg/data_ds_003.jpg', 'sales': '23.96'}\n",
      "2018-01-15 01:04:37 [scrapy.core.scraper] DEBUG: Scraped from <200 https://www.nintendo.co.jp/ir/en/finance/software/ds.html>\n",
      "{'console': 'Nintendo DS', 'name': 'Mario Kart DS', 'image': 'https://www.nintendo.co.jp/ir/en/finance/software/img/data_ds_002.jpg', 'sales': '23.60'}\n",
      "2018-01-15 01:04:37 [scrapy.core.scraper] DEBUG: Scraped from <200 https://www.nintendo.co.jp/ir/en/finance/software/ds.html>\n",
      "{'console': 'Nintendo DS', 'name': 'Brain Age:', 'image': 'https://www.nintendo.co.jp/ir/en/finance/softwaremg/data_ds_004.jpg', 'sales': '19.01'}\n",
      "2018-01-15 01:04:37 [scrapy.core.scraper] DEBUG: Scraped from <200 https://www.nintendo.co.jp/ir/en/finance/software/ds.html>\n",
      "{'console': 'Nintendo DS', 'name': 'Pokémon', 'image': 'https://www.nintendo.co.jp/ir/en/finance/software/img/data_ds_006.jpg', 'sales': '17.67'}\n",
      "2018-01-15 01:04:37 [scrapy.core.scraper] DEBUG: Scraped from <200 https://www.nintendo.co.jp/ir/en/finance/software/ds.html>\n",
      "{'console': 'Nintendo DS', 'name': 'Pokémon', 'image': 'https://www.nintendo.co.jp/ir/en/finance/software/img/data_ds_007.jpg', 'sales': '15.64'}\n",
      "2018-01-15 01:04:37 [scrapy.core.scraper] DEBUG: Scraped from <200 https://www.nintendo.co.jp/ir/en/finance/software/ds.html>\n",
      "{'console': 'Nintendo DS', 'name': 'Brain Age 2:', 'image': 'https://www.nintendo.co.jp/ir/en/finance/softwaremg/data_ds_005.jpg', 'sales': '14.88'}\n",
      "2018-01-15 01:04:37 [scrapy.core.scraper] DEBUG: Scraped from <200 https://www.nintendo.co.jp/ir/en/finance/software/ds.html>\n",
      "{'console': 'Nintendo DS', 'name': 'Pokémon', 'image': 'https://www.nintendo.co.jp/ir/en/finance/software/img/data_ds_008.jpg', 'sales': '12.72'}\n",
      "2018-01-15 01:04:37 [scrapy.core.scraper] DEBUG: Scraped from <200 https://www.nintendo.co.jp/ir/en/finance/software/ds.html>\n",
      "{'console': 'Nintendo DS', 'name': 'Animal Crossing:', 'image': 'https://www.nintendo.co.jp/ir/en/finance/softwaremg/data_ds_010.jpg', 'sales': '11.75'}\n",
      "2018-01-15 01:04:37 [scrapy.core.scraper] DEBUG: Scraped from <200 https://www.nintendo.co.jp/ir/en/finance/software/ds.html>\n",
      "{'console': 'Nintendo DS', 'name': 'Super Mario 64 DS', 'image': 'https://www.nintendo.co.jp/ir/en/finance/softwaremg/data_ds_009.jpg', 'sales': '11.06'}\n",
      "2018-01-15 01:04:37 [scrapy.core.engine] INFO: Closing spider (finished)\n",
      "2018-01-15 01:04:37 [scrapy.statscollectors] INFO: Dumping Scrapy stats:\n",
      "{'downloader/request_bytes': 1322,\n",
      " 'downloader/request_count': 5,\n",
      " 'downloader/request_method_count/GET': 5,\n",
      " 'downloader/response_bytes': 14249,\n",
      " 'downloader/response_count': 5,\n",
      " 'downloader/response_status_count/200': 5,\n",
      " 'finish_reason': 'finished',\n",
      " 'finish_time': datetime.datetime(2018, 1, 15, 0, 4, 37, 851289),\n",
      " 'item_scraped_count': 45,\n",
      " 'log_count/DEBUG': 51,\n",
      " 'log_count/INFO': 7,\n",
      " 'response_received_count': 5,\n",
      " 'scheduler/dequeued': 5,\n",
      " 'scheduler/dequeued/memory': 5,\n",
      " 'scheduler/enqueued': 5,\n",
      " 'scheduler/enqueued/memory': 5,\n",
      " 'start_time': datetime.datetime(2018, 1, 15, 0, 4, 35, 34417)}\n",
      "2018-01-15 01:04:37 [scrapy.core.engine] INFO: Spider closed (finished)\n"
     ]
    }
   ],
   "source": [
    "process = CrawlerProcess({\n",
    "    'USER_AGENT': 'Mozilla/4.0 (compatible; MSIE 7.0; Windows NT 5.1)'\n",
    "})\n",
    "\n",
    "process.crawl(ConsoleSpider)\n",
    "process.start()"
   ]
  },
  {
   "cell_type": "markdown",
   "metadata": {},
   "source": [
    "#### Verify the Nintendo database is created"
   ]
  },
  {
   "cell_type": "code",
   "execution_count": 22,
   "metadata": {
    "collapsed": false
   },
   "outputs": [
    {
     "name": "stdout",
     "output_type": "stream",
     "text": [
      "Database found!\n"
     ]
    }
   ],
   "source": [
    "if 'nintendo' in mongo_client.database_names():\n",
    "    print('Database found!')"
   ]
  },
  {
   "cell_type": "markdown",
   "metadata": {},
   "source": [
    "#### Verify the games collection is created inside the Nintendo database"
   ]
  },
  {
   "cell_type": "code",
   "execution_count": 23,
   "metadata": {
    "collapsed": false
   },
   "outputs": [
    {
     "name": "stdout",
     "output_type": "stream",
     "text": [
      "Collection found!\n"
     ]
    }
   ],
   "source": [
    "db = mongo_client['nintendo']\n",
    "if 'games' in db.collection_names():\n",
    "    print('Collection found!')"
   ]
  },
  {
   "cell_type": "markdown",
   "metadata": {},
   "source": [
    "#### Retrieve the games from the collection"
   ]
  },
  {
   "cell_type": "code",
   "execution_count": 24,
   "metadata": {
    "collapsed": true
   },
   "outputs": [],
   "source": [
    "games = list(db['games'].find({}))"
   ]
  },
  {
   "cell_type": "code",
   "execution_count": 25,
   "metadata": {
    "collapsed": false
   },
   "outputs": [
    {
     "name": "stdout",
     "output_type": "stream",
     "text": [
      "Found 45 games\n"
     ]
    }
   ],
   "source": [
    "print(\"Found {} games\".format(len(games)))"
   ]
  },
  {
   "cell_type": "markdown",
   "metadata": {},
   "source": [
    "## Retrieve the images\n",
    "#### Delete the old images"
   ]
  },
  {
   "cell_type": "code",
   "execution_count": 26,
   "metadata": {
    "collapsed": true
   },
   "outputs": [],
   "source": [
    "!rm -rf images/*"
   ]
  },
  {
   "cell_type": "code",
   "execution_count": 27,
   "metadata": {
    "collapsed": false,
    "scrolled": false
   },
   "outputs": [
    {
     "name": "stdout",
     "output_type": "stream",
     "text": [
      "--2018-01-15 01:04:51--  https://www.nintendo.co.jp/ir/en/finance/software/img/data_wiiu_mariokart8.png\n",
      "Resolving www.nintendo.co.jp... 23.72.149.166\n",
      "Connecting to www.nintendo.co.jp|23.72.149.166|:443... connected.\n",
      "HTTP request sent, awaiting response... 200 OK\n",
      "Length: 41726 (41K) [image/png]\n",
      "Saving to: 'images/data_wiiu_mariokart8.png'\n",
      "\n",
      "data_wiiu_mariokart 100%[===================>]  40.75K   244KB/s    in 0.2s    \n",
      "\n",
      "2018-01-15 01:04:52 (244 KB/s) - 'images/data_wiiu_mariokart8.png' saved [41726/41726]\n",
      "\n"
     ]
    },
    {
     "data": {
      "text/plain": [
       "ObjectId('5a5bf0140a4693652827dc62')"
      ]
     },
     "execution_count": 27,
     "metadata": {},
     "output_type": "execute_result"
    },
    {
     "name": "stdout",
     "output_type": "stream",
     "text": [
      "--2018-01-15 01:04:52--  https://www.nintendo.co.jp/ir/en/finance/software/img/data_wiiu_newmariou.png\n",
      "Resolving www.nintendo.co.jp... 23.72.149.166\n",
      "Connecting to www.nintendo.co.jp|23.72.149.166|:443... connected.\n",
      "HTTP request sent, awaiting response... 200 OK\n",
      "Length: 39007 (38K) [image/png]\n",
      "Saving to: 'images/data_wiiu_newmariou.png'\n",
      "\n",
      "data_wiiu_newmariou 100%[===================>]  38.09K   238KB/s    in 0.2s    \n",
      "\n",
      "2018-01-15 01:04:53 (238 KB/s) - 'images/data_wiiu_newmariou.png' saved [39007/39007]\n",
      "\n"
     ]
    },
    {
     "data": {
      "text/plain": [
       "ObjectId('5a5bf0140a4693652827dc63')"
      ]
     },
     "execution_count": 27,
     "metadata": {},
     "output_type": "execute_result"
    },
    {
     "name": "stdout",
     "output_type": "stream",
     "text": [
      "--2018-01-15 01:04:53--  https://www.nintendo.co.jp/ir/en/finance/software/img/data_wiiu_mario3dworld.png\n",
      "Resolving www.nintendo.co.jp... 23.72.149.166\n",
      "Connecting to www.nintendo.co.jp|23.72.149.166|:443... connected.\n",
      "HTTP request sent, awaiting response... 200 OK\n",
      "Length: 40182 (39K) [image/png]\n",
      "Saving to: 'images/data_wiiu_mario3dworld.png'\n",
      "\n",
      "data_wiiu_mario3dwo 100%[===================>]  39.24K  81.1KB/s    in 0.5s    \n",
      "\n",
      "2018-01-15 01:04:54 (81.1 KB/s) - 'images/data_wiiu_mario3dworld.png' saved [40182/40182]\n",
      "\n"
     ]
    },
    {
     "data": {
      "text/plain": [
       "ObjectId('5a5bf0140a4693652827dc64')"
      ]
     },
     "execution_count": 27,
     "metadata": {},
     "output_type": "execute_result"
    },
    {
     "name": "stdout",
     "output_type": "stream",
     "text": [
      "--2018-01-15 01:04:55--  https://www.nintendo.co.jp/ir/en/finance/software/img/data_wiiu_smashbros.png\n",
      "Resolving www.nintendo.co.jp... 23.72.149.166\n",
      "Connecting to www.nintendo.co.jp|23.72.149.166|:443... connected.\n",
      "HTTP request sent, awaiting response... 200 OK\n",
      "Length: 42978 (42K) [image/png]\n",
      "Saving to: 'images/data_wiiu_smashbros.png'\n",
      "\n",
      "data_wiiu_smashbros 100%[===================>]  41.97K   195KB/s    in 0.2s    \n",
      "\n",
      "2018-01-15 01:04:56 (195 KB/s) - 'images/data_wiiu_smashbros.png' saved [42978/42978]\n",
      "\n"
     ]
    },
    {
     "data": {
      "text/plain": [
       "ObjectId('5a5bf0140a4693652827dc65')"
      ]
     },
     "execution_count": 27,
     "metadata": {},
     "output_type": "execute_result"
    },
    {
     "name": "stdout",
     "output_type": "stream",
     "text": [
      "--2018-01-15 01:04:56--  https://www.nintendo.co.jp/ir/en/finance/software/img/data_wiiu_nintendoland.png\n",
      "Resolving www.nintendo.co.jp... 23.72.149.166\n",
      "Connecting to www.nintendo.co.jp|23.72.149.166|:443... connected.\n",
      "HTTP request sent, awaiting response... 200 OK\n",
      "Length: 37299 (36K) [image/png]\n",
      "Saving to: 'images/data_wiiu_nintendoland.png'\n",
      "\n",
      "data_wiiu_nintendol 100%[===================>]  36.42K   231KB/s    in 0.2s    \n",
      "\n",
      "2018-01-15 01:04:57 (231 KB/s) - 'images/data_wiiu_nintendoland.png' saved [37299/37299]\n",
      "\n"
     ]
    },
    {
     "data": {
      "text/plain": [
       "ObjectId('5a5bf0140a4693652827dc66')"
      ]
     },
     "execution_count": 27,
     "metadata": {},
     "output_type": "execute_result"
    },
    {
     "name": "stdout",
     "output_type": "stream",
     "text": [
      "--2018-01-15 01:04:57--  https://www.nintendo.co.jp/ir/en/finance/software/img/data_wiiu_splatoon.jpg\n",
      "Resolving www.nintendo.co.jp... 23.72.149.166\n",
      "Connecting to www.nintendo.co.jp|23.72.149.166|:443... connected.\n",
      "HTTP request sent, awaiting response... 200 OK\n",
      "Length: 28908 (28K) [image/jpeg]\n",
      "Saving to: 'images/data_wiiu_splatoon.jpg'\n",
      "\n",
      "data_wiiu_splatoon. 100%[===================>]  28.23K   174KB/s    in 0.2s    \n",
      "\n",
      "2018-01-15 01:04:58 (174 KB/s) - 'images/data_wiiu_splatoon.jpg' saved [28908/28908]\n",
      "\n"
     ]
    },
    {
     "data": {
      "text/plain": [
       "ObjectId('5a5bf0140a4693652827dc67')"
      ]
     },
     "execution_count": 27,
     "metadata": {},
     "output_type": "execute_result"
    },
    {
     "name": "stdout",
     "output_type": "stream",
     "text": [
      "--2018-01-15 01:04:58--  https://www.nintendo.co.jp/ir/en/finance/software/img/data_wiiu_supermariomaker.png\n",
      "Resolving www.nintendo.co.jp... 23.72.149.166\n",
      "Connecting to www.nintendo.co.jp|23.72.149.166|:443... connected.\n",
      "HTTP request sent, awaiting response... 200 OK\n",
      "Length: 36527 (36K) [image/png]\n",
      "Saving to: 'images/data_wiiu_supermariomaker.png'\n",
      "\n",
      "data_wiiu_supermari 100%[===================>]  35.67K   207KB/s    in 0.2s    \n",
      "\n",
      "2018-01-15 01:04:59 (207 KB/s) - 'images/data_wiiu_supermariomaker.png' saved [36527/36527]\n",
      "\n"
     ]
    },
    {
     "data": {
      "text/plain": [
       "ObjectId('5a5bf0140a4693652827dc68')"
      ]
     },
     "execution_count": 27,
     "metadata": {},
     "output_type": "execute_result"
    },
    {
     "name": "stdout",
     "output_type": "stream",
     "text": [
      "--2018-01-15 01:04:59--  https://www.nintendo.co.jp/ir/en/finance/software/img/data_wiiu_newsuperluigiu.png\n",
      "Resolving www.nintendo.co.jp... 23.72.149.166\n",
      "Connecting to www.nintendo.co.jp|23.72.149.166|:443... connected.\n",
      "HTTP request sent, awaiting response... 200 OK\n",
      "Length: 39589 (39K) [image/png]\n",
      "Saving to: 'images/data_wiiu_newsuperluigiu.png'\n",
      "\n",
      "data_wiiu_newsuperl 100%[===================>]  38.66K   226KB/s    in 0.2s    \n",
      "\n",
      "2018-01-15 01:05:00 (226 KB/s) - 'images/data_wiiu_newsuperluigiu.png' saved [39589/39589]\n",
      "\n"
     ]
    },
    {
     "data": {
      "text/plain": [
       "ObjectId('5a5bf0140a4693652827dc69')"
      ]
     },
     "execution_count": 27,
     "metadata": {},
     "output_type": "execute_result"
    },
    {
     "name": "stdout",
     "output_type": "stream",
     "text": [
      "--2018-01-15 01:05:01--  https://www.nintendo.co.jp/ir/en/finance/software/img/data_wiiu_zeldahd.png\n",
      "Resolving www.nintendo.co.jp... 23.72.149.166\n",
      "Connecting to www.nintendo.co.jp|23.72.149.166|:443... connected.\n",
      "HTTP request sent, awaiting response... 200 OK\n",
      "Length: 44785 (44K) [image/png]\n",
      "Saving to: 'images/data_wiiu_zeldahd.png'\n",
      "\n",
      "data_wiiu_zeldahd.p 100%[===================>]  43.74K   267KB/s    in 0.2s    \n",
      "\n",
      "2018-01-15 01:05:02 (267 KB/s) - 'images/data_wiiu_zeldahd.png' saved [44785/44785]\n",
      "\n"
     ]
    },
    {
     "data": {
      "text/plain": [
       "ObjectId('5a5bf0140a4693652827dc6a')"
      ]
     },
     "execution_count": 27,
     "metadata": {},
     "output_type": "execute_result"
    },
    {
     "name": "stdout",
     "output_type": "stream",
     "text": [
      "--2018-01-15 01:05:02--  https://www.nintendo.co.jp/ir/en/finance/software/img/data_wiiu_marioparty10.jpg\n",
      "Resolving www.nintendo.co.jp... 23.72.149.166\n",
      "Connecting to www.nintendo.co.jp|23.72.149.166|:443... connected.\n",
      "HTTP request sent, awaiting response... 200 OK\n",
      "Length: 20514 (20K) [image/jpeg]\n",
      "Saving to: 'images/data_wiiu_marioparty10.jpg'\n",
      "\n",
      "data_wiiu_mariopart 100%[===================>]  20.03K  --.-KB/s    in 0.001s  \n",
      "\n",
      "2018-01-15 01:05:03 (27.8 MB/s) - 'images/data_wiiu_marioparty10.jpg' saved [20514/20514]\n",
      "\n"
     ]
    },
    {
     "data": {
      "text/plain": [
       "ObjectId('5a5bf0140a4693652827dc6b')"
      ]
     },
     "execution_count": 27,
     "metadata": {},
     "output_type": "execute_result"
    },
    {
     "name": "stdout",
     "output_type": "stream",
     "text": [
      "--2018-01-15 01:05:03--  https://www.nintendo.co.jp/ir/en/finance/software/img/data_switch_001.png\n",
      "Resolving www.nintendo.co.jp... 23.72.149.166\n",
      "Connecting to www.nintendo.co.jp|23.72.149.166|:443... connected.\n",
      "HTTP request sent, awaiting response... 200 OK\n",
      "Length: 123250 (120K) [image/png]\n",
      "Saving to: 'images/data_switch_001.png'\n",
      "\n",
      "data_switch_001.png 100%[===================>] 120.36K   351KB/s    in 0.3s    \n",
      "\n",
      "2018-01-15 01:05:05 (351 KB/s) - 'images/data_switch_001.png' saved [123250/123250]\n",
      "\n"
     ]
    },
    {
     "data": {
      "text/plain": [
       "ObjectId('5a5bf0140a4693652827dc6c')"
      ]
     },
     "execution_count": 27,
     "metadata": {},
     "output_type": "execute_result"
    },
    {
     "name": "stdout",
     "output_type": "stream",
     "text": [
      "--2018-01-15 01:05:05--  https://www.nintendo.co.jp/ir/en/finance/software/img/data_switch_002.png\n",
      "Resolving www.nintendo.co.jp... 23.72.149.166\n",
      "Connecting to www.nintendo.co.jp|23.72.149.166|:443... connected.\n",
      "HTTP request sent, awaiting response... 200 OK\n",
      "Length: 136768 (134K) [image/png]\n",
      "Saving to: 'images/data_switch_002.png'\n",
      "\n",
      "data_switch_002.png 100%[===================>] 133.56K   391KB/s    in 0.3s    \n",
      "\n",
      "2018-01-15 01:05:06 (391 KB/s) - 'images/data_switch_002.png' saved [136768/136768]\n",
      "\n"
     ]
    },
    {
     "data": {
      "text/plain": [
       "ObjectId('5a5bf0140a4693652827dc6d')"
      ]
     },
     "execution_count": 27,
     "metadata": {},
     "output_type": "execute_result"
    },
    {
     "name": "stdout",
     "output_type": "stream",
     "text": [
      "--2018-01-15 01:05:06--  https://www.nintendo.co.jp/ir/en/finance/software/img/data_switch_005.png\n",
      "Resolving www.nintendo.co.jp... 23.72.149.166\n",
      "Connecting to www.nintendo.co.jp|23.72.149.166|:443... connected.\n",
      "HTTP request sent, awaiting response... 200 OK\n",
      "Length: 116191 (113K) [image/png]\n",
      "Saving to: 'images/data_switch_005.png'\n",
      "\n",
      "data_switch_005.png 100%[===================>] 113.47K   329KB/s    in 0.3s    \n",
      "\n",
      "2018-01-15 01:05:08 (329 KB/s) - 'images/data_switch_005.png' saved [116191/116191]\n",
      "\n"
     ]
    },
    {
     "data": {
      "text/plain": [
       "ObjectId('5a5bf0140a4693652827dc6e')"
      ]
     },
     "execution_count": 27,
     "metadata": {},
     "output_type": "execute_result"
    },
    {
     "name": "stdout",
     "output_type": "stream",
     "text": [
      "--2018-01-15 01:05:08--  https://www.nintendo.co.jp/ir/en/finance/software/img/data_switch_003.png\n",
      "Resolving www.nintendo.co.jp... 23.72.149.166\n",
      "Connecting to www.nintendo.co.jp|23.72.149.166|:443... connected.\n",
      "HTTP request sent, awaiting response... 200 OK\n",
      "Length: 97341 (95K) [image/png]\n",
      "Saving to: 'images/data_switch_003.png'\n",
      "\n",
      "data_switch_003.png 100%[===================>]  95.06K   241KB/s    in 0.4s    \n",
      "\n",
      "2018-01-15 01:05:10 (241 KB/s) - 'images/data_switch_003.png' saved [97341/97341]\n",
      "\n"
     ]
    },
    {
     "data": {
      "text/plain": [
       "ObjectId('5a5bf0140a4693652827dc6f')"
      ]
     },
     "execution_count": 27,
     "metadata": {},
     "output_type": "execute_result"
    },
    {
     "name": "stdout",
     "output_type": "stream",
     "text": [
      "--2018-01-15 01:05:10--  https://www.nintendo.co.jp/ir/en/finance/software/img/data_switch_004.png\n",
      "Resolving www.nintendo.co.jp... 23.72.149.166\n",
      "Connecting to www.nintendo.co.jp|23.72.149.166|:443... connected.\n",
      "HTTP request sent, awaiting response... 200 OK\n",
      "Length: 113103 (110K) [image/png]\n",
      "Saving to: 'images/data_switch_004.png'\n",
      "\n",
      "data_switch_004.png 100%[===================>] 110.45K   319KB/s    in 0.3s    \n",
      "\n",
      "2018-01-15 01:05:11 (319 KB/s) - 'images/data_switch_004.png' saved [113103/113103]\n",
      "\n"
     ]
    },
    {
     "data": {
      "text/plain": [
       "ObjectId('5a5bf0140a4693652827dc70')"
      ]
     },
     "execution_count": 27,
     "metadata": {},
     "output_type": "execute_result"
    },
    {
     "name": "stdout",
     "output_type": "stream",
     "text": [
      "--2018-01-15 01:05:12--  https://www.nintendo.co.jp/ir/en/finance/software/img/data_3ds_pokemonxy.jpg\n",
      "Resolving www.nintendo.co.jp... 23.72.149.166\n",
      "Connecting to www.nintendo.co.jp|23.72.149.166|:443... connected.\n",
      "HTTP request sent, awaiting response... 200 OK\n",
      "Length: 32213 (31K) [image/jpeg]\n",
      "Saving to: 'images/data_3ds_pokemonxy.jpg'\n",
      "\n",
      "data_3ds_pokemonxy. 100%[===================>]  31.46K   191KB/s    in 0.2s    \n",
      "\n",
      "2018-01-15 01:05:13 (191 KB/s) - 'images/data_3ds_pokemonxy.jpg' saved [32213/32213]\n",
      "\n"
     ]
    },
    {
     "data": {
      "text/plain": [
       "ObjectId('5a5bf0150a4693652827dc71')"
      ]
     },
     "execution_count": 27,
     "metadata": {},
     "output_type": "execute_result"
    },
    {
     "name": "stdout",
     "output_type": "stream",
     "text": [
      "--2018-01-15 01:05:13--  https://www.nintendo.co.jp/ir/en/finance/software/img/data_3ds_002.jpg\n",
      "Resolving www.nintendo.co.jp... 23.72.149.166\n",
      "Connecting to www.nintendo.co.jp|23.72.149.166|:443... connected.\n",
      "HTTP request sent, awaiting response... 200 OK\n",
      "Length: 12917 (13K) [image/jpeg]\n",
      "Saving to: 'images/data_3ds_002.jpg'\n",
      "\n",
      "data_3ds_002.jpg    100%[===================>]  12.61K  --.-KB/s    in 0.001s  \n",
      "\n",
      "2018-01-15 01:05:14 (15.1 MB/s) - 'images/data_3ds_002.jpg' saved [12917/12917]\n",
      "\n"
     ]
    },
    {
     "data": {
      "text/plain": [
       "ObjectId('5a5bf0150a4693652827dc72')"
      ]
     },
     "execution_count": 27,
     "metadata": {},
     "output_type": "execute_result"
    },
    {
     "name": "stdout",
     "output_type": "stream",
     "text": [
      "--2018-01-15 01:05:14--  https://www.nintendo.co.jp/ir/en/finance/software/img/data_3ds_pokemonsunmoon.jpg\n",
      "Resolving www.nintendo.co.jp... 23.72.149.166\n",
      "Connecting to www.nintendo.co.jp|23.72.149.166|:443... connected.\n",
      "HTTP request sent, awaiting response... 200 OK\n",
      "Length: 37022 (36K) [image/jpeg]\n",
      "Saving to: 'images/data_3ds_pokemonsunmoon.jpg'\n",
      "\n",
      "data_3ds_pokemonsun 100%[===================>]  36.15K   187KB/s    in 0.2s    \n",
      "\n",
      "2018-01-15 01:05:16 (187 KB/s) - 'images/data_3ds_pokemonsunmoon.jpg' saved [37022/37022]\n",
      "\n"
     ]
    },
    {
     "data": {
      "text/plain": [
       "ObjectId('5a5bf0150a4693652827dc73')"
      ]
     },
     "execution_count": 27,
     "metadata": {},
     "output_type": "execute_result"
    },
    {
     "name": "stdout",
     "output_type": "stream",
     "text": [
      "--2018-01-15 01:05:16--  https://www.nintendo.co.jp/ir/en/finance/software/img/data_3ds_pokemonoras.jpg\n",
      "Resolving www.nintendo.co.jp... 23.72.149.166\n",
      "Connecting to www.nintendo.co.jp|23.72.149.166|:443... connected.\n",
      "HTTP request sent, awaiting response... 200 OK\n",
      "Length: 20879 (20K) [image/jpeg]\n",
      "Saving to: 'images/data_3ds_pokemonoras.jpg'\n",
      "\n",
      "data_3ds_pokemonora 100%[===================>]  20.39K  --.-KB/s    in 0.003s  \n",
      "\n",
      "2018-01-15 01:05:17 (7.27 MB/s) - 'images/data_3ds_pokemonoras.jpg' saved [20879/20879]\n",
      "\n"
     ]
    },
    {
     "data": {
      "text/plain": [
       "ObjectId('5a5bf0150a4693652827dc74')"
      ]
     },
     "execution_count": 27,
     "metadata": {},
     "output_type": "execute_result"
    },
    {
     "name": "stdout",
     "output_type": "stream",
     "text": [
      "--2018-01-15 01:05:17--  https://www.nintendo.co.jp/ir/en/finance/software/img/data_3ds_003.jpg\n",
      "Resolving www.nintendo.co.jp... 23.72.149.166\n",
      "Connecting to www.nintendo.co.jp|23.72.149.166|:443... connected.\n",
      "HTTP request sent, awaiting response... 200 OK\n",
      "Length: 10823 (11K) [image/jpeg]\n",
      "Saving to: 'images/data_3ds_003.jpg'\n",
      "\n",
      "data_3ds_003.jpg    100%[===================>]  10.57K  --.-KB/s    in 0.001s  \n",
      "\n",
      "2018-01-15 01:05:18 (18.0 MB/s) - 'images/data_3ds_003.jpg' saved [10823/10823]\n",
      "\n"
     ]
    },
    {
     "data": {
      "text/plain": [
       "ObjectId('5a5bf0150a4693652827dc75')"
      ]
     },
     "execution_count": 27,
     "metadata": {},
     "output_type": "execute_result"
    },
    {
     "name": "stdout",
     "output_type": "stream",
     "text": [
      "--2018-01-15 01:05:18--  https://www.nintendo.co.jp/ir/en/finance/software/img/data_3ds_001.jpg\n",
      "Resolving www.nintendo.co.jp... 23.72.149.166\n",
      "Connecting to www.nintendo.co.jp|23.72.149.166|:443... connected.\n",
      "HTTP request sent, awaiting response... 200 OK\n",
      "Length: 16348 (16K) [image/jpeg]\n",
      "Saving to: 'images/data_3ds_001.jpg'\n",
      "\n",
      "data_3ds_001.jpg    100%[===================>]  15.96K  --.-KB/s    in 0.007s  \n",
      "\n",
      "2018-01-15 01:05:20 (2.22 MB/s) - 'images/data_3ds_001.jpg' saved [16348/16348]\n",
      "\n"
     ]
    },
    {
     "data": {
      "text/plain": [
       "ObjectId('5a5bf0150a4693652827dc76')"
      ]
     },
     "execution_count": 27,
     "metadata": {},
     "output_type": "execute_result"
    },
    {
     "name": "stdout",
     "output_type": "stream",
     "text": [
      "--2018-01-15 01:05:20--  https://www.nintendo.co.jp/ir/en/finance/software/img/data_3ds_004.jpg\n",
      "Resolving www.nintendo.co.jp... 23.72.149.166\n",
      "Connecting to www.nintendo.co.jp|23.72.149.166|:443... connected.\n",
      "HTTP request sent, awaiting response... 200 OK\n",
      "Length: 11078 (11K) [image/jpeg]\n",
      "Saving to: 'images/data_3ds_004.jpg'\n",
      "\n",
      "data_3ds_004.jpg    100%[===================>]  10.82K  --.-KB/s    in 0.001s  \n",
      "\n",
      "2018-01-15 01:05:21 (12.8 MB/s) - 'images/data_3ds_004.jpg' saved [11078/11078]\n",
      "\n"
     ]
    },
    {
     "data": {
      "text/plain": [
       "ObjectId('5a5bf0150a4693652827dc77')"
      ]
     },
     "execution_count": 27,
     "metadata": {},
     "output_type": "execute_result"
    },
    {
     "name": "stdout",
     "output_type": "stream",
     "text": [
      "--2018-01-15 01:05:21--  https://www.nintendo.co.jp/ir/en/finance/software/img/data_3ds_smashbros.jpg\n",
      "Resolving www.nintendo.co.jp... 23.72.149.166\n",
      "Connecting to www.nintendo.co.jp|23.72.149.166|:443... connected.\n",
      "HTTP request sent, awaiting response... 200 OK\n",
      "Length: 11635 (11K) [image/jpeg]\n",
      "Saving to: 'images/data_3ds_smashbros.jpg'\n",
      "\n",
      "data_3ds_smashbros. 100%[===================>]  11.36K  --.-KB/s    in 0.001s  \n",
      "\n",
      "2018-01-15 01:05:22 (12.6 MB/s) - 'images/data_3ds_smashbros.jpg' saved [11635/11635]\n",
      "\n"
     ]
    },
    {
     "data": {
      "text/plain": [
       "ObjectId('5a5bf0150a4693652827dc78')"
      ]
     },
     "execution_count": 27,
     "metadata": {},
     "output_type": "execute_result"
    },
    {
     "name": "stdout",
     "output_type": "stream",
     "text": [
      "--2018-01-15 01:05:22--  https://www.nintendo.co.jp/ir/en/finance/software/img/data_3ds_tomodachicollection.jpg\n",
      "Resolving www.nintendo.co.jp... 23.72.149.166\n",
      "Connecting to www.nintendo.co.jp|23.72.149.166|:443... connected.\n",
      "HTTP request sent, awaiting response... 200 OK\n",
      "Length: 23405 (23K) [image/jpeg]\n",
      "Saving to: 'images/data_3ds_tomodachicollection.jpg'\n",
      "\n",
      "data_3ds_tomodachic 100%[===================>]  22.86K   150KB/s    in 0.2s    \n",
      "\n",
      "2018-01-15 01:05:24 (150 KB/s) - 'images/data_3ds_tomodachicollection.jpg' saved [23405/23405]\n",
      "\n"
     ]
    },
    {
     "data": {
      "text/plain": [
       "ObjectId('5a5bf0150a4693652827dc79')"
      ]
     },
     "execution_count": 27,
     "metadata": {},
     "output_type": "execute_result"
    },
    {
     "name": "stdout",
     "output_type": "stream",
     "text": [
      "--2018-01-15 01:05:25--  https://www.nintendo.co.jp/ir/en/finance/software/img/data_3ds_009.jpg\n",
      "Resolving www.nintendo.co.jp... 23.72.149.166\n",
      "Connecting to www.nintendo.co.jp|23.72.149.166|:443... connected.\n",
      "HTTP request sent, awaiting response... 200 OK\n",
      "Length: 8640 (8.4K) [image/jpeg]\n",
      "Saving to: 'images/data_3ds_009.jpg'\n",
      "\n",
      "data_3ds_009.jpg    100%[===================>]   8.44K  --.-KB/s    in 0.001s  \n",
      "\n",
      "2018-01-15 01:05:26 (11.4 MB/s) - 'images/data_3ds_009.jpg' saved [8640/8640]\n",
      "\n"
     ]
    },
    {
     "data": {
      "text/plain": [
       "ObjectId('5a5bf0150a4693652827dc7a')"
      ]
     },
     "execution_count": 27,
     "metadata": {},
     "output_type": "execute_result"
    },
    {
     "name": "stdout",
     "output_type": "stream",
     "text": [
      "--2018-01-15 01:05:26--  https://www.nintendo.co.jp/ir/en/finance/software/img/data_wii_001.jpg\n",
      "Resolving www.nintendo.co.jp... 23.72.149.166\n",
      "Connecting to www.nintendo.co.jp|23.72.149.166|:443... connected.\n",
      "HTTP request sent, awaiting response... 200 OK\n",
      "Length: 5365 (5.2K) [image/jpeg]\n",
      "Saving to: 'images/data_wii_001.jpg'\n",
      "\n",
      "data_wii_001.jpg    100%[===================>]   5.24K  --.-KB/s    in 0s      \n",
      "\n",
      "2018-01-15 01:05:27 (44.5 MB/s) - 'images/data_wii_001.jpg' saved [5365/5365]\n",
      "\n"
     ]
    },
    {
     "data": {
      "text/plain": [
       "ObjectId('5a5bf0150a4693652827dc7b')"
      ]
     },
     "execution_count": 27,
     "metadata": {},
     "output_type": "execute_result"
    },
    {
     "name": "stdout",
     "output_type": "stream",
     "text": [
      "--2018-01-15 01:05:27--  https://www.nintendo.co.jp/ir/en/finance/software/img/data_wii_002.jpg\n",
      "Resolving www.nintendo.co.jp... 23.72.149.166\n",
      "Connecting to www.nintendo.co.jp|23.72.149.166|:443... connected.\n",
      "HTTP request sent, awaiting response... 200 OK\n",
      "Length: 6852 (6.7K) [image/jpeg]\n",
      "Saving to: 'images/data_wii_002.jpg'\n",
      "\n",
      "data_wii_002.jpg    100%[===================>]   6.69K  --.-KB/s    in 0s      \n",
      "\n",
      "2018-01-15 01:05:28 (105 MB/s) - 'images/data_wii_002.jpg' saved [6852/6852]\n",
      "\n"
     ]
    },
    {
     "data": {
      "text/plain": [
       "ObjectId('5a5bf0150a4693652827dc7c')"
      ]
     },
     "execution_count": 27,
     "metadata": {},
     "output_type": "execute_result"
    },
    {
     "name": "stdout",
     "output_type": "stream",
     "text": [
      "--2018-01-15 01:05:29--  https://www.nintendo.co.jp/ir/en/finance/software/img/data_wii_003.jpg\n",
      "Resolving www.nintendo.co.jp... 23.72.149.166\n",
      "Connecting to www.nintendo.co.jp|23.72.149.166|:443... connected.\n",
      "HTTP request sent, awaiting response... 200 OK\n",
      "Length: 5926 (5.8K) [image/jpeg]\n",
      "Saving to: 'images/data_wii_003.jpg'\n",
      "\n",
      "data_wii_003.jpg    100%[===================>]   5.79K  --.-KB/s    in 0s      \n",
      "\n",
      "2018-01-15 01:05:30 (34.3 MB/s) - 'images/data_wii_003.jpg' saved [5926/5926]\n",
      "\n"
     ]
    },
    {
     "data": {
      "text/plain": [
       "ObjectId('5a5bf0150a4693652827dc7d')"
      ]
     },
     "execution_count": 27,
     "metadata": {},
     "output_type": "execute_result"
    },
    {
     "name": "stdout",
     "output_type": "stream",
     "text": [
      "--2018-01-15 01:05:30--  https://www.nintendo.co.jp/ir/en/finance/software/img/data_wii_005.jpg\n",
      "Resolving www.nintendo.co.jp... 23.72.149.166\n",
      "Connecting to www.nintendo.co.jp|23.72.149.166|:443... connected.\n",
      "HTTP request sent, awaiting response... 200 OK\n",
      "Length: 8798 (8.6K) [image/jpeg]\n",
      "Saving to: 'images/data_wii_005.jpg'\n",
      "\n",
      "data_wii_005.jpg    100%[===================>]   8.59K  --.-KB/s    in 0.001s  \n",
      "\n",
      "2018-01-15 01:05:31 (8.15 MB/s) - 'images/data_wii_005.jpg' saved [8798/8798]\n",
      "\n"
     ]
    },
    {
     "data": {
      "text/plain": [
       "ObjectId('5a5bf0150a4693652827dc7e')"
      ]
     },
     "execution_count": 27,
     "metadata": {},
     "output_type": "execute_result"
    },
    {
     "name": "stdout",
     "output_type": "stream",
     "text": [
      "--2018-01-15 01:05:31--  https://www.nintendo.co.jp/ir/en/finance/software/img/data_wii_004.jpg\n",
      "Resolving www.nintendo.co.jp... 23.72.149.166\n",
      "Connecting to www.nintendo.co.jp|23.72.149.166|:443... connected.\n",
      "HTTP request sent, awaiting response... 200 OK\n",
      "Length: 4984 (4.9K) [image/jpeg]\n",
      "Saving to: 'images/data_wii_004.jpg'\n",
      "\n",
      "data_wii_004.jpg    100%[===================>]   4.87K  --.-KB/s    in 0s      \n",
      "\n",
      "2018-01-15 01:05:33 (33.0 MB/s) - 'images/data_wii_004.jpg' saved [4984/4984]\n",
      "\n"
     ]
    },
    {
     "data": {
      "text/plain": [
       "ObjectId('5a5bf0150a4693652827dc7f')"
      ]
     },
     "execution_count": 27,
     "metadata": {},
     "output_type": "execute_result"
    },
    {
     "name": "stdout",
     "output_type": "stream",
     "text": [
      "--2018-01-15 01:05:33--  https://www.nintendo.co.jp/ir/en/finance/software/img/data_wii_006.jpg\n",
      "Resolving www.nintendo.co.jp... 23.72.149.166\n",
      "Connecting to www.nintendo.co.jp|23.72.149.166|:443... connected.\n",
      "HTTP request sent, awaiting response... 200 OK\n",
      "Length: 4221 (4.1K) [image/jpeg]\n",
      "Saving to: 'images/data_wii_006.jpg'\n",
      "\n",
      "data_wii_006.jpg    100%[===================>]   4.12K  --.-KB/s    in 0s      \n",
      "\n",
      "2018-01-15 01:05:34 (41.9 MB/s) - 'images/data_wii_006.jpg' saved [4221/4221]\n",
      "\n"
     ]
    },
    {
     "data": {
      "text/plain": [
       "ObjectId('5a5bf0150a4693652827dc80')"
      ]
     },
     "execution_count": 27,
     "metadata": {},
     "output_type": "execute_result"
    },
    {
     "name": "stdout",
     "output_type": "stream",
     "text": [
      "--2018-01-15 01:05:34--  https://www.nintendo.co.jp/ir/en/finance/software/img/data_wii_007.jpg\n",
      "Resolving www.nintendo.co.jp... 23.72.149.166\n",
      "Connecting to www.nintendo.co.jp|23.72.149.166|:443... connected.\n",
      "HTTP request sent, awaiting response... 200 OK\n",
      "Length: 6807 (6.6K) [image/jpeg]\n",
      "Saving to: 'images/data_wii_007.jpg'\n",
      "\n",
      "data_wii_007.jpg    100%[===================>]   6.65K  --.-KB/s    in 0s      \n",
      "\n",
      "2018-01-15 01:05:36 (65.6 MB/s) - 'images/data_wii_007.jpg' saved [6807/6807]\n",
      "\n"
     ]
    },
    {
     "data": {
      "text/plain": [
       "ObjectId('5a5bf0150a4693652827dc81')"
      ]
     },
     "execution_count": 27,
     "metadata": {},
     "output_type": "execute_result"
    },
    {
     "name": "stdout",
     "output_type": "stream",
     "text": [
      "--2018-01-15 01:05:36--  https://www.nintendo.co.jp/ir/en/finance/software/img/data_wii_009.jpg\n",
      "Resolving www.nintendo.co.jp... 23.72.149.166\n",
      "Connecting to www.nintendo.co.jp|23.72.149.166|:443... connected.\n",
      "HTTP request sent, awaiting response... 200 OK\n",
      "Length: 8262 (8.1K) [image/jpeg]\n",
      "Saving to: 'images/data_wii_009.jpg'\n",
      "\n",
      "data_wii_009.jpg    100%[===================>]   8.07K  --.-KB/s    in 0.001s  \n",
      "\n",
      "2018-01-15 01:05:37 (11.2 MB/s) - 'images/data_wii_009.jpg' saved [8262/8262]\n",
      "\n"
     ]
    },
    {
     "data": {
      "text/plain": [
       "ObjectId('5a5bf0150a4693652827dc82')"
      ]
     },
     "execution_count": 27,
     "metadata": {},
     "output_type": "execute_result"
    },
    {
     "name": "stdout",
     "output_type": "stream",
     "text": [
      "--2018-01-15 01:05:37--  https://www.nintendo.co.jp/ir/en/finance/software/img/data_wii_008.jpg\n",
      "Resolving www.nintendo.co.jp... 23.72.149.166\n",
      "Connecting to www.nintendo.co.jp|23.72.149.166|:443... connected.\n",
      "HTTP request sent, awaiting response... 200 OK\n",
      "Length: 8344 (8.1K) [image/jpeg]\n",
      "Saving to: 'images/data_wii_008.jpg'\n",
      "\n",
      "data_wii_008.jpg    100%[===================>]   8.15K  --.-KB/s    in 0s      \n",
      "\n",
      "2018-01-15 01:05:38 (39.8 MB/s) - 'images/data_wii_008.jpg' saved [8344/8344]\n",
      "\n"
     ]
    },
    {
     "data": {
      "text/plain": [
       "ObjectId('5a5bf0150a4693652827dc83')"
      ]
     },
     "execution_count": 27,
     "metadata": {},
     "output_type": "execute_result"
    },
    {
     "name": "stdout",
     "output_type": "stream",
     "text": [
      "--2018-01-15 01:05:38--  https://www.nintendo.co.jp/ir/en/finance/software/img/data_wii_wiiparty.jpg\n",
      "Resolving www.nintendo.co.jp... 23.72.149.166\n",
      "Connecting to www.nintendo.co.jp|23.72.149.166|:443... connected.\n",
      "HTTP request sent, awaiting response... 200 OK\n",
      "Length: 15776 (15K) [image/jpeg]\n",
      "Saving to: 'images/data_wii_wiiparty.jpg'\n",
      "\n",
      "data_wii_wiiparty.j 100%[===================>]  15.41K  --.-KB/s    in 0s      \n",
      "\n",
      "2018-01-15 01:05:39 (42.6 MB/s) - 'images/data_wii_wiiparty.jpg' saved [15776/15776]\n",
      "\n"
     ]
    },
    {
     "data": {
      "text/plain": [
       "ObjectId('5a5bf0150a4693652827dc84')"
      ]
     },
     "execution_count": 27,
     "metadata": {},
     "output_type": "execute_result"
    },
    {
     "name": "stdout",
     "output_type": "stream",
     "text": [
      "--2018-01-15 01:05:40--  https://www.nintendo.co.jp/ir/en/finance/software/img/data_ds_001.jpg\n",
      "Resolving www.nintendo.co.jp... 23.72.149.166\n",
      "Connecting to www.nintendo.co.jp|23.72.149.166|:443... connected.\n",
      "HTTP request sent, awaiting response... 200 OK\n",
      "Length: 11788 (12K) [image/jpeg]\n",
      "Saving to: 'images/data_ds_001.jpg'\n",
      "\n",
      "data_ds_001.jpg     100%[===================>]  11.51K  --.-KB/s    in 0.001s  \n",
      "\n",
      "2018-01-15 01:05:41 (22.5 MB/s) - 'images/data_ds_001.jpg' saved [11788/11788]\n",
      "\n"
     ]
    },
    {
     "data": {
      "text/plain": [
       "ObjectId('5a5bf0150a4693652827dc85')"
      ]
     },
     "execution_count": 27,
     "metadata": {},
     "output_type": "execute_result"
    },
    {
     "name": "stdout",
     "output_type": "stream",
     "text": [
      "--2018-01-15 01:05:41--  https://www.nintendo.co.jp/ir/en/finance/softwaremg/data_ds_003.jpg\n",
      "Resolving www.nintendo.co.jp... 23.72.149.166\n",
      "Connecting to www.nintendo.co.jp|23.72.149.166|:443... connected.\n",
      "HTTP request sent, awaiting response... 404 Not Found\n",
      "2018-01-15 01:05:42 ERROR 404: Not Found.\n",
      "\n"
     ]
    },
    {
     "data": {
      "text/plain": [
       "ObjectId('5a5bf0150a4693652827dc86')"
      ]
     },
     "execution_count": 27,
     "metadata": {},
     "output_type": "execute_result"
    },
    {
     "name": "stdout",
     "output_type": "stream",
     "text": [
      "--2018-01-15 01:05:42--  https://www.nintendo.co.jp/ir/en/finance/software/img/data_ds_002.jpg\n",
      "Resolving www.nintendo.co.jp... 23.72.149.166\n",
      "Connecting to www.nintendo.co.jp|23.72.149.166|:443... connected.\n",
      "HTTP request sent, awaiting response... 200 OK\n",
      "Length: 8290 (8.1K) [image/jpeg]\n",
      "Saving to: 'images/data_ds_002.jpg'\n",
      "\n",
      "data_ds_002.jpg     100%[===================>]   8.10K  --.-KB/s    in 0s      \n",
      "\n",
      "2018-01-15 01:05:43 (49.1 MB/s) - 'images/data_ds_002.jpg' saved [8290/8290]\n",
      "\n"
     ]
    },
    {
     "data": {
      "text/plain": [
       "ObjectId('5a5bf0150a4693652827dc87')"
      ]
     },
     "execution_count": 27,
     "metadata": {},
     "output_type": "execute_result"
    },
    {
     "name": "stdout",
     "output_type": "stream",
     "text": [
      "--2018-01-15 01:05:44--  https://www.nintendo.co.jp/ir/en/finance/softwaremg/data_ds_004.jpg\n",
      "Resolving www.nintendo.co.jp... 23.72.149.166\n",
      "Connecting to www.nintendo.co.jp|23.72.149.166|:443... connected.\n",
      "HTTP request sent, awaiting response... 404 Not Found\n",
      "2018-01-15 01:05:45 ERROR 404: Not Found.\n",
      "\n"
     ]
    },
    {
     "data": {
      "text/plain": [
       "ObjectId('5a5bf0150a4693652827dc88')"
      ]
     },
     "execution_count": 27,
     "metadata": {},
     "output_type": "execute_result"
    },
    {
     "name": "stdout",
     "output_type": "stream",
     "text": [
      "--2018-01-15 01:05:45--  https://www.nintendo.co.jp/ir/en/finance/software/img/data_ds_006.jpg\n",
      "Resolving www.nintendo.co.jp... 23.72.149.166\n",
      "Connecting to www.nintendo.co.jp|23.72.149.166|:443... connected.\n",
      "HTTP request sent, awaiting response... 200 OK\n",
      "Length: 16311 (16K) [image/jpeg]\n",
      "Saving to: 'images/data_ds_006.jpg'\n",
      "\n",
      "data_ds_006.jpg     100%[===================>]  15.93K  --.-KB/s    in 0s      \n",
      "\n",
      "2018-01-15 01:05:46 (33.7 MB/s) - 'images/data_ds_006.jpg' saved [16311/16311]\n",
      "\n"
     ]
    },
    {
     "data": {
      "text/plain": [
       "ObjectId('5a5bf0150a4693652827dc89')"
      ]
     },
     "execution_count": 27,
     "metadata": {},
     "output_type": "execute_result"
    },
    {
     "name": "stdout",
     "output_type": "stream",
     "text": [
      "--2018-01-15 01:05:46--  https://www.nintendo.co.jp/ir/en/finance/software/img/data_ds_007.jpg\n",
      "Resolving www.nintendo.co.jp... 23.72.149.166\n",
      "Connecting to www.nintendo.co.jp|23.72.149.166|:443... connected.\n",
      "HTTP request sent, awaiting response... 200 OK\n",
      "Length: 14806 (14K) [image/jpeg]\n",
      "Saving to: 'images/data_ds_007.jpg'\n",
      "\n",
      "data_ds_007.jpg     100%[===================>]  14.46K  --.-KB/s    in 0s      \n",
      "\n",
      "2018-01-15 01:05:47 (90.5 MB/s) - 'images/data_ds_007.jpg' saved [14806/14806]\n",
      "\n"
     ]
    },
    {
     "data": {
      "text/plain": [
       "ObjectId('5a5bf0150a4693652827dc8a')"
      ]
     },
     "execution_count": 27,
     "metadata": {},
     "output_type": "execute_result"
    },
    {
     "name": "stdout",
     "output_type": "stream",
     "text": [
      "--2018-01-15 01:05:47--  https://www.nintendo.co.jp/ir/en/finance/softwaremg/data_ds_005.jpg\n",
      "Resolving www.nintendo.co.jp... 23.72.149.166\n",
      "Connecting to www.nintendo.co.jp|23.72.149.166|:443... connected.\n",
      "HTTP request sent, awaiting response... 404 Not Found\n",
      "2018-01-15 01:05:48 ERROR 404: Not Found.\n",
      "\n"
     ]
    },
    {
     "data": {
      "text/plain": [
       "ObjectId('5a5bf0150a4693652827dc8b')"
      ]
     },
     "execution_count": 27,
     "metadata": {},
     "output_type": "execute_result"
    },
    {
     "name": "stdout",
     "output_type": "stream",
     "text": [
      "--2018-01-15 01:05:48--  https://www.nintendo.co.jp/ir/en/finance/software/img/data_ds_008.jpg\n",
      "Resolving www.nintendo.co.jp... 23.72.149.166\n",
      "Connecting to www.nintendo.co.jp|23.72.149.166|:443... connected.\n",
      "HTTP request sent, awaiting response... 200 OK\n",
      "Length: 18925 (18K) [image/jpeg]\n",
      "Saving to: 'images/data_ds_008.jpg'\n",
      "\n",
      "data_ds_008.jpg     100%[===================>]  18.48K  --.-KB/s    in 0.001s  \n",
      "\n",
      "2018-01-15 01:05:49 (13.9 MB/s) - 'images/data_ds_008.jpg' saved [18925/18925]\n",
      "\n"
     ]
    },
    {
     "data": {
      "text/plain": [
       "ObjectId('5a5bf0150a4693652827dc8c')"
      ]
     },
     "execution_count": 27,
     "metadata": {},
     "output_type": "execute_result"
    },
    {
     "name": "stdout",
     "output_type": "stream",
     "text": [
      "--2018-01-15 01:05:49--  https://www.nintendo.co.jp/ir/en/finance/softwaremg/data_ds_010.jpg\n",
      "Resolving www.nintendo.co.jp... 23.72.149.166\n",
      "Connecting to www.nintendo.co.jp|23.72.149.166|:443... connected.\n",
      "HTTP request sent, awaiting response... 404 Not Found\n",
      "2018-01-15 01:05:50 ERROR 404: Not Found.\n",
      "\n"
     ]
    },
    {
     "data": {
      "text/plain": [
       "ObjectId('5a5bf0150a4693652827dc8d')"
      ]
     },
     "execution_count": 27,
     "metadata": {},
     "output_type": "execute_result"
    },
    {
     "name": "stdout",
     "output_type": "stream",
     "text": [
      "--2018-01-15 01:05:50--  https://www.nintendo.co.jp/ir/en/finance/softwaremg/data_ds_009.jpg\n",
      "Resolving www.nintendo.co.jp... 23.72.149.166\n",
      "Connecting to www.nintendo.co.jp|23.72.149.166|:443... connected.\n",
      "HTTP request sent, awaiting response... 404 Not Found\n",
      "2018-01-15 01:05:51 ERROR 404: Not Found.\n",
      "\n"
     ]
    },
    {
     "data": {
      "text/plain": [
       "ObjectId('5a5bf0150a4693652827dc8e')"
      ]
     },
     "execution_count": 27,
     "metadata": {},
     "output_type": "execute_result"
    }
   ],
   "source": [
    "import re\n",
    "updated_games = []\n",
    "for gameindex, game in enumerate(games):\n",
    "    image = game['image']\n",
    "    image_short = image.split('/')[-1]\n",
    "    !wget --no-check-certificate $image -P images/ \n",
    "    game['image'] = 'images/' + image_short\n",
    "    game.pop('_id', None)\n",
    "    updated_games.append(game)"
   ]
  },
  {
   "cell_type": "markdown",
   "metadata": {},
   "source": [
    "#### Verify the downloaded images\n",
    "Run the `ls images` to show the available images and save the list to `lsimages`."
   ]
  },
  {
   "cell_type": "code",
   "execution_count": 28,
   "metadata": {
    "collapsed": false
   },
   "outputs": [
    {
     "data": {
      "text/plain": [
       "['data_3ds_001.jpg',\n",
       " 'data_3ds_002.jpg',\n",
       " 'data_3ds_003.jpg',\n",
       " 'data_3ds_004.jpg',\n",
       " 'data_3ds_009.jpg',\n",
       " 'data_3ds_pokemonoras.jpg',\n",
       " 'data_3ds_pokemonsunmoon.jpg',\n",
       " 'data_3ds_pokemonxy.jpg',\n",
       " 'data_3ds_smashbros.jpg',\n",
       " 'data_3ds_tomodachicollection.jpg',\n",
       " 'data_ds_001.jpg',\n",
       " 'data_ds_002.jpg',\n",
       " 'data_ds_006.jpg',\n",
       " 'data_ds_007.jpg',\n",
       " 'data_ds_008.jpg',\n",
       " 'data_switch_001.png',\n",
       " 'data_switch_002.png',\n",
       " 'data_switch_003.png',\n",
       " 'data_switch_004.png',\n",
       " 'data_switch_005.png',\n",
       " 'data_wii_001.jpg',\n",
       " 'data_wii_002.jpg',\n",
       " 'data_wii_003.jpg',\n",
       " 'data_wii_004.jpg',\n",
       " 'data_wii_005.jpg',\n",
       " 'data_wii_006.jpg',\n",
       " 'data_wii_007.jpg',\n",
       " 'data_wii_008.jpg',\n",
       " 'data_wii_009.jpg',\n",
       " 'data_wii_wiiparty.jpg',\n",
       " 'data_wiiu_mario3dworld.png',\n",
       " 'data_wiiu_mariokart8.png',\n",
       " 'data_wiiu_marioparty10.jpg',\n",
       " 'data_wiiu_newmariou.png',\n",
       " 'data_wiiu_newsuperluigiu.png',\n",
       " 'data_wiiu_nintendoland.png',\n",
       " 'data_wiiu_smashbros.png',\n",
       " 'data_wiiu_splatoon.jpg',\n",
       " 'data_wiiu_supermariomaker.png',\n",
       " 'data_wiiu_zeldahd.png']"
      ]
     },
     "execution_count": 28,
     "metadata": {},
     "output_type": "execute_result"
    }
   ],
   "source": [
    "lsimages = !ls images\n",
    "lsimages"
   ]
  },
  {
   "cell_type": "markdown",
   "metadata": {},
   "source": [
    "#### Show the first image"
   ]
  },
  {
   "cell_type": "code",
   "execution_count": 29,
   "metadata": {
    "collapsed": false
   },
   "outputs": [
    {
     "data": {
      "text/html": [
       "<img src=\"images/data_3ds_001.jpg\"/>"
      ],
      "text/plain": [
       "<IPython.core.display.Image object>"
      ]
     },
     "execution_count": 29,
     "metadata": {},
     "output_type": "execute_result"
    }
   ],
   "source": [
    "from IPython.display import Image\n",
    "from IPython.core.display import HTML \n",
    "Image(url='images/'+lsimages.list[0])"
   ]
  },
  {
   "cell_type": "markdown",
   "metadata": {},
   "source": [
    "#### Delete the old games from the database"
   ]
  },
  {
   "cell_type": "code",
   "execution_count": 30,
   "metadata": {
    "collapsed": true
   },
   "outputs": [],
   "source": [
    "result = db.games.delete_many({})"
   ]
  },
  {
   "cell_type": "markdown",
   "metadata": {},
   "source": [
    "#### Insert the updated games"
   ]
  },
  {
   "cell_type": "code",
   "execution_count": 31,
   "metadata": {
    "collapsed": true
   },
   "outputs": [],
   "source": [
    "result = db.games.insert_many(updated_games)"
   ]
  },
  {
   "cell_type": "markdown",
   "metadata": {},
   "source": [
    "<img class=\"logo\" src=\"logos/express.PNG\" />\n",
    "## Back-end\n",
    "Create the API with [ExpressJS](https://expressjs.com/) and [Mongoose](http://mongoosejs.com/).\n",
    "\n",
    "First make sure NodeJS is installed."
   ]
  },
  {
   "cell_type": "code",
   "execution_count": 32,
   "metadata": {
    "collapsed": false
   },
   "outputs": [
    {
     "name": "stdout",
     "output_type": "stream",
     "text": [
      "v8.4.0\r\n"
     ]
    }
   ],
   "source": [
    "!node --version"
   ]
  },
  {
   "cell_type": "code",
   "execution_count": 33,
   "metadata": {
    "collapsed": false
   },
   "outputs": [
    {
     "name": "stdout",
     "output_type": "stream",
     "text": [
      "5.6.0\r\n"
     ]
    }
   ],
   "source": [
    "!npm --version"
   ]
  },
  {
   "cell_type": "markdown",
   "metadata": {},
   "source": [
    "### Create Node package and install Express generator\n",
    "Install the ExpressJS [generator](https://expressjs.com/en/starter/generator.html) after creating the `server` folder."
   ]
  },
  {
   "cell_type": "code",
   "execution_count": 34,
   "metadata": {
    "collapsed": true
   },
   "outputs": [],
   "source": [
    "!rm -rf server"
   ]
  },
  {
   "cell_type": "code",
   "execution_count": 35,
   "metadata": {
    "collapsed": false
   },
   "outputs": [
    {
     "name": "stdout",
     "output_type": "stream",
     "text": [
      "Wrote to /Users/jitsejan/code/pelican-blog/content/notebooks/server/package.json:\n",
      "\n",
      "{\n",
      "  \"name\": \"server\",\n",
      "  \"version\": \"1.0.0\",\n",
      "  \"description\": \"\",\n",
      "  \"main\": \"index.js\",\n",
      "  \"scripts\": {\n",
      "    \"test\": \"echo \\\"Error: no test specified\\\" && exit 1\"\n",
      "  },\n",
      "  \"keywords\": [],\n",
      "  \"author\": \"\",\n",
      "  \"license\": \"ISC\"\n",
      "}\n",
      "\n",
      "\n",
      "\u001b[K\u001b[?25h\u001b[37;40mnpm\u001b[0m \u001b[0m\u001b[34;40mnotice\u001b[0m\u001b[35m\u001b[0m created a lockfile as package-lock.json. You should commit this file.\n",
      "\u001b[0m\u001b[37;40mnpm\u001b[0m \u001b[0m\u001b[30;43mWARN\u001b[0m\u001b[35m\u001b[0m server@1.0.0 No description\n",
      "\u001b[0m\u001b[37;40mnpm\u001b[0m \u001b[0m\u001b[30;43mWARN\u001b[0m\u001b[35m\u001b[0m server@1.0.0 No repository field.\n",
      "\u001b[0m\n",
      "+ express-generator@4.15.5\n",
      "added 6 packages in 3.999s\n"
     ]
    }
   ],
   "source": [
    "!mkdir server && cd server && npm init -y && npm install express-generator --save"
   ]
  },
  {
   "cell_type": "markdown",
   "metadata": {},
   "source": [
    "#### Check ExpressJS version"
   ]
  },
  {
   "cell_type": "code",
   "execution_count": 36,
   "metadata": {
    "collapsed": false
   },
   "outputs": [
    {
     "name": "stdout",
     "output_type": "stream",
     "text": [
      "5.6.0\r\n"
     ]
    }
   ],
   "source": [
    "!cd server && npm express --version"
   ]
  },
  {
   "cell_type": "markdown",
   "metadata": {},
   "source": [
    "#### Create the scaffold for the server\n",
    "Note that we use `npx` instead of `npm` because we run NPM from a <b>local</b> folder."
   ]
  },
  {
   "cell_type": "code",
   "execution_count": 37,
   "metadata": {
    "collapsed": false
   },
   "outputs": [
    {
     "name": "stdout",
     "output_type": "stream",
     "text": [
      "\r\n",
      "   \u001b[36mcreate\u001b[0m : .\r\n",
      "   \u001b[36mcreate\u001b[0m : ./package.json\r\n",
      "   \u001b[36mcreate\u001b[0m : ./app.js\r\n",
      "   \u001b[36mcreate\u001b[0m : ./.gitignore\r\n",
      "   \u001b[36mcreate\u001b[0m : ./public\r\n",
      "   \u001b[36mcreate\u001b[0m : ./routes\r\n",
      "   \u001b[36mcreate\u001b[0m : ./routes/index.js\r\n",
      "   \u001b[36mcreate\u001b[0m : ./routes/users.js\r\n",
      "   \u001b[36mcreate\u001b[0m : ./views\r\n",
      "   \u001b[36mcreate\u001b[0m : ./views/index.ejs\r\n",
      "   \u001b[36mcreate\u001b[0m : ./views/error.ejs\r\n",
      "   \u001b[36mcreate\u001b[0m : ./bin\r\n",
      "   \u001b[36mcreate\u001b[0m : ./bin/www\r\n",
      "   \u001b[36mcreate\u001b[0m : ./public/javascripts\r\n",
      "   \u001b[36mcreate\u001b[0m : ./public/images\r\n",
      "   \u001b[36mcreate\u001b[0m : ./public/stylesheets\r\n",
      "   \u001b[36mcreate\u001b[0m : ./public/stylesheets/style.css\r\n",
      "\r\n",
      "   install dependencies:\r\n",
      "     $ cd . && npm install\r\n",
      "\r\n",
      "   run the app:\r\n",
      "     $ DEBUG=server:* npm start\r\n",
      "\r\n"
     ]
    }
   ],
   "source": [
    "!cd server && npx express -y --force --git --view ejs ."
   ]
  },
  {
   "cell_type": "code",
   "execution_count": 38,
   "metadata": {
    "collapsed": false
   },
   "outputs": [
    {
     "name": "stdout",
     "output_type": "stream",
     "text": [
      "app.js             \u001b[1m\u001b[34mnode_modules\u001b[m\u001b[m/      package.json       \u001b[1m\u001b[34mroutes\u001b[m\u001b[m/\r\n",
      "\u001b[1m\u001b[34mbin\u001b[m\u001b[m/               package-lock.json  \u001b[1m\u001b[34mpublic\u001b[m\u001b[m/            \u001b[1m\u001b[34mviews\u001b[m\u001b[m/\r\n"
     ]
    }
   ],
   "source": [
    "ls server/"
   ]
  },
  {
   "cell_type": "code",
   "execution_count": 39,
   "metadata": {
    "collapsed": false
   },
   "outputs": [
    {
     "name": "stdout",
     "output_type": "stream",
     "text": [
      "{\r\n",
      "  \"name\": \"server\",\r\n",
      "  \"version\": \"0.0.0\",\r\n",
      "  \"private\": true,\r\n",
      "  \"scripts\": {\r\n",
      "    \"start\": \"node ./bin/www\"\r\n",
      "  },\r\n",
      "  \"dependencies\": {\r\n",
      "    \"body-parser\": \"~1.18.2\",\r\n",
      "    \"cookie-parser\": \"~1.4.3\",\r\n",
      "    \"debug\": \"~2.6.9\",\r\n",
      "    \"ejs\": \"~2.5.7\",\r\n",
      "    \"express\": \"~4.15.5\",\r\n",
      "    \"morgan\": \"~1.9.0\",\r\n",
      "    \"serve-favicon\": \"~2.4.5\"\r\n",
      "  }\r\n",
      "}\r\n"
     ]
    }
   ],
   "source": [
    "!cat server/package.json"
   ]
  },
  {
   "cell_type": "markdown",
   "metadata": {},
   "source": [
    "#### Install dependencies"
   ]
  },
  {
   "cell_type": "code",
   "execution_count": 40,
   "metadata": {
    "collapsed": false
   },
   "outputs": [
    {
     "name": "stdout",
     "output_type": "stream",
     "text": [
      "\u001b[K\u001b[?25hadded 57 packages and removed 5 packages in 5.541s32minfo\u001b[0m \u001b[35mlifecycle\u001b[0m server@0.0.0~prepare: ser\u001b[0m\u001b[K\u001b[K\n"
     ]
    }
   ],
   "source": [
    "!cd server && npm install"
   ]
  },
  {
   "cell_type": "markdown",
   "metadata": {},
   "source": [
    "#### Run the app"
   ]
  },
  {
   "cell_type": "code",
   "execution_count": 41,
   "metadata": {
    "collapsed": false
   },
   "outputs": [
    {
     "data": {
      "text/plain": [
       "95010"
      ]
     },
     "execution_count": 41,
     "metadata": {},
     "output_type": "execute_result"
    }
   ],
   "source": [
    "import subprocess\n",
    "proc = subprocess.Popen(\"cd server && npm start &\", shell=True, stdout=subprocess.PIPE)\n",
    "proc.pid"
   ]
  },
  {
   "cell_type": "markdown",
   "metadata": {},
   "source": [
    "#### Request the ExpressJS app"
   ]
  },
  {
   "cell_type": "code",
   "execution_count": 42,
   "metadata": {
    "collapsed": false
   },
   "outputs": [
    {
     "name": "stderr",
     "output_type": "stream",
     "text": [
      "2018-01-15 01:07:08 [urllib3.connectionpool] DEBUG: Starting new HTTP connection (1): localhost\n",
      "2018-01-15 01:07:08 [urllib3.connectionpool] DEBUG: http://localhost:3000 \"GET / HTTP/1.1\" 200 207\n"
     ]
    },
    {
     "data": {
      "text/html": [
       "<!DOCTYPE html>\n",
       "<html>\n",
       "  <head>\n",
       "    <title>Express</title>\n",
       "    <link rel='stylesheet' href='/stylesheets/style.css' />\n",
       "  </head>\n",
       "  <body>\n",
       "    <h1>Express</h1>\n",
       "    <p>Welcome to Express</p>\n",
       "  </body>\n",
       "</html>\n"
      ],
      "text/plain": [
       "<IPython.core.display.HTML object>"
      ]
     },
     "metadata": {},
     "output_type": "display_data"
    }
   ],
   "source": [
    "import requests\n",
    "import time\n",
    "from IPython.core.display import display, HTML\n",
    "\n",
    "time.sleep(5)\n",
    "resp = requests.get('http://localhost:3000')\n",
    "display(HTML(resp.text))"
   ]
  },
  {
   "cell_type": "markdown",
   "metadata": {},
   "source": [
    "#### Stop the ExpressJS app\n",
    "Use `fuser` to find the process that uses port 3000 and kill it."
   ]
  },
  {
   "cell_type": "code",
   "execution_count": 50,
   "metadata": {
    "collapsed": false
   },
   "outputs": [
    {
     "data": {
      "text/plain": [
       "95013"
      ]
     },
     "execution_count": 50,
     "metadata": {},
     "output_type": "execute_result"
    }
   ],
   "source": [
    "process=!lsof -i:3000 -t\n",
    "expressid = int(process[0])\n",
    "expressid"
   ]
  },
  {
   "cell_type": "code",
   "execution_count": 51,
   "metadata": {
    "collapsed": false
   },
   "outputs": [],
   "source": [
    "!kill -9 $expressid"
   ]
  },
  {
   "cell_type": "markdown",
   "metadata": {},
   "source": [
    "#### Check if the server is down"
   ]
  },
  {
   "cell_type": "code",
   "execution_count": 52,
   "metadata": {
    "collapsed": false
   },
   "outputs": [
    {
     "name": "stderr",
     "output_type": "stream",
     "text": [
      "2018-01-15 01:11:04 [urllib3.connectionpool] DEBUG: Starting new HTTP connection (1): localhost\n"
     ]
    },
    {
     "name": "stdout",
     "output_type": "stream",
     "text": [
      "Server is down!\n"
     ]
    }
   ],
   "source": [
    "try:\n",
    "    resp = requests.get('http://localhost:3000')\n",
    "except:\n",
    "    print(\"Server is down!\")"
   ]
  },
  {
   "cell_type": "markdown",
   "metadata": {},
   "source": [
    "<img class=\"logo\" src=\"logos/mongoose.PNG\" />\n",
    "## Connection from ExpressJS to MongoDB \n",
    "[Mongoose](http://mongoosejs.com/) will be used to connect the Node application to the database."
   ]
  },
  {
   "cell_type": "markdown",
   "metadata": {},
   "source": [
    "#### Install package"
   ]
  },
  {
   "cell_type": "code",
   "execution_count": 53,
   "metadata": {
    "collapsed": false
   },
   "outputs": [
    {
     "name": "stdout",
     "output_type": "stream",
     "text": [
      "\u001b[K\u001b[?25h+ mongoose@4.13.9m░░░░░░\u001b[0m⸩ ⠧ postinstall: \u001b[32minfo\u001b[0m \u001b[35mlifecycle\u001b[0m mongoose@4.13.9~postinstall:\u001b[0m\u001b[K\u001b[K\n",
      "added 28 packages in 6.84s\n"
     ]
    }
   ],
   "source": [
    "!cd server && npm install --save mongoose"
   ]
  },
  {
   "cell_type": "markdown",
   "metadata": {},
   "source": [
    "#### Check installation"
   ]
  },
  {
   "cell_type": "code",
   "execution_count": 54,
   "metadata": {
    "collapsed": false
   },
   "outputs": [
    {
     "name": "stdout",
     "output_type": "stream",
     "text": [
      "    \"mongoose\": \"^4.13.9\",\r\n"
     ]
    }
   ],
   "source": [
    "!cat server/package.json | grep mongoose"
   ]
  },
  {
   "cell_type": "markdown",
   "metadata": {},
   "source": [
    "#### Add the Mongoose connection\n",
    "Add the following to the top of `server/app.js`.\n",
    "\n",
    "```javascript\n",
    "var mongoose = require('mongoose');\n",
    "mongoose.connect('mongodb://localhost:27017/nintendo');\n",
    "var db = mongoose.connection;\n",
    "db.on(\"error\", console.error.bind(console, \"Connection error\"));\n",
    "db.once(\"open\", function(callback){\n",
    "  console.log(\"Connection successful\")\n",
    "});\n",
    "```"
   ]
  },
  {
   "cell_type": "code",
   "execution_count": 55,
   "metadata": {
    "collapsed": false
   },
   "outputs": [
    {
     "name": "stdout",
     "output_type": "stream",
     "text": [
      "Overwriting server/app.js\n"
     ]
    }
   ],
   "source": [
    "%%file server/app.js\n",
    "var express = require('express');\n",
    "var path = require('path');\n",
    "var favicon = require('serve-favicon');\n",
    "var logger = require('morgan');\n",
    "var cookieParser = require('cookie-parser');\n",
    "var bodyParser = require('body-parser');\n",
    "// Mongoose connection\n",
    "var mongoose = require('mongoose');\n",
    "mongoose.connect('mongodb://localhost:27017/nintendo');\n",
    "var db = mongoose.connection;\n",
    "db.on(\"error\", console.error.bind(console, \"Connection error\"));\n",
    "db.once(\"open\", function(callback){\n",
    "  console.log(\"Connection successful\")\n",
    "});\n",
    "\n",
    "var index = require('./routes/index');\n",
    "var users = require('./routes/users');\n",
    "\n",
    "var app = express();\n",
    "\n",
    "// view engine setup\n",
    "app.set('views', path.join(__dirname, 'views'));\n",
    "app.set('view engine', 'ejs');\n",
    "\n",
    "// uncomment after placing your favicon in /public\n",
    "//app.use(favicon(path.join(__dirname, 'public', 'favicon.ico')));\n",
    "app.use(logger('dev'));\n",
    "app.use(bodyParser.json());\n",
    "app.use(bodyParser.urlencoded({ extended: false }));\n",
    "app.use(cookieParser());\n",
    "app.use(express.static(path.join(__dirname, 'public')));\n",
    "\n",
    "app.use('/', index);\n",
    "app.use('/users', users);\n",
    "\n",
    "// catch 404 and forward to error handler\n",
    "app.use(function(req, res, next) {\n",
    "  var err = new Error('Not Found');\n",
    "  err.status = 404;\n",
    "  next(err);\n",
    "});\n",
    "\n",
    "// error handler\n",
    "app.use(function(err, req, res, next) {\n",
    "  // set locals, only providing error in development\n",
    "  res.locals.message = err.message;\n",
    "  res.locals.error = req.app.get('env') === 'development' ? err : {};\n",
    "\n",
    "  // render the error page\n",
    "  res.status(err.status || 500);\n",
    "  res.render('error');\n",
    "});\n",
    "\n",
    "module.exports = app;"
   ]
  },
  {
   "cell_type": "code",
   "execution_count": 56,
   "metadata": {
    "collapsed": false
   },
   "outputs": [
    {
     "name": "stdout",
     "output_type": "stream",
     "text": [
      "var express = require('express');\r\n",
      "var path = require('path');\r\n",
      "var favicon = require('serve-favicon');\r\n",
      "var logger = require('morgan');\r\n",
      "var cookieParser = require('cookie-parser');\r\n",
      "var bodyParser = require('body-parser');\r\n",
      "// Mongoose connection\r\n",
      "var mongoose = require('mongoose');\r\n",
      "mongoose.connect('mongodb://localhost:27017/nintendo');\r\n",
      "var db = mongoose.connection;\r\n",
      "db.on(\"error\", console.error.bind(console, \"Connection error\"));\r\n",
      "db.once(\"open\", function(callback){\r\n",
      "  console.log(\"Connection successful\")\r\n",
      "});\r\n",
      "\r\n",
      "var index = require('./routes/index');\r\n",
      "var users = require('./routes/users');\r\n",
      "\r\n",
      "var app = express();\r\n",
      "\r\n"
     ]
    }
   ],
   "source": [
    "!head -n 20 server/app.js"
   ]
  },
  {
   "cell_type": "markdown",
   "metadata": {},
   "source": [
    "#### Check if MongoDB initializes"
   ]
  },
  {
   "cell_type": "code",
   "execution_count": 57,
   "metadata": {
    "collapsed": true
   },
   "outputs": [],
   "source": [
    "import subprocess\n",
    "proc = subprocess.Popen(\"cd server && npm start &\", shell=True, stdout=subprocess.PIPE)"
   ]
  },
  {
   "cell_type": "code",
   "execution_count": 58,
   "metadata": {
    "collapsed": false
   },
   "outputs": [
    {
     "name": "stdout",
     "output_type": "stream",
     "text": [
      "b'\\n'\n",
      "b'> server@0.0.0 start /Users/jitsejan/code/pelican-blog/content/notebooks/server\\n'\n",
      "b'> node ./bin/www\\n'\n",
      "b'\\n'\n",
      "b'Connection successful\\n'\n",
      "Success!\n"
     ]
    }
   ],
   "source": [
    "import time\n",
    "\n",
    "time.sleep(5)\n",
    "for line in proc.stdout:\n",
    "    print(str(line))\n",
    "    if 'Connection successful' in str(line):\n",
    "        print(\"Success!\")\n",
    "        break"
   ]
  },
  {
   "cell_type": "code",
   "execution_count": 60,
   "metadata": {
    "collapsed": false
   },
   "outputs": [],
   "source": [
    "process=!lsof -i:3000 -t\n",
    "expressid = int(process[0])\n",
    "!kill -9 $expressid"
   ]
  },
  {
   "cell_type": "markdown",
   "metadata": {},
   "source": [
    "### Create new model\n",
    "Create the Mongoose model for the games that we gathered in the earlier step."
   ]
  },
  {
   "cell_type": "code",
   "execution_count": 61,
   "metadata": {
    "collapsed": true
   },
   "outputs": [],
   "source": [
    "!mkdir server/models"
   ]
  },
  {
   "cell_type": "code",
   "execution_count": 62,
   "metadata": {
    "collapsed": false
   },
   "outputs": [
    {
     "name": "stdout",
     "output_type": "stream",
     "text": [
      "Writing server/models/game.js\n"
     ]
    }
   ],
   "source": [
    "%%file server/models/game.js\n",
    "var mongoose = require(\"mongoose\");\n",
    "var Schema = mongoose.Schema;\n",
    "\n",
    "var GameSchema = new Schema({\n",
    "  console: {\n",
    "    type: String\n",
    "  },\n",
    "  name: {\n",
    "    type: String\n",
    "  },\n",
    "  image: {\n",
    "    type: String\n",
    "  },\n",
    "  sales: {\n",
    "    type: String\n",
    "  }\n",
    "});\n",
    "\n",
    "module.exports = mongoose.model(\"Game\", GameSchema);"
   ]
  },
  {
   "cell_type": "markdown",
   "metadata": {},
   "source": [
    "### Adding new route\n",
    "Create the route to access the data of the games. In the scaffold we already have the `index.js` and `users.js`, so lets create the `games.js` to setup the routes for the new pages."
   ]
  },
  {
   "cell_type": "markdown",
   "metadata": {},
   "source": [
    "#### Existing routes"
   ]
  },
  {
   "cell_type": "code",
   "execution_count": 63,
   "metadata": {
    "collapsed": false
   },
   "outputs": [
    {
     "name": "stdout",
     "output_type": "stream",
     "text": [
      "var express = require('express');\r\n",
      "var router = express.Router();\r\n",
      "\r\n",
      "/* GET home page. */\r\n",
      "router.get('/', function(req, res, next) {\r\n",
      "  res.render('index', { title: 'Express' });\r\n",
      "});\r\n",
      "\r\n",
      "module.exports = router;\r\n"
     ]
    }
   ],
   "source": [
    "!cat server/routes/index.js"
   ]
  },
  {
   "cell_type": "code",
   "execution_count": 64,
   "metadata": {
    "collapsed": false
   },
   "outputs": [
    {
     "name": "stdout",
     "output_type": "stream",
     "text": [
      "var express = require('express');\r\n",
      "var router = express.Router();\r\n",
      "\r\n",
      "/* GET users listing. */\r\n",
      "router.get('/', function(req, res, next) {\r\n",
      "  res.send('respond with a resource');\r\n",
      "});\r\n",
      "\r\n",
      "module.exports = router;\r\n"
     ]
    }
   ],
   "source": [
    "!cat server/routes/users.js"
   ]
  },
  {
   "cell_type": "markdown",
   "metadata": {},
   "source": [
    "#### Add the route requirement\n",
    "Add the following to `server/app.js`:\n",
    "\n",
    "```javascript\n",
    "...\n",
    "var consoles = require('./routes/games.js');\n",
    "...\n",
    "app.use('/games', games);\n",
    "...\n",
    "```\n",
    "\n",
    "With `sed` we can insert text on a certain position in a file."
   ]
  },
  {
   "cell_type": "code",
   "execution_count": 80,
   "metadata": {
    "collapsed": false
   },
   "outputs": [
    {
     "name": "stdout",
     "output_type": "stream",
     "text": [
      "sed: 1: \"server/app.js\": unterminated substitute in regular expression\r\n"
     ]
    }
   ],
   "source": [
    "!sed -i \"18i var games = require('./routes/games');\" server/app.js"
   ]
  },
  {
   "cell_type": "markdown",
   "metadata": {},
   "source": [
    "Enable the routes in the app:"
   ]
  },
  {
   "cell_type": "code",
   "execution_count": 67,
   "metadata": {
    "collapsed": false
   },
   "outputs": [
    {
     "name": "stdout",
     "output_type": "stream",
     "text": [
      "sed: 1: \"server/app.js\": unterminated substitute in regular expression\r\n"
     ]
    }
   ],
   "source": [
    "!sed -i \"36i app.use('/games', games);\" server/app.js"
   ]
  },
  {
   "cell_type": "markdown",
   "metadata": {},
   "source": [
    "and create the route file `server/routes/games.js`:"
   ]
  },
  {
   "cell_type": "code",
   "execution_count": null,
   "metadata": {
    "collapsed": false
   },
   "outputs": [],
   "source": [
    "%%file server/routes/games.js\n",
    "var express = require('express');\n",
    "var router = express.Router();\n",
    "var Game = require(\"../models/game\");\n",
    "\n",
    "router.get('/', (req, res) => {\n",
    "  Game.find({}, '', function (error, games){\n",
    "    if (error) { game.error(error); }\n",
    "    res.send({\n",
    "      games: games\n",
    "    })\n",
    "  }).sort({_id:-1})\n",
    "})\n",
    "\n",
    "module.exports = router;"
   ]
  },
  {
   "cell_type": "markdown",
   "metadata": {},
   "source": [
    "Start the server and verify the new route which should return a JSON object."
   ]
  },
  {
   "cell_type": "code",
   "execution_count": null,
   "metadata": {
    "collapsed": false,
    "scrolled": false
   },
   "outputs": [],
   "source": [
    "import json\n",
    "import requests\n",
    "import time\n",
    "proc = subprocess.Popen(\"cd server && npm start &\", shell=True, stdout=subprocess.PIPE)\n",
    "time.sleep(5)\n",
    "resp = requests.get('http://localhost:3000/games').json()\n",
    "print(json.dumps(resp, indent=4))"
   ]
  },
  {
   "cell_type": "markdown",
   "metadata": {},
   "source": [
    "Lets grab the ID of the first game of the data to verify the route in the next step."
   ]
  },
  {
   "cell_type": "code",
   "execution_count": null,
   "metadata": {
    "collapsed": false
   },
   "outputs": [],
   "source": [
    "game_id = resp['games'][0]['_id']\n",
    "game_id"
   ]
  },
  {
   "cell_type": "markdown",
   "metadata": {},
   "source": [
    "Kill the application again."
   ]
  },
  {
   "cell_type": "code",
   "execution_count": null,
   "metadata": {
    "collapsed": true
   },
   "outputs": [],
   "source": [
    "process=!fuser 3000/tcp | awk '{print $1}'\n",
    "expressid = int(process[1])\n",
    "!kill -9 $expressid"
   ]
  },
  {
   "cell_type": "markdown",
   "metadata": {},
   "source": [
    "Add another route to the `games.js` to get information for a single game.\n",
    "\n",
    "```javascript\n",
    "router.get('/:id', (req, res) => {\n",
    "  var db = req.db;\n",
    "  Game.findById(req.params.id, '', function (error, game) {\n",
    "    if (error) { console.error(error); }\n",
    "    res.send(game)\n",
    "  })\n",
    "})\n",
    "```\n"
   ]
  },
  {
   "cell_type": "code",
   "execution_count": null,
   "metadata": {
    "collapsed": false
   },
   "outputs": [],
   "source": [
    "%%file server/routes/games.js\n",
    "var express = require('express');\n",
    "var router = express.Router();\n",
    "var Game = require(\"../models/game\");\n",
    "\n",
    "router.get('/', (req, res) => {\n",
    "  Game.find({}, '', function (error, games){\n",
    "    if (error) { game.error(error); }\n",
    "    res.send({\n",
    "      games: games\n",
    "    })\n",
    "  }).sort({_id:-1})\n",
    "})\n",
    "router.get('/:id', (req, res) => {\n",
    "  var db = req.db;\n",
    "  Game.findById(req.params.id, '', function (error, game) {\n",
    "    if (error) { console.error(error); }\n",
    "    res.send(game)\n",
    "  })\n",
    "})\n",
    "\n",
    "module.exports = router;"
   ]
  },
  {
   "cell_type": "markdown",
   "metadata": {},
   "source": [
    "#### Verify the game detail route\n",
    "As a final step to verify the API we check if we can get the detailed information for the game ID we saved in the previous step."
   ]
  },
  {
   "cell_type": "code",
   "execution_count": null,
   "metadata": {
    "collapsed": false
   },
   "outputs": [],
   "source": [
    "import time\n",
    "proc = subprocess.Popen(\"cd server && npm start &\", shell=True, stdout=subprocess.PIPE)\n",
    "time.sleep(5)\n",
    "resp = requests.get('http://localhost:3000/games/'+game_id).json()\n",
    "print(json.dumps(resp, indent=4))"
   ]
  },
  {
   "cell_type": "code",
   "execution_count": null,
   "metadata": {
    "collapsed": true
   },
   "outputs": [],
   "source": [
    "process=!fuser 3000/tcp | awk '{print $1}'\n",
    "expressid = int(process[1])\n",
    "!kill -9 $expressid"
   ]
  },
  {
   "cell_type": "markdown",
   "metadata": {},
   "source": [
    "### Conclusion\n",
    "For the back-end we have created an API using Mongoose and ExpressJS with the following two routes:\n",
    "* All games\n",
    "* Game detail\n",
    "<hr/>"
   ]
  },
  {
   "cell_type": "markdown",
   "metadata": {},
   "source": [
    "<img src=\"logos/vuejs.PNG\" class=\"logo\" />\n",
    "## Front-end\n",
    "The next step is to create the front-end that can talk to the back-end and visualize the information. As a Javascript framework we are going to use VueJS. We will install the Vue [CLI](https://github.com/vuejs/vue-cli).\n",
    "\n",
    "#### Create the client folder and install Vue"
   ]
  },
  {
   "cell_type": "code",
   "execution_count": null,
   "metadata": {
    "collapsed": true
   },
   "outputs": [],
   "source": [
    "!rm -rf client"
   ]
  },
  {
   "cell_type": "code",
   "execution_count": null,
   "metadata": {
    "collapsed": false
   },
   "outputs": [],
   "source": [
    "!mkdir client && cd client && npm init -y && npm install vue-cli --save"
   ]
  },
  {
   "cell_type": "code",
   "execution_count": null,
   "metadata": {
    "collapsed": false
   },
   "outputs": [],
   "source": [
    "ls -la client"
   ]
  },
  {
   "cell_type": "markdown",
   "metadata": {},
   "source": [
    "#### Check version of Vue"
   ]
  },
  {
   "cell_type": "code",
   "execution_count": null,
   "metadata": {
    "collapsed": false
   },
   "outputs": [],
   "source": [
    "!cd client && npm vue --version"
   ]
  },
  {
   "cell_type": "markdown",
   "metadata": {},
   "source": [
    "### Create the scaffold\n",
    "To create the scaffold we will use the `vue-cli`. However, this requires us to give direct input to the command line which is tricky because we need to answer different questions when creating the scaffold using the tool. The easiest way to automate this task is to use the Linux tool [Expect](https://linux.die.net/man/1/expect). Make sure the tool is installed on your system. \n",
    "\n",
    "```bash\n",
    "$ sudo apt-get install expect -y\n",
    "```\n",
    "\n",
    "Note: if you do not want to use this trick, you can also use the external terminal and run\n",
    "\n",
    "```bash\n",
    "$ vue init webpack\n",
    "```\n",
    "\n",
    "in the client directory or simply clone the [repository](https://github.com/vuejs-templates/webpack) to your local file system.\n",
    "\n",
    "The following script contains the answers for the prompts created by the `vue init`. "
   ]
  },
  {
   "cell_type": "code",
   "execution_count": null,
   "metadata": {
    "collapsed": false
   },
   "outputs": [],
   "source": [
    "%%file client/init_expect_script.sh\n",
    "#!/usr/bin/expect -f\n",
    "spawn npx vue init webpack\n",
    "\n",
    "expect \"Generate project in current directory?\" { send \"Y\\r\" }\n",
    "expect \"Project name\"\n",
    "send \"vueclient\\r\"\n",
    "expect \"Project description\"\n",
    "send \"An experiment with Jupyter and MEVN\\r\"\n",
    "expect \"Author\"\n",
    "send \"Jupyter\\r\\n\"\n",
    "expect \"Vue build\"\n",
    "send \"\\r\\n\"\n",
    "expect \"Install vue-router?\"\n",
    "send \"Y\\r\"\n",
    "expect \"Use ESLint to lint your code?\"\n",
    "send \"Y\\r\"\n",
    "expect \"Pick an ESLint preset\"\n",
    "send \"\\r\\n\"\n",
    "expect \"Set up unit tests\"\n",
    "send \"Y\\r\"\n",
    "expect \"Pick a test runner\"\n",
    "send \"\\r\\n\"\n",
    "expect \"Setup e2e tests with Nightwatch?\"\n",
    "send \"Y\\r\"\n",
    "expect \"Should we run `npm install` for you after the project has been created? (recommended)\"\n",
    "send \"\\r\\n\"\n",
    "interact"
   ]
  },
  {
   "cell_type": "code",
   "execution_count": null,
   "metadata": {
    "collapsed": true
   },
   "outputs": [],
   "source": [
    "!chmod 755 client/init_expect_script.sh"
   ]
  },
  {
   "cell_type": "code",
   "execution_count": null,
   "metadata": {
    "collapsed": false,
    "scrolled": false
   },
   "outputs": [],
   "source": [
    "!cd client && ./init_expect_script.sh"
   ]
  },
  {
   "cell_type": "code",
   "execution_count": null,
   "metadata": {
    "collapsed": false
   },
   "outputs": [],
   "source": [
    "ls client"
   ]
  },
  {
   "cell_type": "markdown",
   "metadata": {},
   "source": [
    "#### Temporary fix\n",
    "There seems to be an [issue](https://github.com/webpack/webpack-dev-server/issues/1259) with webpack which disables Node to start the application. For now the version of `webpack-dev-server` 2.9.7 seems to not throw any errors."
   ]
  },
  {
   "cell_type": "code",
   "execution_count": null,
   "metadata": {
    "collapsed": false
   },
   "outputs": [],
   "source": [
    "!cd client && npm install webpack-dev-server@2.9.7 --save-dev"
   ]
  },
  {
   "cell_type": "code",
   "execution_count": null,
   "metadata": {
    "collapsed": true
   },
   "outputs": [],
   "source": [
    "import time\n",
    "proc = subprocess.Popen(\"cd client && npm run dev &\", shell=True, stdout=subprocess.PIPE)\n",
    "time.sleep(10)"
   ]
  },
  {
   "cell_type": "markdown",
   "metadata": {},
   "source": [
    "### Check the default page\n",
    "The default page of Vue should be available on port 8080. Lets use [Selenium](http://www.seleniumhq.org/) to visit the webpage and make a screenshot."
   ]
  },
  {
   "cell_type": "markdown",
   "metadata": {},
   "source": [
    "#### Setup Selenium\n",
    "First create a Docker instance that runs Selenium to avoid the cumbersome installation on the local Linux machine."
   ]
  },
  {
   "cell_type": "code",
   "execution_count": null,
   "metadata": {
    "collapsed": true
   },
   "outputs": [],
   "source": [
    "selenium_running = False\n",
    "for cntr in docker_client.containers.list():\n",
    "    if 'selenium' in cntr.attrs['Config']['Image']:\n",
    "        selenium_running = True\n",
    "        container = cntr\n",
    "if selenium_running is False:\n",
    "    container = docker_client.containers.run(\"selenium/standalone-chrome:latest\", name='selenium', ports={'4444': '4444'}, detach=True)"
   ]
  },
  {
   "cell_type": "code",
   "execution_count": null,
   "metadata": {
    "collapsed": true
   },
   "outputs": [],
   "source": [
    "time.sleep(10)"
   ]
  },
  {
   "cell_type": "code",
   "execution_count": null,
   "metadata": {
    "collapsed": false
   },
   "outputs": [],
   "source": [
    "from selenium import webdriver\n",
    "from selenium.webdriver.common.desired_capabilities import DesiredCapabilities\n",
    "\n",
    "driver = webdriver.Remote(\"http://localhost:4444/wd/hub\", DesiredCapabilities.CHROME)\n",
    "driver.get('http://dev.jitsejan.com:8080')\n",
    "driver.save_screenshot('homepage.png')"
   ]
  },
  {
   "cell_type": "markdown",
   "metadata": {},
   "source": [
    "<img src=\"homepage.png\" class=\"screenshot\" />"
   ]
  },
  {
   "cell_type": "markdown",
   "metadata": {},
   "source": [
    "Kill the process on port 8080 after verifying the front page."
   ]
  },
  {
   "cell_type": "code",
   "execution_count": null,
   "metadata": {
    "collapsed": true
   },
   "outputs": [],
   "source": [
    "process=!fuser 8080/tcp | awk '{print $1}'\n",
    "vueid = int(process[1])\n",
    "!kill -9 $vueid"
   ]
  },
  {
   "cell_type": "markdown",
   "metadata": {},
   "source": [
    "As we can see from the screenshot, we cannot access the page because `webpack` has changed some configuration. In order to circument this we need to add the host to the script in `package.json` and change\n",
    "\n",
    "```javascript\n",
    "    \"dev\": \"webpack-dev-server --inline --progress --config build/webpack.dev.conf.js\",\n",
    "```\n",
    "\n",
    "to\n",
    "\n",
    "```javascript\n",
    "    \"dev\": \"webpack-dev-server --inline --progress --config build/webpack.dev.conf.js --host 0.0.0.0\",\n",
    "```\n",
    "\n",
    "which can be done with `sed`:"
   ]
  },
  {
   "cell_type": "code",
   "execution_count": null,
   "metadata": {
    "collapsed": true
   },
   "outputs": [],
   "source": [
    "!sed -i '/dev.*--inline/s/conf.js/conf.js --host 0.0.0.0/' client/package.json"
   ]
  },
  {
   "cell_type": "code",
   "execution_count": null,
   "metadata": {
    "collapsed": false
   },
   "outputs": [],
   "source": [
    "cat client/package.json | grep dev"
   ]
  },
  {
   "cell_type": "markdown",
   "metadata": {},
   "source": [
    "Additionally we need to disable the host check in `build/webpack.dev.conf.js` by adding \n",
    "\n",
    "```javascript\n",
    "disableHostCheck: true\n",
    "```\n",
    "\n",
    "to the `devServer`."
   ]
  },
  {
   "cell_type": "code",
   "execution_count": null,
   "metadata": {
    "collapsed": true
   },
   "outputs": [],
   "source": [
    "!sed -i \"26i\\ \\ \\ \\ disableHostCheck: true,\" client/build/webpack.dev.conf.js"
   ]
  },
  {
   "cell_type": "code",
   "execution_count": null,
   "metadata": {
    "collapsed": false
   },
   "outputs": [],
   "source": [
    "!grep -C3 disableHostCheck client/build/webpack.dev.conf.js --color=auto"
   ]
  },
  {
   "cell_type": "markdown",
   "metadata": {},
   "source": [
    "#### Retry"
   ]
  },
  {
   "cell_type": "code",
   "execution_count": null,
   "metadata": {
    "collapsed": true
   },
   "outputs": [],
   "source": [
    "proc = subprocess.Popen(\"cd client && npm run dev &\", shell=True, stdout=subprocess.PIPE)\n",
    "time.sleep(10)"
   ]
  },
  {
   "cell_type": "code",
   "execution_count": null,
   "metadata": {
    "collapsed": false
   },
   "outputs": [],
   "source": [
    "driver = webdriver.Remote(\"http://localhost:4444/wd/hub\", DesiredCapabilities.CHROME)\n",
    "driver.get('http://dev.jitsejan.com:8080')\n",
    "driver.get_screenshot_as_file('homepage_success.png')"
   ]
  },
  {
   "cell_type": "markdown",
   "metadata": {},
   "source": [
    "<img src='homepage_success.png' class=\"screenshot\" />"
   ]
  },
  {
   "cell_type": "code",
   "execution_count": null,
   "metadata": {
    "collapsed": true
   },
   "outputs": [],
   "source": [
    "process=!fuser 8080/tcp | awk '{print $1}'\n",
    "vueid = int(process[1])\n",
    "!kill -9 $vueid"
   ]
  },
  {
   "cell_type": "markdown",
   "metadata": {},
   "source": [
    "## Create games page"
   ]
  },
  {
   "cell_type": "code",
   "execution_count": null,
   "metadata": {
    "collapsed": false
   },
   "outputs": [],
   "source": [
    "ls client/src/components/"
   ]
  },
  {
   "cell_type": "markdown",
   "metadata": {},
   "source": [
    "### Create the component"
   ]
  },
  {
   "cell_type": "code",
   "execution_count": null,
   "metadata": {
    "collapsed": false
   },
   "outputs": [],
   "source": [
    "%%file client/src/components/Games.vue\n",
    "<template>\n",
    "  <div class=\"games\">\n",
    "    This page will list all the games.\n",
    "  </div>\n",
    "</template>\n",
    "\n",
    "<script>\n",
    "export default {\n",
    "  name: 'Games',\n",
    "  data () {\n",
    "    return {}\n",
    "  }\n",
    "}\n",
    "</script>"
   ]
  },
  {
   "cell_type": "code",
   "execution_count": null,
   "metadata": {
    "collapsed": false
   },
   "outputs": [],
   "source": [
    "ls client/src/components/"
   ]
  },
  {
   "cell_type": "markdown",
   "metadata": {},
   "source": [
    "### Create the route"
   ]
  },
  {
   "cell_type": "code",
   "execution_count": null,
   "metadata": {
    "collapsed": false
   },
   "outputs": [],
   "source": [
    "cat client/src/router/index.js"
   ]
  },
  {
   "cell_type": "markdown",
   "metadata": {},
   "source": [
    "Add the import of the Games component to the router file.\n",
    "\n",
    "```javascript\n",
    "import Games from '@/components/Games'\n",
    "```"
   ]
  },
  {
   "cell_type": "markdown",
   "metadata": {},
   "source": [
    "and add the path to the games page indicating to which component the page will link.\n",
    "\n",
    "```javascript\n",
    "...\n",
    "    {\n",
    "      path: '/games',\n",
    "      name: 'Games',\n",
    "      component: Games\n",
    "    }\n",
    "...\n",
    "```"
   ]
  },
  {
   "cell_type": "code",
   "execution_count": null,
   "metadata": {
    "collapsed": false
   },
   "outputs": [],
   "source": [
    "%%file client/src/router/index.js\n",
    "import Vue from 'vue'\n",
    "import Router from 'vue-router'\n",
    "import HelloWorld from '@/components/HelloWorld'\n",
    "import Games from '@/components/Games'\n",
    "\n",
    "Vue.use(Router)\n",
    "\n",
    "export default new Router({\n",
    "  routes: [\n",
    "    {\n",
    "      path: '/',\n",
    "      name: 'HelloWorld',\n",
    "      component: HelloWorld\n",
    "    },\n",
    "    {\n",
    "      path: '/games',\n",
    "      name: 'Games',\n",
    "      component: Games\n",
    "    }\n",
    "  ]\n",
    "})\n",
    "\n"
   ]
  },
  {
   "cell_type": "markdown",
   "metadata": {},
   "source": [
    "#### Verify the new route"
   ]
  },
  {
   "cell_type": "code",
   "execution_count": null,
   "metadata": {
    "collapsed": false
   },
   "outputs": [],
   "source": [
    "proc = subprocess.Popen(\"cd client && npm run dev &\", shell=True, stdout=subprocess.PIPE)\n",
    "time.sleep(10)\n",
    "\n",
    "driver = webdriver.Remote(\"http://localhost:4444/wd/hub\", DesiredCapabilities.CHROME)\n",
    "driver.get('http://dev.jitsejan.com:8080/ui/#/games')\n",
    "driver.get_screenshot_as_file('new_route.png')\n",
    "\n",
    "process=!fuser 8080/tcp | awk '{print $1}'\n",
    "vueid = int(process[1])\n",
    "!kill -9 $vueid"
   ]
  },
  {
   "cell_type": "markdown",
   "metadata": {},
   "source": [
    "<img src=\"new_route.png\" class=\"screenshot\" />"
   ]
  },
  {
   "cell_type": "markdown",
   "metadata": {},
   "source": [
    "### Connect to back-end\n",
    "We have the route complete, time to connect to the data from the database. For this we will use [axios](https://github.com/axios/axios).\n",
    "#### Install axios"
   ]
  },
  {
   "cell_type": "code",
   "execution_count": null,
   "metadata": {
    "collapsed": false
   },
   "outputs": [],
   "source": [
    "!cd client && npm install --save axios"
   ]
  },
  {
   "cell_type": "markdown",
   "metadata": {},
   "source": [
    "#### Setup connection with back-end\n",
    "Create a `services` folder that will contain the API Javascript files."
   ]
  },
  {
   "cell_type": "code",
   "execution_count": null,
   "metadata": {
    "collapsed": true
   },
   "outputs": [],
   "source": [
    "mkdir -p client/src/services"
   ]
  },
  {
   "cell_type": "code",
   "execution_count": null,
   "metadata": {
    "collapsed": false
   },
   "outputs": [],
   "source": [
    "%%file client/src/services/api.js\n",
    "import axios from 'axios'\n",
    "\n",
    "export default() => {\n",
    "  return axios.create({\n",
    "    baseURL: `http://dev.jitsejan.com:3000`\n",
    "  })\n",
    "}\n",
    "\n"
   ]
  },
  {
   "cell_type": "markdown",
   "metadata": {},
   "source": [
    "#### Create service to retrieve the games"
   ]
  },
  {
   "cell_type": "code",
   "execution_count": null,
   "metadata": {
    "collapsed": false
   },
   "outputs": [],
   "source": [
    "%%file client/src/services/GamesService.js\n",
    "import api from '@/services/api'\n",
    "\n",
    "export default {\n",
    "  fetchGames () {\n",
    "    return api().get('games')\n",
    "  }\n",
    "}\n",
    "\n"
   ]
  },
  {
   "cell_type": "markdown",
   "metadata": {},
   "source": [
    "#### Add the service to the Games component\n",
    "This component shows all the games available in the database. Note that this is the file that should be updated if you would like a more fancy layout, for example by adding [Bootstrap](https://getbootstrap.com/) or other frameworks."
   ]
  },
  {
   "cell_type": "code",
   "execution_count": null,
   "metadata": {
    "collapsed": false
   },
   "outputs": [],
   "source": [
    "%%file client/src/components/Games.vue\n",
    "<template>\n",
    "  <div class=\"games\">\n",
    "    <div class=\"games-div\" v-for=\"game in games\" :key=\"game._id\">\n",
    "      <p>\n",
    "        <span><b>{{ game.name }}</b></span><br />\n",
    "        <span>{{ game.console }}</span><br />\n",
    "        <span>{{ game.sales }}</span>\n",
    "        <a :href=\"'/ui/#/games/' + game._id\">Details</a>\n",
    "      </p>\n",
    "    </div>\n",
    "  </div>\n",
    "</template>\n",
    "\n",
    "<script>\n",
    "import GamesService from '@/services/GamesService'\n",
    "\n",
    "export default {\n",
    "  name: 'Games',\n",
    "  data () {\n",
    "    return {\n",
    "      games: []\n",
    "    }\n",
    "  },\n",
    "  mounted () {\n",
    "    this.getGames()\n",
    "  },\n",
    "  methods: {\n",
    "    async getGames () {\n",
    "      const response = await GamesService.fetchGames()\n",
    "      this.games = response.data.games\n",
    "    }\n",
    "  }\n",
    "}\n",
    "</script>\n",
    "\n"
   ]
  },
  {
   "cell_type": "markdown",
   "metadata": {},
   "source": [
    "Start both the Express back-end and the Vue front-end to verify if the data from the API is retrieved with the updated component.\n",
    "\n",
    "Small trick: by setting the logging preferences when starting the webdriver with Selenium, we can actually retrieve the logs you would normally see with the developer tools in the browser."
   ]
  },
  {
   "cell_type": "code",
   "execution_count": null,
   "metadata": {
    "collapsed": false
   },
   "outputs": [],
   "source": [
    "vueproc = subprocess.Popen(\"cd client && npm run dev &\", shell=True, stdout=subprocess.PIPE)\n",
    "expressproc = subprocess.Popen(\"cd server && npm start &\", shell=True, stdout=subprocess.PIPE)\n",
    "\n",
    "time.sleep(10)\n",
    "\n",
    "desired = DesiredCapabilities.CHROME\n",
    "desired ['loggingPrefs'] = { 'browser':'ALL' }\n",
    "        \n",
    "driver = webdriver.Remote(\"http://localhost:4444/wd/hub\", desired_capabilities=desired)\n",
    "driver.get('http://dev.jitsejan.com:8080/ui/#/games')\n",
    "driver.get_screenshot_as_file('new_route_with_data.png')\n",
    "\n",
    "vueprocess=!fuser 8080/tcp | awk '{print $1}'\n",
    "vueid = int(vueprocess[1])\n",
    "!kill -9 $vueid\n",
    "\n",
    "expressprocess=!fuser 3000/tcp | awk '{print $1}'\n",
    "expressid = int(expressprocess[1])\n",
    "!kill -9 $expressid"
   ]
  },
  {
   "cell_type": "code",
   "execution_count": null,
   "metadata": {
    "collapsed": false
   },
   "outputs": [],
   "source": [
    "logs = driver.get_log('browser')\n",
    "logs"
   ]
  },
  {
   "cell_type": "markdown",
   "metadata": {},
   "source": [
    "<img src=\"new_route_with_data.png\" class=\"screenshot\" />"
   ]
  },
  {
   "cell_type": "markdown",
   "metadata": {},
   "source": [
    "As we can see in the logs, we have an issue accessing the back-end because of the Access-Control-Allow-Origin limitation. To circumvent this, we need to make sure that we are allowed to access the API; hece install the package [Cors](https://www.npmjs.com/package/cors) and enable it in the Express application."
   ]
  },
  {
   "cell_type": "code",
   "execution_count": null,
   "metadata": {
    "collapsed": false
   },
   "outputs": [],
   "source": [
    "!cd server && npm install --save cors"
   ]
  },
  {
   "cell_type": "markdown",
   "metadata": {},
   "source": [
    "Add the requirement for the cors package and enable it in the Express app by adding the following to `server/app.js`.\n",
    "\n",
    "```javascript\n",
    "...\n",
    "var cors = require('cors')\n",
    "...\n",
    "app.use(cors())\n",
    "...\n",
    "```"
   ]
  },
  {
   "cell_type": "code",
   "execution_count": null,
   "metadata": {
    "collapsed": false
   },
   "outputs": [],
   "source": [
    "%%file server/app.js\n",
    "var express = require('express');\n",
    "var path = require('path');\n",
    "var favicon = require('serve-favicon');\n",
    "var logger = require('morgan');\n",
    "var cookieParser = require('cookie-parser');\n",
    "var bodyParser = require('body-parser');\n",
    "// Mongoose connection\n",
    "var mongoose = require('mongoose');\n",
    "mongoose.connect('mongodb://localhost:27017/nintendo');\n",
    "var db = mongoose.connection;\n",
    "db.on(\"error\", console.error.bind(console, \"Connection error\"));\n",
    "db.once(\"openUri\", function(callback){\n",
    "  console.log(\"Connection successful\")\n",
    "});\n",
    "var cors = require(\"cors\")\n",
    "\n",
    "var index = require('./routes/index');\n",
    "var users = require('./routes/users');\n",
    "var games = require('./routes/games');\n",
    "\n",
    "var app = express();\n",
    "app.use(cors());\n",
    "\n",
    "// view engine setup\n",
    "app.set('views', path.join(__dirname, 'views'));\n",
    "app.set('view engine', 'ejs');\n",
    "\n",
    "// uncomment after placing your favicon in /public\n",
    "//app.use(favicon(path.join(__dirname, 'public', 'favicon.ico')));\n",
    "app.use(logger('dev'));\n",
    "app.use(bodyParser.json());\n",
    "app.use(bodyParser.urlencoded({ extended: false }));\n",
    "app.use(cookieParser());\n",
    "app.use(express.static(path.join(__dirname, 'public')));\n",
    "\n",
    "app.use('/', index);\n",
    "app.use('/users', users);\n",
    "app.use('/games', games);\n",
    "\n",
    "// catch 404 and forward to error handler\n",
    "app.use(function(req, res, next) {\n",
    "  var err = new Error('Not Found');\n",
    "  err.status = 404;\n",
    "  next(err);\n",
    "});\n",
    "\n",
    "// error handler\n",
    "app.use(function(err, req, res, next) {\n",
    "  // set locals, only providing error in development\n",
    "  res.locals.message = err.message;\n",
    "  res.locals.error = req.app.get('env') === 'development' ? err : {};\n",
    "\n",
    "  // render the error page\n",
    "  res.status(err.status || 500);\n",
    "  res.render('error');\n",
    "});\n",
    "\n",
    "module.exports = app;"
   ]
  },
  {
   "cell_type": "markdown",
   "metadata": {},
   "source": [
    "Now we are connected and allowed to retrieve the data. We use Selenium and wait for the `games-div` to appear."
   ]
  },
  {
   "cell_type": "code",
   "execution_count": null,
   "metadata": {
    "collapsed": false,
    "scrolled": false
   },
   "outputs": [],
   "source": [
    "from selenium.webdriver.support.ui import WebDriverWait\n",
    "from selenium.webdriver.support import expected_conditions as EC\n",
    "from selenium.webdriver.common.by import By\n",
    "\n",
    "vueproc = subprocess.Popen(\"cd client && npm run dev &\", shell=True, stdout=subprocess.PIPE)\n",
    "expressproc = subprocess.Popen(\"cd server && npm start &\", shell=True, stdout=subprocess.PIPE)\n",
    "\n",
    "time.sleep(10)\n",
    "\n",
    "desired = DesiredCapabilities.CHROME\n",
    "desired ['loggingPrefs'] = { 'browser':'ALL' }\n",
    "        \n",
    "driver = webdriver.Remote(\"http://localhost:4444/wd/hub\", desired_capabilities=desired)\n",
    "driver.get('http://dev.jitsejan.com:8080/ui/#/games')\n",
    "WebDriverWait(driver, 5).until(EC.presence_of_element_located((By.CLASS_NAME, 'games-div')))\n",
    "driver.refresh()\n",
    "driver.save_screenshot('allgames.png')"
   ]
  },
  {
   "cell_type": "markdown",
   "metadata": {},
   "source": [
    "<img src=\"allgames.png\" class=\"screenshot\"/>"
   ]
  },
  {
   "cell_type": "markdown",
   "metadata": {},
   "source": [
    "#### Clean up"
   ]
  },
  {
   "cell_type": "code",
   "execution_count": null,
   "metadata": {
    "collapsed": true
   },
   "outputs": [],
   "source": [
    "driver.quit()\n",
    "\n",
    "vueprocess=!fuser 8080/tcp | awk '{print $1}'\n",
    "vueid = int(vueprocess[1])\n",
    "!kill -9 $vueid\n",
    "\n",
    "expressprocess=!fuser 3000/tcp | awk '{print $1}'\n",
    "expressid = int(expressprocess[1])\n",
    "!kill -9 $expressid"
   ]
  },
  {
   "cell_type": "markdown",
   "metadata": {},
   "source": [
    "#### Create detail page for the game\n",
    "Create the component and connect to the API by importing the service and execute the promise. Retrieving the data for a game can also be solved by extending the `GamesServices.js` we created earlier by adding another fetch function, but since every problem can be solved in different ways, I chose to use the method as shown in the following file."
   ]
  },
  {
   "cell_type": "code",
   "execution_count": null,
   "metadata": {
    "collapsed": true
   },
   "outputs": [],
   "source": [
    "!cp -r images client/static"
   ]
  },
  {
   "cell_type": "code",
   "execution_count": null,
   "metadata": {
    "collapsed": false
   },
   "outputs": [],
   "source": [
    "!ls client/static/images/"
   ]
  },
  {
   "cell_type": "code",
   "execution_count": null,
   "metadata": {
    "collapsed": false
   },
   "outputs": [],
   "source": [
    "%%file client/src/components/GamesDetail.vue\n",
    "<template>\n",
    "  <div class=\"games-detail\">\n",
    "    <h1>Details for {{ data.name }}</h1>\n",
    "    <img :src=\"'/static/' + data.image\" /><br/>\n",
    "    Console: {{ data.console }}<br/>\n",
    "    Sales: {{ data.sales}} million<br/>\n",
    "  </div>\n",
    "</template>\n",
    "\n",
    "<script>\n",
    "import api from '@/services/api'\n",
    "\n",
    "export default {\n",
    "  name: 'GamesDetail',\n",
    "  data () {\n",
    "    return {\n",
    "      data: ''\n",
    "    }\n",
    "  },\n",
    "  created () {\n",
    "    api().get('games/' + this.$route.params.id)\n",
    "      .then(response => {\n",
    "        this.data = response.data\n",
    "      })\n",
    "      .catch(e => {\n",
    "        this.errors.push(e)\n",
    "      })\n",
    "  }\n",
    "}\n",
    "</script>\n",
    "\n"
   ]
  },
  {
   "cell_type": "markdown",
   "metadata": {},
   "source": [
    "Add the route for the detail page by adding the following to `client/src/router/index.js`:\n",
    "    \n",
    "```javascript\n",
    "...\n",
    "import GamesDetail from '@/components/GamesDetail'\n",
    "...\n",
    "    {\n",
    "      path: '/games/:id',\n",
    "      name: 'GamesDetail',\n",
    "      component: GamesDetail\n",
    "    }\n",
    "```"
   ]
  },
  {
   "cell_type": "code",
   "execution_count": null,
   "metadata": {
    "collapsed": false
   },
   "outputs": [],
   "source": [
    "%%file client/src/router/index.js\n",
    "import Vue from 'vue'\n",
    "import Router from 'vue-router'\n",
    "import HelloWorld from '@/components/HelloWorld'\n",
    "import Games from '@/components/Games'\n",
    "import GamesDetail from '@/components/GamesDetail'\n",
    "\n",
    "Vue.use(Router)\n",
    "\n",
    "export default new Router({\n",
    "  routes: [\n",
    "    {\n",
    "      path: '/',\n",
    "      name: 'HelloWorld',\n",
    "      component: HelloWorld\n",
    "    },\n",
    "    {\n",
    "      path: '/games',\n",
    "      name: 'Games',\n",
    "      component: Games\n",
    "    },\n",
    "    {\n",
    "      path: '/games/:id',\n",
    "      name: 'GamesDetail',\n",
    "      component: GamesDetail\n",
    "    }\n",
    "  ]\n",
    "})\n",
    "\n"
   ]
  },
  {
   "cell_type": "markdown",
   "metadata": {},
   "source": [
    "Start the processes"
   ]
  },
  {
   "cell_type": "code",
   "execution_count": null,
   "metadata": {
    "collapsed": true
   },
   "outputs": [],
   "source": [
    "vueproc = subprocess.Popen(\"cd client && npm run dev &\", shell=True, stdout=subprocess.PIPE)\n",
    "expressproc = subprocess.Popen(\"cd server && npm start &\", shell=True, stdout=subprocess.PIPE)\n",
    "time.sleep(10)"
   ]
  },
  {
   "cell_type": "markdown",
   "metadata": {},
   "source": [
    "Verify the detail page for a given id."
   ]
  },
  {
   "cell_type": "code",
   "execution_count": null,
   "metadata": {
    "collapsed": false
   },
   "outputs": [],
   "source": [
    "desired = DesiredCapabilities.CHROME\n",
    "desired ['loggingPrefs'] = { 'browser':'ALL' }\n",
    "        \n",
    "driver = webdriver.Remote(\"http://localhost:4444/wd/hub\", desired_capabilities=desired)\n",
    "driver.get('http://dev.jitsejan.com:8080/ui/#/games/5a5bd24b48f1a5314a089b80')\n",
    "driver.save_screenshot('gamedetail.png')"
   ]
  },
  {
   "cell_type": "markdown",
   "metadata": {},
   "source": [
    "<img class=\"screenshot\" src=\"gamedetail.png\"/>"
   ]
  },
  {
   "cell_type": "code",
   "execution_count": null,
   "metadata": {
    "collapsed": true
   },
   "outputs": [],
   "source": [
    "vueprocess=!fuser 8080/tcp | awk '{print $1}'\n",
    "vueid = int(vueprocess[1])\n",
    "!kill -9 $vueid\n",
    "\n",
    "expressprocess=!fuser 3000/tcp | awk '{print $1}'\n",
    "expressid = int(expressprocess[1])\n",
    "!kill -9 $expressid"
   ]
  },
  {
   "cell_type": "markdown",
   "metadata": {},
   "source": [
    "### Finalize\n",
    "To wrap this notebook up, lets update the generic `App.vue` to make it easier to navigate between the pages by adding a menu to `client/src/App.vue`."
   ]
  },
  {
   "cell_type": "code",
   "execution_count": null,
   "metadata": {
    "collapsed": false
   },
   "outputs": [],
   "source": [
    "%%file client/src/App.vue\n",
    "<template>\n",
    "  <div id=\"app\">\n",
    "    <router-link :to=\"{ name: 'HelloWorld' }\">Home</router-link>\n",
    "    <router-link :to=\"{ name: 'Games'}\">Games</router-link>\n",
    "    <router-view/>\n",
    "  </div>\n",
    "</template>\n",
    "\n",
    "<script>\n",
    "export default {\n",
    "  name: 'app'\n",
    "}\n",
    "</script>\n",
    "\n",
    "<style>\n",
    "#app {\n",
    "  font-family: 'Avenir', Helvetica, Arial, sans-serif;\n",
    "  -webkit-font-smoothing: antialiased;\n",
    "  -moz-osx-font-smoothing: grayscale;\n",
    "  text-align: center;\n",
    "  color: #2c3e50;\n",
    "  margin-top: 60px;\n",
    "}\n",
    "</style>\n",
    "\n"
   ]
  },
  {
   "cell_type": "markdown",
   "metadata": {},
   "source": [
    "## Future work\n",
    "In this example application I did not use any fancy styling or advanced HTML structures to make the website more appealing. Additionally, the API is only used to retrieve data, while obviously it could also used to create data, update it or delete it (CRUD), but for the scope of this notebook I kept it to a minimum. As a third improvement you could choose to put everything of this notebook in one Docker compose file, where MongoDB, Selenium, ExpressJS and VueJS are all containerized, but since I am not planning to port this application to another server, it is fine to simply install the files locally and remove them again after the notebook has finished."
   ]
  }
 ],
 "metadata": {
  "kernelspec": {
   "display_name": "Python 3",
   "language": "python",
   "name": "python3"
  }
 },
 "nbformat": 4,
 "nbformat_minor": 2
}
