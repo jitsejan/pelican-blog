{
 "cells": [
  {
   "cell_type": "markdown",
   "metadata": {},
   "source": [
    "# MEVN stack experiment with Jupyter\n",
    "\n",
    "In this notebook I want to play with Jupyter and show the steps of how to create a MEVN application from a notebook. Normally I would do this in the normal Linux terminal and a text editor, but since we can combine code, explanation and shell commands, I want to create a story in this notebook which hopefully will be of any help of people experimenting with full-stack development. I will create the application, use some simple Linux tricks and use Selenium to test the application.\n",
    "\n",
    "Please note development like this is far from optimal, but I think it is very cool what you can achieve without leaving your notebook, knowing a bit of Docker, Linux and Python.\n",
    "\n",
    "\n",
    "## Objective\n",
    "Setup an application with the following elements\n",
    "\n",
    "* [MongoDB](https://www.mongodb.com/)\n",
    "* [ExpressJS](https://expressjs.com/)\n",
    "* [VueJS](https://vuejs.org/)\n",
    "* [NodeJS](https://nodejs.org/en/)\n",
    "\n",
    "using\n",
    "\n",
    "* [Jupyter](http://jupyter.org/) notebook\n",
    "* [Docker](https://www.docker.com/)\n",
    "* [Scrapy](https://scrapy.org/)\n",
    "* [PyMongo](https://api.mongodb.com/python/current/)\n",
    "* [Selenium](http://www.seleniumhq.org/)"
   ]
  },
  {
   "cell_type": "markdown",
   "metadata": {},
   "source": [
    "<img class=\"logo\" src=\"logos/jupyter.PNG\" />"
   ]
  },
  {
   "cell_type": "markdown",
   "metadata": {},
   "source": [
    "### Notebook settings"
   ]
  },
  {
   "cell_type": "code",
   "execution_count": 1,
   "metadata": {},
   "outputs": [
    {
     "data": {
      "text/html": [
       "<style>\n",
       "img.logo{\n",
       "    height: 100px;\n",
       "}\n",
       "\n",
       "img.screenshot{\n",
       "    max-width:500px; \n",
       "    -webkit-filter: drop-shadow(5px 5px 5px #222);\n",
       "    filter: drop-shadow(2px 5px 5px #222);\n",
       "    margin: 50px auto;\n",
       "}\n",
       "</style>"
      ],
      "text/plain": [
       "<IPython.core.display.HTML object>"
      ]
     },
     "metadata": {},
     "output_type": "display_data"
    }
   ],
   "source": [
    "%%html\n",
    "<style>\n",
    "img.logo{\n",
    "    height: 100px;\n",
    "}\n",
    "\n",
    "img.screenshot{\n",
    "    max-width:500px; \n",
    "    -webkit-filter: drop-shadow(5px 5px 5px #222);\n",
    "    filter: drop-shadow(2px 5px 5px #222);\n",
    "    margin: 50px auto;\n",
    "}\n",
    "</style>"
   ]
  },
  {
   "cell_type": "markdown",
   "metadata": {},
   "source": [
    "Clean up the images from earlier runs."
   ]
  },
  {
   "cell_type": "code",
   "execution_count": 2,
   "metadata": {},
   "outputs": [
    {
     "name": "stdout",
     "output_type": "stream",
     "text": [
      "rm: cannot remove '*.png': No such file or directory\r\n"
     ]
    }
   ],
   "source": [
    "rm *.png"
   ]
  },
  {
   "cell_type": "code",
   "execution_count": 3,
   "metadata": {},
   "outputs": [],
   "source": [
    "from IPython.core.interactiveshell import InteractiveShell\n",
    "InteractiveShell.ast_node_interactivity = \"all\""
   ]
  },
  {
   "cell_type": "code",
   "execution_count": 4,
   "metadata": {},
   "outputs": [
    {
     "name": "stdout",
     "output_type": "stream",
     "text": [
      "4.4.0\r\n"
     ]
    }
   ],
   "source": [
    "!jupyter --version"
   ]
  },
  {
   "cell_type": "code",
   "execution_count": 5,
   "metadata": {},
   "outputs": [
    {
     "name": "stdout",
     "output_type": "stream",
     "text": [
      "5.2.2\r\n"
     ]
    }
   ],
   "source": [
    "!jupyter notebook --version"
   ]
  },
  {
   "cell_type": "markdown",
   "metadata": {},
   "source": [
    "<img class=\"logo\" src=\"logos/python.PNG\"/>\n",
    "### Python version"
   ]
  },
  {
   "cell_type": "code",
   "execution_count": 6,
   "metadata": {},
   "outputs": [
    {
     "data": {
      "text/plain": [
       "'3.5.2'"
      ]
     },
     "execution_count": 6,
     "metadata": {},
     "output_type": "execute_result"
    }
   ],
   "source": [
    "import platform\n",
    "platform.python_version()"
   ]
  },
  {
   "cell_type": "markdown",
   "metadata": {},
   "source": [
    "<img class=\"logo\" src=\"logos/docker.PNG\"/>\n",
    "\n",
    "## Docker setup\n",
    "### Docker version"
   ]
  },
  {
   "cell_type": "code",
   "execution_count": 7,
   "metadata": {},
   "outputs": [
    {
     "name": "stdout",
     "output_type": "stream",
     "text": [
      "Client:\r\n",
      " Version:\t17.12.0-ce\r\n",
      " API version:\t1.35\r\n",
      " Go version:\tgo1.9.2\r\n",
      " Git commit:\tc97c6d6\r\n",
      " Built:\tWed Dec 27 20:11:19 2017\r\n",
      " OS/Arch:\tlinux/amd64\r\n",
      "\r\n",
      "Server:\r\n",
      " Engine:\r\n",
      "  Version:\t17.12.0-ce\r\n",
      "  API version:\t1.35 (minimum version 1.12)\r\n",
      "  Go version:\tgo1.9.2\r\n",
      "  Git commit:\tc97c6d6\r\n",
      "  Built:\tWed Dec 27 20:09:53 2017\r\n",
      "  OS/Arch:\tlinux/amd64\r\n",
      "  Experimental:\tfalse\r\n"
     ]
    }
   ],
   "source": [
    "!docker version"
   ]
  },
  {
   "cell_type": "code",
   "execution_count": 8,
   "metadata": {},
   "outputs": [
    {
     "name": "stdout",
     "output_type": "stream",
     "text": [
      "CONTAINER ID        IMAGE                        COMMAND                  CREATED             STATUS              PORTS               NAMES\r\n",
      "529afedfe8a9        portainer/portainer:latest   \"/portainer -H unix:…\"   2 days ago          Up 2 days           9000/tcp            portainer.2.ruzj8qznqpxvnlemgtbrz01j8\r\n"
     ]
    }
   ],
   "source": [
    "!docker ps"
   ]
  },
  {
   "cell_type": "markdown",
   "metadata": {},
   "source": [
    "### Docker client\n",
    "#### Setup the client"
   ]
  },
  {
   "cell_type": "code",
   "execution_count": 9,
   "metadata": {},
   "outputs": [
    {
     "name": "stdout",
     "output_type": "stream",
     "text": [
      "Requirement already satisfied: docker in /usr/local/lib/python2.7/dist-packages\n",
      "Requirement already satisfied: backports.ssl-match-hostname>=3.5; python_version < \"3.5\" in /usr/local/lib/python2.7/dist-packages (from docker)\n",
      "Requirement already satisfied: six>=1.4.0 in /usr/lib/python2.7/dist-packages (from docker)\n",
      "Requirement already satisfied: websocket-client>=0.32.0 in /usr/local/lib/python2.7/dist-packages (from docker)\n",
      "Requirement already satisfied: requests!=2.18.0,>=2.14.2 in /usr/local/lib/python2.7/dist-packages (from docker)\n",
      "Requirement already satisfied: ipaddress>=1.0.16; python_version < \"3.3\" in /usr/lib/python2.7/dist-packages (from docker)\n",
      "Requirement already satisfied: docker-pycreds>=0.2.1 in /usr/local/lib/python2.7/dist-packages (from docker)\n",
      "Requirement already satisfied: urllib3<1.23,>=1.21.1 in /usr/local/lib/python2.7/dist-packages (from requests!=2.18.0,>=2.14.2->docker)\n",
      "Requirement already satisfied: idna<2.7,>=2.5 in /usr/local/lib/python2.7/dist-packages (from requests!=2.18.0,>=2.14.2->docker)\n",
      "Requirement already satisfied: chardet<3.1.0,>=3.0.2 in /usr/local/lib/python2.7/dist-packages (from requests!=2.18.0,>=2.14.2->docker)\n",
      "Requirement already satisfied: certifi>=2017.4.17 in /usr/local/lib/python2.7/dist-packages (from requests!=2.18.0,>=2.14.2->docker)\n"
     ]
    }
   ],
   "source": [
    "!pip install docker"
   ]
  },
  {
   "cell_type": "code",
   "execution_count": 10,
   "metadata": {},
   "outputs": [],
   "source": [
    "import docker\n",
    "docker_client = docker.from_env()"
   ]
  },
  {
   "cell_type": "markdown",
   "metadata": {},
   "source": [
    "#### Available containers"
   ]
  },
  {
   "cell_type": "code",
   "execution_count": 11,
   "metadata": {},
   "outputs": [
    {
     "name": "stdout",
     "output_type": "stream",
     "text": [
      "name=portainer.2.ruzj8qznqpxvnlemgtbrz01j8 (id=529afedfe8a9f994134a98af96656be71135370f671e3258db7a34d66e86773c)\n"
     ]
    }
   ],
   "source": [
    "for cntr in docker_client.containers.list():\n",
    "    print(\"name={} (id={})\".format(cntr.name, cntr.id))"
   ]
  },
  {
   "cell_type": "markdown",
   "metadata": {},
   "source": [
    "<img class=\"logo\" src=\"logos/mongodb.PNG\"/>\n",
    "\n",
    "## MongoDB"
   ]
  },
  {
   "cell_type": "markdown",
   "metadata": {},
   "source": [
    "Check if the Mongo Docker container is running, otherwise, start the container."
   ]
  },
  {
   "cell_type": "code",
   "execution_count": 12,
   "metadata": {},
   "outputs": [],
   "source": [
    "mongo_running = False\n",
    "for cntr in docker_client.containers.list():\n",
    "    if 'mongo' in cntr.attrs['Config']['Image']:\n",
    "        mongo_running = True\n",
    "        container = cntr\n",
    "if mongo_running is False:\n",
    "    container = docker_client.containers.run(\"mongo:latest\", name='mongo', ports={'27017': '27017'}, detach=True)"
   ]
  },
  {
   "cell_type": "code",
   "execution_count": 13,
   "metadata": {},
   "outputs": [
    {
     "data": {
      "text/plain": [
       "<Container: bd40822c23>"
      ]
     },
     "execution_count": 13,
     "metadata": {},
     "output_type": "execute_result"
    }
   ],
   "source": [
    "container"
   ]
  },
  {
   "cell_type": "markdown",
   "metadata": {},
   "source": [
    "Verification that the Mongo container is running:"
   ]
  },
  {
   "cell_type": "code",
   "execution_count": 14,
   "metadata": {},
   "outputs": [
    {
     "name": "stdout",
     "output_type": "stream",
     "text": [
      "bd40822c23b7        mongo:latest                 \"docker-entrypoint.s…\"   10 seconds ago      Up 9 seconds        0.0.0.0:27017->27017/tcp   mongo\r\n"
     ]
    }
   ],
   "source": [
    "!docker ps | grep mongo"
   ]
  },
  {
   "cell_type": "markdown",
   "metadata": {},
   "source": [
    "See [Documentation](https://api.mongodb.com/python/current/installation.html) to install PyMongo.\n",
    "\n",
    "```shell\n",
    "$ pip install pymongo\n",
    "```"
   ]
  },
  {
   "cell_type": "code",
   "execution_count": 15,
   "metadata": {},
   "outputs": [],
   "source": [
    "from pymongo import MongoClient\n",
    "mongo_client = MongoClient('localhost', 27017)"
   ]
  },
  {
   "cell_type": "markdown",
   "metadata": {},
   "source": [
    "<img class=\"logo\" src=\"logos/scrapy.PNG\"/>\n",
    "\n",
    "## Data gathering\n",
    "\n",
    "Create the Scrapy pipeline to write the scraping results to MongoDB."
   ]
  },
  {
   "cell_type": "code",
   "execution_count": 16,
   "metadata": {},
   "outputs": [],
   "source": [
    "import pymongo\n",
    "\n",
    "class MongoPipeline(object):\n",
    "\n",
    "    collection_name = 'games'\n",
    "\n",
    "    def __init__(self, mongo_uri, mongo_db):\n",
    "        self.mongo_uri = mongo_uri\n",
    "        self.mongo_db = mongo_db\n",
    "\n",
    "    @classmethod\n",
    "    def from_crawler(cls, crawler):\n",
    "        return cls(\n",
    "            mongo_uri=crawler.settings.get('MONGO_URI'),\n",
    "            mongo_db=crawler.settings.get('MONGO_DATABASE', 'items')\n",
    "        )\n",
    "\n",
    "    def open_spider(self, spider):\n",
    "        self.client = pymongo.MongoClient(self.mongo_uri)\n",
    "        self.db = self.client[self.mongo_db]\n",
    "\n",
    "    def close_spider(self, spider):\n",
    "        self.client.close()\n",
    "\n",
    "    def process_item(self, item, spider):\n",
    "        self.db[self.collection_name].insert_one(dict(item))\n",
    "        return item"
   ]
  },
  {
   "cell_type": "markdown",
   "metadata": {},
   "source": [
    "Retrieving data from https://www.nintendo.co.jp/ir/en/finance/software/index.html with the following markup:\n",
    "\n",
    "```html\n",
    "<ul class=\"sales_layout\">\n",
    "    <li class=\"sales_layout_list\">\n",
    "        <div class=\"ta_l\">\n",
    "            <p class=\"sales_title\">The Legend of Zelda:<br> Breath of the Wild</p>\n",
    "            <p class=\"sales_value\"><span>4.70</span> million pcs.</p>\n",
    "        </div>\n",
    "        <div class=\"ta_r\">\n",
    "            <p>\n",
    "                <img src=\"./img/data_switch_001.png\" alt=\"\" width=\"110\" height=\"\" class=\"sales_product1\">\n",
    "            </p>\n",
    "        </div>\n",
    "    </li>\n",
    "</ul>\n",
    "```\n",
    "\n",
    "Using Scrapy we can gather the data in a convenient way."
   ]
  },
  {
   "cell_type": "code",
   "execution_count": 17,
   "metadata": {},
   "outputs": [],
   "source": [
    "import logging\n",
    "import scrapy\n",
    "from scrapy.crawler import CrawlerProcess\n",
    "import re\n",
    "\n",
    "class ConsoleSpider(scrapy.Spider):\n",
    "    name = \"games\"\n",
    "    start_urls = [\n",
    "        \"https://www.nintendo.co.jp/ir/en/finance/software/index.html\",\n",
    "        \"https://www.nintendo.co.jp/ir/en/finance/software/wiiu.html\",\n",
    "        \"https://www.nintendo.co.jp/ir/en/finance/software/3ds.html\",\n",
    "        \"https://www.nintendo.co.jp/ir/en/finance/software/wii.html\",\n",
    "        \"https://www.nintendo.co.jp/ir/en/finance/software/ds.html\"\n",
    "    ]\n",
    "    custom_settings = {\n",
    "        'LOG_LEVEL': logging.CRITICAL,\n",
    "        'DOWNLOAD_DELAY': .25,\n",
    "        'RANDOMIZE_DOWNLOAD_DELAY': True,\n",
    "        'ITEM_PIPELINES': {\n",
    "            '__main__.MongoPipeline': 300,\n",
    "        },\n",
    "        'MONGO_URI': 'mongodb://localhost:27017',\n",
    "        'MONGO_DATABASE': 'nintendo'\n",
    "    }\n",
    "\n",
    "    def parse(self, response):\n",
    "         for cons in response.css('li.sales_layout_list'):\n",
    "            yield {\n",
    "                'console': response.css('div.tab div.tabInner span::text').extract_first(),\n",
    "                'name': cons.css('p.sales_title::text').extract_first().strip(),\n",
    "                'image': 'https://www.nintendo.co.jp/ir/en/finance/software' + cons.css('p img::attr(src)').extract_first()[1:],\n",
    "                'sales': cons.css('p.sales_value span::text').extract()[0].strip()\n",
    "            }"
   ]
  },
  {
   "cell_type": "code",
   "execution_count": 18,
   "metadata": {},
   "outputs": [
    {
     "name": "stderr",
     "output_type": "stream",
     "text": [
      "2018-01-14 16:30:17 [scrapy.utils.log] INFO: Scrapy 1.5.0 started (bot: scrapybot)\n",
      "2018-01-14 16:30:17 [scrapy.utils.log] INFO: Versions: lxml 4.1.1.0, libxml2 2.9.7, cssselect 1.0.3, parsel 1.3.1, w3lib 1.18.0, Twisted 17.9.0, Python 3.5.2 (default, Nov 23 2017, 16:37:01) - [GCC 5.4.0 20160609], pyOpenSSL 17.5.0 (OpenSSL 1.1.0g  2 Nov 2017), cryptography 2.1.4, Platform Linux-4.4.0-72-generic-x86_64-with-Ubuntu-16.04-xenial\n",
      "2018-01-14 16:30:17 [scrapy.crawler] INFO: Overridden settings: {'DOWNLOAD_DELAY': 0.25, 'USER_AGENT': 'Mozilla/4.0 (compatible; MSIE 7.0; Windows NT 5.1)', 'LOG_LEVEL': 50}\n"
     ]
    },
    {
     "data": {
      "text/plain": [
       "<Deferred at 0x7ffac2554160>"
      ]
     },
     "execution_count": 18,
     "metadata": {},
     "output_type": "execute_result"
    }
   ],
   "source": [
    "process = CrawlerProcess({\n",
    "    'USER_AGENT': 'Mozilla/4.0 (compatible; MSIE 7.0; Windows NT 5.1)'\n",
    "})\n",
    "\n",
    "process.crawl(ConsoleSpider)\n",
    "process.start()"
   ]
  },
  {
   "cell_type": "markdown",
   "metadata": {},
   "source": [
    "#### Verify the Nintendo database is created"
   ]
  },
  {
   "cell_type": "code",
   "execution_count": 19,
   "metadata": {},
   "outputs": [
    {
     "name": "stdout",
     "output_type": "stream",
     "text": [
      "Database found!\n"
     ]
    }
   ],
   "source": [
    "if 'nintendo' in mongo_client.database_names():\n",
    "    print('Database found!')"
   ]
  },
  {
   "cell_type": "markdown",
   "metadata": {},
   "source": [
    "#### Verify the games collection is created inside the Nintendo database"
   ]
  },
  {
   "cell_type": "code",
   "execution_count": 20,
   "metadata": {},
   "outputs": [
    {
     "name": "stdout",
     "output_type": "stream",
     "text": [
      "Collection found!\n"
     ]
    }
   ],
   "source": [
    "db = mongo_client['nintendo']\n",
    "if 'games' in db.collection_names():\n",
    "    print('Collection found!')"
   ]
  },
  {
   "cell_type": "markdown",
   "metadata": {},
   "source": [
    "#### Retrieve the games from the collection"
   ]
  },
  {
   "cell_type": "code",
   "execution_count": 21,
   "metadata": {},
   "outputs": [],
   "source": [
    "games = list(db['games'].find({}))"
   ]
  },
  {
   "cell_type": "code",
   "execution_count": 22,
   "metadata": {},
   "outputs": [
    {
     "name": "stdout",
     "output_type": "stream",
     "text": [
      "Found 45 games\n"
     ]
    }
   ],
   "source": [
    "print(\"Found {} games\".format(len(games)))"
   ]
  },
  {
   "cell_type": "markdown",
   "metadata": {},
   "source": [
    "## Retrieve the images\n",
    "#### Delete the old images"
   ]
  },
  {
   "cell_type": "code",
   "execution_count": 23,
   "metadata": {},
   "outputs": [],
   "source": [
    "!rm -rf images/*"
   ]
  },
  {
   "cell_type": "code",
   "execution_count": 24,
   "metadata": {
    "scrolled": false
   },
   "outputs": [
    {
     "name": "stdout",
     "output_type": "stream",
     "text": [
      "--2018-01-14 16:30:23--  https://www.nintendo.co.jp/ir/en/finance/software/img/data_switch_001.png\n",
      "Resolving www.nintendo.co.jp (www.nintendo.co.jp)... 23.52.165.106\n",
      "Connecting to www.nintendo.co.jp (www.nintendo.co.jp)|23.52.165.106|:443... connected.\n",
      "HTTP request sent, awaiting response... 200 OK\n",
      "Length: 123250 (120K) [image/png]\n",
      "Saving to: ‘images/data_switch_001.png’\n",
      "\n",
      "data_switch_001.png 100%[===================>] 120.36K  --.-KB/s    in 0.02s   \n",
      "\n",
      "2018-01-14 16:30:24 (5.55 MB/s) - ‘images/data_switch_001.png’ saved [123250/123250]\n",
      "\n"
     ]
    },
    {
     "data": {
      "text/plain": [
       "ObjectId('5a5bf61a48f1a50e097a7986')"
      ]
     },
     "execution_count": 24,
     "metadata": {},
     "output_type": "execute_result"
    },
    {
     "name": "stdout",
     "output_type": "stream",
     "text": [
      "--2018-01-14 16:30:24--  https://www.nintendo.co.jp/ir/en/finance/software/img/data_switch_002.png\n",
      "Resolving www.nintendo.co.jp (www.nintendo.co.jp)... 23.52.165.106\n",
      "Connecting to www.nintendo.co.jp (www.nintendo.co.jp)|23.52.165.106|:443... connected.\n",
      "HTTP request sent, awaiting response... 200 OK\n",
      "Length: 136768 (134K) [image/png]\n",
      "Saving to: ‘images/data_switch_002.png’\n",
      "\n",
      "data_switch_002.png 100%[===================>] 133.56K  --.-KB/s    in 0.02s   \n",
      "\n",
      "2018-01-14 16:30:24 (5.92 MB/s) - ‘images/data_switch_002.png’ saved [136768/136768]\n",
      "\n"
     ]
    },
    {
     "data": {
      "text/plain": [
       "ObjectId('5a5bf61a48f1a50e097a7987')"
      ]
     },
     "execution_count": 24,
     "metadata": {},
     "output_type": "execute_result"
    },
    {
     "name": "stdout",
     "output_type": "stream",
     "text": [
      "--2018-01-14 16:30:24--  https://www.nintendo.co.jp/ir/en/finance/software/img/data_switch_005.png\n",
      "Resolving www.nintendo.co.jp (www.nintendo.co.jp)... 23.52.165.106\n",
      "Connecting to www.nintendo.co.jp (www.nintendo.co.jp)|23.52.165.106|:443... connected.\n",
      "HTTP request sent, awaiting response... 200 OK\n",
      "Length: 116191 (113K) [image/png]\n",
      "Saving to: ‘images/data_switch_005.png’\n",
      "\n",
      "data_switch_005.png 100%[===================>] 113.47K  --.-KB/s    in 0.04s   \n",
      "\n",
      "2018-01-14 16:30:25 (2.93 MB/s) - ‘images/data_switch_005.png’ saved [116191/116191]\n",
      "\n"
     ]
    },
    {
     "data": {
      "text/plain": [
       "ObjectId('5a5bf61a48f1a50e097a7988')"
      ]
     },
     "execution_count": 24,
     "metadata": {},
     "output_type": "execute_result"
    },
    {
     "name": "stdout",
     "output_type": "stream",
     "text": [
      "--2018-01-14 16:30:25--  https://www.nintendo.co.jp/ir/en/finance/software/img/data_switch_003.png\n",
      "Resolving www.nintendo.co.jp (www.nintendo.co.jp)... 23.52.165.106\n",
      "Connecting to www.nintendo.co.jp (www.nintendo.co.jp)|23.52.165.106|:443... connected.\n",
      "HTTP request sent, awaiting response... 200 OK\n",
      "Length: 97341 (95K) [image/png]\n",
      "Saving to: ‘images/data_switch_003.png’\n",
      "\n",
      "data_switch_003.png 100%[===================>]  95.06K  --.-KB/s    in 0.03s   \n",
      "\n",
      "2018-01-14 16:30:25 (3.57 MB/s) - ‘images/data_switch_003.png’ saved [97341/97341]\n",
      "\n"
     ]
    },
    {
     "data": {
      "text/plain": [
       "ObjectId('5a5bf61a48f1a50e097a7989')"
      ]
     },
     "execution_count": 24,
     "metadata": {},
     "output_type": "execute_result"
    },
    {
     "name": "stdout",
     "output_type": "stream",
     "text": [
      "--2018-01-14 16:30:26--  https://www.nintendo.co.jp/ir/en/finance/software/img/data_switch_004.png\n",
      "Resolving www.nintendo.co.jp (www.nintendo.co.jp)... 23.52.165.106\n",
      "Connecting to www.nintendo.co.jp (www.nintendo.co.jp)|23.52.165.106|:443... connected.\n",
      "HTTP request sent, awaiting response... 200 OK\n",
      "Length: 113103 (110K) [image/png]\n",
      "Saving to: ‘images/data_switch_004.png’\n",
      "\n",
      "data_switch_004.png 100%[===================>] 110.45K  --.-KB/s    in 0.02s   \n",
      "\n",
      "2018-01-14 16:30:26 (4.44 MB/s) - ‘images/data_switch_004.png’ saved [113103/113103]\n",
      "\n"
     ]
    },
    {
     "data": {
      "text/plain": [
       "ObjectId('5a5bf61a48f1a50e097a798a')"
      ]
     },
     "execution_count": 24,
     "metadata": {},
     "output_type": "execute_result"
    },
    {
     "name": "stdout",
     "output_type": "stream",
     "text": [
      "--2018-01-14 16:30:26--  https://www.nintendo.co.jp/ir/en/finance/software/img/data_wiiu_mariokart8.png\n",
      "Resolving www.nintendo.co.jp (www.nintendo.co.jp)... 23.52.165.106\n",
      "Connecting to www.nintendo.co.jp (www.nintendo.co.jp)|23.52.165.106|:443... connected.\n",
      "HTTP request sent, awaiting response... 200 OK\n",
      "Length: 41726 (41K) [image/png]\n",
      "Saving to: ‘images/data_wiiu_mariokart8.png’\n",
      "\n",
      "data_wiiu_mariokart 100%[===================>]  40.75K  --.-KB/s    in 0.01s   \n",
      "\n",
      "2018-01-14 16:30:27 (4.06 MB/s) - ‘images/data_wiiu_mariokart8.png’ saved [41726/41726]\n",
      "\n"
     ]
    },
    {
     "data": {
      "text/plain": [
       "ObjectId('5a5bf61a48f1a50e097a798b')"
      ]
     },
     "execution_count": 24,
     "metadata": {},
     "output_type": "execute_result"
    },
    {
     "name": "stdout",
     "output_type": "stream",
     "text": [
      "--2018-01-14 16:30:27--  https://www.nintendo.co.jp/ir/en/finance/software/img/data_wiiu_newmariou.png\n",
      "Resolving www.nintendo.co.jp (www.nintendo.co.jp)... 23.52.165.106\n",
      "Connecting to www.nintendo.co.jp (www.nintendo.co.jp)|23.52.165.106|:443... connected.\n",
      "HTTP request sent, awaiting response... 200 OK\n",
      "Length: 39007 (38K) [image/png]\n",
      "Saving to: ‘images/data_wiiu_newmariou.png’\n",
      "\n",
      "data_wiiu_newmariou 100%[===================>]  38.09K  --.-KB/s    in 0.01s   \n",
      "\n",
      "2018-01-14 16:30:27 (3.55 MB/s) - ‘images/data_wiiu_newmariou.png’ saved [39007/39007]\n",
      "\n"
     ]
    },
    {
     "data": {
      "text/plain": [
       "ObjectId('5a5bf61a48f1a50e097a798c')"
      ]
     },
     "execution_count": 24,
     "metadata": {},
     "output_type": "execute_result"
    },
    {
     "name": "stdout",
     "output_type": "stream",
     "text": [
      "--2018-01-14 16:30:27--  https://www.nintendo.co.jp/ir/en/finance/software/img/data_wiiu_mario3dworld.png\n",
      "Resolving www.nintendo.co.jp (www.nintendo.co.jp)... 23.52.165.106\n",
      "Connecting to www.nintendo.co.jp (www.nintendo.co.jp)|23.52.165.106|:443... connected.\n",
      "HTTP request sent, awaiting response... 200 OK\n",
      "Length: 40182 (39K) [image/png]\n",
      "Saving to: ‘images/data_wiiu_mario3dworld.png’\n",
      "\n",
      "data_wiiu_mario3dwo 100%[===================>]  39.24K  --.-KB/s    in 0.01s   \n",
      "\n",
      "2018-01-14 16:30:28 (3.95 MB/s) - ‘images/data_wiiu_mario3dworld.png’ saved [40182/40182]\n",
      "\n"
     ]
    },
    {
     "data": {
      "text/plain": [
       "ObjectId('5a5bf61a48f1a50e097a798d')"
      ]
     },
     "execution_count": 24,
     "metadata": {},
     "output_type": "execute_result"
    },
    {
     "name": "stdout",
     "output_type": "stream",
     "text": [
      "--2018-01-14 16:30:28--  https://www.nintendo.co.jp/ir/en/finance/software/img/data_wiiu_smashbros.png\n",
      "Resolving www.nintendo.co.jp (www.nintendo.co.jp)... 23.52.165.106\n",
      "Connecting to www.nintendo.co.jp (www.nintendo.co.jp)|23.52.165.106|:443... connected.\n",
      "HTTP request sent, awaiting response... 200 OK\n",
      "Length: 42978 (42K) [image/png]\n",
      "Saving to: ‘images/data_wiiu_smashbros.png’\n",
      "\n",
      "data_wiiu_smashbros 100%[===================>]  41.97K  --.-KB/s    in 0.01s   \n",
      "\n",
      "2018-01-14 16:30:28 (3.86 MB/s) - ‘images/data_wiiu_smashbros.png’ saved [42978/42978]\n",
      "\n"
     ]
    },
    {
     "data": {
      "text/plain": [
       "ObjectId('5a5bf61a48f1a50e097a798e')"
      ]
     },
     "execution_count": 24,
     "metadata": {},
     "output_type": "execute_result"
    },
    {
     "name": "stdout",
     "output_type": "stream",
     "text": [
      "--2018-01-14 16:30:28--  https://www.nintendo.co.jp/ir/en/finance/software/img/data_wiiu_nintendoland.png\n",
      "Resolving www.nintendo.co.jp (www.nintendo.co.jp)... 23.52.165.106\n",
      "Connecting to www.nintendo.co.jp (www.nintendo.co.jp)|23.52.165.106|:443... connected.\n",
      "HTTP request sent, awaiting response... 200 OK\n",
      "Length: 37299 (36K) [image/png]\n",
      "Saving to: ‘images/data_wiiu_nintendoland.png’\n",
      "\n",
      "data_wiiu_nintendol 100%[===================>]  36.42K  --.-KB/s    in 0.01s   \n",
      "\n",
      "2018-01-14 16:30:29 (2.91 MB/s) - ‘images/data_wiiu_nintendoland.png’ saved [37299/37299]\n",
      "\n"
     ]
    },
    {
     "data": {
      "text/plain": [
       "ObjectId('5a5bf61a48f1a50e097a798f')"
      ]
     },
     "execution_count": 24,
     "metadata": {},
     "output_type": "execute_result"
    },
    {
     "name": "stdout",
     "output_type": "stream",
     "text": [
      "--2018-01-14 16:30:29--  https://www.nintendo.co.jp/ir/en/finance/software/img/data_wiiu_splatoon.jpg\n",
      "Resolving www.nintendo.co.jp (www.nintendo.co.jp)... 23.52.165.106\n",
      "Connecting to www.nintendo.co.jp (www.nintendo.co.jp)|23.52.165.106|:443... connected.\n",
      "HTTP request sent, awaiting response... 200 OK\n",
      "Length: 28908 (28K) [image/jpeg]\n",
      "Saving to: ‘images/data_wiiu_splatoon.jpg’\n",
      "\n",
      "data_wiiu_splatoon. 100%[===================>]  28.23K  --.-KB/s    in 0.01s   \n",
      "\n",
      "2018-01-14 16:30:29 (2.18 MB/s) - ‘images/data_wiiu_splatoon.jpg’ saved [28908/28908]\n",
      "\n"
     ]
    },
    {
     "data": {
      "text/plain": [
       "ObjectId('5a5bf61a48f1a50e097a7990')"
      ]
     },
     "execution_count": 24,
     "metadata": {},
     "output_type": "execute_result"
    },
    {
     "name": "stdout",
     "output_type": "stream",
     "text": [
      "--2018-01-14 16:30:30--  https://www.nintendo.co.jp/ir/en/finance/software/img/data_wiiu_supermariomaker.png\n",
      "Resolving www.nintendo.co.jp (www.nintendo.co.jp)... 23.52.165.106\n",
      "Connecting to www.nintendo.co.jp (www.nintendo.co.jp)|23.52.165.106|:443... connected.\n",
      "HTTP request sent, awaiting response... 200 OK\n",
      "Length: 36527 (36K) [image/png]\n",
      "Saving to: ‘images/data_wiiu_supermariomaker.png’\n",
      "\n",
      "data_wiiu_supermari 100%[===================>]  35.67K  --.-KB/s    in 0.008s  \n",
      "\n",
      "2018-01-14 16:30:30 (4.31 MB/s) - ‘images/data_wiiu_supermariomaker.png’ saved [36527/36527]\n",
      "\n"
     ]
    },
    {
     "data": {
      "text/plain": [
       "ObjectId('5a5bf61a48f1a50e097a7991')"
      ]
     },
     "execution_count": 24,
     "metadata": {},
     "output_type": "execute_result"
    },
    {
     "name": "stdout",
     "output_type": "stream",
     "text": [
      "--2018-01-14 16:30:30--  https://www.nintendo.co.jp/ir/en/finance/software/img/data_wiiu_newsuperluigiu.png\n",
      "Resolving www.nintendo.co.jp (www.nintendo.co.jp)... 23.52.165.106\n",
      "Connecting to www.nintendo.co.jp (www.nintendo.co.jp)|23.52.165.106|:443... connected.\n",
      "HTTP request sent, awaiting response... 200 OK\n",
      "Length: 39589 (39K) [image/png]\n",
      "Saving to: ‘images/data_wiiu_newsuperluigiu.png’\n",
      "\n",
      "data_wiiu_newsuperl 100%[===================>]  38.66K  --.-KB/s    in 0.01s   \n",
      "\n",
      "2018-01-14 16:30:30 (3.88 MB/s) - ‘images/data_wiiu_newsuperluigiu.png’ saved [39589/39589]\n",
      "\n"
     ]
    },
    {
     "data": {
      "text/plain": [
       "ObjectId('5a5bf61a48f1a50e097a7992')"
      ]
     },
     "execution_count": 24,
     "metadata": {},
     "output_type": "execute_result"
    },
    {
     "name": "stdout",
     "output_type": "stream",
     "text": [
      "--2018-01-14 16:30:31--  https://www.nintendo.co.jp/ir/en/finance/software/img/data_wiiu_zeldahd.png\n",
      "Resolving www.nintendo.co.jp (www.nintendo.co.jp)... 23.52.165.106\n",
      "Connecting to www.nintendo.co.jp (www.nintendo.co.jp)|23.52.165.106|:443... connected.\n",
      "HTTP request sent, awaiting response... 200 OK\n",
      "Length: 44785 (44K) [image/png]\n",
      "Saving to: ‘images/data_wiiu_zeldahd.png’\n",
      "\n",
      "data_wiiu_zeldahd.p 100%[===================>]  43.74K  --.-KB/s    in 0.02s   \n",
      "\n",
      "2018-01-14 16:30:31 (2.60 MB/s) - ‘images/data_wiiu_zeldahd.png’ saved [44785/44785]\n",
      "\n"
     ]
    },
    {
     "data": {
      "text/plain": [
       "ObjectId('5a5bf61a48f1a50e097a7993')"
      ]
     },
     "execution_count": 24,
     "metadata": {},
     "output_type": "execute_result"
    },
    {
     "name": "stdout",
     "output_type": "stream",
     "text": [
      "--2018-01-14 16:30:31--  https://www.nintendo.co.jp/ir/en/finance/software/img/data_wiiu_marioparty10.jpg\n",
      "Resolving www.nintendo.co.jp (www.nintendo.co.jp)... 23.52.165.106\n",
      "Connecting to www.nintendo.co.jp (www.nintendo.co.jp)|23.52.165.106|:443... connected.\n",
      "HTTP request sent, awaiting response... 200 OK\n",
      "Length: 20514 (20K) [image/jpeg]\n",
      "Saving to: ‘images/data_wiiu_marioparty10.jpg’\n",
      "\n",
      "data_wiiu_mariopart 100%[===================>]  20.03K  --.-KB/s    in 0s      \n",
      "\n",
      "2018-01-14 16:30:32 (185 MB/s) - ‘images/data_wiiu_marioparty10.jpg’ saved [20514/20514]\n",
      "\n"
     ]
    },
    {
     "data": {
      "text/plain": [
       "ObjectId('5a5bf61a48f1a50e097a7994')"
      ]
     },
     "execution_count": 24,
     "metadata": {},
     "output_type": "execute_result"
    },
    {
     "name": "stdout",
     "output_type": "stream",
     "text": [
      "--2018-01-14 16:30:32--  https://www.nintendo.co.jp/ir/en/finance/software/img/data_wii_001.jpg\n",
      "Resolving www.nintendo.co.jp (www.nintendo.co.jp)... 23.52.165.106\n",
      "Connecting to www.nintendo.co.jp (www.nintendo.co.jp)|23.52.165.106|:443... connected.\n",
      "HTTP request sent, awaiting response... 200 OK\n",
      "Length: 5365 (5.2K) [image/jpeg]\n",
      "Saving to: ‘images/data_wii_001.jpg’\n",
      "\n",
      "data_wii_001.jpg    100%[===================>]   5.24K  --.-KB/s    in 0s      \n",
      "\n",
      "2018-01-14 16:30:32 (903 MB/s) - ‘images/data_wii_001.jpg’ saved [5365/5365]\n",
      "\n"
     ]
    },
    {
     "data": {
      "text/plain": [
       "ObjectId('5a5bf61b48f1a50e097a7995')"
      ]
     },
     "execution_count": 24,
     "metadata": {},
     "output_type": "execute_result"
    },
    {
     "name": "stdout",
     "output_type": "stream",
     "text": [
      "--2018-01-14 16:30:32--  https://www.nintendo.co.jp/ir/en/finance/software/img/data_wii_002.jpg\n",
      "Resolving www.nintendo.co.jp (www.nintendo.co.jp)... 23.52.165.106\n",
      "Connecting to www.nintendo.co.jp (www.nintendo.co.jp)|23.52.165.106|:443... connected.\n",
      "HTTP request sent, awaiting response... 200 OK\n",
      "Length: 6852 (6.7K) [image/jpeg]\n",
      "Saving to: ‘images/data_wii_002.jpg’\n",
      "\n",
      "data_wii_002.jpg    100%[===================>]   6.69K  --.-KB/s    in 0s      \n",
      "\n",
      "2018-01-14 16:30:33 (819 MB/s) - ‘images/data_wii_002.jpg’ saved [6852/6852]\n",
      "\n"
     ]
    },
    {
     "data": {
      "text/plain": [
       "ObjectId('5a5bf61b48f1a50e097a7996')"
      ]
     },
     "execution_count": 24,
     "metadata": {},
     "output_type": "execute_result"
    },
    {
     "name": "stdout",
     "output_type": "stream",
     "text": [
      "--2018-01-14 16:30:33--  https://www.nintendo.co.jp/ir/en/finance/software/img/data_wii_003.jpg\n",
      "Resolving www.nintendo.co.jp (www.nintendo.co.jp)... 23.52.165.106\n",
      "Connecting to www.nintendo.co.jp (www.nintendo.co.jp)|23.52.165.106|:443... connected.\n",
      "HTTP request sent, awaiting response... 200 OK\n",
      "Length: 5926 (5.8K) [image/jpeg]\n",
      "Saving to: ‘images/data_wii_003.jpg’\n",
      "\n",
      "data_wii_003.jpg    100%[===================>]   5.79K  --.-KB/s    in 0s      \n",
      "\n",
      "2018-01-14 16:30:33 (917 MB/s) - ‘images/data_wii_003.jpg’ saved [5926/5926]\n",
      "\n"
     ]
    },
    {
     "data": {
      "text/plain": [
       "ObjectId('5a5bf61b48f1a50e097a7997')"
      ]
     },
     "execution_count": 24,
     "metadata": {},
     "output_type": "execute_result"
    },
    {
     "name": "stdout",
     "output_type": "stream",
     "text": [
      "--2018-01-14 16:30:34--  https://www.nintendo.co.jp/ir/en/finance/software/img/data_wii_005.jpg\n",
      "Resolving www.nintendo.co.jp (www.nintendo.co.jp)... 23.52.165.106\n",
      "Connecting to www.nintendo.co.jp (www.nintendo.co.jp)|23.52.165.106|:443... connected.\n",
      "HTTP request sent, awaiting response... 200 OK\n",
      "Length: 8798 (8.6K) [image/jpeg]\n",
      "Saving to: ‘images/data_wii_005.jpg’\n",
      "\n",
      "data_wii_005.jpg    100%[===================>]   8.59K  --.-KB/s    in 0s      \n",
      "\n",
      "2018-01-14 16:30:34 (96.1 MB/s) - ‘images/data_wii_005.jpg’ saved [8798/8798]\n",
      "\n"
     ]
    },
    {
     "data": {
      "text/plain": [
       "ObjectId('5a5bf61b48f1a50e097a7998')"
      ]
     },
     "execution_count": 24,
     "metadata": {},
     "output_type": "execute_result"
    },
    {
     "name": "stdout",
     "output_type": "stream",
     "text": [
      "--2018-01-14 16:30:34--  https://www.nintendo.co.jp/ir/en/finance/software/img/data_wii_004.jpg\n",
      "Resolving www.nintendo.co.jp (www.nintendo.co.jp)... 23.52.165.106\n",
      "Connecting to www.nintendo.co.jp (www.nintendo.co.jp)|23.52.165.106|:443... connected.\n",
      "HTTP request sent, awaiting response... 200 OK\n",
      "Length: 4984 (4.9K) [image/jpeg]\n",
      "Saving to: ‘images/data_wii_004.jpg’\n",
      "\n",
      "data_wii_004.jpg    100%[===================>]   4.87K  --.-KB/s    in 0s      \n",
      "\n",
      "2018-01-14 16:30:34 (427 MB/s) - ‘images/data_wii_004.jpg’ saved [4984/4984]\n",
      "\n"
     ]
    },
    {
     "data": {
      "text/plain": [
       "ObjectId('5a5bf61b48f1a50e097a7999')"
      ]
     },
     "execution_count": 24,
     "metadata": {},
     "output_type": "execute_result"
    },
    {
     "name": "stdout",
     "output_type": "stream",
     "text": [
      "--2018-01-14 16:30:35--  https://www.nintendo.co.jp/ir/en/finance/software/img/data_wii_006.jpg\n",
      "Resolving www.nintendo.co.jp (www.nintendo.co.jp)... 23.52.165.106\n",
      "Connecting to www.nintendo.co.jp (www.nintendo.co.jp)|23.52.165.106|:443... connected.\n",
      "HTTP request sent, awaiting response... 200 OK\n",
      "Length: 4221 (4.1K) [image/jpeg]\n",
      "Saving to: ‘images/data_wii_006.jpg’\n",
      "\n",
      "data_wii_006.jpg    100%[===================>]   4.12K  --.-KB/s    in 0s      \n",
      "\n",
      "2018-01-14 16:30:35 (723 MB/s) - ‘images/data_wii_006.jpg’ saved [4221/4221]\n",
      "\n"
     ]
    },
    {
     "data": {
      "text/plain": [
       "ObjectId('5a5bf61b48f1a50e097a799a')"
      ]
     },
     "execution_count": 24,
     "metadata": {},
     "output_type": "execute_result"
    },
    {
     "name": "stdout",
     "output_type": "stream",
     "text": [
      "--2018-01-14 16:30:35--  https://www.nintendo.co.jp/ir/en/finance/software/img/data_wii_007.jpg\n",
      "Resolving www.nintendo.co.jp (www.nintendo.co.jp)... 23.52.165.106\n",
      "Connecting to www.nintendo.co.jp (www.nintendo.co.jp)|23.52.165.106|:443... connected.\n",
      "HTTP request sent, awaiting response... 200 OK\n",
      "Length: 6807 (6.6K) [image/jpeg]\n",
      "Saving to: ‘images/data_wii_007.jpg’\n",
      "\n",
      "data_wii_007.jpg    100%[===================>]   6.65K  --.-KB/s    in 0s      \n",
      "\n",
      "2018-01-14 16:30:36 (975 MB/s) - ‘images/data_wii_007.jpg’ saved [6807/6807]\n",
      "\n"
     ]
    },
    {
     "data": {
      "text/plain": [
       "ObjectId('5a5bf61b48f1a50e097a799b')"
      ]
     },
     "execution_count": 24,
     "metadata": {},
     "output_type": "execute_result"
    },
    {
     "name": "stdout",
     "output_type": "stream",
     "text": [
      "--2018-01-14 16:30:36--  https://www.nintendo.co.jp/ir/en/finance/software/img/data_wii_009.jpg\n",
      "Resolving www.nintendo.co.jp (www.nintendo.co.jp)... 23.52.165.106\n",
      "Connecting to www.nintendo.co.jp (www.nintendo.co.jp)|23.52.165.106|:443... connected.\n",
      "HTTP request sent, awaiting response... 200 OK\n",
      "Length: 8262 (8.1K) [image/jpeg]\n",
      "Saving to: ‘images/data_wii_009.jpg’\n",
      "\n",
      "data_wii_009.jpg    100%[===================>]   8.07K  --.-KB/s    in 0s      \n",
      "\n",
      "2018-01-14 16:30:36 (100 MB/s) - ‘images/data_wii_009.jpg’ saved [8262/8262]\n",
      "\n"
     ]
    },
    {
     "data": {
      "text/plain": [
       "ObjectId('5a5bf61b48f1a50e097a799c')"
      ]
     },
     "execution_count": 24,
     "metadata": {},
     "output_type": "execute_result"
    },
    {
     "name": "stdout",
     "output_type": "stream",
     "text": [
      "--2018-01-14 16:30:37--  https://www.nintendo.co.jp/ir/en/finance/software/img/data_wii_008.jpg\n",
      "Resolving www.nintendo.co.jp (www.nintendo.co.jp)... 23.52.165.106\n",
      "Connecting to www.nintendo.co.jp (www.nintendo.co.jp)|23.52.165.106|:443... connected.\n",
      "HTTP request sent, awaiting response... 200 OK\n",
      "Length: 8344 (8.1K) [image/jpeg]\n",
      "Saving to: ‘images/data_wii_008.jpg’\n",
      "\n",
      "data_wii_008.jpg    100%[===================>]   8.15K  --.-KB/s    in 0.001s  \n",
      "\n",
      "2018-01-14 16:30:37 (5.40 MB/s) - ‘images/data_wii_008.jpg’ saved [8344/8344]\n",
      "\n"
     ]
    },
    {
     "data": {
      "text/plain": [
       "ObjectId('5a5bf61b48f1a50e097a799d')"
      ]
     },
     "execution_count": 24,
     "metadata": {},
     "output_type": "execute_result"
    },
    {
     "name": "stdout",
     "output_type": "stream",
     "text": [
      "--2018-01-14 16:30:37--  https://www.nintendo.co.jp/ir/en/finance/software/img/data_wii_wiiparty.jpg\n",
      "Resolving www.nintendo.co.jp (www.nintendo.co.jp)... 23.52.165.106\n",
      "Connecting to www.nintendo.co.jp (www.nintendo.co.jp)|23.52.165.106|:443... connected.\n",
      "HTTP request sent, awaiting response... 200 OK\n",
      "Length: 15776 (15K) [image/jpeg]\n",
      "Saving to: ‘images/data_wii_wiiparty.jpg’\n",
      "\n",
      "data_wii_wiiparty.j 100%[===================>]  15.41K  --.-KB/s    in 0s      \n",
      "\n",
      "2018-01-14 16:30:38 (208 MB/s) - ‘images/data_wii_wiiparty.jpg’ saved [15776/15776]\n",
      "\n"
     ]
    },
    {
     "data": {
      "text/plain": [
       "ObjectId('5a5bf61b48f1a50e097a799e')"
      ]
     },
     "execution_count": 24,
     "metadata": {},
     "output_type": "execute_result"
    },
    {
     "name": "stdout",
     "output_type": "stream",
     "text": [
      "--2018-01-14 16:30:38--  https://www.nintendo.co.jp/ir/en/finance/software/img/data_3ds_pokemonxy.jpg\n",
      "Resolving www.nintendo.co.jp (www.nintendo.co.jp)... 23.52.165.106\n",
      "Connecting to www.nintendo.co.jp (www.nintendo.co.jp)|23.52.165.106|:443... connected.\n",
      "HTTP request sent, awaiting response... 200 OK\n",
      "Length: 32213 (31K) [image/jpeg]\n",
      "Saving to: ‘images/data_3ds_pokemonxy.jpg’\n",
      "\n",
      "data_3ds_pokemonxy. 100%[===================>]  31.46K  --.-KB/s    in 0.01s   \n",
      "\n",
      "2018-01-14 16:30:38 (3.01 MB/s) - ‘images/data_3ds_pokemonxy.jpg’ saved [32213/32213]\n",
      "\n"
     ]
    },
    {
     "data": {
      "text/plain": [
       "ObjectId('5a5bf61b48f1a50e097a799f')"
      ]
     },
     "execution_count": 24,
     "metadata": {},
     "output_type": "execute_result"
    },
    {
     "name": "stdout",
     "output_type": "stream",
     "text": [
      "--2018-01-14 16:30:38--  https://www.nintendo.co.jp/ir/en/finance/software/img/data_3ds_002.jpg\n",
      "Resolving www.nintendo.co.jp (www.nintendo.co.jp)... 23.52.165.106\n",
      "Connecting to www.nintendo.co.jp (www.nintendo.co.jp)|23.52.165.106|:443... connected.\n",
      "HTTP request sent, awaiting response... 200 OK\n",
      "Length: 12917 (13K) [image/jpeg]\n",
      "Saving to: ‘images/data_3ds_002.jpg’\n",
      "\n",
      "data_3ds_002.jpg    100%[===================>]  12.61K  --.-KB/s    in 0.001s  \n",
      "\n",
      "2018-01-14 16:30:39 (11.0 MB/s) - ‘images/data_3ds_002.jpg’ saved [12917/12917]\n",
      "\n"
     ]
    },
    {
     "data": {
      "text/plain": [
       "ObjectId('5a5bf61b48f1a50e097a79a0')"
      ]
     },
     "execution_count": 24,
     "metadata": {},
     "output_type": "execute_result"
    },
    {
     "name": "stdout",
     "output_type": "stream",
     "text": [
      "--2018-01-14 16:30:39--  https://www.nintendo.co.jp/ir/en/finance/software/img/data_3ds_pokemonsunmoon.jpg\n",
      "Resolving www.nintendo.co.jp (www.nintendo.co.jp)... 23.52.165.106\n",
      "Connecting to www.nintendo.co.jp (www.nintendo.co.jp)|23.52.165.106|:443... connected.\n",
      "HTTP request sent, awaiting response... 200 OK\n",
      "Length: 37022 (36K) [image/jpeg]\n",
      "Saving to: ‘images/data_3ds_pokemonsunmoon.jpg’\n",
      "\n",
      "data_3ds_pokemonsun 100%[===================>]  36.15K  --.-KB/s    in 0.01s   \n",
      "\n",
      "2018-01-14 16:30:39 (3.49 MB/s) - ‘images/data_3ds_pokemonsunmoon.jpg’ saved [37022/37022]\n",
      "\n"
     ]
    },
    {
     "data": {
      "text/plain": [
       "ObjectId('5a5bf61b48f1a50e097a79a1')"
      ]
     },
     "execution_count": 24,
     "metadata": {},
     "output_type": "execute_result"
    },
    {
     "name": "stdout",
     "output_type": "stream",
     "text": [
      "--2018-01-14 16:30:39--  https://www.nintendo.co.jp/ir/en/finance/software/img/data_3ds_pokemonoras.jpg\n",
      "Resolving www.nintendo.co.jp (www.nintendo.co.jp)... 23.52.165.106\n",
      "Connecting to www.nintendo.co.jp (www.nintendo.co.jp)|23.52.165.106|:443... connected.\n",
      "HTTP request sent, awaiting response... 200 OK\n",
      "Length: 20879 (20K) [image/jpeg]\n",
      "Saving to: ‘images/data_3ds_pokemonoras.jpg’\n",
      "\n",
      "data_3ds_pokemonora 100%[===================>]  20.39K  --.-KB/s    in 0s      \n",
      "\n",
      "2018-01-14 16:30:40 (189 MB/s) - ‘images/data_3ds_pokemonoras.jpg’ saved [20879/20879]\n",
      "\n"
     ]
    },
    {
     "data": {
      "text/plain": [
       "ObjectId('5a5bf61b48f1a50e097a79a2')"
      ]
     },
     "execution_count": 24,
     "metadata": {},
     "output_type": "execute_result"
    },
    {
     "name": "stdout",
     "output_type": "stream",
     "text": [
      "--2018-01-14 16:30:40--  https://www.nintendo.co.jp/ir/en/finance/software/img/data_3ds_003.jpg\n",
      "Resolving www.nintendo.co.jp (www.nintendo.co.jp)... 23.52.165.106\n",
      "Connecting to www.nintendo.co.jp (www.nintendo.co.jp)|23.52.165.106|:443... connected.\n",
      "HTTP request sent, awaiting response... 200 OK\n",
      "Length: 10823 (11K) [image/jpeg]\n",
      "Saving to: ‘images/data_3ds_003.jpg’\n",
      "\n",
      "data_3ds_003.jpg    100%[===================>]  10.57K  --.-KB/s    in 0s      \n",
      "\n",
      "2018-01-14 16:30:40 (154 MB/s) - ‘images/data_3ds_003.jpg’ saved [10823/10823]\n",
      "\n"
     ]
    },
    {
     "data": {
      "text/plain": [
       "ObjectId('5a5bf61b48f1a50e097a79a3')"
      ]
     },
     "execution_count": 24,
     "metadata": {},
     "output_type": "execute_result"
    },
    {
     "name": "stdout",
     "output_type": "stream",
     "text": [
      "--2018-01-14 16:30:40--  https://www.nintendo.co.jp/ir/en/finance/software/img/data_3ds_001.jpg\n",
      "Resolving www.nintendo.co.jp (www.nintendo.co.jp)... 23.52.165.106\n",
      "Connecting to www.nintendo.co.jp (www.nintendo.co.jp)|23.52.165.106|:443... connected.\n",
      "HTTP request sent, awaiting response... 200 OK\n",
      "Length: 16348 (16K) [image/jpeg]\n",
      "Saving to: ‘images/data_3ds_001.jpg’\n",
      "\n",
      "data_3ds_001.jpg    100%[===================>]  15.96K  --.-KB/s    in 0s      \n",
      "\n",
      "2018-01-14 16:30:41 (147 MB/s) - ‘images/data_3ds_001.jpg’ saved [16348/16348]\n",
      "\n"
     ]
    },
    {
     "data": {
      "text/plain": [
       "ObjectId('5a5bf61b48f1a50e097a79a4')"
      ]
     },
     "execution_count": 24,
     "metadata": {},
     "output_type": "execute_result"
    },
    {
     "name": "stdout",
     "output_type": "stream",
     "text": [
      "--2018-01-14 16:30:41--  https://www.nintendo.co.jp/ir/en/finance/software/img/data_3ds_004.jpg\n",
      "Resolving www.nintendo.co.jp (www.nintendo.co.jp)... 23.52.165.106\n",
      "Connecting to www.nintendo.co.jp (www.nintendo.co.jp)|23.52.165.106|:443... connected.\n",
      "HTTP request sent, awaiting response... 200 OK\n",
      "Length: 11078 (11K) [image/jpeg]\n",
      "Saving to: ‘images/data_3ds_004.jpg’\n",
      "\n",
      "data_3ds_004.jpg    100%[===================>]  10.82K  --.-KB/s    in 0s      \n",
      "\n",
      "2018-01-14 16:30:41 (187 MB/s) - ‘images/data_3ds_004.jpg’ saved [11078/11078]\n",
      "\n"
     ]
    },
    {
     "data": {
      "text/plain": [
       "ObjectId('5a5bf61b48f1a50e097a79a5')"
      ]
     },
     "execution_count": 24,
     "metadata": {},
     "output_type": "execute_result"
    },
    {
     "name": "stdout",
     "output_type": "stream",
     "text": [
      "--2018-01-14 16:30:41--  https://www.nintendo.co.jp/ir/en/finance/software/img/data_3ds_smashbros.jpg\n",
      "Resolving www.nintendo.co.jp (www.nintendo.co.jp)... 23.52.165.106\n",
      "Connecting to www.nintendo.co.jp (www.nintendo.co.jp)|23.52.165.106|:443... connected.\n",
      "HTTP request sent, awaiting response... 200 OK\n",
      "Length: 11635 (11K) [image/jpeg]\n",
      "Saving to: ‘images/data_3ds_smashbros.jpg’\n",
      "\n",
      "data_3ds_smashbros. 100%[===================>]  11.36K  --.-KB/s    in 0s      \n",
      "\n",
      "2018-01-14 16:30:42 (61.6 MB/s) - ‘images/data_3ds_smashbros.jpg’ saved [11635/11635]\n",
      "\n"
     ]
    },
    {
     "data": {
      "text/plain": [
       "ObjectId('5a5bf61b48f1a50e097a79a6')"
      ]
     },
     "execution_count": 24,
     "metadata": {},
     "output_type": "execute_result"
    },
    {
     "name": "stdout",
     "output_type": "stream",
     "text": [
      "--2018-01-14 16:30:42--  https://www.nintendo.co.jp/ir/en/finance/software/img/data_3ds_tomodachicollection.jpg\n",
      "Resolving www.nintendo.co.jp (www.nintendo.co.jp)... 23.52.165.106\n",
      "Connecting to www.nintendo.co.jp (www.nintendo.co.jp)|23.52.165.106|:443... connected.\n",
      "HTTP request sent, awaiting response... 200 OK\n",
      "Length: 23405 (23K) [image/jpeg]\n",
      "Saving to: ‘images/data_3ds_tomodachicollection.jpg’\n",
      "\n",
      "data_3ds_tomodachic 100%[===================>]  22.86K  --.-KB/s    in 0.01s   \n",
      "\n",
      "2018-01-14 16:30:42 (1.75 MB/s) - ‘images/data_3ds_tomodachicollection.jpg’ saved [23405/23405]\n",
      "\n"
     ]
    },
    {
     "data": {
      "text/plain": [
       "ObjectId('5a5bf61b48f1a50e097a79a7')"
      ]
     },
     "execution_count": 24,
     "metadata": {},
     "output_type": "execute_result"
    },
    {
     "name": "stdout",
     "output_type": "stream",
     "text": [
      "--2018-01-14 16:30:43--  https://www.nintendo.co.jp/ir/en/finance/software/img/data_3ds_009.jpg\n",
      "Resolving www.nintendo.co.jp (www.nintendo.co.jp)... 23.52.165.106\n",
      "Connecting to www.nintendo.co.jp (www.nintendo.co.jp)|23.52.165.106|:443... connected.\n",
      "HTTP request sent, awaiting response... 200 OK\n",
      "Length: 8640 (8.4K) [image/jpeg]\n",
      "Saving to: ‘images/data_3ds_009.jpg’\n",
      "\n",
      "data_3ds_009.jpg    100%[===================>]   8.44K  --.-KB/s    in 0s      \n",
      "\n",
      "2018-01-14 16:30:43 (101 MB/s) - ‘images/data_3ds_009.jpg’ saved [8640/8640]\n",
      "\n"
     ]
    },
    {
     "data": {
      "text/plain": [
       "ObjectId('5a5bf61b48f1a50e097a79a8')"
      ]
     },
     "execution_count": 24,
     "metadata": {},
     "output_type": "execute_result"
    },
    {
     "name": "stdout",
     "output_type": "stream",
     "text": [
      "--2018-01-14 16:30:43--  https://www.nintendo.co.jp/ir/en/finance/software/img/data_ds_001.jpg\n",
      "Resolving www.nintendo.co.jp (www.nintendo.co.jp)... 23.52.165.106\n",
      "Connecting to www.nintendo.co.jp (www.nintendo.co.jp)|23.52.165.106|:443... connected.\n",
      "HTTP request sent, awaiting response... 200 OK\n",
      "Length: 11788 (12K) [image/jpeg]\n",
      "Saving to: ‘images/data_ds_001.jpg’\n",
      "\n",
      "data_ds_001.jpg     100%[===================>]  11.51K  --.-KB/s    in 0s      \n",
      "\n",
      "2018-01-14 16:30:43 (178 MB/s) - ‘images/data_ds_001.jpg’ saved [11788/11788]\n",
      "\n"
     ]
    },
    {
     "data": {
      "text/plain": [
       "ObjectId('5a5bf61c48f1a50e097a79a9')"
      ]
     },
     "execution_count": 24,
     "metadata": {},
     "output_type": "execute_result"
    },
    {
     "name": "stdout",
     "output_type": "stream",
     "text": [
      "--2018-01-14 16:30:44--  https://www.nintendo.co.jp/ir/en/finance/softwaremg/data_ds_003.jpg\n",
      "Resolving www.nintendo.co.jp (www.nintendo.co.jp)... 23.52.165.106\n",
      "Connecting to www.nintendo.co.jp (www.nintendo.co.jp)|23.52.165.106|:443... connected.\n",
      "HTTP request sent, awaiting response... 404 Not Found\n",
      "2018-01-14 16:30:44 ERROR 404: Not Found.\n",
      "\n"
     ]
    },
    {
     "data": {
      "text/plain": [
       "ObjectId('5a5bf61c48f1a50e097a79aa')"
      ]
     },
     "execution_count": 24,
     "metadata": {},
     "output_type": "execute_result"
    },
    {
     "name": "stdout",
     "output_type": "stream",
     "text": [
      "--2018-01-14 16:30:44--  https://www.nintendo.co.jp/ir/en/finance/software/img/data_ds_002.jpg\n",
      "Resolving www.nintendo.co.jp (www.nintendo.co.jp)... 23.52.165.106\n",
      "Connecting to www.nintendo.co.jp (www.nintendo.co.jp)|23.52.165.106|:443... connected.\n",
      "HTTP request sent, awaiting response... 200 OK\n",
      "Length: 8290 (8.1K) [image/jpeg]\n",
      "Saving to: ‘images/data_ds_002.jpg’\n",
      "\n",
      "data_ds_002.jpg     100%[===================>]   8.10K  --.-KB/s    in 0s      \n",
      "\n",
      "2018-01-14 16:30:45 (131 MB/s) - ‘images/data_ds_002.jpg’ saved [8290/8290]\n",
      "\n"
     ]
    },
    {
     "data": {
      "text/plain": [
       "ObjectId('5a5bf61c48f1a50e097a79ab')"
      ]
     },
     "execution_count": 24,
     "metadata": {},
     "output_type": "execute_result"
    },
    {
     "name": "stdout",
     "output_type": "stream",
     "text": [
      "--2018-01-14 16:30:45--  https://www.nintendo.co.jp/ir/en/finance/softwaremg/data_ds_004.jpg\n",
      "Resolving www.nintendo.co.jp (www.nintendo.co.jp)... 23.52.165.106\n",
      "Connecting to www.nintendo.co.jp (www.nintendo.co.jp)|23.52.165.106|:443... connected.\n",
      "HTTP request sent, awaiting response... 404 Not Found\n",
      "2018-01-14 16:30:45 ERROR 404: Not Found.\n",
      "\n"
     ]
    },
    {
     "data": {
      "text/plain": [
       "ObjectId('5a5bf61c48f1a50e097a79ac')"
      ]
     },
     "execution_count": 24,
     "metadata": {},
     "output_type": "execute_result"
    },
    {
     "name": "stdout",
     "output_type": "stream",
     "text": [
      "--2018-01-14 16:30:45--  https://www.nintendo.co.jp/ir/en/finance/software/img/data_ds_006.jpg\n",
      "Resolving www.nintendo.co.jp (www.nintendo.co.jp)... 23.52.165.106\n",
      "Connecting to www.nintendo.co.jp (www.nintendo.co.jp)|23.52.165.106|:443... connected.\n",
      "HTTP request sent, awaiting response... 200 OK\n",
      "Length: 16311 (16K) [image/jpeg]\n",
      "Saving to: ‘images/data_ds_006.jpg’\n",
      "\n",
      "data_ds_006.jpg     100%[===================>]  15.93K  --.-KB/s    in 0s      \n",
      "\n",
      "2018-01-14 16:30:46 (64.8 MB/s) - ‘images/data_ds_006.jpg’ saved [16311/16311]\n",
      "\n"
     ]
    },
    {
     "data": {
      "text/plain": [
       "ObjectId('5a5bf61c48f1a50e097a79ad')"
      ]
     },
     "execution_count": 24,
     "metadata": {},
     "output_type": "execute_result"
    },
    {
     "name": "stdout",
     "output_type": "stream",
     "text": [
      "--2018-01-14 16:30:46--  https://www.nintendo.co.jp/ir/en/finance/software/img/data_ds_007.jpg\n",
      "Resolving www.nintendo.co.jp (www.nintendo.co.jp)... 23.52.165.106\n",
      "Connecting to www.nintendo.co.jp (www.nintendo.co.jp)|23.52.165.106|:443... connected.\n",
      "HTTP request sent, awaiting response... 200 OK\n",
      "Length: 14806 (14K) [image/jpeg]\n",
      "Saving to: ‘images/data_ds_007.jpg’\n",
      "\n",
      "data_ds_007.jpg     100%[===================>]  14.46K  --.-KB/s    in 0s      \n",
      "\n",
      "2018-01-14 16:30:46 (192 MB/s) - ‘images/data_ds_007.jpg’ saved [14806/14806]\n",
      "\n"
     ]
    },
    {
     "data": {
      "text/plain": [
       "ObjectId('5a5bf61c48f1a50e097a79ae')"
      ]
     },
     "execution_count": 24,
     "metadata": {},
     "output_type": "execute_result"
    },
    {
     "name": "stdout",
     "output_type": "stream",
     "text": [
      "--2018-01-14 16:30:46--  https://www.nintendo.co.jp/ir/en/finance/softwaremg/data_ds_005.jpg\n",
      "Resolving www.nintendo.co.jp (www.nintendo.co.jp)... 23.52.165.106\n",
      "Connecting to www.nintendo.co.jp (www.nintendo.co.jp)|23.52.165.106|:443... connected.\n",
      "HTTP request sent, awaiting response... 404 Not Found\n",
      "2018-01-14 16:30:47 ERROR 404: Not Found.\n",
      "\n"
     ]
    },
    {
     "data": {
      "text/plain": [
       "ObjectId('5a5bf61c48f1a50e097a79af')"
      ]
     },
     "execution_count": 24,
     "metadata": {},
     "output_type": "execute_result"
    },
    {
     "name": "stdout",
     "output_type": "stream",
     "text": [
      "--2018-01-14 16:30:47--  https://www.nintendo.co.jp/ir/en/finance/software/img/data_ds_008.jpg\n",
      "Resolving www.nintendo.co.jp (www.nintendo.co.jp)... 23.52.165.106\n",
      "Connecting to www.nintendo.co.jp (www.nintendo.co.jp)|23.52.165.106|:443... connected.\n",
      "HTTP request sent, awaiting response... 200 OK\n",
      "Length: 18925 (18K) [image/jpeg]\n",
      "Saving to: ‘images/data_ds_008.jpg’\n",
      "\n",
      "data_ds_008.jpg     100%[===================>]  18.48K  --.-KB/s    in 0s      \n",
      "\n",
      "2018-01-14 16:30:47 (184 MB/s) - ‘images/data_ds_008.jpg’ saved [18925/18925]\n",
      "\n"
     ]
    },
    {
     "data": {
      "text/plain": [
       "ObjectId('5a5bf61c48f1a50e097a79b0')"
      ]
     },
     "execution_count": 24,
     "metadata": {},
     "output_type": "execute_result"
    },
    {
     "name": "stdout",
     "output_type": "stream",
     "text": [
      "--2018-01-14 16:30:47--  https://www.nintendo.co.jp/ir/en/finance/softwaremg/data_ds_010.jpg\n",
      "Resolving www.nintendo.co.jp (www.nintendo.co.jp)... 23.52.165.106\n",
      "Connecting to www.nintendo.co.jp (www.nintendo.co.jp)|23.52.165.106|:443... connected.\n",
      "HTTP request sent, awaiting response... 404 Not Found\n",
      "2018-01-14 16:30:48 ERROR 404: Not Found.\n",
      "\n"
     ]
    },
    {
     "data": {
      "text/plain": [
       "ObjectId('5a5bf61c48f1a50e097a79b1')"
      ]
     },
     "execution_count": 24,
     "metadata": {},
     "output_type": "execute_result"
    },
    {
     "name": "stdout",
     "output_type": "stream",
     "text": [
      "--2018-01-14 16:30:48--  https://www.nintendo.co.jp/ir/en/finance/softwaremg/data_ds_009.jpg\n",
      "Resolving www.nintendo.co.jp (www.nintendo.co.jp)... 23.52.165.106\n",
      "Connecting to www.nintendo.co.jp (www.nintendo.co.jp)|23.52.165.106|:443... connected.\n",
      "HTTP request sent, awaiting response... 404 Not Found\n",
      "2018-01-14 16:30:48 ERROR 404: Not Found.\n",
      "\n"
     ]
    },
    {
     "data": {
      "text/plain": [
       "ObjectId('5a5bf61c48f1a50e097a79b2')"
      ]
     },
     "execution_count": 24,
     "metadata": {},
     "output_type": "execute_result"
    }
   ],
   "source": [
    "import re\n",
    "updated_games = []\n",
    "for gameindex, game in enumerate(games):\n",
    "    image = game['image']\n",
    "    image_short = image.split('/')[-1]\n",
    "    !wget --no-check-certificate $image -P images/ \n",
    "    game['image'] = 'images/' + image_short\n",
    "    game.pop('_id', None)\n",
    "    updated_games.append(game)"
   ]
  },
  {
   "cell_type": "markdown",
   "metadata": {},
   "source": [
    "#### Verify the downloaded images\n",
    "Run the `ls images` to show the available images and save the list to `lsimages`."
   ]
  },
  {
   "cell_type": "code",
   "execution_count": 25,
   "metadata": {},
   "outputs": [
    {
     "data": {
      "text/plain": [
       "['data_3ds_001.jpg',\n",
       " 'data_3ds_002.jpg',\n",
       " 'data_3ds_003.jpg',\n",
       " 'data_3ds_004.jpg',\n",
       " 'data_3ds_009.jpg',\n",
       " 'data_3ds_pokemonoras.jpg',\n",
       " 'data_3ds_pokemonsunmoon.jpg',\n",
       " 'data_3ds_pokemonxy.jpg',\n",
       " 'data_3ds_smashbros.jpg',\n",
       " 'data_3ds_tomodachicollection.jpg',\n",
       " 'data_ds_001.jpg',\n",
       " 'data_ds_002.jpg',\n",
       " 'data_ds_006.jpg',\n",
       " 'data_ds_007.jpg',\n",
       " 'data_ds_008.jpg',\n",
       " 'data_switch_001.png',\n",
       " 'data_switch_002.png',\n",
       " 'data_switch_003.png',\n",
       " 'data_switch_004.png',\n",
       " 'data_switch_005.png',\n",
       " 'data_wii_001.jpg',\n",
       " 'data_wii_002.jpg',\n",
       " 'data_wii_003.jpg',\n",
       " 'data_wii_004.jpg',\n",
       " 'data_wii_005.jpg',\n",
       " 'data_wii_006.jpg',\n",
       " 'data_wii_007.jpg',\n",
       " 'data_wii_008.jpg',\n",
       " 'data_wii_009.jpg',\n",
       " 'data_wiiu_mario3dworld.png',\n",
       " 'data_wiiu_mariokart8.png',\n",
       " 'data_wiiu_marioparty10.jpg',\n",
       " 'data_wiiu_newmariou.png',\n",
       " 'data_wiiu_newsuperluigiu.png',\n",
       " 'data_wiiu_nintendoland.png',\n",
       " 'data_wiiu_smashbros.png',\n",
       " 'data_wiiu_splatoon.jpg',\n",
       " 'data_wiiu_supermariomaker.png',\n",
       " 'data_wiiu_zeldahd.png',\n",
       " 'data_wii_wiiparty.jpg']"
      ]
     },
     "execution_count": 25,
     "metadata": {},
     "output_type": "execute_result"
    }
   ],
   "source": [
    "lsimages = !ls images\n",
    "lsimages"
   ]
  },
  {
   "cell_type": "markdown",
   "metadata": {},
   "source": [
    "#### Show the first image"
   ]
  },
  {
   "cell_type": "code",
   "execution_count": 26,
   "metadata": {},
   "outputs": [
    {
     "data": {
      "text/html": [
       "<img src=\"images/data_3ds_001.jpg\"/>"
      ],
      "text/plain": [
       "<IPython.core.display.Image object>"
      ]
     },
     "execution_count": 26,
     "metadata": {},
     "output_type": "execute_result"
    }
   ],
   "source": [
    "from IPython.display import Image\n",
    "from IPython.core.display import HTML \n",
    "Image(url='images/'+lsimages.list[0])"
   ]
  },
  {
   "cell_type": "markdown",
   "metadata": {},
   "source": [
    "#### Delete the old games from the database"
   ]
  },
  {
   "cell_type": "code",
   "execution_count": 27,
   "metadata": {},
   "outputs": [],
   "source": [
    "result = db.games.delete_many({})"
   ]
  },
  {
   "cell_type": "markdown",
   "metadata": {},
   "source": [
    "#### Insert the updated games"
   ]
  },
  {
   "cell_type": "code",
   "execution_count": 28,
   "metadata": {},
   "outputs": [],
   "source": [
    "result = db.games.insert_many(updated_games)"
   ]
  },
  {
   "cell_type": "markdown",
   "metadata": {},
   "source": [
    "<img class=\"logo\" src=\"logos/express.PNG\" />\n",
    "## Back-end\n",
    "Create the API with [ExpressJS](https://expressjs.com/) and [Mongoose](http://mongoosejs.com/).\n",
    "\n",
    "First make sure NodeJS is installed."
   ]
  },
  {
   "cell_type": "code",
   "execution_count": 29,
   "metadata": {},
   "outputs": [
    {
     "name": "stdout",
     "output_type": "stream",
     "text": [
      "v9.3.0\r\n"
     ]
    }
   ],
   "source": [
    "!node --version"
   ]
  },
  {
   "cell_type": "code",
   "execution_count": 30,
   "metadata": {},
   "outputs": [
    {
     "name": "stdout",
     "output_type": "stream",
     "text": [
      "5.5.1\r\n"
     ]
    }
   ],
   "source": [
    "!npm --version"
   ]
  },
  {
   "cell_type": "markdown",
   "metadata": {},
   "source": [
    "### Create Node package and install Express generator\n",
    "Install the ExpressJS [generator](https://expressjs.com/en/starter/generator.html) after creating the `server` folder."
   ]
  },
  {
   "cell_type": "code",
   "execution_count": 31,
   "metadata": {},
   "outputs": [],
   "source": [
    "!rm -rf server"
   ]
  },
  {
   "cell_type": "code",
   "execution_count": 32,
   "metadata": {},
   "outputs": [
    {
     "name": "stdout",
     "output_type": "stream",
     "text": [
      "Wrote to /home/jitsejan/code/pelican-blog/content/notebooks/server/package.json:\n",
      "\n",
      "{\n",
      "  \"name\": \"server\",\n",
      "  \"version\": \"1.0.0\",\n",
      "  \"description\": \"\",\n",
      "  \"main\": \"index.js\",\n",
      "  \"scripts\": {\n",
      "    \"test\": \"echo \\\"Error: no test specified\\\" && exit 1\"\n",
      "  },\n",
      "  \"keywords\": [],\n",
      "  \"author\": \"\",\n",
      "  \"license\": \"ISC\"\n",
      "}\n",
      "\n",
      "\n",
      "\u001b[K\u001b[?25h\u001b[37;40mnpm\u001b[0m \u001b[0m\u001b[34;40mnotice\u001b[0m\u001b[35m\u001b[0m created a lockfile as package-lock.json. You should commit this file.\n",
      "\u001b[0m\u001b[37;40mnpm\u001b[0m \u001b[0m\u001b[30;43mWARN\u001b[0m\u001b[35m\u001b[0m server@1.0.0 No description\n",
      "\u001b[0m\u001b[37;40mnpm\u001b[0m \u001b[0m\u001b[30;43mWARN\u001b[0m\u001b[35m\u001b[0m server@1.0.0 No repository field.\n",
      "\u001b[0m\n",
      "+ express-generator@4.15.5\n",
      "added 6 packages in 1.945s\n"
     ]
    }
   ],
   "source": [
    "!mkdir server && cd server && npm init -y && npm install express-generator --save"
   ]
  },
  {
   "cell_type": "markdown",
   "metadata": {},
   "source": [
    "#### Check ExpressJS version"
   ]
  },
  {
   "cell_type": "code",
   "execution_count": 33,
   "metadata": {},
   "outputs": [
    {
     "name": "stdout",
     "output_type": "stream",
     "text": [
      "5.5.1\r\n"
     ]
    }
   ],
   "source": [
    "!cd server && npm express --version"
   ]
  },
  {
   "cell_type": "markdown",
   "metadata": {},
   "source": [
    "#### Create the scaffold for the server\n",
    "Note that we use `npx` instead of `npm` because we run NPM from a <b>local</b> folder."
   ]
  },
  {
   "cell_type": "code",
   "execution_count": 34,
   "metadata": {},
   "outputs": [
    {
     "name": "stdout",
     "output_type": "stream",
     "text": [
      "\n",
      "   \u001b[36mcreate\u001b[0m : .\n",
      "   \u001b[36mcreate\u001b[0m : ./package.json\n",
      "   \u001b[36mcreate\u001b[0m : ./app.js\n",
      "   \u001b[36mcreate\u001b[0m : ./.gitignore\n",
      "   \u001b[36mcreate\u001b[0m : ./routes\n",
      "   \u001b[36mcreate\u001b[0m : ./routes/index.js\n",
      "   \u001b[36mcreate\u001b[0m : ./routes/users.js\n",
      "   \u001b[36mcreate\u001b[0m : ./views\n",
      "   \u001b[36mcreate\u001b[0m : ./views/index.ejs\n",
      "   \u001b[36mcreate\u001b[0m : ./views/error.ejs\n",
      "   \u001b[36mcreate\u001b[0m : ./public\n",
      "   \u001b[36mcreate\u001b[0m : ./bin\n",
      "   \u001b[36mcreate\u001b[0m : ./bin/www\n",
      "   \u001b[36mcreate\u001b[0m : ./public/javascripts\n",
      "   \u001b[36mcreate\u001b[0m : ./public/images\n",
      "   \u001b[36mcreate\u001b[0m : ./public/stylesheets\n",
      "   \u001b[36mcreate\u001b[0m : ./public/stylesheets/style.css\n",
      "\n",
      "   install dependencies:\n",
      "     $ cd . && npm install\n",
      "\n",
      "   run the app:\n",
      "     $ DEBUG=server:* npm start\n",
      "\n"
     ]
    }
   ],
   "source": [
    "!cd server && npx express -y --force --git --view ejs ."
   ]
  },
  {
   "cell_type": "code",
   "execution_count": 35,
   "metadata": {},
   "outputs": [
    {
     "name": "stdout",
     "output_type": "stream",
     "text": [
      "app.js  \u001b[0m\u001b[01;34mnode_modules\u001b[0m/  package-lock.json  \u001b[01;34mroutes\u001b[0m/\r\n",
      "\u001b[01;34mbin\u001b[0m/    package.json   \u001b[01;34mpublic\u001b[0m/            \u001b[01;34mviews\u001b[0m/\r\n"
     ]
    }
   ],
   "source": [
    "ls server/"
   ]
  },
  {
   "cell_type": "code",
   "execution_count": 36,
   "metadata": {},
   "outputs": [
    {
     "name": "stdout",
     "output_type": "stream",
     "text": [
      "{\r\n",
      "  \"name\": \"server\",\r\n",
      "  \"version\": \"0.0.0\",\r\n",
      "  \"private\": true,\r\n",
      "  \"scripts\": {\r\n",
      "    \"start\": \"node ./bin/www\"\r\n",
      "  },\r\n",
      "  \"dependencies\": {\r\n",
      "    \"body-parser\": \"~1.18.2\",\r\n",
      "    \"cookie-parser\": \"~1.4.3\",\r\n",
      "    \"debug\": \"~2.6.9\",\r\n",
      "    \"ejs\": \"~2.5.7\",\r\n",
      "    \"express\": \"~4.15.5\",\r\n",
      "    \"morgan\": \"~1.9.0\",\r\n",
      "    \"serve-favicon\": \"~2.4.5\"\r\n",
      "  }\r\n",
      "}\r\n"
     ]
    }
   ],
   "source": [
    "!cat server/package.json"
   ]
  },
  {
   "cell_type": "markdown",
   "metadata": {},
   "source": [
    "#### Install dependencies"
   ]
  },
  {
   "cell_type": "code",
   "execution_count": 37,
   "metadata": {},
   "outputs": [
    {
     "name": "stdout",
     "output_type": "stream",
     "text": [
      "\u001b[K\u001b[?25hadded 57 packages and removed 5 packages in 4.657s32minfo\u001b[0m \u001b[35mlifecycle\u001b[0m server@0.0.0~prepare: ser\u001b[0m\u001b[K\u001b[K\n"
     ]
    }
   ],
   "source": [
    "!cd server && npm install"
   ]
  },
  {
   "cell_type": "markdown",
   "metadata": {},
   "source": [
    "#### Run the app"
   ]
  },
  {
   "cell_type": "code",
   "execution_count": 38,
   "metadata": {},
   "outputs": [
    {
     "data": {
      "text/plain": [
       "4180"
      ]
     },
     "execution_count": 38,
     "metadata": {},
     "output_type": "execute_result"
    }
   ],
   "source": [
    "import subprocess\n",
    "proc = subprocess.Popen(\"cd server && npm start &\", shell=True, stdout=subprocess.PIPE)\n",
    "proc.pid"
   ]
  },
  {
   "cell_type": "markdown",
   "metadata": {},
   "source": [
    "#### Request the ExpressJS app"
   ]
  },
  {
   "cell_type": "code",
   "execution_count": 39,
   "metadata": {},
   "outputs": [
    {
     "data": {
      "text/html": [
       "<!DOCTYPE html>\n",
       "<html>\n",
       "  <head>\n",
       "    <title>Express</title>\n",
       "    <link rel='stylesheet' href='/stylesheets/style.css' />\n",
       "  </head>\n",
       "  <body>\n",
       "    <h1>Express</h1>\n",
       "    <p>Welcome to Express</p>\n",
       "  </body>\n",
       "</html>\n"
      ],
      "text/plain": [
       "<IPython.core.display.HTML object>"
      ]
     },
     "metadata": {},
     "output_type": "display_data"
    }
   ],
   "source": [
    "import requests\n",
    "import time\n",
    "from IPython.core.display import display, HTML\n",
    "\n",
    "time.sleep(5)\n",
    "resp = requests.get('http://localhost:3000')\n",
    "display(HTML(resp.text))"
   ]
  },
  {
   "cell_type": "markdown",
   "metadata": {},
   "source": [
    "#### Stop the ExpressJS app\n",
    "Use `lsof` to find the process that uses port 3000 and kill it."
   ]
  },
  {
   "cell_type": "code",
   "execution_count": 40,
   "metadata": {},
   "outputs": [
    {
     "data": {
      "text/plain": [
       "4192"
      ]
     },
     "execution_count": 40,
     "metadata": {},
     "output_type": "execute_result"
    }
   ],
   "source": [
    "process=!lsof -i:3000 -t\n",
    "expressid = int(process[0])\n",
    "expressid"
   ]
  },
  {
   "cell_type": "code",
   "execution_count": 41,
   "metadata": {},
   "outputs": [],
   "source": [
    "!kill -9 $expressid"
   ]
  },
  {
   "cell_type": "markdown",
   "metadata": {},
   "source": [
    "#### Check if the server is down"
   ]
  },
  {
   "cell_type": "code",
   "execution_count": 42,
   "metadata": {},
   "outputs": [
    {
     "name": "stdout",
     "output_type": "stream",
     "text": [
      "Server is down!\n"
     ]
    }
   ],
   "source": [
    "try:\n",
    "    resp = requests.get('http://localhost:3000')\n",
    "except:\n",
    "    print(\"Server is down!\")"
   ]
  },
  {
   "cell_type": "markdown",
   "metadata": {},
   "source": [
    "<img class=\"logo\" src=\"logos/mongoose.PNG\" />\n",
    "## Connection from ExpressJS to MongoDB \n",
    "[Mongoose](http://mongoosejs.com/) will be used to connect the Node application to the database."
   ]
  },
  {
   "cell_type": "markdown",
   "metadata": {},
   "source": [
    "#### Install package"
   ]
  },
  {
   "cell_type": "code",
   "execution_count": 43,
   "metadata": {},
   "outputs": [
    {
     "name": "stdout",
     "output_type": "stream",
     "text": [
      "\u001b[K\u001b[?25h+ mongoose@4.13.9m......\u001b[0m] \\ postinstall: \u001b[32minfo\u001b[0m \u001b[35mlifecycle\u001b[0m mongoose@4.13.9~postinstall:\u001b[0m\u001b[K\u001b[K\n",
      "added 28 packages in 5.46s\n"
     ]
    }
   ],
   "source": [
    "!cd server && npm install --save mongoose"
   ]
  },
  {
   "cell_type": "markdown",
   "metadata": {},
   "source": [
    "#### Check installation"
   ]
  },
  {
   "cell_type": "code",
   "execution_count": 44,
   "metadata": {},
   "outputs": [
    {
     "name": "stdout",
     "output_type": "stream",
     "text": [
      "    \"mongoose\": \"^4.13.9\",\r\n"
     ]
    }
   ],
   "source": [
    "!cat server/package.json | grep mongoose"
   ]
  },
  {
   "cell_type": "markdown",
   "metadata": {},
   "source": [
    "#### Add the Mongoose connection\n",
    "Add the following to the top of `server/app.js`.\n",
    "\n",
    "```javascript\n",
    "var mongoose = require('mongoose');\n",
    "mongoose.connect('mongodb://localhost:27017/nintendo');\n",
    "var db = mongoose.connection;\n",
    "db.on(\"error\", console.error.bind(console, \"Connection error\"));\n",
    "db.once(\"open\", function(callback){\n",
    "  console.log(\"Connection successful\")\n",
    "});\n",
    "```"
   ]
  },
  {
   "cell_type": "code",
   "execution_count": 45,
   "metadata": {},
   "outputs": [
    {
     "name": "stdout",
     "output_type": "stream",
     "text": [
      "Overwriting server/app.js\n"
     ]
    }
   ],
   "source": [
    "%%file server/app.js\n",
    "var express = require('express');\n",
    "var path = require('path');\n",
    "var favicon = require('serve-favicon');\n",
    "var logger = require('morgan');\n",
    "var cookieParser = require('cookie-parser');\n",
    "var bodyParser = require('body-parser');\n",
    "// Mongoose connection\n",
    "var mongoose = require('mongoose');\n",
    "mongoose.connect('mongodb://localhost:27017/nintendo');\n",
    "var db = mongoose.connection;\n",
    "db.on(\"error\", console.error.bind(console, \"Connection error\"));\n",
    "db.once(\"open\", function(callback){\n",
    "  console.log(\"Connection successful\")\n",
    "});\n",
    "\n",
    "var index = require('./routes/index');\n",
    "var users = require('./routes/users');\n",
    "\n",
    "var app = express();\n",
    "\n",
    "// view engine setup\n",
    "app.set('views', path.join(__dirname, 'views'));\n",
    "app.set('view engine', 'ejs');\n",
    "\n",
    "// uncomment after placing your favicon in /public\n",
    "//app.use(favicon(path.join(__dirname, 'public', 'favicon.ico')));\n",
    "app.use(logger('dev'));\n",
    "app.use(bodyParser.json());\n",
    "app.use(bodyParser.urlencoded({ extended: false }));\n",
    "app.use(cookieParser());\n",
    "app.use(express.static(path.join(__dirname, 'public')));\n",
    "\n",
    "app.use('/', index);\n",
    "app.use('/users', users);\n",
    "\n",
    "// catch 404 and forward to error handler\n",
    "app.use(function(req, res, next) {\n",
    "  var err = new Error('Not Found');\n",
    "  err.status = 404;\n",
    "  next(err);\n",
    "});\n",
    "\n",
    "// error handler\n",
    "app.use(function(err, req, res, next) {\n",
    "  // set locals, only providing error in development\n",
    "  res.locals.message = err.message;\n",
    "  res.locals.error = req.app.get('env') === 'development' ? err : {};\n",
    "\n",
    "  // render the error page\n",
    "  res.status(err.status || 500);\n",
    "  res.render('error');\n",
    "});\n",
    "\n",
    "module.exports = app;"
   ]
  },
  {
   "cell_type": "code",
   "execution_count": 46,
   "metadata": {},
   "outputs": [
    {
     "name": "stdout",
     "output_type": "stream",
     "text": [
      "var express = require('express');\r\n",
      "var path = require('path');\r\n",
      "var favicon = require('serve-favicon');\r\n",
      "var logger = require('morgan');\r\n",
      "var cookieParser = require('cookie-parser');\r\n",
      "var bodyParser = require('body-parser');\r\n",
      "// Mongoose connection\r\n",
      "var mongoose = require('mongoose');\r\n",
      "mongoose.connect('mongodb://localhost:27017/nintendo');\r\n",
      "var db = mongoose.connection;\r\n",
      "db.on(\"error\", console.error.bind(console, \"Connection error\"));\r\n",
      "db.once(\"open\", function(callback){\r\n",
      "  console.log(\"Connection successful\")\r\n",
      "});\r\n",
      "\r\n",
      "var index = require('./routes/index');\r\n",
      "var users = require('./routes/users');\r\n",
      "\r\n",
      "var app = express();\r\n",
      "\r\n"
     ]
    }
   ],
   "source": [
    "!head -n 20 server/app.js"
   ]
  },
  {
   "cell_type": "markdown",
   "metadata": {},
   "source": [
    "#### Check if MongoDB initializes"
   ]
  },
  {
   "cell_type": "code",
   "execution_count": 47,
   "metadata": {},
   "outputs": [],
   "source": [
    "import subprocess\n",
    "proc = subprocess.Popen(\"cd server && npm start &\", shell=True, stdout=subprocess.PIPE)"
   ]
  },
  {
   "cell_type": "code",
   "execution_count": 48,
   "metadata": {},
   "outputs": [
    {
     "name": "stdout",
     "output_type": "stream",
     "text": [
      "b'\\n'\n",
      "b'> server@0.0.0 start /home/jitsejan/code/pelican-blog/content/notebooks/server\\n'\n",
      "b'> node ./bin/www\\n'\n",
      "b'\\n'\n",
      "b'Connection successful\\n'\n",
      "Success!\n"
     ]
    }
   ],
   "source": [
    "import time\n",
    "\n",
    "time.sleep(5)\n",
    "for line in proc.stdout:\n",
    "    print(str(line))\n",
    "    if 'Connection successful' in str(line):\n",
    "        print(\"Success!\")\n",
    "        break"
   ]
  },
  {
   "cell_type": "code",
   "execution_count": 49,
   "metadata": {},
   "outputs": [],
   "source": [
    "process=!lsof -i:3000 -t\n",
    "expressid = int(process[0])\n",
    "!kill -9 $expressid"
   ]
  },
  {
   "cell_type": "markdown",
   "metadata": {},
   "source": [
    "### Create new model\n",
    "Create the Mongoose model for the games that we gathered in the earlier step."
   ]
  },
  {
   "cell_type": "code",
   "execution_count": 50,
   "metadata": {},
   "outputs": [],
   "source": [
    "!mkdir server/models"
   ]
  },
  {
   "cell_type": "code",
   "execution_count": 51,
   "metadata": {},
   "outputs": [
    {
     "name": "stdout",
     "output_type": "stream",
     "text": [
      "Writing server/models/game.js\n"
     ]
    }
   ],
   "source": [
    "%%file server/models/game.js\n",
    "var mongoose = require(\"mongoose\");\n",
    "var Schema = mongoose.Schema;\n",
    "\n",
    "var GameSchema = new Schema({\n",
    "  console: {\n",
    "    type: String\n",
    "  },\n",
    "  name: {\n",
    "    type: String\n",
    "  },\n",
    "  image: {\n",
    "    type: String\n",
    "  },\n",
    "  sales: {\n",
    "    type: String\n",
    "  }\n",
    "});\n",
    "\n",
    "module.exports = mongoose.model(\"Game\", GameSchema);"
   ]
  },
  {
   "cell_type": "markdown",
   "metadata": {},
   "source": [
    "### Adding new route\n",
    "Create the route to access the data of the games. In the scaffold we already have the `index.js` and `users.js`, so lets create the `games.js` to setup the routes for the new pages."
   ]
  },
  {
   "cell_type": "markdown",
   "metadata": {},
   "source": [
    "#### Existing routes"
   ]
  },
  {
   "cell_type": "code",
   "execution_count": 52,
   "metadata": {},
   "outputs": [
    {
     "name": "stdout",
     "output_type": "stream",
     "text": [
      "var express = require('express');\r\n",
      "var router = express.Router();\r\n",
      "\r\n",
      "/* GET home page. */\r\n",
      "router.get('/', function(req, res, next) {\r\n",
      "  res.render('index', { title: 'Express' });\r\n",
      "});\r\n",
      "\r\n",
      "module.exports = router;\r\n"
     ]
    }
   ],
   "source": [
    "!cat server/routes/index.js"
   ]
  },
  {
   "cell_type": "code",
   "execution_count": 53,
   "metadata": {},
   "outputs": [
    {
     "name": "stdout",
     "output_type": "stream",
     "text": [
      "var express = require('express');\r\n",
      "var router = express.Router();\r\n",
      "\r\n",
      "/* GET users listing. */\r\n",
      "router.get('/', function(req, res, next) {\r\n",
      "  res.send('respond with a resource');\r\n",
      "});\r\n",
      "\r\n",
      "module.exports = router;\r\n"
     ]
    }
   ],
   "source": [
    "!cat server/routes/users.js"
   ]
  },
  {
   "cell_type": "markdown",
   "metadata": {},
   "source": [
    "#### Add the route requirement\n",
    "Add the following to `server/app.js`:\n",
    "\n",
    "```javascript\n",
    "...\n",
    "var consoles = require('./routes/games.js');\n",
    "...\n",
    "app.use('/games', games);\n",
    "...\n",
    "```\n",
    "\n",
    "With `sed` we can insert text on a certain position in a file."
   ]
  },
  {
   "cell_type": "code",
   "execution_count": 54,
   "metadata": {},
   "outputs": [],
   "source": [
    "!sed -i \"18i var games = require('./routes/games');\" server/app.js"
   ]
  },
  {
   "cell_type": "markdown",
   "metadata": {},
   "source": [
    "Enable the routes in the app:"
   ]
  },
  {
   "cell_type": "code",
   "execution_count": 55,
   "metadata": {},
   "outputs": [],
   "source": [
    "!sed -i \"36i app.use('/games', games);\" server/app.js"
   ]
  },
  {
   "cell_type": "markdown",
   "metadata": {},
   "source": [
    "and create the route file `server/routes/games.js`:"
   ]
  },
  {
   "cell_type": "code",
   "execution_count": 56,
   "metadata": {},
   "outputs": [
    {
     "name": "stdout",
     "output_type": "stream",
     "text": [
      "Writing server/routes/games.js\n"
     ]
    }
   ],
   "source": [
    "%%file server/routes/games.js\n",
    "var express = require('express');\n",
    "var router = express.Router();\n",
    "var Game = require(\"../models/game\");\n",
    "\n",
    "router.get('/', (req, res) => {\n",
    "  Game.find({}, '', function (error, games){\n",
    "    if (error) { game.error(error); }\n",
    "    res.send({\n",
    "      games: games\n",
    "    })\n",
    "  }).sort({_id:-1})\n",
    "})\n",
    "\n",
    "module.exports = router;"
   ]
  },
  {
   "cell_type": "markdown",
   "metadata": {},
   "source": [
    "Start the server and verify the new route which should return a JSON object."
   ]
  },
  {
   "cell_type": "code",
   "execution_count": 57,
   "metadata": {
    "scrolled": false
   },
   "outputs": [
    {
     "name": "stdout",
     "output_type": "stream",
     "text": [
      "{\n",
      "    \"games\": [\n",
      "        {\n",
      "            \"image\": \"images/data_ds_009.jpg\",\n",
      "            \"name\": \"Super Mario 64 DS\",\n",
      "            \"_id\": \"5a5bf63c48f1a50e097a79df\",\n",
      "            \"sales\": \"11.06\",\n",
      "            \"console\": \"Nintendo DS\"\n",
      "        },\n",
      "        {\n",
      "            \"image\": \"images/data_ds_010.jpg\",\n",
      "            \"name\": \"Animal Crossing:\",\n",
      "            \"_id\": \"5a5bf63c48f1a50e097a79de\",\n",
      "            \"sales\": \"11.75\",\n",
      "            \"console\": \"Nintendo DS\"\n",
      "        },\n",
      "        {\n",
      "            \"image\": \"images/data_ds_008.jpg\",\n",
      "            \"name\": \"Pok\\u00e9mon\",\n",
      "            \"_id\": \"5a5bf63c48f1a50e097a79dd\",\n",
      "            \"sales\": \"12.72\",\n",
      "            \"console\": \"Nintendo DS\"\n",
      "        },\n",
      "        {\n",
      "            \"image\": \"images/data_ds_005.jpg\",\n",
      "            \"name\": \"Brain Age 2:\",\n",
      "            \"_id\": \"5a5bf63c48f1a50e097a79dc\",\n",
      "            \"sales\": \"14.88\",\n",
      "            \"console\": \"Nintendo DS\"\n",
      "        },\n",
      "        {\n",
      "            \"image\": \"images/data_ds_007.jpg\",\n",
      "            \"name\": \"Pok\\u00e9mon\",\n",
      "            \"_id\": \"5a5bf63c48f1a50e097a79db\",\n",
      "            \"sales\": \"15.64\",\n",
      "            \"console\": \"Nintendo DS\"\n",
      "        },\n",
      "        {\n",
      "            \"image\": \"images/data_ds_006.jpg\",\n",
      "            \"name\": \"Pok\\u00e9mon\",\n",
      "            \"_id\": \"5a5bf63c48f1a50e097a79da\",\n",
      "            \"sales\": \"17.67\",\n",
      "            \"console\": \"Nintendo DS\"\n",
      "        },\n",
      "        {\n",
      "            \"image\": \"images/data_ds_004.jpg\",\n",
      "            \"name\": \"Brain Age:\",\n",
      "            \"_id\": \"5a5bf63c48f1a50e097a79d9\",\n",
      "            \"sales\": \"19.01\",\n",
      "            \"console\": \"Nintendo DS\"\n",
      "        },\n",
      "        {\n",
      "            \"image\": \"images/data_ds_002.jpg\",\n",
      "            \"name\": \"Mario Kart DS\",\n",
      "            \"_id\": \"5a5bf63c48f1a50e097a79d8\",\n",
      "            \"sales\": \"23.60\",\n",
      "            \"console\": \"Nintendo DS\"\n",
      "        },\n",
      "        {\n",
      "            \"image\": \"images/data_ds_003.jpg\",\n",
      "            \"name\": \"nintendogs\",\n",
      "            \"_id\": \"5a5bf63c48f1a50e097a79d7\",\n",
      "            \"sales\": \"23.96\",\n",
      "            \"console\": \"Nintendo DS\"\n",
      "        },\n",
      "        {\n",
      "            \"image\": \"images/data_ds_001.jpg\",\n",
      "            \"name\": \"New Super Mario Bros.\",\n",
      "            \"_id\": \"5a5bf63c48f1a50e097a79d6\",\n",
      "            \"sales\": \"30.80\",\n",
      "            \"console\": \"Nintendo DS\"\n",
      "        },\n",
      "        {\n",
      "            \"image\": \"images/data_3ds_009.jpg\",\n",
      "            \"name\": \"Luigi's Mansion:\",\n",
      "            \"_id\": \"5a5bf63c48f1a50e097a79d5\",\n",
      "            \"sales\": \"5.45\",\n",
      "            \"console\": \"Nintendo 3DS\"\n",
      "        },\n",
      "        {\n",
      "            \"image\": \"images/data_3ds_tomodachicollection.jpg\",\n",
      "            \"name\": \"Tomodachi Life\",\n",
      "            \"_id\": \"5a5bf63c48f1a50e097a79d4\",\n",
      "            \"sales\": \"5.93\",\n",
      "            \"console\": \"Nintendo 3DS\"\n",
      "        },\n",
      "        {\n",
      "            \"image\": \"images/data_3ds_smashbros.jpg\",\n",
      "            \"name\": \"Super Smash Bros.\",\n",
      "            \"_id\": \"5a5bf63c48f1a50e097a79d3\",\n",
      "            \"sales\": \"8.91\",\n",
      "            \"console\": \"Nintendo 3DS\"\n",
      "        },\n",
      "        {\n",
      "            \"image\": \"images/data_3ds_004.jpg\",\n",
      "            \"name\": \"Animal Crossing:\",\n",
      "            \"_id\": \"5a5bf63c48f1a50e097a79d2\",\n",
      "            \"sales\": \"11.23\",\n",
      "            \"console\": \"Nintendo 3DS\"\n",
      "        },\n",
      "        {\n",
      "            \"image\": \"images/data_3ds_001.jpg\",\n",
      "            \"name\": \"SUPER MARIO\",\n",
      "            \"_id\": \"5a5bf63c48f1a50e097a79d1\",\n",
      "            \"sales\": \"11.40\",\n",
      "            \"console\": \"Nintendo 3DS\"\n",
      "        },\n",
      "        {\n",
      "            \"image\": \"images/data_3ds_003.jpg\",\n",
      "            \"name\": \"New\",\n",
      "            \"_id\": \"5a5bf63c48f1a50e097a79d0\",\n",
      "            \"sales\": \"11.73\",\n",
      "            \"console\": \"Nintendo 3DS\"\n",
      "        },\n",
      "        {\n",
      "            \"image\": \"images/data_3ds_pokemonoras.jpg\",\n",
      "            \"name\": \"Pok\\u00e9mon Omega Ruby/\",\n",
      "            \"_id\": \"5a5bf63c48f1a50e097a79cf\",\n",
      "            \"sales\": \"13.85\",\n",
      "            \"console\": \"Nintendo 3DS\"\n",
      "        },\n",
      "        {\n",
      "            \"image\": \"images/data_3ds_pokemonsunmoon.jpg\",\n",
      "            \"name\": \"Pok\\u00e9mon Sun/\",\n",
      "            \"_id\": \"5a5bf63c48f1a50e097a79ce\",\n",
      "            \"sales\": \"15.91\",\n",
      "            \"console\": \"Nintendo 3DS\"\n",
      "        },\n",
      "        {\n",
      "            \"image\": \"images/data_3ds_002.jpg\",\n",
      "            \"name\": \"Mario Kart 7\",\n",
      "            \"_id\": \"5a5bf63c48f1a50e097a79cd\",\n",
      "            \"sales\": \"15.95\",\n",
      "            \"console\": \"Nintendo 3DS\"\n",
      "        },\n",
      "        {\n",
      "            \"image\": \"images/data_3ds_pokemonxy.jpg\",\n",
      "            \"name\": \"Pok\\u00e9mon X/Pok\\u00e9mon Y\",\n",
      "            \"_id\": \"5a5bf63c48f1a50e097a79cc\",\n",
      "            \"sales\": \"16.20\",\n",
      "            \"console\": \"Nintendo 3DS\"\n",
      "        },\n",
      "        {\n",
      "            \"image\": \"images/data_wii_wiiparty.jpg\",\n",
      "            \"name\": \"Wii Party\",\n",
      "            \"_id\": \"5a5bf63c48f1a50e097a79cb\",\n",
      "            \"sales\": \"9.29\",\n",
      "            \"console\": \"Wii\"\n",
      "        },\n",
      "        {\n",
      "            \"image\": \"images/data_wii_008.jpg\",\n",
      "            \"name\": \"Super Mario Galaxy\",\n",
      "            \"_id\": \"5a5bf63c48f1a50e097a79ca\",\n",
      "            \"sales\": \"12.76\",\n",
      "            \"console\": \"Wii\"\n",
      "        },\n",
      "        {\n",
      "            \"image\": \"images/data_wii_009.jpg\",\n",
      "            \"name\": \"Super Smash Bros.\",\n",
      "            \"_id\": \"5a5bf63c48f1a50e097a79c9\",\n",
      "            \"sales\": \"13.25\",\n",
      "            \"console\": \"Wii\"\n",
      "        },\n",
      "        {\n",
      "            \"image\": \"images/data_wii_007.jpg\",\n",
      "            \"name\": \"Wii Fit Plus\",\n",
      "            \"_id\": \"5a5bf63c48f1a50e097a79c8\",\n",
      "            \"sales\": \"21.13\",\n",
      "            \"console\": \"Wii\"\n",
      "        },\n",
      "        {\n",
      "            \"image\": \"images/data_wii_006.jpg\",\n",
      "            \"name\": \"Wii Fit\",\n",
      "            \"_id\": \"5a5bf63c48f1a50e097a79c7\",\n",
      "            \"sales\": \"22.67\",\n",
      "            \"console\": \"Wii\"\n",
      "        },\n",
      "        {\n",
      "            \"image\": \"images/data_wii_004.jpg\",\n",
      "            \"name\": \"Wii Play\",\n",
      "            \"_id\": \"5a5bf63c48f1a50e097a79c6\",\n",
      "            \"sales\": \"28.02\",\n",
      "            \"console\": \"Wii\"\n",
      "        },\n",
      "        {\n",
      "            \"image\": \"images/data_wii_005.jpg\",\n",
      "            \"name\": \"New\",\n",
      "            \"_id\": \"5a5bf63c48f1a50e097a79c5\",\n",
      "            \"sales\": \"30.11\",\n",
      "            \"console\": \"Wii\"\n",
      "        },\n",
      "        {\n",
      "            \"image\": \"images/data_wii_003.jpg\",\n",
      "            \"name\": \"Wii Sports Resort\",\n",
      "            \"_id\": \"5a5bf63c48f1a50e097a79c4\",\n",
      "            \"sales\": \"33.06\",\n",
      "            \"console\": \"Wii\"\n",
      "        },\n",
      "        {\n",
      "            \"image\": \"images/data_wii_002.jpg\",\n",
      "            \"name\": \"Mario Kart Wii\",\n",
      "            \"_id\": \"5a5bf63c48f1a50e097a79c3\",\n",
      "            \"sales\": \"37.02\",\n",
      "            \"console\": \"Wii\"\n",
      "        },\n",
      "        {\n",
      "            \"image\": \"images/data_wii_001.jpg\",\n",
      "            \"name\": \"Wii Sports\",\n",
      "            \"_id\": \"5a5bf63c48f1a50e097a79c2\",\n",
      "            \"sales\": \"82.83\",\n",
      "            \"console\": \"Wii\"\n",
      "        },\n",
      "        {\n",
      "            \"image\": \"images/data_wiiu_marioparty10.jpg\",\n",
      "            \"name\": \"Mario Party 10\",\n",
      "            \"_id\": \"5a5bf63c48f1a50e097a79c1\",\n",
      "            \"sales\": \"2.13\",\n",
      "            \"console\": \"Wii U\"\n",
      "        },\n",
      "        {\n",
      "            \"image\": \"images/data_wiiu_zeldahd.png\",\n",
      "            \"name\": \"The Legend of Zelda:\",\n",
      "            \"_id\": \"5a5bf63c48f1a50e097a79c0\",\n",
      "            \"sales\": \"2.23\",\n",
      "            \"console\": \"Wii U\"\n",
      "        },\n",
      "        {\n",
      "            \"image\": \"images/data_wiiu_newsuperluigiu.png\",\n",
      "            \"name\": \"New Super Luigi U\",\n",
      "            \"_id\": \"5a5bf63c48f1a50e097a79bf\",\n",
      "            \"sales\": \"2.99\",\n",
      "            \"console\": \"Wii U\"\n",
      "        },\n",
      "        {\n",
      "            \"image\": \"images/data_wiiu_supermariomaker.png\",\n",
      "            \"name\": \"Super Mario Maker\",\n",
      "            \"_id\": \"5a5bf63c48f1a50e097a79be\",\n",
      "            \"sales\": \"3.98\",\n",
      "            \"console\": \"Wii U\"\n",
      "        },\n",
      "        {\n",
      "            \"image\": \"images/data_wiiu_splatoon.jpg\",\n",
      "            \"name\": \"Splatoon\",\n",
      "            \"_id\": \"5a5bf63c48f1a50e097a79bd\",\n",
      "            \"sales\": \"4.87\",\n",
      "            \"console\": \"Wii U\"\n",
      "        },\n",
      "        {\n",
      "            \"image\": \"images/data_wiiu_nintendoland.png\",\n",
      "            \"name\": \"Nintendo Land\",\n",
      "            \"_id\": \"5a5bf63c48f1a50e097a79bc\",\n",
      "            \"sales\": \"5.18\",\n",
      "            \"console\": \"Wii U\"\n",
      "        },\n",
      "        {\n",
      "            \"image\": \"images/data_wiiu_smashbros.png\",\n",
      "            \"name\": \"Super Smash Bros.\",\n",
      "            \"_id\": \"5a5bf63c48f1a50e097a79bb\",\n",
      "            \"sales\": \"5.26\",\n",
      "            \"console\": \"Wii U\"\n",
      "        },\n",
      "        {\n",
      "            \"image\": \"images/data_wiiu_mario3dworld.png\",\n",
      "            \"name\": \"Super Mario 3D World\",\n",
      "            \"_id\": \"5a5bf63c48f1a50e097a79ba\",\n",
      "            \"sales\": \"5.70\",\n",
      "            \"console\": \"Wii U\"\n",
      "        },\n",
      "        {\n",
      "            \"image\": \"images/data_wiiu_newmariou.png\",\n",
      "            \"name\": \"New\",\n",
      "            \"_id\": \"5a5bf63c48f1a50e097a79b9\",\n",
      "            \"sales\": \"5.73\",\n",
      "            \"console\": \"Wii U\"\n",
      "        },\n",
      "        {\n",
      "            \"image\": \"images/data_wiiu_mariokart8.png\",\n",
      "            \"name\": \"Mario Kart 8\",\n",
      "            \"_id\": \"5a5bf63c48f1a50e097a79b8\",\n",
      "            \"sales\": \"8.38\",\n",
      "            \"console\": \"Wii U\"\n",
      "        },\n",
      "        {\n",
      "            \"image\": \"images/data_switch_004.png\",\n",
      "            \"name\": \"ARMS\",\n",
      "            \"_id\": \"5a5bf63c48f1a50e097a79b7\",\n",
      "            \"sales\": \"1.35\",\n",
      "            \"console\": \"Nintendo Switch\"\n",
      "        },\n",
      "        {\n",
      "            \"image\": \"images/data_switch_003.png\",\n",
      "            \"name\": \"1-2-Switch\",\n",
      "            \"_id\": \"5a5bf63c48f1a50e097a79b6\",\n",
      "            \"sales\": \"1.37\",\n",
      "            \"console\": \"Nintendo Switch\"\n",
      "        },\n",
      "        {\n",
      "            \"image\": \"images/data_switch_005.png\",\n",
      "            \"name\": \"Splatoon 2\",\n",
      "            \"_id\": \"5a5bf63c48f1a50e097a79b5\",\n",
      "            \"sales\": \"3.61\",\n",
      "            \"console\": \"Nintendo Switch\"\n",
      "        },\n",
      "        {\n",
      "            \"image\": \"images/data_switch_002.png\",\n",
      "            \"name\": \"Mario Kart 8 Deluxe\",\n",
      "            \"_id\": \"5a5bf63c48f1a50e097a79b4\",\n",
      "            \"sales\": \"4.42\",\n",
      "            \"console\": \"Nintendo Switch\"\n",
      "        },\n",
      "        {\n",
      "            \"image\": \"images/data_switch_001.png\",\n",
      "            \"name\": \"The Legend of Zelda:\",\n",
      "            \"_id\": \"5a5bf63c48f1a50e097a79b3\",\n",
      "            \"sales\": \"4.70\",\n",
      "            \"console\": \"Nintendo Switch\"\n",
      "        }\n",
      "    ]\n",
      "}\n"
     ]
    }
   ],
   "source": [
    "import json\n",
    "import requests\n",
    "import time\n",
    "proc = subprocess.Popen(\"cd server && npm start &\", shell=True, stdout=subprocess.PIPE)\n",
    "time.sleep(5)\n",
    "resp = requests.get('http://localhost:3000/games').json()\n",
    "print(json.dumps(resp, indent=4))"
   ]
  },
  {
   "cell_type": "markdown",
   "metadata": {},
   "source": [
    "Lets grab the ID of the first game of the data to verify the route in the next step."
   ]
  },
  {
   "cell_type": "code",
   "execution_count": 58,
   "metadata": {},
   "outputs": [
    {
     "data": {
      "text/plain": [
       "'5a5bf63c48f1a50e097a79df'"
      ]
     },
     "execution_count": 58,
     "metadata": {},
     "output_type": "execute_result"
    }
   ],
   "source": [
    "game_id = resp['games'][0]['_id']\n",
    "game_id"
   ]
  },
  {
   "cell_type": "markdown",
   "metadata": {},
   "source": [
    "Kill the application again."
   ]
  },
  {
   "cell_type": "code",
   "execution_count": 59,
   "metadata": {},
   "outputs": [],
   "source": [
    "process=!fuser 3000/tcp | awk '{print $1}'\n",
    "expressid = int(process[1])\n",
    "!kill -9 $expressid"
   ]
  },
  {
   "cell_type": "markdown",
   "metadata": {},
   "source": [
    "Add another route to the `games.js` to get information for a single game.\n",
    "\n",
    "```javascript\n",
    "router.get('/:id', (req, res) => {\n",
    "  var db = req.db;\n",
    "  Game.findById(req.params.id, '', function (error, game) {\n",
    "    if (error) { console.error(error); }\n",
    "    res.send(game)\n",
    "  })\n",
    "})\n",
    "```\n"
   ]
  },
  {
   "cell_type": "code",
   "execution_count": 60,
   "metadata": {},
   "outputs": [
    {
     "name": "stdout",
     "output_type": "stream",
     "text": [
      "Overwriting server/routes/games.js\n"
     ]
    }
   ],
   "source": [
    "%%file server/routes/games.js\n",
    "var express = require('express');\n",
    "var router = express.Router();\n",
    "var Game = require(\"../models/game\");\n",
    "\n",
    "router.get('/', (req, res) => {\n",
    "  Game.find({}, '', function (error, games){\n",
    "    if (error) { game.error(error); }\n",
    "    res.send({\n",
    "      games: games\n",
    "    })\n",
    "  }).sort({_id:-1})\n",
    "})\n",
    "router.get('/:id', (req, res) => {\n",
    "  var db = req.db;\n",
    "  Game.findById(req.params.id, '', function (error, game) {\n",
    "    if (error) { console.error(error); }\n",
    "    res.send(game)\n",
    "  })\n",
    "})\n",
    "\n",
    "module.exports = router;"
   ]
  },
  {
   "cell_type": "markdown",
   "metadata": {},
   "source": [
    "#### Verify the game detail route\n",
    "As a final step to verify the API we check if we can get the detailed information for the game ID we saved in the previous step."
   ]
  },
  {
   "cell_type": "code",
   "execution_count": 61,
   "metadata": {},
   "outputs": [
    {
     "name": "stdout",
     "output_type": "stream",
     "text": [
      "{\n",
      "    \"image\": \"images/data_ds_009.jpg\",\n",
      "    \"name\": \"Super Mario 64 DS\",\n",
      "    \"_id\": \"5a5bf63c48f1a50e097a79df\",\n",
      "    \"sales\": \"11.06\",\n",
      "    \"console\": \"Nintendo DS\"\n",
      "}\n"
     ]
    }
   ],
   "source": [
    "import time\n",
    "proc = subprocess.Popen(\"cd server && npm start &\", shell=True, stdout=subprocess.PIPE)\n",
    "time.sleep(5)\n",
    "resp = requests.get('http://localhost:3000/games/'+game_id).json()\n",
    "print(json.dumps(resp, indent=4))"
   ]
  },
  {
   "cell_type": "code",
   "execution_count": 62,
   "metadata": {},
   "outputs": [],
   "source": [
    "process=!fuser 3000/tcp | awk '{print $1}'\n",
    "expressid = int(process[1])\n",
    "!kill -9 $expressid"
   ]
  },
  {
   "cell_type": "markdown",
   "metadata": {},
   "source": [
    "### Conclusion\n",
    "For the back-end we have created an API using Mongoose and ExpressJS with the following two routes:\n",
    "* All games\n",
    "* Game detail\n",
    "<hr/>"
   ]
  },
  {
   "cell_type": "markdown",
   "metadata": {},
   "source": [
    "<img src=\"logos/vuejs.PNG\" class=\"logo\" />\n",
    "## Front-end\n",
    "The next step is to create the front-end that can talk to the back-end and visualize the information. As a Javascript framework we are going to use VueJS. We will install the Vue [CLI](https://github.com/vuejs/vue-cli).\n",
    "\n",
    "#### Create the client folder and install Vue"
   ]
  },
  {
   "cell_type": "code",
   "execution_count": 63,
   "metadata": {},
   "outputs": [],
   "source": [
    "!rm -rf client"
   ]
  },
  {
   "cell_type": "code",
   "execution_count": 64,
   "metadata": {},
   "outputs": [
    {
     "name": "stdout",
     "output_type": "stream",
     "text": [
      "Wrote to /home/jitsejan/code/pelican-blog/content/notebooks/client/package.json:\n",
      "\n",
      "{\n",
      "  \"name\": \"client\",\n",
      "  \"version\": \"1.0.0\",\n",
      "  \"description\": \"\",\n",
      "  \"main\": \"index.js\",\n",
      "  \"scripts\": {\n",
      "    \"test\": \"echo \\\"Error: no test specified\\\" && exit 1\"\n",
      "  },\n",
      "  \"keywords\": [],\n",
      "  \"author\": \"\",\n",
      "  \"license\": \"ISC\"\n",
      "}\n",
      "\n",
      "\n",
      "\u001b[K\u001b[?25h\u001b[37;40mnpm\u001b[0m \u001b[0m\u001b[30;43mWARN\u001b[0m \u001b[0m\u001b[35mdeprecated\u001b[0m coffee-script@1.12.7: CoffeeScript on NPM has moved to \"coffeescript\" (no hyphen)\n",
      "\u001b[K\u001b[?25h\u001b[37;40mnpm\u001b[0m \u001b[0m\u001b[34;40mnotice\u001b[0m\u001b[35m\u001b[0m created a lockfile as package-lock.json. You should commit this file.\n",
      "\u001b[0m\u001b[37;40mnpm\u001b[0m \u001b[0m\u001b[30;43mWARN\u001b[0m\u001b[35m\u001b[0m client@1.0.0 No description\n",
      "\u001b[0m\u001b[37;40mnpm\u001b[0m \u001b[0m\u001b[30;43mWARN\u001b[0m\u001b[35m\u001b[0m client@1.0.0 No repository field.\n",
      "\u001b[0m\n",
      "+ vue-cli@2.9.2\n",
      "added 264 packages in 25.037s\n"
     ]
    }
   ],
   "source": [
    "!mkdir client && cd client && npm init -y && npm install vue-cli --save"
   ]
  },
  {
   "cell_type": "code",
   "execution_count": 65,
   "metadata": {},
   "outputs": [
    {
     "name": "stdout",
     "output_type": "stream",
     "text": [
      "total 92\r\n",
      "drwxrwxr-x   3 jitsejan jitsejan  4096 Jan 14 16:34 \u001b[0m\u001b[01;34m.\u001b[0m/\r\n",
      "drwxrwxr-x   7 jitsejan jitsejan  4096 Jan 14 16:33 \u001b[01;34m..\u001b[0m/\r\n",
      "drwxrwxr-x 239 jitsejan jitsejan 12288 Jan 14 16:34 \u001b[01;34mnode_modules\u001b[0m/\r\n",
      "-rw-rw-r--   1 jitsejan jitsejan   269 Jan 14 16:34 package.json\r\n",
      "-rw-rw-r--   1 jitsejan jitsejan 68307 Jan 14 16:34 package-lock.json\r\n"
     ]
    }
   ],
   "source": [
    "ls -la client"
   ]
  },
  {
   "cell_type": "markdown",
   "metadata": {},
   "source": [
    "#### Check version of Vue"
   ]
  },
  {
   "cell_type": "code",
   "execution_count": 66,
   "metadata": {},
   "outputs": [
    {
     "name": "stdout",
     "output_type": "stream",
     "text": [
      "5.5.1\r\n"
     ]
    }
   ],
   "source": [
    "!cd client && npm vue --version"
   ]
  },
  {
   "cell_type": "markdown",
   "metadata": {},
   "source": [
    "### Create the scaffold\n",
    "To create the scaffold we will use the `vue-cli`. However, this requires us to give direct input to the command line which is tricky because we need to answer different questions when creating the scaffold using the tool. The easiest way to automate this task is to use the Linux tool [Expect](https://linux.die.net/man/1/expect). Make sure the tool is installed on your system. \n",
    "\n",
    "```bash\n",
    "$ sudo apt-get install expect -y\n",
    "```\n",
    "\n",
    "Note: if you do not want to use this trick, you can also use the external terminal and run\n",
    "\n",
    "```bash\n",
    "$ vue init webpack\n",
    "```\n",
    "\n",
    "in the client directory or simply clone the [repository](https://github.com/vuejs-templates/webpack) to your local file system.\n",
    "\n",
    "The following script contains the answers for the prompts created by the `vue init`. "
   ]
  },
  {
   "cell_type": "code",
   "execution_count": 67,
   "metadata": {},
   "outputs": [
    {
     "name": "stdout",
     "output_type": "stream",
     "text": [
      "Writing client/init_expect_script.sh\n"
     ]
    }
   ],
   "source": [
    "%%file client/init_expect_script.sh\n",
    "#!/usr/bin/expect -f\n",
    "spawn npx vue init webpack\n",
    "\n",
    "expect \"Generate project in current directory?\" { send \"Y\\r\" }\n",
    "expect \"Project name\"\n",
    "send \"vueclient\\r\"\n",
    "expect \"Project description\"\n",
    "send \"An experiment with Jupyter and MEVN\\r\"\n",
    "expect \"Author\"\n",
    "send \"Jupyter\\r\\n\"\n",
    "expect \"Vue build\"\n",
    "send \"\\r\\n\"\n",
    "expect \"Install vue-router?\"\n",
    "send \"Y\\r\"\n",
    "expect \"Use ESLint to lint your code?\"\n",
    "send \"Y\\r\"\n",
    "expect \"Pick an ESLint preset\"\n",
    "send \"\\r\\n\"\n",
    "expect \"Set up unit tests\"\n",
    "send \"Y\\r\"\n",
    "expect \"Pick a test runner\"\n",
    "send \"\\r\\n\"\n",
    "expect \"Setup e2e tests with Nightwatch?\"\n",
    "send \"Y\\r\"\n",
    "expect \"Should we run `npm install` for you after the project has been created? (recommended)\"\n",
    "send \"\\r\\n\"\n",
    "interact"
   ]
  },
  {
   "cell_type": "code",
   "execution_count": 68,
   "metadata": {},
   "outputs": [],
   "source": [
    "!chmod 755 client/init_expect_script.sh"
   ]
  },
  {
   "cell_type": "code",
   "execution_count": 69,
   "metadata": {
    "scrolled": false
   },
   "outputs": [
    {
     "name": "stdout",
     "output_type": "stream",
     "text": [
      "spawn npx vue init webpack\n",
      "\n",
      "\u001b[32m?\u001b[39m \u001b[1mGenerate project in current directory?\u001b[22m\u001b[0m \u001b[0m\u001b[2m(Y/n) \u001b[22m\u001b[47D\u001b[47C\u001b[2K\u001b[G\u001b[32m?\u001b[39m \u001b[1mGenerate project in current directory?\u001b[22m\u001b[0m \u001b[0m\u001b[2m(Y/n) \u001b[22mY\u001b[48D\u001b[48C\u001b[2K\u001b[G\u001b[32m?\u001b[39m \u001b[1mGenerate project in current directory?\u001b[22m\u001b[0m \u001b[0m\u001b[36mYes\u001b[39m\u001b[44D\u001b[44C\n",
      "\u001b[?25l\u001b[2K\u001b[1G\u001b[36m⠋\u001b[39m downloading template\u001b[2K\u001b[1G\u001b[36m⠙\u001b[39m downloading template\u001b[2K\u001b[1G\u001b[36m⠹\u001b[39m downloading template\u001b[2K\u001b[1G\u001b[36m⠸\u001b[39m downloading template\u001b[2K\u001b[1G\u001b[36m⠼\u001b[39m downloading template\u001b[2K\u001b[1G\u001b[36m⠴\u001b[39m downloading template\u001b[2K\u001b[1G\u001b[36m⠦\u001b[39m downloading template\u001b[2K\u001b[1G\u001b[36m⠧\u001b[39m downloading template\u001b[2K\u001b[1G\u001b[?25h\u001b[32m?\u001b[39m \u001b[1mProject name\u001b[22m\u001b[0m \u001b[0m\u001b[2m(client) \u001b[22m\u001b[24D\u001b[24C\u001b[2K\u001b[G\u001b[32m?\u001b[39m \u001b[1mProject name\u001b[22m\u001b[0m \u001b[0m\u001b[2m(client) \u001b[22mv\u001b[25D\u001b[25C\u001b[2K\u001b[G\u001b[32m?\u001b[39m \u001b[1mProject name\u001b[22m\u001b[0m \u001b[0m\u001b[2m(client) \u001b[22mvu\u001b[26D\u001b[26C\u001b[2K\u001b[G\u001b[32m?\u001b[39m \u001b[1mProject name\u001b[22m\u001b[0m \u001b[0m\u001b[2m(client) \u001b[22mvue\u001b[27D\u001b[27C\u001b[2K\u001b[G\u001b[32m?\u001b[39m \u001b[1mProject name\u001b[22m\u001b[0m \u001b[0m\u001b[2m(client) \u001b[22mvuec\u001b[28D\u001b[28C\u001b[2K\u001b[G\u001b[32m?\u001b[39m \u001b[1mProject name\u001b[22m\u001b[0m \u001b[0m\u001b[2m(client) \u001b[22mvuecl\u001b[29D\u001b[29C\u001b[2K\u001b[G\u001b[32m?\u001b[39m \u001b[1mProject name\u001b[22m\u001b[0m \u001b[0m\u001b[2m(client) \u001b[22mvuecli\u001b[30D\u001b[30C\u001b[2K\u001b[G\u001b[32m?\u001b[39m \u001b[1mProject name\u001b[22m\u001b[0m \u001b[0m\u001b[2m(client) \u001b[22mvueclie\u001b[31D\u001b[31C\u001b[2K\u001b[G\u001b[32m?\u001b[39m \u001b[1mProject name\u001b[22m\u001b[0m \u001b[0m\u001b[2m(client) \u001b[22mvueclien\u001b[32D\u001b[32C\u001b[2K\u001b[G\u001b[32m?\u001b[39m \u001b[1mProject name\u001b[22m\u001b[0m \u001b[0m\u001b[2m(client) \u001b[22mvueclient\u001b[33D\u001b[33C\u001b[2K\u001b[G\u001b[32m?\u001b[39m \u001b[1mProject name\u001b[22m\u001b[0m \u001b[0m\u001b[36mvueclient\u001b[39m\u001b[24D\u001b[24C\n",
      "\u001b[32m?\u001b[39m \u001b[1mProject description\u001b[22m\u001b[0m \u001b[0m\u001b[2m(A Vue.js project) \u001b[22m\u001b[41D\u001b[41C\u001b[2K\u001b[G\u001b[32m?\u001b[39m \u001b[1mProject description\u001b[22m\u001b[0m \u001b[0m\u001b[2m(A Vue.js project) \u001b[22mA\u001b[42D\u001b[42C\u001b[2K\u001b[G\u001b[32m?\u001b[39m \u001b[1mProject description\u001b[22m\u001b[0m \u001b[0m\u001b[2m(A Vue.js project) \u001b[22mAn\u001b[43D\u001b[43C\u001b[2K\u001b[G\u001b[32m?\u001b[39m \u001b[1mProject description\u001b[22m\u001b[0m \u001b[0m\u001b[2m(A Vue.js project) \u001b[22mAn \u001b[44D\u001b[44C\u001b[2K\u001b[G\u001b[32m?\u001b[39m \u001b[1mProject description\u001b[22m\u001b[0m \u001b[0m\u001b[2m(A Vue.js project) \u001b[22mAn e\u001b[45D\u001b[45C\u001b[2K\u001b[G\u001b[32m?\u001b[39m \u001b[1mProject description\u001b[22m\u001b[0m \u001b[0m\u001b[2m(A Vue.js project) \u001b[22mAn ex\u001b[46D\u001b[46C\u001b[2K\u001b[G\u001b[32m?\u001b[39m \u001b[1mProject description\u001b[22m\u001b[0m \u001b[0m\u001b[2m(A Vue.js project) \u001b[22mAn exp\u001b[47D\u001b[47C\u001b[2K\u001b[G\u001b[32m?\u001b[39m \u001b[1mProject description\u001b[22m\u001b[0m \u001b[0m\u001b[2m(A Vue.js project) \u001b[22mAn expe\u001b[48D\u001b[48C\u001b[2K\u001b[G\u001b[32m?\u001b[39m \u001b[1mProject description\u001b[22m\u001b[0m \u001b[0m\u001b[2m(A Vue.js project) \u001b[22mAn exper\u001b[49D\u001b[49C\u001b[2K\u001b[G\u001b[32m?\u001b[39m \u001b[1mProject description\u001b[22m\u001b[0m \u001b[0m\u001b[2m(A Vue.js project) \u001b[22mAn experi\u001b[50D\u001b[50C\u001b[2K\u001b[G\u001b[32m?\u001b[39m \u001b[1mProject description\u001b[22m\u001b[0m \u001b[0m\u001b[2m(A Vue.js project) \u001b[22mAn experim\u001b[51D\u001b[51C\u001b[2K\u001b[G\u001b[32m?\u001b[39m \u001b[1mProject description\u001b[22m\u001b[0m \u001b[0m\u001b[2m(A Vue.js project) \u001b[22mAn experime\u001b[52D\u001b[52C\u001b[2K\u001b[G\u001b[32m?\u001b[39m \u001b[1mProject description\u001b[22m\u001b[0m \u001b[0m\u001b[2m(A Vue.js project) \u001b[22mAn experimen\u001b[53D\u001b[53C\u001b[2K\u001b[G\u001b[32m?\u001b[39m \u001b[1mProject description\u001b[22m\u001b[0m \u001b[0m\u001b[2m(A Vue.js project) \u001b[22mAn experiment\u001b[54D\u001b[54C\u001b[2K\u001b[G\u001b[32m?\u001b[39m \u001b[1mProject description\u001b[22m\u001b[0m \u001b[0m\u001b[2m(A Vue.js project) \u001b[22mAn experiment \u001b[55D\u001b[55C\u001b[2K\u001b[G\u001b[32m?\u001b[39m \u001b[1mProject description\u001b[22m\u001b[0m \u001b[0m\u001b[2m(A Vue.js project) \u001b[22mAn experiment w\u001b[56D\u001b[56C\u001b[2K\u001b[G\u001b[32m?\u001b[39m \u001b[1mProject description\u001b[22m\u001b[0m \u001b[0m\u001b[2m(A Vue.js project) \u001b[22mAn experiment wi\u001b[57D\u001b[57C\u001b[2K\u001b[G\u001b[32m?\u001b[39m \u001b[1mProject description\u001b[22m\u001b[0m \u001b[0m\u001b[2m(A Vue.js project) \u001b[22mAn experiment wit\u001b[58D\u001b[58C\u001b[2K\u001b[G\u001b[32m?\u001b[39m \u001b[1mProject description\u001b[22m\u001b[0m \u001b[0m\u001b[2m(A Vue.js project) \u001b[22mAn experiment with\u001b[59D\u001b[59C\u001b[2K\u001b[G\u001b[32m?\u001b[39m \u001b[1mProject description\u001b[22m\u001b[0m \u001b[0m\u001b[2m(A Vue.js project) \u001b[22mAn experiment with \u001b[60D\u001b[60C\u001b[2K\u001b[G\u001b[32m?\u001b[39m \u001b[1mProject description\u001b[22m\u001b[0m \u001b[0m\u001b[2m(A Vue.js project) \u001b[22mAn experiment with J\u001b[61D\u001b[61C\u001b[2K\u001b[G\u001b[32m?\u001b[39m \u001b[1mProject description\u001b[22m\u001b[0m \u001b[0m\u001b[2m(A Vue.js project) \u001b[22mAn experiment with Ju\u001b[62D\u001b[62C\u001b[2K\u001b[G\u001b[32m?\u001b[39m \u001b[1mProject description\u001b[22m\u001b[0m \u001b[0m\u001b[2m(A Vue.js project) \u001b[22mAn experiment with Jup\u001b[63D\u001b[63C\u001b[2K\u001b[G\u001b[32m?\u001b[39m \u001b[1mProject description\u001b[22m\u001b[0m \u001b[0m\u001b[2m(A Vue.js project) \u001b[22mAn experiment with Jupy\u001b[64D\u001b[64C\u001b[2K\u001b[G\u001b[32m?\u001b[39m \u001b[1mProject description\u001b[22m\u001b[0m \u001b[0m\u001b[2m(A Vue.js project) \u001b[22mAn experiment with Jupyt\u001b[65D\u001b[65C\u001b[2K\u001b[G\u001b[32m?\u001b[39m \u001b[1mProject description\u001b[22m\u001b[0m \u001b[0m\u001b[2m(A Vue.js project) \u001b[22mAn experiment with Jupyte\u001b[66D\u001b[66C\u001b[2K\u001b[G\u001b[32m?\u001b[39m \u001b[1mProject description\u001b[22m\u001b[0m \u001b[0m\u001b[2m(A Vue.js project) \u001b[22mAn experiment with Jupyter\u001b[67D\u001b[67C\u001b[2K\u001b[G\u001b[32m?\u001b[39m \u001b[1mProject description\u001b[22m\u001b[0m \u001b[0m\u001b[2m(A Vue.js project) \u001b[22mAn experiment with Jupyter \u001b[68D\u001b[68C\u001b[2K\u001b[G\u001b[32m?\u001b[39m \u001b[1mProject description\u001b[22m\u001b[0m \u001b[0m\u001b[2m(A Vue.js project) \u001b[22mAn experiment with Jupyter a\u001b[69D\u001b[69C\u001b[2K\u001b[G\u001b[32m?\u001b[39m \u001b[1mProject description\u001b[22m\u001b[0m \u001b[0m\u001b[2m(A Vue.js project) \u001b[22mAn experiment with Jupyter an\u001b[70D\u001b[70C\u001b[2K\u001b[G\u001b[32m?\u001b[39m \u001b[1mProject description\u001b[22m\u001b[0m \u001b[0m\u001b[2m(A Vue.js project) \u001b[22mAn experiment with Jupyter and\u001b[71D\u001b[71C\u001b[2K\u001b[G\u001b[32m?\u001b[39m \u001b[1mProject description\u001b[22m\u001b[0m \u001b[0m\u001b[2m(A Vue.js project) \u001b[22mAn experiment with Jupyter and \u001b[72D\u001b[72C\u001b[2K\u001b[G\u001b[32m?\u001b[39m \u001b[1mProject description\u001b[22m\u001b[0m \u001b[0m\u001b[2m(A Vue.js project) \u001b[22mAn experiment with Jupyter and M\u001b[73D\u001b[73C\u001b[2K\u001b[G\u001b[32m?\u001b[39m \u001b[1mProject description\u001b[22m\u001b[0m \u001b[0m\u001b[2m(A Vue.js project) \u001b[22mAn experiment with Jupyter and ME\u001b[74D\u001b[74C\u001b[2K\u001b[G\u001b[32m?\u001b[39m \u001b[1mProject description\u001b[22m\u001b[0m \u001b[0m\u001b[2m(A Vue.js project) \u001b[22mAn experiment with Jupyter and MEV\u001b[75D\u001b[75C\u001b[2K\u001b[G\u001b[32m?\u001b[39m \u001b[1mProject description\u001b[22m\u001b[0m \u001b[0m\u001b[2m(A Vue.js project) \u001b[22mAn experiment with Jupyter and MEVN\u001b[76D\u001b[76C\u001b[2K\u001b[G\u001b[32m?\u001b[39m \u001b[1mProject description\u001b[22m\u001b[0m \u001b[0m\u001b[36mAn experiment with Jupyter and MEVN\u001b[39m\u001b[57D\u001b[57C\n",
      "\u001b[32m?\u001b[39m \u001b[1mAuthor\u001b[22m\u001b[0m \u001b[0m\u001b[9D\u001b[9C\u001b[2K\u001b[G\u001b[32m?\u001b[39m \u001b[1mAuthor\u001b[22m\u001b[0m \u001b[0mJ\u001b[10D\u001b[10C\u001b[2K\u001b[G\u001b[32m?\u001b[39m \u001b[1mAuthor\u001b[22m\u001b[0m \u001b[0mJu\u001b[11D\u001b[11C\u001b[2K\u001b[G\u001b[32m?\u001b[39m \u001b[1mAuthor\u001b[22m\u001b[0m \u001b[0mJup\u001b[12D\u001b[12C\u001b[2K\u001b[G\u001b[32m?\u001b[39m \u001b[1mAuthor\u001b[22m\u001b[0m \u001b[0mJupy\u001b[13D\u001b[13C\u001b[2K\u001b[G\u001b[32m?\u001b[39m \u001b[1mAuthor\u001b[22m\u001b[0m \u001b[0mJupyt\u001b[14D\u001b[14C\u001b[2K\u001b[G\u001b[32m?\u001b[39m \u001b[1mAuthor\u001b[22m\u001b[0m \u001b[0mJupyte\u001b[15D\u001b[15C\u001b[2K\u001b[G\u001b[32m?\u001b[39m \u001b[1mAuthor\u001b[22m\u001b[0m \u001b[0mJupyter\u001b[16D\u001b[16C\u001b[2K\u001b[G\u001b[32m?\u001b[39m \u001b[1mAuthor\u001b[22m\u001b[0m \u001b[0m\u001b[36mJupyter\u001b[39m\u001b[16D\u001b[16C\n",
      "\u001b[?25l\u001b[32m?\u001b[39m \u001b[1mVue build\u001b[22m\u001b[0m \u001b[0m\u001b[2m(Use arrow keys)\u001b[22m\n",
      "\u001b[36m❯ Runtime + Compiler: recommended for most users\u001b[39m \n",
      "  Runtime-only: about 6KB lighter min+gzip, but templates (or any Vue-specific H\n",
      "TML) are ONLY allowed in .vue files - render functions are required elsewhere \u001b[78D\u001b[78C\u001b[2K\u001b[1A\u001b[2K\u001b[1A\u001b[2K\u001b[1A\u001b[2K\u001b[G\u001b[32m?\u001b[39m \u001b[1mVue build\u001b[22m\u001b[0m \u001b[0m\u001b[36mstandalone\u001b[39m\u001b[22D\u001b[22C\n",
      "\u001b[?25h\u001b[32m?\u001b[39m \u001b[1mInstall vue-router?\u001b[22m\u001b[0m \u001b[0m\u001b[2m(Y/n) \u001b[22m\u001b[28D\u001b[28C\u001b[2K\u001b[G\u001b[32m?\u001b[39m \u001b[1mInstall vue-router?\u001b[22m\u001b[0m \u001b[0m\u001b[2m(Y/n) \u001b[22mY\u001b[29D\u001b[29C\u001b[2K\u001b[G\u001b[32m?\u001b[39m \u001b[1mInstall vue-router?\u001b[22m\u001b[0m \u001b[0m\u001b[36mYes\u001b[39m\u001b[25D\u001b[25C\n",
      "\u001b[32m?\u001b[39m \u001b[1mUse ESLint to lint your code?\u001b[22m\u001b[0m \u001b[0m\u001b[2m(Y/n) \u001b[22m\u001b[38D\u001b[38C\u001b[2K\u001b[G\u001b[32m?\u001b[39m \u001b[1mUse ESLint to lint your code?\u001b[22m\u001b[0m \u001b[0m\u001b[2m(Y/n) \u001b[22mY\u001b[39D\u001b[39C\u001b[2K\u001b[G\u001b[32m?\u001b[39m \u001b[1mUse ESLint to lint your code?\u001b[22m\u001b[0m \u001b[0m\u001b[36mYes\u001b[39m\u001b[35D\u001b[35C\n",
      "\u001b[?25l\u001b[32m?\u001b[39m \u001b[1mPick an ESLint preset\u001b[22m\u001b[0m \u001b[0m\u001b[2m(Use arrow keys)\u001b[22m\n",
      "\u001b[36m❯ Standard (https://github.com/standard/standard)\u001b[39m \n",
      "  Airbnb (https://github.com/airbnb/javascript) \n",
      "  none (configure it yourself) \u001b[31D\u001b[31C\u001b[2K\u001b[1A\u001b[2K\u001b[1A\u001b[2K\u001b[1A\u001b[2K\u001b[G\u001b[32m?\u001b[39m \u001b[1mPick an ESLint preset\u001b[22m\u001b[0m \u001b[0m\u001b[36mStandard\u001b[39m\u001b[32D\u001b[32C\n",
      "\u001b[?25h\u001b[32m?\u001b[39m \u001b[1mSet up unit tests\u001b[22m\u001b[0m \u001b[0m\u001b[2m(Y/n) \u001b[22m\u001b[26D\u001b[26C\u001b[2K\u001b[G\u001b[32m?\u001b[39m \u001b[1mSet up unit tests\u001b[22m\u001b[0m \u001b[0m\u001b[2m(Y/n) \u001b[22mY\u001b[27D\u001b[27C\u001b[2K\u001b[G\u001b[32m?\u001b[39m \u001b[1mSet up unit tests\u001b[22m\u001b[0m \u001b[0m\u001b[36mYes\u001b[39m\u001b[23D\u001b[23C\n",
      "\u001b[?25l\u001b[32m?\u001b[39m \u001b[1mPick a test runner\u001b[22m\u001b[0m \u001b[0m\u001b[2m(Use arrow keys)\u001b[22m\n",
      "\u001b[36m❯ Jest\u001b[39m \n",
      "  Karma and Mocha \n",
      "  none (configure it yourself) \u001b[31D\u001b[31C\u001b[2K\u001b[1A\u001b[2K\u001b[1A\u001b[2K\u001b[1A\u001b[2K\u001b[G\u001b[32m?\u001b[39m \u001b[1mPick a test runner\u001b[22m\u001b[0m \u001b[0m\u001b[36mjest\u001b[39m\u001b[25D\u001b[25C\n",
      "\u001b[?25h\u001b[32m?\u001b[39m \u001b[1mSetup e2e tests with Nightwatch?\u001b[22m\u001b[0m \u001b[0m\u001b[2m(Y/n) \u001b[22m\u001b[41D\u001b[41C\u001b[2K\u001b[G\u001b[32m?\u001b[39m \u001b[1mSetup e2e tests with Nightwatch?\u001b[22m\u001b[0m \u001b[0m\u001b[2m(Y/n) \u001b[22mY\u001b[42D\u001b[42C\u001b[2K\u001b[G\u001b[32m?\u001b[39m \u001b[1mSetup e2e tests with Nightwatch?\u001b[22m\u001b[0m \u001b[0m\u001b[36mYes\u001b[39m\u001b[38D\u001b[38C\n",
      "\u001b[?25l\u001b[32m?\u001b[39m \u001b[1mShould we run `npm install` for you after the project has been created? (recom\n",
      "mended)\u001b[22m\u001b[0m \u001b[0m\u001b[2m(Use arrow keys)\u001b[22m\n",
      "\u001b[36m❯ Yes, use NPM\u001b[39m \n",
      "  Yes, use Yarn \n"
     ]
    },
    {
     "name": "stdout",
     "output_type": "stream",
     "text": [
      "  No, I will handle that myself \u001b[32D\u001b[32C\u001b[2K\u001b[1A\u001b[2K\u001b[1A\u001b[2K\u001b[1A\u001b[2K\u001b[1A\u001b[2K\u001b[G\u001b[32m?\u001b[39m \u001b[1mShould we run `npm install` for you after the project has been created? (recom\n",
      "mended)\u001b[22m\u001b[0m \u001b[0m\u001b[36mnpm\u001b[39m\u001b[11D\u001b[11C\n",
      "\u001b[?25h\n",
      "\u001b[37m   vue-cli\u001b[39m \u001b[90m·\u001b[39m Generated \"client\".\n",
      "\n",
      "\n",
      "# \u001b[32mInstalling project dependencies ...\u001b[39m\n",
      "# ========================\n",
      "\n",
      "\u001b[K\u001b[?25h        \u001b[27m\u001b[90m......\u001b[0m] | install:babel-preset-stage-2: \u001b[32minfo\u001b[0m \u001b[35mlifecycle\u001b[0m babel-prese\u001b[0m\u001b[K\u001b[K\n",
      "> chromedriver@2.34.1 install /home/jitsejan/code/pelican-blog/content/notebooks/client/node_modules/chromedriver\n",
      "> node install.js\n",
      "\n",
      "Downloading https://chromedriver.storage.googleapis.com/2.34/chromedriver_linux64.zip\n",
      "Saving to /tmp/chromedriver/chromedriver_linux64.zip\n",
      "Received 781K...\n",
      "Received 1568K...\n",
      "Received 2352K...\n",
      "Received 3136K...\n",
      "Received 3642K total.\n",
      "Extracting zip contents\n",
      "Copying to target path /home/jitsejan/code/pelican-blog/content/notebooks/client/node_modules/chromedriver/lib/chromedriver\n",
      "Fixing file permissions\n",
      "Done. ChromeDriver binary available at /home/jitsejan/code/pelican-blog/content/notebooks/client/node_modules/chromedriver/lib/chromedriver/chromedriver\n",
      "\u001b[K\u001b[?25h7m            \u001b[27m\u001b[90m......\u001b[0m] | postinstall:read-pkg-up: \u001b[32minfo\u001b[0m \u001b[35mlifecycle\u001b[0m read-pkg-up@2.0.\u001b[0m\u001b[K\n",
      "> uglifyjs-webpack-plugin@0.4.6 postinstall /home/jitsejan/code/pelican-blog/content/notebooks/client/node_modules/webpack/node_modules/uglifyjs-webpack-plugin\n",
      "> node lib/post_install.js\n",
      "\n",
      "\u001b[K\u001b[?25h\u001b[37;40mnpm\u001b[0m\u001b[90m....\u001b[0m] - prepare:vueclient: \u001b[32minfo\u001b[0m \u001b[35mlifecycle\u001b[0m vueclient@1.0.0~prepar\u001b[0m\u001b[K[0m\u001b[K \u001b[0m\u001b[30;43mWARN\u001b[0m \u001b[0m\u001b[35moptional\u001b[0m SKIPPING OPTIONAL DEPENDENCY: fsevents@1.1.3 (node_modules/fsevents):\n",
      "\u001b[0m\u001b[37;40mnpm\u001b[0m \u001b[0m\u001b[30;43mWARN\u001b[0m \u001b[0m\u001b[35mnotsup\u001b[0m SKIPPING OPTIONAL DEPENDENCY: Unsupported platform for fsevents@1.1.3: wanted {\"os\":\"darwin\",\"arch\":\"any\"} (current: {\"os\":\"linux\",\"arch\":\"x64\"})\n",
      "\u001b[0m\n",
      "added 1518 packages, removed 79 packages and moved 7 packages in 104.52s\n",
      "\n",
      "\n",
      "\u001b[32mRunning eslint --fix to comply with chosen preset rules...\u001b[39m\n",
      "# ========================\n",
      "\n",
      "\n",
      "> vueclient@1.0.0 lint /home/jitsejan/code/pelican-blog/content/notebooks/client\n",
      "> eslint --ext .js,.vue src test/unit test/e2e/specs \"--fix\"\n",
      "\n",
      "\n",
      "# \u001b[32m\u001b[32mProject initialization finished!\u001b[32m\u001b[39m\n",
      "# ========================\n",
      "\n",
      "To get started:\n",
      "\n",
      "  \u001b[32m\u001b[33mnpm run dev\u001b[32m\u001b[39m\n",
      "  \n",
      "Documentation can be found at https://vuejs-templates.github.io/webpack\n",
      "\n",
      "\n",
      "\u001b[?25h"
     ]
    }
   ],
   "source": [
    "!cd client && ./init_expect_script.sh"
   ]
  },
  {
   "cell_type": "code",
   "execution_count": 70,
   "metadata": {},
   "outputs": [
    {
     "name": "stdout",
     "output_type": "stream",
     "text": [
      "\u001b[0m\u001b[01;34mbuild\u001b[0m/      \u001b[01;32minit_expect_script.sh\u001b[0m*  package-lock.json  \u001b[01;34mstatic\u001b[0m/\r\n",
      "\u001b[01;34mconfig\u001b[0m/     \u001b[01;34mnode_modules\u001b[0m/           README.md          \u001b[01;34mtest\u001b[0m/\r\n",
      "index.html  package.json            \u001b[01;34msrc\u001b[0m/\r\n"
     ]
    }
   ],
   "source": [
    "ls client"
   ]
  },
  {
   "cell_type": "markdown",
   "metadata": {},
   "source": [
    "#### Temporary fix\n",
    "There seems to be an [issue](https://github.com/webpack/webpack-dev-server/issues/1259) with webpack which disables Node to start the application. For now the version of `webpack-dev-server` 2.9.7 seems to not throw any errors."
   ]
  },
  {
   "cell_type": "code",
   "execution_count": 71,
   "metadata": {},
   "outputs": [
    {
     "name": "stdout",
     "output_type": "stream",
     "text": [
      "\u001b[K\u001b[?25h\u001b[37;40mnpm\u001b[0m \u001b[0m\u001b[30;43mWARN\u001b[0m \u001b[0m\u001b[35moptional\u001b[0m SKIPPING OPTIONAL DEPENDENCY: fsevents@1.1.3 (node_modules/fsevents):\n",
      "\u001b[0m\u001b[37;40mnpm\u001b[0m \u001b[0m\u001b[30;43mWARN\u001b[0m \u001b[0m\u001b[35mnotsup\u001b[0m SKIPPING OPTIONAL DEPENDENCY: Unsupported platform for fsevents@1.1.3: wanted {\"os\":\"darwin\",\"arch\":\"any\"} (current: {\"os\":\"linux\",\"arch\":\"x64\"})\n",
      "\u001b[0m\n",
      "+ webpack-dev-server@2.9.7\n",
      "added 117 packages, removed 145 packages, updated 3 packages and moved 1 package in 38.676s\n"
     ]
    }
   ],
   "source": [
    "!cd client && npm install webpack-dev-server@2.9.7 --save-dev"
   ]
  },
  {
   "cell_type": "code",
   "execution_count": 72,
   "metadata": {},
   "outputs": [],
   "source": [
    "import time\n",
    "proc = subprocess.Popen(\"cd client && npm run dev &\", shell=True, stdout=subprocess.PIPE)\n",
    "time.sleep(10)"
   ]
  },
  {
   "cell_type": "markdown",
   "metadata": {},
   "source": [
    "### Check the default page\n",
    "The default page of Vue should be available on port 8080. Lets use [Selenium](http://www.seleniumhq.org/) to visit the webpage and make a screenshot."
   ]
  },
  {
   "cell_type": "markdown",
   "metadata": {},
   "source": [
    "#### Setup Selenium\n",
    "First create a Docker instance that runs Selenium to avoid the cumbersome installation on the local Linux machine."
   ]
  },
  {
   "cell_type": "code",
   "execution_count": 73,
   "metadata": {},
   "outputs": [],
   "source": [
    "selenium_running = False\n",
    "for cntr in docker_client.containers.list():\n",
    "    if 'selenium' in cntr.attrs['Config']['Image']:\n",
    "        selenium_running = True\n",
    "        container = cntr\n",
    "if selenium_running is False:\n",
    "    container = docker_client.containers.run(\"selenium/standalone-chrome:latest\", name='selenium', ports={'4444': '4444'}, detach=True)"
   ]
  },
  {
   "cell_type": "code",
   "execution_count": 74,
   "metadata": {},
   "outputs": [],
   "source": [
    "time.sleep(10)"
   ]
  },
  {
   "cell_type": "code",
   "execution_count": 75,
   "metadata": {},
   "outputs": [
    {
     "data": {
      "text/plain": [
       "True"
      ]
     },
     "execution_count": 75,
     "metadata": {},
     "output_type": "execute_result"
    }
   ],
   "source": [
    "from selenium import webdriver\n",
    "from selenium.webdriver.common.desired_capabilities import DesiredCapabilities\n",
    "\n",
    "driver = webdriver.Remote(\"http://localhost:4444/wd/hub\", DesiredCapabilities.CHROME)\n",
    "driver.get('http://dev.jitsejan.com:8080')\n",
    "driver.save_screenshot('homepage.png')"
   ]
  },
  {
   "cell_type": "markdown",
   "metadata": {},
   "source": [
    "<img src=\"homepage.png\" class=\"screenshot\" />"
   ]
  },
  {
   "cell_type": "markdown",
   "metadata": {},
   "source": [
    "Kill the process on port 8080 after verifying the front page."
   ]
  },
  {
   "cell_type": "code",
   "execution_count": 76,
   "metadata": {},
   "outputs": [],
   "source": [
    "process=!fuser 8080/tcp | awk '{print $1}'\n",
    "vueid = int(process[1])\n",
    "!kill -9 $vueid"
   ]
  },
  {
   "cell_type": "markdown",
   "metadata": {},
   "source": [
    "As we can see from the screenshot, we cannot access the page because `webpack` has changed some configuration. In order to circument this we need to add the host to the script in `package.json` and change\n",
    "\n",
    "```javascript\n",
    "    \"dev\": \"webpack-dev-server --inline --progress --config build/webpack.dev.conf.js\",\n",
    "```\n",
    "\n",
    "to\n",
    "\n",
    "```javascript\n",
    "    \"dev\": \"webpack-dev-server --inline --progress --config build/webpack.dev.conf.js --host 0.0.0.0\",\n",
    "```\n",
    "\n",
    "which can be done with `sed`:"
   ]
  },
  {
   "cell_type": "code",
   "execution_count": 77,
   "metadata": {},
   "outputs": [],
   "source": [
    "!sed -i '/dev.*--inline/s/conf.js/conf.js --host 0.0.0.0/' client/package.json"
   ]
  },
  {
   "cell_type": "code",
   "execution_count": 78,
   "metadata": {},
   "outputs": [
    {
     "name": "stdout",
     "output_type": "stream",
     "text": [
      "    \"dev\": \"webpack-dev-server --inline --progress --config build/webpack.dev.conf.js --host 0.0.0.0\",\r\n",
      "    \"start\": \"npm run dev\",\r\n",
      "  \"devDependencies\": {\r\n",
      "    \"webpack-dev-server\": \"^2.9.7\",\r\n"
     ]
    }
   ],
   "source": [
    "cat client/package.json | grep dev"
   ]
  },
  {
   "cell_type": "markdown",
   "metadata": {},
   "source": [
    "Additionally we need to disable the host check in `build/webpack.dev.conf.js` by adding \n",
    "\n",
    "```javascript\n",
    "disableHostCheck: true\n",
    "```\n",
    "\n",
    "to the `devServer`."
   ]
  },
  {
   "cell_type": "code",
   "execution_count": 79,
   "metadata": {},
   "outputs": [],
   "source": [
    "!sed -i \"26i\\ \\ \\ \\ disableHostCheck: true,\" client/build/webpack.dev.conf.js"
   ]
  },
  {
   "cell_type": "code",
   "execution_count": 80,
   "metadata": {},
   "outputs": [
    {
     "name": "stdout",
     "output_type": "stream",
     "text": [
      "  // these devServer options should be customized in /config/index.js\r\n",
      "  devServer: {\r\n",
      "    clientLogLevel: 'warning',\r\n",
      "    \u001b[01;31m\u001b[KdisableHostCheck\u001b[m\u001b[K: true,\r\n",
      "    historyApiFallback: {\r\n",
      "      rewrites: [\r\n",
      "        { from: /.*/, to: path.posix.join(config.dev.assetsPublicPath, 'index.html') },\r\n"
     ]
    }
   ],
   "source": [
    "!grep -C3 disableHostCheck client/build/webpack.dev.conf.js --color=auto"
   ]
  },
  {
   "cell_type": "markdown",
   "metadata": {},
   "source": [
    "#### Retry"
   ]
  },
  {
   "cell_type": "code",
   "execution_count": 81,
   "metadata": {},
   "outputs": [],
   "source": [
    "proc = subprocess.Popen(\"cd client && npm run dev &\", shell=True, stdout=subprocess.PIPE)\n",
    "time.sleep(10)"
   ]
  },
  {
   "cell_type": "code",
   "execution_count": 82,
   "metadata": {},
   "outputs": [
    {
     "data": {
      "text/plain": [
       "True"
      ]
     },
     "execution_count": 82,
     "metadata": {},
     "output_type": "execute_result"
    }
   ],
   "source": [
    "driver = webdriver.Remote(\"http://localhost:4444/wd/hub\", DesiredCapabilities.CHROME)\n",
    "driver.get('http://dev.jitsejan.com:8080')\n",
    "driver.get_screenshot_as_file('homepage_success.png')"
   ]
  },
  {
   "cell_type": "markdown",
   "metadata": {},
   "source": [
    "<img src='homepage_success.png' class=\"screenshot\" />"
   ]
  },
  {
   "cell_type": "code",
   "execution_count": 83,
   "metadata": {},
   "outputs": [],
   "source": [
    "process=!fuser 8080/tcp | awk '{print $1}'\n",
    "vueid = int(process[1])\n",
    "!kill -9 $vueid"
   ]
  },
  {
   "cell_type": "markdown",
   "metadata": {},
   "source": [
    "## Create games page"
   ]
  },
  {
   "cell_type": "code",
   "execution_count": 84,
   "metadata": {},
   "outputs": [
    {
     "name": "stdout",
     "output_type": "stream",
     "text": [
      "HelloWorld.vue\r\n"
     ]
    }
   ],
   "source": [
    "ls client/src/components/"
   ]
  },
  {
   "cell_type": "markdown",
   "metadata": {},
   "source": [
    "### Create the component"
   ]
  },
  {
   "cell_type": "code",
   "execution_count": 85,
   "metadata": {},
   "outputs": [
    {
     "name": "stdout",
     "output_type": "stream",
     "text": [
      "Writing client/src/components/Games.vue\n"
     ]
    }
   ],
   "source": [
    "%%file client/src/components/Games.vue\n",
    "<template>\n",
    "  <div class=\"games\">\n",
    "    This page will list all the games.\n",
    "  </div>\n",
    "</template>\n",
    "\n",
    "<script>\n",
    "export default {\n",
    "  name: 'Games',\n",
    "  data () {\n",
    "    return {}\n",
    "  }\n",
    "}\n",
    "</script>"
   ]
  },
  {
   "cell_type": "code",
   "execution_count": 86,
   "metadata": {},
   "outputs": [
    {
     "name": "stdout",
     "output_type": "stream",
     "text": [
      "Games.vue  HelloWorld.vue\r\n"
     ]
    }
   ],
   "source": [
    "ls client/src/components/"
   ]
  },
  {
   "cell_type": "markdown",
   "metadata": {},
   "source": [
    "### Create the route"
   ]
  },
  {
   "cell_type": "code",
   "execution_count": 87,
   "metadata": {},
   "outputs": [
    {
     "name": "stdout",
     "output_type": "stream",
     "text": [
      "import Vue from 'vue'\r\n",
      "import Router from 'vue-router'\r\n",
      "import HelloWorld from '@/components/HelloWorld'\r\n",
      "\r\n",
      "Vue.use(Router)\r\n",
      "\r\n",
      "export default new Router({\r\n",
      "  routes: [\r\n",
      "    {\r\n",
      "      path: '/',\r\n",
      "      name: 'HelloWorld',\r\n",
      "      component: HelloWorld\r\n",
      "    }\r\n",
      "  ]\r\n",
      "})\r\n"
     ]
    }
   ],
   "source": [
    "cat client/src/router/index.js"
   ]
  },
  {
   "cell_type": "markdown",
   "metadata": {},
   "source": [
    "Add the import of the Games component to the router file.\n",
    "\n",
    "```javascript\n",
    "import Games from '@/components/Games'\n",
    "```"
   ]
  },
  {
   "cell_type": "markdown",
   "metadata": {},
   "source": [
    "and add the path to the games page indicating to which component the page will link.\n",
    "\n",
    "```javascript\n",
    "...\n",
    "    {\n",
    "      path: '/games',\n",
    "      name: 'Games',\n",
    "      component: Games\n",
    "    }\n",
    "...\n",
    "```"
   ]
  },
  {
   "cell_type": "code",
   "execution_count": 88,
   "metadata": {},
   "outputs": [
    {
     "name": "stdout",
     "output_type": "stream",
     "text": [
      "Overwriting client/src/router/index.js\n"
     ]
    }
   ],
   "source": [
    "%%file client/src/router/index.js\n",
    "import Vue from 'vue'\n",
    "import Router from 'vue-router'\n",
    "import HelloWorld from '@/components/HelloWorld'\n",
    "import Games from '@/components/Games'\n",
    "\n",
    "Vue.use(Router)\n",
    "\n",
    "export default new Router({\n",
    "  routes: [\n",
    "    {\n",
    "      path: '/',\n",
    "      name: 'HelloWorld',\n",
    "      component: HelloWorld\n",
    "    },\n",
    "    {\n",
    "      path: '/games',\n",
    "      name: 'Games',\n",
    "      component: Games\n",
    "    }\n",
    "  ]\n",
    "})\n",
    "\n"
   ]
  },
  {
   "cell_type": "markdown",
   "metadata": {},
   "source": [
    "#### Verify the new route"
   ]
  },
  {
   "cell_type": "code",
   "execution_count": 89,
   "metadata": {},
   "outputs": [
    {
     "data": {
      "text/plain": [
       "True"
      ]
     },
     "execution_count": 89,
     "metadata": {},
     "output_type": "execute_result"
    }
   ],
   "source": [
    "proc = subprocess.Popen(\"cd client && npm run dev &\", shell=True, stdout=subprocess.PIPE)\n",
    "time.sleep(10)\n",
    "\n",
    "driver = webdriver.Remote(\"http://localhost:4444/wd/hub\", DesiredCapabilities.CHROME)\n",
    "driver.get('http://dev.jitsejan.com:8080/ui/#/games')\n",
    "driver.get_screenshot_as_file('new_route.png')\n",
    "\n",
    "process=!fuser 8080/tcp | awk '{print $1}'\n",
    "vueid = int(process[1])\n",
    "!kill -9 $vueid"
   ]
  },
  {
   "cell_type": "markdown",
   "metadata": {},
   "source": [
    "<img src=\"new_route.png\" class=\"screenshot\" />"
   ]
  },
  {
   "cell_type": "markdown",
   "metadata": {},
   "source": [
    "### Connect to back-end\n",
    "We have the route complete, time to connect to the data from the database. For this we will use [axios](https://github.com/axios/axios).\n",
    "#### Install axios"
   ]
  },
  {
   "cell_type": "code",
   "execution_count": 90,
   "metadata": {},
   "outputs": [
    {
     "name": "stdout",
     "output_type": "stream",
     "text": [
      "\u001b[K\u001b[?25h\u001b[37;40mnpm\u001b[0m \u001b[0m\u001b[30;43mWARN\u001b[0m \u001b[0m\u001b[35moptional\u001b[0m SKIPPING OPTIONAL DEPENDENCY: fsevents@1.1.3 (node_modules/fsevents):\n",
      "\u001b[0m\u001b[37;40mnpm\u001b[0m \u001b[0m\u001b[30;43mWARN\u001b[0m \u001b[0m\u001b[35mnotsup\u001b[0m SKIPPING OPTIONAL DEPENDENCY: Unsupported platform for fsevents@1.1.3: wanted {\"os\":\"darwin\",\"arch\":\"any\"} (current: {\"os\":\"linux\",\"arch\":\"x64\"})\n",
      "\u001b[0m\n",
      "+ axios@0.17.1\n",
      "added 119 packages in 29.778s\n"
     ]
    }
   ],
   "source": [
    "!cd client && npm install --save axios"
   ]
  },
  {
   "cell_type": "markdown",
   "metadata": {},
   "source": [
    "#### Setup connection with back-end\n",
    "Create a `services` folder that will contain the API Javascript files."
   ]
  },
  {
   "cell_type": "code",
   "execution_count": 91,
   "metadata": {},
   "outputs": [],
   "source": [
    "mkdir -p client/src/services"
   ]
  },
  {
   "cell_type": "code",
   "execution_count": 92,
   "metadata": {},
   "outputs": [
    {
     "name": "stdout",
     "output_type": "stream",
     "text": [
      "Writing client/src/services/api.js\n"
     ]
    }
   ],
   "source": [
    "%%file client/src/services/api.js\n",
    "import axios from 'axios'\n",
    "\n",
    "export default() => {\n",
    "  return axios.create({\n",
    "    baseURL: `http://dev.jitsejan.com:3000`\n",
    "  })\n",
    "}\n",
    "\n"
   ]
  },
  {
   "cell_type": "markdown",
   "metadata": {},
   "source": [
    "#### Create service to retrieve the games"
   ]
  },
  {
   "cell_type": "code",
   "execution_count": 93,
   "metadata": {},
   "outputs": [
    {
     "name": "stdout",
     "output_type": "stream",
     "text": [
      "Writing client/src/services/GamesService.js\n"
     ]
    }
   ],
   "source": [
    "%%file client/src/services/GamesService.js\n",
    "import api from '@/services/api'\n",
    "\n",
    "export default {\n",
    "  fetchGames () {\n",
    "    return api().get('games')\n",
    "  }\n",
    "}\n",
    "\n"
   ]
  },
  {
   "cell_type": "markdown",
   "metadata": {},
   "source": [
    "#### Add the service to the Games component\n",
    "This component shows all the games available in the database. Note that this is the file that should be updated if you would like a more fancy layout, for example by adding [Bootstrap](https://getbootstrap.com/) or other frameworks."
   ]
  },
  {
   "cell_type": "code",
   "execution_count": 94,
   "metadata": {},
   "outputs": [
    {
     "name": "stdout",
     "output_type": "stream",
     "text": [
      "Overwriting client/src/components/Games.vue\n"
     ]
    }
   ],
   "source": [
    "%%file client/src/components/Games.vue\n",
    "<template>\n",
    "  <div class=\"games\">\n",
    "    <div class=\"games-div\" v-for=\"game in games\" :key=\"game._id\">\n",
    "      <p>\n",
    "        <span><b>{{ game.name }}</b></span><br />\n",
    "        <span>{{ game.console }}</span><br />\n",
    "        <span>{{ game.sales }}</span>\n",
    "        <a :href=\"'/ui/#/games/' + game._id\">Details</a>\n",
    "      </p>\n",
    "    </div>\n",
    "  </div>\n",
    "</template>\n",
    "\n",
    "<script>\n",
    "import GamesService from '@/services/GamesService'\n",
    "\n",
    "export default {\n",
    "  name: 'Games',\n",
    "  data () {\n",
    "    return {\n",
    "      games: []\n",
    "    }\n",
    "  },\n",
    "  mounted () {\n",
    "    this.getGames()\n",
    "  },\n",
    "  methods: {\n",
    "    async getGames () {\n",
    "      const response = await GamesService.fetchGames()\n",
    "      this.games = response.data.games\n",
    "    }\n",
    "  }\n",
    "}\n",
    "</script>\n",
    "\n"
   ]
  },
  {
   "cell_type": "markdown",
   "metadata": {},
   "source": [
    "Start both the Express back-end and the Vue front-end to verify if the data from the API is retrieved with the updated component.\n",
    "\n",
    "Small trick: by setting the logging preferences when starting the webdriver with Selenium, we can actually retrieve the logs you would normally see with the developer tools in the browser."
   ]
  },
  {
   "cell_type": "code",
   "execution_count": 95,
   "metadata": {},
   "outputs": [
    {
     "data": {
      "text/plain": [
       "True"
      ]
     },
     "execution_count": 95,
     "metadata": {},
     "output_type": "execute_result"
    }
   ],
   "source": [
    "vueproc = subprocess.Popen(\"cd client && npm run dev &\", shell=True, stdout=subprocess.PIPE)\n",
    "expressproc = subprocess.Popen(\"cd server && npm start &\", shell=True, stdout=subprocess.PIPE)\n",
    "\n",
    "time.sleep(10)\n",
    "\n",
    "desired = DesiredCapabilities.CHROME\n",
    "desired ['loggingPrefs'] = { 'browser':'ALL' }\n",
    "        \n",
    "driver = webdriver.Remote(\"http://localhost:4444/wd/hub\", desired_capabilities=desired)\n",
    "driver.get('http://dev.jitsejan.com:8080/ui/#/games')\n",
    "driver.get_screenshot_as_file('new_route_with_data.png')\n",
    "\n",
    "vueprocess=!fuser 8080/tcp | awk '{print $1}'\n",
    "vueid = int(vueprocess[1])\n",
    "!kill -9 $vueid\n",
    "\n",
    "expressprocess=!fuser 3000/tcp | awk '{print $1}'\n",
    "expressid = int(expressprocess[1])\n",
    "!kill -9 $expressid"
   ]
  },
  {
   "cell_type": "code",
   "execution_count": 96,
   "metadata": {},
   "outputs": [
    {
     "data": {
      "text/plain": [
       "[{'level': 'INFO',\n",
       "  'message': 'webpack-internal:///./node_modules/webpack/hot/log.js 22:11 \"[HMR] Waiting for update signal from WDS...\"',\n",
       "  'source': 'console-api',\n",
       "  'timestamp': 1515976802811},\n",
       " {'level': 'INFO',\n",
       "  'message': 'webpack-internal:///./node_modules/vue/dist/vue.esm.js 8437:44 \"Download the Vue Devtools extension for a better development experience:\\\\nhttps://github.com/vuejs/vue-devtools\"',\n",
       "  'source': 'console-api',\n",
       "  'timestamp': 1515976803111},\n",
       " {'level': 'SEVERE',\n",
       "  'message': \"http://dev.jitsejan.com:8080/ui/#/games - Failed to load http://dev.jitsejan.com:3000/games: No 'Access-Control-Allow-Origin' header is present on the requested resource. Origin 'http://dev.jitsejan.com:8080' is therefore not allowed access.\",\n",
       "  'source': 'javascript',\n",
       "  'timestamp': 1515976803391},\n",
       " {'level': 'SEVERE',\n",
       "  'message': 'webpack-internal:///./node_modules/axios/lib/core/createError.js 15:14 Uncaught Error: Network Error',\n",
       "  'source': 'javascript',\n",
       "  'timestamp': 1515976803392},\n",
       " {'level': 'SEVERE',\n",
       "  'message': 'webpack-internal:///./node_modules/webpack-dev-server/client/index.js?http://0.0.0.0:8080 171:8 \"[WDS] Disconnected!\"',\n",
       "  'source': 'console-api',\n",
       "  'timestamp': 1515976804381}]"
      ]
     },
     "execution_count": 96,
     "metadata": {},
     "output_type": "execute_result"
    }
   ],
   "source": [
    "logs = driver.get_log('browser')\n",
    "logs"
   ]
  },
  {
   "cell_type": "markdown",
   "metadata": {},
   "source": [
    "<img src=\"new_route_with_data.png\" class=\"screenshot\" />"
   ]
  },
  {
   "cell_type": "markdown",
   "metadata": {},
   "source": [
    "As we can see in the logs, we have an issue accessing the back-end because of the Access-Control-Allow-Origin limitation. To circumvent this, we need to make sure that we are allowed to access the API; hece install the package [Cors](https://www.npmjs.com/package/cors) and enable it in the Express application."
   ]
  },
  {
   "cell_type": "code",
   "execution_count": 97,
   "metadata": {},
   "outputs": [
    {
     "name": "stdout",
     "output_type": "stream",
     "text": [
      "\u001b[K\u001b[?25h+ cors@2.8.4m\u001b[90m......\u001b[0m] \\ postinstall: \u001b[32minfo\u001b[0m \u001b[35mlifecycle\u001b[0m cors@2.8.4~postinstall: cors\u001b[0m\u001b[K\u001b[K\n",
      "added 2 packages in 2.093s\n"
     ]
    }
   ],
   "source": [
    "!cd server && npm install --save cors"
   ]
  },
  {
   "cell_type": "markdown",
   "metadata": {},
   "source": [
    "Add the requirement for the cors package and enable it in the Express app by adding the following to `server/app.js`.\n",
    "\n",
    "```javascript\n",
    "...\n",
    "var cors = require('cors')\n",
    "...\n",
    "app.use(cors())\n",
    "...\n",
    "```"
   ]
  },
  {
   "cell_type": "code",
   "execution_count": 98,
   "metadata": {},
   "outputs": [
    {
     "name": "stdout",
     "output_type": "stream",
     "text": [
      "Overwriting server/app.js\n"
     ]
    }
   ],
   "source": [
    "%%file server/app.js\n",
    "var express = require('express');\n",
    "var path = require('path');\n",
    "var favicon = require('serve-favicon');\n",
    "var logger = require('morgan');\n",
    "var cookieParser = require('cookie-parser');\n",
    "var bodyParser = require('body-parser');\n",
    "// Mongoose connection\n",
    "var mongoose = require('mongoose');\n",
    "mongoose.connect('mongodb://localhost:27017/nintendo');\n",
    "var db = mongoose.connection;\n",
    "db.on(\"error\", console.error.bind(console, \"Connection error\"));\n",
    "db.once(\"openUri\", function(callback){\n",
    "  console.log(\"Connection successful\")\n",
    "});\n",
    "var cors = require(\"cors\")\n",
    "\n",
    "var index = require('./routes/index');\n",
    "var users = require('./routes/users');\n",
    "var games = require('./routes/games');\n",
    "\n",
    "var app = express();\n",
    "app.use(cors());\n",
    "\n",
    "// view engine setup\n",
    "app.set('views', path.join(__dirname, 'views'));\n",
    "app.set('view engine', 'ejs');\n",
    "\n",
    "// uncomment after placing your favicon in /public\n",
    "//app.use(favicon(path.join(__dirname, 'public', 'favicon.ico')));\n",
    "app.use(logger('dev'));\n",
    "app.use(bodyParser.json());\n",
    "app.use(bodyParser.urlencoded({ extended: false }));\n",
    "app.use(cookieParser());\n",
    "app.use(express.static(path.join(__dirname, 'public')));\n",
    "\n",
    "app.use('/', index);\n",
    "app.use('/users', users);\n",
    "app.use('/games', games);\n",
    "\n",
    "// catch 404 and forward to error handler\n",
    "app.use(function(req, res, next) {\n",
    "  var err = new Error('Not Found');\n",
    "  err.status = 404;\n",
    "  next(err);\n",
    "});\n",
    "\n",
    "// error handler\n",
    "app.use(function(err, req, res, next) {\n",
    "  // set locals, only providing error in development\n",
    "  res.locals.message = err.message;\n",
    "  res.locals.error = req.app.get('env') === 'development' ? err : {};\n",
    "\n",
    "  // render the error page\n",
    "  res.status(err.status || 500);\n",
    "  res.render('error');\n",
    "});\n",
    "\n",
    "module.exports = app;"
   ]
  },
  {
   "cell_type": "markdown",
   "metadata": {},
   "source": [
    "Now we are connected and allowed to retrieve the data. We use Selenium and wait for the `games-div` to appear."
   ]
  },
  {
   "cell_type": "code",
   "execution_count": 99,
   "metadata": {
    "scrolled": false
   },
   "outputs": [
    {
     "data": {
      "text/plain": [
       "<selenium.webdriver.remote.webelement.WebElement (session=\"c85f18c5c7fc73cb2c176f298b7f4e5d\", element=\"0.6637673986384502-1\")>"
      ]
     },
     "execution_count": 99,
     "metadata": {},
     "output_type": "execute_result"
    },
    {
     "data": {
      "text/plain": [
       "True"
      ]
     },
     "execution_count": 99,
     "metadata": {},
     "output_type": "execute_result"
    }
   ],
   "source": [
    "from selenium.webdriver.support.ui import WebDriverWait\n",
    "from selenium.webdriver.support import expected_conditions as EC\n",
    "from selenium.webdriver.common.by import By\n",
    "\n",
    "vueproc = subprocess.Popen(\"cd client && npm run dev &\", shell=True, stdout=subprocess.PIPE)\n",
    "expressproc = subprocess.Popen(\"cd server && npm start &\", shell=True, stdout=subprocess.PIPE)\n",
    "\n",
    "time.sleep(10)\n",
    "\n",
    "desired = DesiredCapabilities.CHROME\n",
    "desired ['loggingPrefs'] = { 'browser':'ALL' }\n",
    "        \n",
    "driver = webdriver.Remote(\"http://localhost:4444/wd/hub\", desired_capabilities=desired)\n",
    "driver.get('http://dev.jitsejan.com:8080/ui/#/games')\n",
    "WebDriverWait(driver, 5).until(EC.presence_of_element_located((By.CLASS_NAME, 'games-div')))\n",
    "driver.refresh()\n",
    "driver.save_screenshot('allgames.png')"
   ]
  },
  {
   "cell_type": "markdown",
   "metadata": {},
   "source": [
    "<img src=\"allgames.png\" class=\"screenshot\"/>"
   ]
  },
  {
   "cell_type": "markdown",
   "metadata": {},
   "source": [
    "#### Clean up"
   ]
  },
  {
   "cell_type": "code",
   "execution_count": 100,
   "metadata": {},
   "outputs": [],
   "source": [
    "driver.quit()\n",
    "\n",
    "vueprocess=!fuser 8080/tcp | awk '{print $1}'\n",
    "vueid = int(vueprocess[1])\n",
    "!kill -9 $vueid\n",
    "\n",
    "expressprocess=!fuser 3000/tcp | awk '{print $1}'\n",
    "expressid = int(expressprocess[1])\n",
    "!kill -9 $expressid"
   ]
  },
  {
   "cell_type": "markdown",
   "metadata": {},
   "source": [
    "#### Create detail page for the game\n",
    "Create the component and connect to the API by importing the service and execute the promise. Retrieving the data for a game can also be solved by extending the `GamesServices.js` we created earlier by adding another fetch function, but since every problem can be solved in different ways, I chose to use the method as shown in the following file."
   ]
  },
  {
   "cell_type": "code",
   "execution_count": 101,
   "metadata": {},
   "outputs": [],
   "source": [
    "!cp -r images client/static"
   ]
  },
  {
   "cell_type": "code",
   "execution_count": 102,
   "metadata": {},
   "outputs": [
    {
     "name": "stdout",
     "output_type": "stream",
     "text": [
      "data_3ds_001.jpg\t\t  data_wii_001.jpg\r\n",
      "data_3ds_002.jpg\t\t  data_wii_002.jpg\r\n",
      "data_3ds_003.jpg\t\t  data_wii_003.jpg\r\n",
      "data_3ds_004.jpg\t\t  data_wii_004.jpg\r\n",
      "data_3ds_009.jpg\t\t  data_wii_005.jpg\r\n",
      "data_3ds_pokemonoras.jpg\t  data_wii_006.jpg\r\n",
      "data_3ds_pokemonsunmoon.jpg\t  data_wii_007.jpg\r\n",
      "data_3ds_pokemonxy.jpg\t\t  data_wii_008.jpg\r\n",
      "data_3ds_smashbros.jpg\t\t  data_wii_009.jpg\r\n",
      "data_3ds_tomodachicollection.jpg  data_wiiu_mario3dworld.png\r\n",
      "data_ds_001.jpg\t\t\t  data_wiiu_mariokart8.png\r\n",
      "data_ds_002.jpg\t\t\t  data_wiiu_marioparty10.jpg\r\n",
      "data_ds_006.jpg\t\t\t  data_wiiu_newmariou.png\r\n",
      "data_ds_007.jpg\t\t\t  data_wiiu_newsuperluigiu.png\r\n",
      "data_ds_008.jpg\t\t\t  data_wiiu_nintendoland.png\r\n",
      "data_switch_001.png\t\t  data_wiiu_smashbros.png\r\n",
      "data_switch_002.png\t\t  data_wiiu_splatoon.jpg\r\n",
      "data_switch_003.png\t\t  data_wiiu_supermariomaker.png\r\n",
      "data_switch_004.png\t\t  data_wiiu_zeldahd.png\r\n",
      "data_switch_005.png\t\t  data_wii_wiiparty.jpg\r\n"
     ]
    }
   ],
   "source": [
    "!ls client/static/images/"
   ]
  },
  {
   "cell_type": "code",
   "execution_count": 103,
   "metadata": {},
   "outputs": [
    {
     "name": "stdout",
     "output_type": "stream",
     "text": [
      "Writing client/src/components/GamesDetail.vue\n"
     ]
    }
   ],
   "source": [
    "%%file client/src/components/GamesDetail.vue\n",
    "<template>\n",
    "  <div class=\"games-detail\">\n",
    "    <h1>Details for {{ data.name }}</h1>\n",
    "    <img :src=\"'/static/' + data.image\" /><br/>\n",
    "    Console: {{ data.console }}<br/>\n",
    "    Sales: {{ data.sales}} million<br/>\n",
    "  </div>\n",
    "</template>\n",
    "\n",
    "<script>\n",
    "import api from '@/services/api'\n",
    "\n",
    "export default {\n",
    "  name: 'GamesDetail',\n",
    "  data () {\n",
    "    return {\n",
    "      data: ''\n",
    "    }\n",
    "  },\n",
    "  created () {\n",
    "    api().get('games/' + this.$route.params.id)\n",
    "      .then(response => {\n",
    "        this.data = response.data\n",
    "      })\n",
    "      .catch(e => {\n",
    "        this.errors.push(e)\n",
    "      })\n",
    "  }\n",
    "}\n",
    "</script>\n",
    "\n"
   ]
  },
  {
   "cell_type": "markdown",
   "metadata": {},
   "source": [
    "Add the route for the detail page by adding the following to `client/src/router/index.js`:\n",
    "    \n",
    "```javascript\n",
    "...\n",
    "import GamesDetail from '@/components/GamesDetail'\n",
    "...\n",
    "    {\n",
    "      path: '/games/:id',\n",
    "      name: 'GamesDetail',\n",
    "      component: GamesDetail\n",
    "    }\n",
    "```"
   ]
  },
  {
   "cell_type": "code",
   "execution_count": 104,
   "metadata": {},
   "outputs": [
    {
     "name": "stdout",
     "output_type": "stream",
     "text": [
      "Overwriting client/src/router/index.js\n"
     ]
    }
   ],
   "source": [
    "%%file client/src/router/index.js\n",
    "import Vue from 'vue'\n",
    "import Router from 'vue-router'\n",
    "import HelloWorld from '@/components/HelloWorld'\n",
    "import Games from '@/components/Games'\n",
    "import GamesDetail from '@/components/GamesDetail'\n",
    "\n",
    "Vue.use(Router)\n",
    "\n",
    "export default new Router({\n",
    "  routes: [\n",
    "    {\n",
    "      path: '/',\n",
    "      name: 'HelloWorld',\n",
    "      component: HelloWorld\n",
    "    },\n",
    "    {\n",
    "      path: '/games',\n",
    "      name: 'Games',\n",
    "      component: Games\n",
    "    },\n",
    "    {\n",
    "      path: '/games/:id',\n",
    "      name: 'GamesDetail',\n",
    "      component: GamesDetail\n",
    "    }\n",
    "  ]\n",
    "})\n",
    "\n"
   ]
  },
  {
   "cell_type": "markdown",
   "metadata": {},
   "source": [
    "Start the processes"
   ]
  },
  {
   "cell_type": "code",
   "execution_count": 105,
   "metadata": {},
   "outputs": [],
   "source": [
    "vueproc = subprocess.Popen(\"cd client && npm run dev &\", shell=True, stdout=subprocess.PIPE)\n",
    "expressproc = subprocess.Popen(\"cd server && npm start &\", shell=True, stdout=subprocess.PIPE)\n",
    "time.sleep(10)"
   ]
  },
  {
   "cell_type": "markdown",
   "metadata": {},
   "source": [
    "Verify the detail page for a given ID."
   ]
  },
  {
   "cell_type": "code",
   "execution_count": 106,
   "metadata": {},
   "outputs": [
    {
     "data": {
      "text/plain": [
       "True"
      ]
     },
     "execution_count": 106,
     "metadata": {},
     "output_type": "execute_result"
    }
   ],
   "source": [
    "desired = DesiredCapabilities.CHROME\n",
    "desired ['loggingPrefs'] = { 'browser':'ALL' }\n",
    "        \n",
    "driver = webdriver.Remote(\"http://localhost:4444/wd/hub\", desired_capabilities=desired)\n",
    "driver.get('http://dev.jitsejan.com:8080/ui/#/games/'+game_id)\n",
    "driver.save_screenshot('gamedetail.png')"
   ]
  },
  {
   "cell_type": "markdown",
   "metadata": {},
   "source": [
    "<img class=\"screenshot\" src=\"gamedetail.png\"/>"
   ]
  },
  {
   "cell_type": "code",
   "execution_count": 107,
   "metadata": {},
   "outputs": [],
   "source": [
    "vueprocess=!fuser 8080/tcp | awk '{print $1}'\n",
    "vueid = int(vueprocess[1])\n",
    "!kill -9 $vueid\n",
    "\n",
    "expressprocess=!fuser 3000/tcp | awk '{print $1}'\n",
    "expressid = int(expressprocess[1])\n",
    "!kill -9 $expressid"
   ]
  },
  {
   "cell_type": "markdown",
   "metadata": {},
   "source": [
    "### Finalize\n",
    "To wrap this notebook up, lets update the generic `App.vue` to make it easier to navigate between the pages by adding a menu to `client/src/App.vue`."
   ]
  },
  {
   "cell_type": "code",
   "execution_count": 108,
   "metadata": {},
   "outputs": [
    {
     "name": "stdout",
     "output_type": "stream",
     "text": [
      "Overwriting client/src/App.vue\n"
     ]
    }
   ],
   "source": [
    "%%file client/src/App.vue\n",
    "<template>\n",
    "  <div id=\"app\">\n",
    "    <router-link :to=\"{ name: 'HelloWorld' }\">Home</router-link>\n",
    "    <router-link :to=\"{ name: 'Games'}\">Games</router-link>\n",
    "    <router-view/>\n",
    "  </div>\n",
    "</template>\n",
    "\n",
    "<script>\n",
    "export default {\n",
    "  name: 'app'\n",
    "}\n",
    "</script>\n",
    "\n",
    "<style>\n",
    "#app {\n",
    "  font-family: 'Avenir', Helvetica, Arial, sans-serif;\n",
    "  -webkit-font-smoothing: antialiased;\n",
    "  -moz-osx-font-smoothing: grayscale;\n",
    "  text-align: center;\n",
    "  color: #2c3e50;\n",
    "  margin-top: 60px;\n",
    "}\n",
    "</style>\n",
    "\n"
   ]
  },
  {
   "cell_type": "code",
   "execution_count": 109,
   "metadata": {},
   "outputs": [],
   "source": [
    "vueproc = subprocess.Popen(\"cd client && npm run dev &\", shell=True, stdout=subprocess.PIPE)\n",
    "expressproc = subprocess.Popen(\"cd server && npm start &\", shell=True, stdout=subprocess.PIPE)\n",
    "time.sleep(10)"
   ]
  },
  {
   "cell_type": "code",
   "execution_count": 111,
   "metadata": {},
   "outputs": [
    {
     "data": {
      "text/plain": [
       "True"
      ]
     },
     "execution_count": 111,
     "metadata": {},
     "output_type": "execute_result"
    }
   ],
   "source": [
    "desired = DesiredCapabilities.CHROME\n",
    "desired ['loggingPrefs'] = { 'browser':'ALL' }\n",
    "        \n",
    "driver = webdriver.Remote(\"http://localhost:4444/wd/hub\", desired_capabilities=desired)\n",
    "driver.get('http://dev.jitsejan.com:8080')\n",
    "driver.save_screenshot('menuadded.png')"
   ]
  },
  {
   "cell_type": "markdown",
   "metadata": {},
   "source": [
    "<img src=\"menuadded.png\" class=\"screenshot\" />"
   ]
  },
  {
   "cell_type": "markdown",
   "metadata": {},
   "source": [
    "## Future work\n",
    "In this example application I did not use any fancy styling or advanced HTML structures to make the website more appealing. Additionally, the API is only used to retrieve data, while obviously it could also used to create data, update it or delete it (CRUD), but for the scope of this notebook I kept it to a minimum. As a third improvement you could choose to put everything of this notebook in one Docker compose file, where MongoDB, Selenium, ExpressJS and VueJS are all containerized, but since I am not planning to port this application to another server, it is fine to simply install the files locally and remove them again after the notebook has finished."
   ]
  }
 ],
 "metadata": {
  "kernelspec": {
   "display_name": "Python 3",
   "language": "python",
   "name": "python3"
  },
  "language_info": {
   "codemirror_mode": {
    "name": "ipython",
    "version": 3
   },
   "file_extension": ".py",
   "mimetype": "text/x-python",
   "name": "python",
   "nbconvert_exporter": "python",
   "pygments_lexer": "ipython3",
   "version": "3.5.2"
  }
 },
 "nbformat": 4,
 "nbformat_minor": 2
}
