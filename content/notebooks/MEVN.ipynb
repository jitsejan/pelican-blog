{
 "cells": [
  {
   "cell_type": "markdown",
   "metadata": {},
   "source": [
    "In this notebook I want to play with Jupyter and show the steps of how to create a MEVN application from a notebook. Normally I would do this in the normal Linux terminal and a text editor, but since we can combine code, explanation and shell commands, I want to create a story in this notebook which hopefully will be of any help of people experimenting with full-stack development. I will create the application, use some simple Linux tricks and use Selenium to test the application.\n",
    "\n",
    "Please note development like this is far from optimal, but I think it is very cool what you can achieve without leaving your notebook, knowing a bit of Docker, Linux and Python.\n",
    "\n",
    "\n",
    "## Objective\n",
    "Setup an application with the following elements\n",
    "\n",
    "* [MongoDB](https://www.mongodb.com/)\n",
    "* [ExpressJS](https://expressjs.com/)\n",
    "* [VueJS](https://vuejs.org/)\n",
    "* [NodeJS](https://nodejs.org/en/)\n",
    "\n",
    "using\n",
    "\n",
    "* [Jupyter](http://jupyter.org/) notebook\n",
    "* [Docker](https://www.docker.com/)\n",
    "* [Scrapy](https://scrapy.org/)\n",
    "* [PyMongo](https://api.mongodb.com/python/current/)\n",
    "* [Selenium](http://www.seleniumhq.org/)"
   ]
  },
  {
   "cell_type": "markdown",
   "metadata": {},
   "source": [
    "<img class=\"logo\" src=\"http://files.jitsejan.com/logos/jupyter.PNG\" />"
   ]
  },
  {
   "cell_type": "markdown",
   "metadata": {},
   "source": [
    "### Notebook settings"
   ]
  },
  {
   "cell_type": "markdown",
   "metadata": {},
   "source": [
    "Clean up the images from earlier runs."
   ]
  },
  {
   "cell_type": "code",
   "execution_count": 1,
   "metadata": {
    "collapsed": false
   },
   "outputs": [
    {
     "name": "stderr",
     "output_type": "stream",
     "text": [
      "rm: cannot remove '*.png': No such file or directory\n"
     ]
    }
   ],
   "source": [
    "!rm *.png"
   ]
  },
  {
   "cell_type": "code",
   "execution_count": 2,
   "metadata": {
    "collapsed": true
   },
   "outputs": [],
   "source": [
    "from IPython.core.interactiveshell import InteractiveShell\n",
    "InteractiveShell.ast_node_interactivity = \"all\""
   ]
  },
  {
   "cell_type": "code",
   "execution_count": 3,
   "metadata": {
    "collapsed": false
   },
   "outputs": [
    {
     "name": "stdout",
     "output_type": "stream",
     "text": [
      "4.3.0\n"
     ]
    }
   ],
   "source": [
    "!jupyter --version"
   ]
  },
  {
   "cell_type": "code",
   "execution_count": 4,
   "metadata": {
    "collapsed": false
   },
   "outputs": [
    {
     "name": "stdout",
     "output_type": "stream",
     "text": [
      "4.3.1\n"
     ]
    }
   ],
   "source": [
    "!jupyter notebook --version"
   ]
  },
  {
   "cell_type": "markdown",
   "metadata": {},
   "source": [
    "<img class=\"logo\" src=\"http://files.jitsejan.com/logos/python.PNG\"/>\n",
    "### Python version"
   ]
  },
  {
   "cell_type": "code",
   "execution_count": 5,
   "metadata": {
    "collapsed": false
   },
   "outputs": [
    {
     "data": {
      "text/plain": [
       "'3.6.0'"
      ]
     },
     "execution_count": 5,
     "metadata": {},
     "output_type": "execute_result"
    }
   ],
   "source": [
    "import platform\n",
    "platform.python_version()"
   ]
  },
  {
   "cell_type": "markdown",
   "metadata": {},
   "source": [
    "<img class=\"logo\" src=\"http://files.jitsejan.com/logos/docker.PNG\"/>\n",
    "\n",
    "## Docker setup\n",
    "### Docker version"
   ]
  },
  {
   "cell_type": "code",
   "execution_count": 6,
   "metadata": {
    "collapsed": false
   },
   "outputs": [
    {
     "name": "stdout",
     "output_type": "stream",
     "text": [
      "Client:\n",
      " Version:\t17.12.0-ce\n",
      " API version:\t1.35\n",
      " Go version:\tgo1.9.2\n",
      " Git commit:\tc97c6d6\n",
      " Built:\tWed Dec 27 20:05:22 2017\n",
      " OS/Arch:\twindows/amd64\n",
      "\n",
      "Server:\n",
      " Engine:\n",
      "  Version:\t17.12.0-ce\n",
      "  API version:\t1.35 (minimum version 1.12)\n",
      "  Go version:\tgo1.9.2\n",
      "  Git commit:\tc97c6d6\n",
      "  Built:\tWed Dec 27 20:12:29 2017\n",
      "  OS/Arch:\tlinux/amd64\n",
      "  Experimental:\ttrue\n"
     ]
    }
   ],
   "source": [
    "!docker version"
   ]
  },
  {
   "cell_type": "code",
   "execution_count": 7,
   "metadata": {
    "collapsed": false
   },
   "outputs": [
    {
     "name": "stdout",
     "output_type": "stream",
     "text": [
      "CONTAINER ID        IMAGE                      COMMAND             CREATED             STATUS              PORTS                    NAMES\n",
      "8735abeab4e5        jitsejan/pelican-python3   \"fab reserve\"       6 minutes ago       Up 6 minutes        0.0.0.0:8093->8093/tcp   pelicanblog_pelican_1\n"
     ]
    }
   ],
   "source": [
    "!docker ps"
   ]
  },
  {
   "cell_type": "markdown",
   "metadata": {},
   "source": [
    "### Docker client\n",
    "#### Setup the client"
   ]
  },
  {
   "cell_type": "code",
   "execution_count": 8,
   "metadata": {
    "collapsed": false
   },
   "outputs": [
    {
     "name": "stdout",
     "output_type": "stream",
     "text": [
      "Collecting docker\n",
      "  Downloading docker-2.7.0-py2.py3-none-any.whl (119kB)\n",
      "Requirement already satisfied: requests!=2.18.0,>=2.14.2 in c:\\users\\jj van waterschoot\\anaconda3\\lib\\site-packages (from docker)\n",
      "Collecting docker-pycreds>=0.2.1 (from docker)\n",
      "  Downloading docker_pycreds-0.2.1-py2.py3-none-any.whl\n",
      "Collecting websocket-client>=0.32.0 (from docker)\n",
      "  Downloading websocket_client-0.46.0-py2.py3-none-any.whl (200kB)\n",
      "Requirement already satisfied: six>=1.4.0 in c:\\users\\jj van waterschoot\\anaconda3\\lib\\site-packages (from docker)\n",
      "Requirement already satisfied: idna<2.6,>=2.5 in c:\\users\\jj van waterschoot\\anaconda3\\lib\\site-packages (from requests!=2.18.0,>=2.14.2->docker)\n",
      "Requirement already satisfied: certifi>=2017.4.17 in c:\\users\\jj van waterschoot\\anaconda3\\lib\\site-packages (from requests!=2.18.0,>=2.14.2->docker)\n",
      "Requirement already satisfied: urllib3<1.22,>=1.21.1 in c:\\users\\jj van waterschoot\\anaconda3\\lib\\site-packages (from requests!=2.18.0,>=2.14.2->docker)\n",
      "Requirement already satisfied: chardet<3.1.0,>=3.0.2 in c:\\users\\jj van waterschoot\\anaconda3\\lib\\site-packages (from requests!=2.18.0,>=2.14.2->docker)\n",
      "Installing collected packages: docker-pycreds, websocket-client, docker\n",
      "Successfully installed docker-2.7.0 docker-pycreds-0.2.1 websocket-client-0.46.0\n"
     ]
    }
   ],
   "source": [
    "!pip install docker"
   ]
  },
  {
   "cell_type": "code",
   "execution_count": 9,
   "metadata": {
    "collapsed": true
   },
   "outputs": [],
   "source": [
    "import docker\n",
    "docker_client = docker.from_env()"
   ]
  },
  {
   "cell_type": "markdown",
   "metadata": {},
   "source": [
    "#### Available containers"
   ]
  },
  {
   "cell_type": "code",
   "execution_count": 10,
   "metadata": {
    "collapsed": false
   },
   "outputs": [
    {
     "name": "stdout",
     "output_type": "stream",
     "text": [
      "name=pelicanblog_pelican_1 (id=8735abeab4e5c44720c4be9bd2b8cbe505acbd71168570ebbc0017296480c69a)\n"
     ]
    }
   ],
   "source": [
    "for cntr in docker_client.containers.list():\n",
    "    print(\"name={} (id={})\".format(cntr.name, cntr.id))"
   ]
  },
  {
   "cell_type": "markdown",
   "metadata": {},
   "source": [
    "<img class=\"logo\" src=\"http://files.jitsejan.com/logos/mongodb.PNG\"/>\n",
    "\n",
    "## MongoDB"
   ]
  },
  {
   "cell_type": "markdown",
   "metadata": {},
   "source": [
    "Check if the Mongo Docker container is running, otherwise, start the container."
   ]
  },
  {
   "cell_type": "code",
   "execution_count": 11,
   "metadata": {
    "collapsed": true
   },
   "outputs": [],
   "source": [
    "mongo_running = False\n",
    "for cntr in docker_client.containers.list():\n",
    "    if 'mongo' in cntr.attrs['Config']['Image']:\n",
    "        mongo_running = True\n",
    "        container = cntr\n",
    "if mongo_running is False:\n",
    "    container = docker_client.containers.run(\"mongo:latest\", name='mongo', ports={'27017': '27017'}, detach=True)"
   ]
  },
  {
   "cell_type": "code",
   "execution_count": 12,
   "metadata": {
    "collapsed": false
   },
   "outputs": [
    {
     "data": {
      "text/plain": [
       "<Container: 1e85b86288>"
      ]
     },
     "execution_count": 12,
     "metadata": {},
     "output_type": "execute_result"
    }
   ],
   "source": [
    "container"
   ]
  },
  {
   "cell_type": "markdown",
   "metadata": {},
   "source": [
    "Verification that the Mongo container is running:"
   ]
  },
  {
   "cell_type": "code",
   "execution_count": 13,
   "metadata": {
    "collapsed": false
   },
   "outputs": [
    {
     "name": "stdout",
     "output_type": "stream",
     "text": [
      "1e85b8628841        mongo:latest               \"docker-entrypoint.sâ€¦\"   5 seconds ago       Up 3 seconds        0.0.0.0:27017->27017/tcp   mongo\n"
     ]
    }
   ],
   "source": [
    "!docker ps | grep mongo"
   ]
  },
  {
   "cell_type": "markdown",
   "metadata": {},
   "source": [
    "See [Documentation](https://api.mongodb.com/python/current/installation.html) to install PyMongo.\n",
    "\n",
    "```shell\n",
    "$ pip install pymongo\n",
    "```"
   ]
  },
  {
   "cell_type": "code",
   "execution_count": 14,
   "metadata": {
    "collapsed": true
   },
   "outputs": [],
   "source": [
    "from pymongo import MongoClient\n",
    "mongo_client = MongoClient('localhost', 27017)"
   ]
  },
  {
   "cell_type": "markdown",
   "metadata": {},
   "source": [
    "<img class=\"logo\" src=\"http://files.jitsejan.com/logos/scrapy.PNG\"/>\n",
    "\n",
    "## Data gathering\n",
    "\n",
    "Create the Scrapy pipeline to write the scraping results to MongoDB."
   ]
  },
  {
   "cell_type": "code",
   "execution_count": 15,
   "metadata": {
    "collapsed": true
   },
   "outputs": [],
   "source": [
    "import pymongo\n",
    "\n",
    "class MongoPipeline(object):\n",
    "\n",
    "    collection_name = 'games'\n",
    "\n",
    "    def __init__(self, mongo_uri, mongo_db):\n",
    "        self.mongo_uri = mongo_uri\n",
    "        self.mongo_db = mongo_db\n",
    "\n",
    "    @classmethod\n",
    "    def from_crawler(cls, crawler):\n",
    "        return cls(\n",
    "            mongo_uri=crawler.settings.get('MONGO_URI'),\n",
    "            mongo_db=crawler.settings.get('MONGO_DATABASE', 'items')\n",
    "        )\n",
    "\n",
    "    def open_spider(self, spider):\n",
    "        self.client = pymongo.MongoClient(self.mongo_uri)\n",
    "        self.db = self.client[self.mongo_db]\n",
    "\n",
    "    def close_spider(self, spider):\n",
    "        self.client.close()\n",
    "\n",
    "    def process_item(self, item, spider):\n",
    "        self.db[self.collection_name].insert_one(dict(item))\n",
    "        return item"
   ]
  },
  {
   "cell_type": "markdown",
   "metadata": {},
   "source": [
    "Retrieving data from https://www.nintendo.co.jp/ir/en/finance/software/index.html with the following markup:\n",
    "\n",
    "```html\n",
    "<ul class=\"sales_layout\">\n",
    "    <li class=\"sales_layout_list\">\n",
    "        <div class=\"ta_l\">\n",
    "            <p class=\"sales_title\">The Legend of Zelda:<br> Breath of the Wild</p>\n",
    "            <p class=\"sales_value\"><span>4.70</span> million pcs.</p>\n",
    "        </div>\n",
    "        <div class=\"ta_r\">\n",
    "            <p>\n",
    "                <img src=\"./img/data_switch_001.png\" alt=\"\" width=\"110\" height=\"\" class=\"sales_product1\">\n",
    "            </p>\n",
    "        </div>\n",
    "    </li>\n",
    "</ul>\n",
    "```\n",
    "\n",
    "Using Scrapy we can gather the data in a convenient way."
   ]
  },
  {
   "cell_type": "code",
   "execution_count": 17,
   "metadata": {
    "collapsed": false
   },
   "outputs": [],
   "source": [
    "import logging\n",
    "import scrapy\n",
    "from scrapy.crawler import CrawlerProcess\n",
    "import re\n",
    "\n",
    "class ConsoleSpider(scrapy.Spider):\n",
    "    name = \"games\"\n",
    "    start_urls = [\n",
    "        \"https://www.nintendo.co.jp/ir/en/finance/software/index.html\",\n",
    "        \"https://www.nintendo.co.jp/ir/en/finance/software/wiiu.html\",\n",
    "        \"https://www.nintendo.co.jp/ir/en/finance/software/3ds.html\",\n",
    "        \"https://www.nintendo.co.jp/ir/en/finance/software/wii.html\",\n",
    "        \"https://www.nintendo.co.jp/ir/en/finance/software/ds.html\"\n",
    "    ]\n",
    "    custom_settings = {\n",
    "        'LOG_LEVEL': logging.CRITICAL,\n",
    "        'DOWNLOAD_DELAY': .25,\n",
    "        'RANDOMIZE_DOWNLOAD_DELAY': True,\n",
    "        'ITEM_PIPELINES': {\n",
    "            '__main__.MongoPipeline': 300,\n",
    "        },\n",
    "        'MONGO_URI': 'mongodb://localhost:27017',\n",
    "        'MONGO_DATABASE': 'nintendo'\n",
    "    }\n",
    "\n",
    "    def parse(self, response):\n",
    "         for cons in response.css('li.sales_layout_list'):\n",
    "            yield {\n",
    "                'console': response.css('div.tab div.tabInner span::text').extract_first(),\n",
    "                'name': cons.css('p.sales_title::text').extract_first().strip(),\n",
    "                'image': 'https://www.nintendo.co.jp/ir/en/finance/software' + cons.css('p img::attr(src)').extract_first()[1:],\n",
    "                'sales': cons.css('p.sales_value span::text').extract()[0].strip()\n",
    "            }"
   ]
  },
  {
   "cell_type": "code",
   "execution_count": 18,
   "metadata": {
    "collapsed": false
   },
   "outputs": [
    {
     "name": "stderr",
     "output_type": "stream",
     "text": [
      "2018-01-15 22:36:11 [scrapy.utils.log] INFO: Scrapy 1.5.0 started (bot: scrapybot)\n",
      "2018-01-15 22:36:11 [scrapy.utils.log] INFO: Versions: lxml 3.7.2.0, libxml2 2.9.4, cssselect 1.0.1, parsel 1.3.1, w3lib 1.18.0, Twisted 17.9.0, Python 3.6.0 |Anaconda 4.3.0 (64-bit)| (default, Dec 23 2016, 11:57:41) [MSC v.1900 64 bit (AMD64)], pyOpenSSL 16.2.0 (OpenSSL 1.0.2k  26 Jan 2017), cryptography 1.7.1, Platform Windows-10-10.0.14393-SP0\n",
      "2018-01-15 22:36:11 [scrapy.crawler] INFO: Overridden settings: {'DOWNLOAD_DELAY': 0.25, 'LOG_LEVEL': 50, 'USER_AGENT': 'Mozilla/4.0 (compatible; MSIE 7.0; Windows NT 5.1)'}\n"
     ]
    },
    {
     "data": {
      "text/plain": [
       "<Deferred at 0x1f459f3b470>"
      ]
     },
     "execution_count": 18,
     "metadata": {},
     "output_type": "execute_result"
    }
   ],
   "source": [
    "process = CrawlerProcess({\n",
    "    'USER_AGENT': 'Mozilla/4.0 (compatible; MSIE 7.0; Windows NT 5.1)'\n",
    "})\n",
    "\n",
    "process.crawl(ConsoleSpider)\n",
    "process.start()"
   ]
  },
  {
   "cell_type": "markdown",
   "metadata": {},
   "source": [
    "#### Verify the Nintendo database is created"
   ]
  },
  {
   "cell_type": "code",
   "execution_count": 19,
   "metadata": {
    "collapsed": false
   },
   "outputs": [
    {
     "name": "stdout",
     "output_type": "stream",
     "text": [
      "Database found!\n"
     ]
    }
   ],
   "source": [
    "if 'nintendo' in mongo_client.database_names():\n",
    "    print('Database found!')"
   ]
  },
  {
   "cell_type": "markdown",
   "metadata": {},
   "source": [
    "#### Verify the games collection is created inside the Nintendo database"
   ]
  },
  {
   "cell_type": "code",
   "execution_count": 20,
   "metadata": {
    "collapsed": false
   },
   "outputs": [
    {
     "name": "stdout",
     "output_type": "stream",
     "text": [
      "Collection found!\n"
     ]
    }
   ],
   "source": [
    "db = mongo_client['nintendo']\n",
    "if 'games' in db.collection_names():\n",
    "    print('Collection found!')"
   ]
  },
  {
   "cell_type": "markdown",
   "metadata": {},
   "source": [
    "#### Retrieve the games from the collection"
   ]
  },
  {
   "cell_type": "code",
   "execution_count": 21,
   "metadata": {
    "collapsed": true
   },
   "outputs": [],
   "source": [
    "games = list(db['games'].find({}))"
   ]
  },
  {
   "cell_type": "code",
   "execution_count": 22,
   "metadata": {
    "collapsed": false
   },
   "outputs": [
    {
     "name": "stdout",
     "output_type": "stream",
     "text": [
      "Found 45 games\n"
     ]
    }
   ],
   "source": [
    "print(\"Found {} games\".format(len(games)))"
   ]
  },
  {
   "cell_type": "markdown",
   "metadata": {},
   "source": [
    "## Retrieve the images\n",
    "#### Delete the old images"
   ]
  },
  {
   "cell_type": "code",
   "execution_count": 23,
   "metadata": {
    "collapsed": true
   },
   "outputs": [],
   "source": [
    "!rm -rf images/*"
   ]
  },
  {
   "cell_type": "code",
   "execution_count": 24,
   "metadata": {
    "collapsed": false,
    "scrolled": true
   },
   "outputs": [
    {
     "name": "stderr",
     "output_type": "stream",
     "text": [
      "'wget' is not recognized as an internal or external command,\n",
      "operable program or batch file.\n"
     ]
    },
    {
     "data": {
      "text/plain": [
       "ObjectId('5a5d1ecd8d72ef283c705a99')"
      ]
     },
     "execution_count": 24,
     "metadata": {},
     "output_type": "execute_result"
    },
    {
     "name": "stderr",
     "output_type": "stream",
     "text": [
      "'wget' is not recognized as an internal or external command,\n",
      "operable program or batch file.\n"
     ]
    },
    {
     "data": {
      "text/plain": [
       "ObjectId('5a5d1ecd8d72ef283c705a9a')"
      ]
     },
     "execution_count": 24,
     "metadata": {},
     "output_type": "execute_result"
    },
    {
     "name": "stderr",
     "output_type": "stream",
     "text": [
      "'wget' is not recognized as an internal or external command,\n",
      "operable program or batch file.\n"
     ]
    },
    {
     "data": {
      "text/plain": [
       "ObjectId('5a5d1ecd8d72ef283c705a9b')"
      ]
     },
     "execution_count": 24,
     "metadata": {},
     "output_type": "execute_result"
    },
    {
     "name": "stderr",
     "output_type": "stream",
     "text": [
      "'wget' is not recognized as an internal or external command,\n",
      "operable program or batch file.\n"
     ]
    },
    {
     "data": {
      "text/plain": [
       "ObjectId('5a5d1ecd8d72ef283c705a9c')"
      ]
     },
     "execution_count": 24,
     "metadata": {},
     "output_type": "execute_result"
    },
    {
     "name": "stderr",
     "output_type": "stream",
     "text": [
      "'wget' is not recognized as an internal or external command,\n",
      "operable program or batch file.\n"
     ]
    },
    {
     "data": {
      "text/plain": [
       "ObjectId('5a5d1ecd8d72ef283c705a9d')"
      ]
     },
     "execution_count": 24,
     "metadata": {},
     "output_type": "execute_result"
    },
    {
     "name": "stderr",
     "output_type": "stream",
     "text": [
      "'wget' is not recognized as an internal or external command,\n",
      "operable program or batch file.\n"
     ]
    },
    {
     "data": {
      "text/plain": [
       "ObjectId('5a5d1ecd8d72ef283c705a9e')"
      ]
     },
     "execution_count": 24,
     "metadata": {},
     "output_type": "execute_result"
    },
    {
     "name": "stderr",
     "output_type": "stream",
     "text": [
      "'wget' is not recognized as an internal or external command,\n",
      "operable program or batch file.\n"
     ]
    },
    {
     "data": {
      "text/plain": [
       "ObjectId('5a5d1ecd8d72ef283c705a9f')"
      ]
     },
     "execution_count": 24,
     "metadata": {},
     "output_type": "execute_result"
    },
    {
     "name": "stderr",
     "output_type": "stream",
     "text": [
      "'wget' is not recognized as an internal or external command,\n",
      "operable program or batch file.\n"
     ]
    },
    {
     "data": {
      "text/plain": [
       "ObjectId('5a5d1ecd8d72ef283c705aa0')"
      ]
     },
     "execution_count": 24,
     "metadata": {},
     "output_type": "execute_result"
    },
    {
     "name": "stderr",
     "output_type": "stream",
     "text": [
      "'wget' is not recognized as an internal or external command,\n",
      "operable program or batch file.\n"
     ]
    },
    {
     "data": {
      "text/plain": [
       "ObjectId('5a5d1ecd8d72ef283c705aa1')"
      ]
     },
     "execution_count": 24,
     "metadata": {},
     "output_type": "execute_result"
    },
    {
     "name": "stderr",
     "output_type": "stream",
     "text": [
      "'wget' is not recognized as an internal or external command,\n",
      "operable program or batch file.\n"
     ]
    },
    {
     "data": {
      "text/plain": [
       "ObjectId('5a5d1ecd8d72ef283c705aa2')"
      ]
     },
     "execution_count": 24,
     "metadata": {},
     "output_type": "execute_result"
    },
    {
     "name": "stderr",
     "output_type": "stream",
     "text": [
      "'wget' is not recognized as an internal or external command,\n",
      "operable program or batch file.\n"
     ]
    },
    {
     "data": {
      "text/plain": [
       "ObjectId('5a5d1ece8d72ef283c705aa3')"
      ]
     },
     "execution_count": 24,
     "metadata": {},
     "output_type": "execute_result"
    },
    {
     "name": "stderr",
     "output_type": "stream",
     "text": [
      "'wget' is not recognized as an internal or external command,\n",
      "operable program or batch file.\n"
     ]
    },
    {
     "data": {
      "text/plain": [
       "ObjectId('5a5d1ece8d72ef283c705aa4')"
      ]
     },
     "execution_count": 24,
     "metadata": {},
     "output_type": "execute_result"
    },
    {
     "name": "stderr",
     "output_type": "stream",
     "text": [
      "'wget' is not recognized as an internal or external command,\n",
      "operable program or batch file.\n"
     ]
    },
    {
     "data": {
      "text/plain": [
       "ObjectId('5a5d1ece8d72ef283c705aa5')"
      ]
     },
     "execution_count": 24,
     "metadata": {},
     "output_type": "execute_result"
    },
    {
     "name": "stderr",
     "output_type": "stream",
     "text": [
      "'wget' is not recognized as an internal or external command,\n",
      "operable program or batch file.\n"
     ]
    },
    {
     "data": {
      "text/plain": [
       "ObjectId('5a5d1ece8d72ef283c705aa6')"
      ]
     },
     "execution_count": 24,
     "metadata": {},
     "output_type": "execute_result"
    },
    {
     "name": "stderr",
     "output_type": "stream",
     "text": [
      "'wget' is not recognized as an internal or external command,\n",
      "operable program or batch file.\n"
     ]
    },
    {
     "data": {
      "text/plain": [
       "ObjectId('5a5d1ece8d72ef283c705aa7')"
      ]
     },
     "execution_count": 24,
     "metadata": {},
     "output_type": "execute_result"
    },
    {
     "name": "stderr",
     "output_type": "stream",
     "text": [
      "'wget' is not recognized as an internal or external command,\n",
      "operable program or batch file.\n"
     ]
    },
    {
     "data": {
      "text/plain": [
       "ObjectId('5a5d1ece8d72ef283c705aa8')"
      ]
     },
     "execution_count": 24,
     "metadata": {},
     "output_type": "execute_result"
    },
    {
     "name": "stderr",
     "output_type": "stream",
     "text": [
      "'wget' is not recognized as an internal or external command,\n",
      "operable program or batch file.\n"
     ]
    },
    {
     "data": {
      "text/plain": [
       "ObjectId('5a5d1ece8d72ef283c705aa9')"
      ]
     },
     "execution_count": 24,
     "metadata": {},
     "output_type": "execute_result"
    },
    {
     "name": "stderr",
     "output_type": "stream",
     "text": [
      "'wget' is not recognized as an internal or external command,\n",
      "operable program or batch file.\n"
     ]
    },
    {
     "data": {
      "text/plain": [
       "ObjectId('5a5d1ece8d72ef283c705aaa')"
      ]
     },
     "execution_count": 24,
     "metadata": {},
     "output_type": "execute_result"
    },
    {
     "name": "stderr",
     "output_type": "stream",
     "text": [
      "'wget' is not recognized as an internal or external command,\n",
      "operable program or batch file.\n"
     ]
    },
    {
     "data": {
      "text/plain": [
       "ObjectId('5a5d1ece8d72ef283c705aab')"
      ]
     },
     "execution_count": 24,
     "metadata": {},
     "output_type": "execute_result"
    },
    {
     "name": "stderr",
     "output_type": "stream",
     "text": [
      "'wget' is not recognized as an internal or external command,\n",
      "operable program or batch file.\n"
     ]
    },
    {
     "data": {
      "text/plain": [
       "ObjectId('5a5d1ece8d72ef283c705aac')"
      ]
     },
     "execution_count": 24,
     "metadata": {},
     "output_type": "execute_result"
    },
    {
     "name": "stderr",
     "output_type": "stream",
     "text": [
      "'wget' is not recognized as an internal or external command,\n",
      "operable program or batch file.\n"
     ]
    },
    {
     "data": {
      "text/plain": [
       "ObjectId('5a5d1ece8d72ef283c705aad')"
      ]
     },
     "execution_count": 24,
     "metadata": {},
     "output_type": "execute_result"
    },
    {
     "name": "stderr",
     "output_type": "stream",
     "text": [
      "'wget' is not recognized as an internal or external command,\n",
      "operable program or batch file.\n"
     ]
    },
    {
     "data": {
      "text/plain": [
       "ObjectId('5a5d1ece8d72ef283c705aae')"
      ]
     },
     "execution_count": 24,
     "metadata": {},
     "output_type": "execute_result"
    },
    {
     "name": "stderr",
     "output_type": "stream",
     "text": [
      "'wget' is not recognized as an internal or external command,\n",
      "operable program or batch file.\n"
     ]
    },
    {
     "data": {
      "text/plain": [
       "ObjectId('5a5d1ece8d72ef283c705aaf')"
      ]
     },
     "execution_count": 24,
     "metadata": {},
     "output_type": "execute_result"
    },
    {
     "name": "stderr",
     "output_type": "stream",
     "text": [
      "'wget' is not recognized as an internal or external command,\n",
      "operable program or batch file.\n"
     ]
    },
    {
     "data": {
      "text/plain": [
       "ObjectId('5a5d1ece8d72ef283c705ab0')"
      ]
     },
     "execution_count": 24,
     "metadata": {},
     "output_type": "execute_result"
    },
    {
     "name": "stderr",
     "output_type": "stream",
     "text": [
      "'wget' is not recognized as an internal or external command,\n",
      "operable program or batch file.\n"
     ]
    },
    {
     "data": {
      "text/plain": [
       "ObjectId('5a5d1ece8d72ef283c705ab1')"
      ]
     },
     "execution_count": 24,
     "metadata": {},
     "output_type": "execute_result"
    },
    {
     "name": "stderr",
     "output_type": "stream",
     "text": [
      "'wget' is not recognized as an internal or external command,\n",
      "operable program or batch file.\n"
     ]
    },
    {
     "data": {
      "text/plain": [
       "ObjectId('5a5d1ece8d72ef283c705ab2')"
      ]
     },
     "execution_count": 24,
     "metadata": {},
     "output_type": "execute_result"
    },
    {
     "name": "stderr",
     "output_type": "stream",
     "text": [
      "'wget' is not recognized as an internal or external command,\n",
      "operable program or batch file.\n"
     ]
    },
    {
     "data": {
      "text/plain": [
       "ObjectId('5a5d1ece8d72ef283c705ab3')"
      ]
     },
     "execution_count": 24,
     "metadata": {},
     "output_type": "execute_result"
    },
    {
     "name": "stderr",
     "output_type": "stream",
     "text": [
      "'wget' is not recognized as an internal or external command,\n",
      "operable program or batch file.\n"
     ]
    },
    {
     "data": {
      "text/plain": [
       "ObjectId('5a5d1ece8d72ef283c705ab4')"
      ]
     },
     "execution_count": 24,
     "metadata": {},
     "output_type": "execute_result"
    },
    {
     "name": "stderr",
     "output_type": "stream",
     "text": [
      "'wget' is not recognized as an internal or external command,\n",
      "operable program or batch file.\n"
     ]
    },
    {
     "data": {
      "text/plain": [
       "ObjectId('5a5d1ece8d72ef283c705ab5')"
      ]
     },
     "execution_count": 24,
     "metadata": {},
     "output_type": "execute_result"
    },
    {
     "name": "stderr",
     "output_type": "stream",
     "text": [
      "'wget' is not recognized as an internal or external command,\n",
      "operable program or batch file.\n"
     ]
    },
    {
     "data": {
      "text/plain": [
       "ObjectId('5a5d1ece8d72ef283c705ab6')"
      ]
     },
     "execution_count": 24,
     "metadata": {},
     "output_type": "execute_result"
    },
    {
     "name": "stderr",
     "output_type": "stream",
     "text": [
      "'wget' is not recognized as an internal or external command,\n",
      "operable program or batch file.\n"
     ]
    },
    {
     "data": {
      "text/plain": [
       "ObjectId('5a5d1ece8d72ef283c705ab7')"
      ]
     },
     "execution_count": 24,
     "metadata": {},
     "output_type": "execute_result"
    },
    {
     "name": "stderr",
     "output_type": "stream",
     "text": [
      "'wget' is not recognized as an internal or external command,\n",
      "operable program or batch file.\n"
     ]
    },
    {
     "data": {
      "text/plain": [
       "ObjectId('5a5d1ece8d72ef283c705ab8')"
      ]
     },
     "execution_count": 24,
     "metadata": {},
     "output_type": "execute_result"
    },
    {
     "name": "stderr",
     "output_type": "stream",
     "text": [
      "'wget' is not recognized as an internal or external command,\n",
      "operable program or batch file.\n"
     ]
    },
    {
     "data": {
      "text/plain": [
       "ObjectId('5a5d1ece8d72ef283c705ab9')"
      ]
     },
     "execution_count": 24,
     "metadata": {},
     "output_type": "execute_result"
    },
    {
     "name": "stderr",
     "output_type": "stream",
     "text": [
      "'wget' is not recognized as an internal or external command,\n",
      "operable program or batch file.\n"
     ]
    },
    {
     "data": {
      "text/plain": [
       "ObjectId('5a5d1ece8d72ef283c705aba')"
      ]
     },
     "execution_count": 24,
     "metadata": {},
     "output_type": "execute_result"
    },
    {
     "name": "stderr",
     "output_type": "stream",
     "text": [
      "'wget' is not recognized as an internal or external command,\n",
      "operable program or batch file.\n"
     ]
    },
    {
     "data": {
      "text/plain": [
       "ObjectId('5a5d1ece8d72ef283c705abb')"
      ]
     },
     "execution_count": 24,
     "metadata": {},
     "output_type": "execute_result"
    },
    {
     "name": "stderr",
     "output_type": "stream",
     "text": [
      "'wget' is not recognized as an internal or external command,\n",
      "operable program or batch file.\n"
     ]
    },
    {
     "data": {
      "text/plain": [
       "ObjectId('5a5d1ece8d72ef283c705abc')"
      ]
     },
     "execution_count": 24,
     "metadata": {},
     "output_type": "execute_result"
    },
    {
     "name": "stderr",
     "output_type": "stream",
     "text": [
      "'wget' is not recognized as an internal or external command,\n",
      "operable program or batch file.\n"
     ]
    },
    {
     "data": {
      "text/plain": [
       "ObjectId('5a5d1ece8d72ef283c705abd')"
      ]
     },
     "execution_count": 24,
     "metadata": {},
     "output_type": "execute_result"
    },
    {
     "name": "stderr",
     "output_type": "stream",
     "text": [
      "'wget' is not recognized as an internal or external command,\n",
      "operable program or batch file.\n"
     ]
    },
    {
     "data": {
      "text/plain": [
       "ObjectId('5a5d1ece8d72ef283c705abe')"
      ]
     },
     "execution_count": 24,
     "metadata": {},
     "output_type": "execute_result"
    },
    {
     "name": "stderr",
     "output_type": "stream",
     "text": [
      "'wget' is not recognized as an internal or external command,\n",
      "operable program or batch file.\n"
     ]
    },
    {
     "data": {
      "text/plain": [
       "ObjectId('5a5d1ece8d72ef283c705abf')"
      ]
     },
     "execution_count": 24,
     "metadata": {},
     "output_type": "execute_result"
    },
    {
     "name": "stderr",
     "output_type": "stream",
     "text": [
      "'wget' is not recognized as an internal or external command,\n",
      "operable program or batch file.\n"
     ]
    },
    {
     "data": {
      "text/plain": [
       "ObjectId('5a5d1ece8d72ef283c705ac0')"
      ]
     },
     "execution_count": 24,
     "metadata": {},
     "output_type": "execute_result"
    },
    {
     "name": "stderr",
     "output_type": "stream",
     "text": [
      "'wget' is not recognized as an internal or external command,\n",
      "operable program or batch file.\n"
     ]
    },
    {
     "data": {
      "text/plain": [
       "ObjectId('5a5d1ece8d72ef283c705ac1')"
      ]
     },
     "execution_count": 24,
     "metadata": {},
     "output_type": "execute_result"
    },
    {
     "name": "stderr",
     "output_type": "stream",
     "text": [
      "'wget' is not recognized as an internal or external command,\n",
      "operable program or batch file.\n"
     ]
    },
    {
     "data": {
      "text/plain": [
       "ObjectId('5a5d1ece8d72ef283c705ac2')"
      ]
     },
     "execution_count": 24,
     "metadata": {},
     "output_type": "execute_result"
    },
    {
     "name": "stderr",
     "output_type": "stream",
     "text": [
      "'wget' is not recognized as an internal or external command,\n",
      "operable program or batch file.\n"
     ]
    },
    {
     "data": {
      "text/plain": [
       "ObjectId('5a5d1ece8d72ef283c705ac3')"
      ]
     },
     "execution_count": 24,
     "metadata": {},
     "output_type": "execute_result"
    },
    {
     "name": "stderr",
     "output_type": "stream",
     "text": [
      "'wget' is not recognized as an internal or external command,\n",
      "operable program or batch file.\n"
     ]
    },
    {
     "data": {
      "text/plain": [
       "ObjectId('5a5d1ece8d72ef283c705ac4')"
      ]
     },
     "execution_count": 24,
     "metadata": {},
     "output_type": "execute_result"
    },
    {
     "name": "stderr",
     "output_type": "stream",
     "text": [
      "'wget' is not recognized as an internal or external command,\n",
      "operable program or batch file.\n"
     ]
    },
    {
     "data": {
      "text/plain": [
       "ObjectId('5a5d1ece8d72ef283c705ac5')"
      ]
     },
     "execution_count": 24,
     "metadata": {},
     "output_type": "execute_result"
    }
   ],
   "source": [
    "import re\n",
    "updated_games = []\n",
    "for gameindex, game in enumerate(games):\n",
    "    image = game['image']\n",
    "    image_short = image.split('/')[-1]\n",
    "    !wget --no-check-certificate $image -P images/ \n",
    "    game['image'] = 'images/' + image_short\n",
    "    game.pop('_id', None)\n",
    "    updated_games.append(game)"
   ]
  },
  {
   "cell_type": "markdown",
   "metadata": {},
   "source": [
    "#### Verify the downloaded images\n",
    "Run the `ls images` to show the available images and save the list to `lsimages`."
   ]
  },
  {
   "cell_type": "code",
   "execution_count": null,
   "metadata": {
    "collapsed": false
   },
   "outputs": [],
   "source": [
    "lsimages = !ls images\n",
    "lsimages"
   ]
  },
  {
   "cell_type": "markdown",
   "metadata": {},
   "source": [
    "#### Show the first image"
   ]
  },
  {
   "cell_type": "code",
   "execution_count": null,
   "metadata": {
    "collapsed": false
   },
   "outputs": [],
   "source": [
    "from IPython.display import Image\n",
    "from IPython.core.display import HTML \n",
    "Image(url='images/'+lsimages.list[0])"
   ]
  },
  {
   "cell_type": "markdown",
   "metadata": {},
   "source": [
    "#### Delete the old games from the database"
   ]
  },
  {
   "cell_type": "code",
   "execution_count": null,
   "metadata": {
    "collapsed": true
   },
   "outputs": [],
   "source": [
    "result = db.games.delete_many({})"
   ]
  },
  {
   "cell_type": "markdown",
   "metadata": {},
   "source": [
    "#### Insert the updated games"
   ]
  },
  {
   "cell_type": "code",
   "execution_count": null,
   "metadata": {
    "collapsed": true
   },
   "outputs": [],
   "source": [
    "result = db.games.insert_many(updated_games)"
   ]
  },
  {
   "cell_type": "markdown",
   "metadata": {},
   "source": [
    "<img class=\"logo\" src=\"http://files.jitsejan.com/logos/express.PNG\" />\n",
    "## Back-end\n",
    "Create the API with [ExpressJS](https://expressjs.com/) and [Mongoose](http://mongoosejs.com/).\n",
    "\n",
    "First make sure NodeJS is installed."
   ]
  },
  {
   "cell_type": "code",
   "execution_count": null,
   "metadata": {
    "collapsed": false
   },
   "outputs": [],
   "source": [
    "!node --version"
   ]
  },
  {
   "cell_type": "code",
   "execution_count": null,
   "metadata": {
    "collapsed": false
   },
   "outputs": [],
   "source": [
    "!npm --version"
   ]
  },
  {
   "cell_type": "markdown",
   "metadata": {},
   "source": [
    "### Create Node package and install Express generator\n",
    "Install the ExpressJS [generator](https://expressjs.com/en/starter/generator.html) after creating the `server` folder."
   ]
  },
  {
   "cell_type": "code",
   "execution_count": null,
   "metadata": {
    "collapsed": true
   },
   "outputs": [],
   "source": [
    "!rm -rf server"
   ]
  },
  {
   "cell_type": "code",
   "execution_count": null,
   "metadata": {
    "collapsed": false
   },
   "outputs": [],
   "source": [
    "!mkdir server && cd server && npm init -y && npm install express-generator --save"
   ]
  },
  {
   "cell_type": "markdown",
   "metadata": {},
   "source": [
    "#### Check ExpressJS version"
   ]
  },
  {
   "cell_type": "code",
   "execution_count": null,
   "metadata": {
    "collapsed": false
   },
   "outputs": [],
   "source": [
    "!cd server && npm express --version"
   ]
  },
  {
   "cell_type": "markdown",
   "metadata": {},
   "source": [
    "#### Create the scaffold for the server\n",
    "Note that we use `npx` instead of `npm` because we run NPM from a <b>local</b> folder."
   ]
  },
  {
   "cell_type": "code",
   "execution_count": null,
   "metadata": {
    "collapsed": false
   },
   "outputs": [],
   "source": [
    "!cd server && npx express -y --force --git --view ejs ."
   ]
  },
  {
   "cell_type": "code",
   "execution_count": null,
   "metadata": {
    "collapsed": false
   },
   "outputs": [],
   "source": [
    "ls server/"
   ]
  },
  {
   "cell_type": "code",
   "execution_count": null,
   "metadata": {
    "collapsed": false
   },
   "outputs": [],
   "source": [
    "!cat server/package.json"
   ]
  },
  {
   "cell_type": "markdown",
   "metadata": {},
   "source": [
    "#### Install dependencies"
   ]
  },
  {
   "cell_type": "code",
   "execution_count": null,
   "metadata": {
    "collapsed": false
   },
   "outputs": [],
   "source": [
    "!cd server && npm install"
   ]
  },
  {
   "cell_type": "markdown",
   "metadata": {},
   "source": [
    "#### Run the app"
   ]
  },
  {
   "cell_type": "code",
   "execution_count": null,
   "metadata": {
    "collapsed": false
   },
   "outputs": [],
   "source": [
    "import subprocess\n",
    "proc = subprocess.Popen(\"cd server && npm start &\", shell=True, stdout=subprocess.PIPE)\n",
    "proc.pid"
   ]
  },
  {
   "cell_type": "markdown",
   "metadata": {},
   "source": [
    "#### Request the ExpressJS app"
   ]
  },
  {
   "cell_type": "code",
   "execution_count": null,
   "metadata": {
    "collapsed": false
   },
   "outputs": [],
   "source": [
    "import requests\n",
    "import time\n",
    "from IPython.core.display import display, HTML\n",
    "\n",
    "time.sleep(5)\n",
    "resp = requests.get('http://localhost:3000')\n",
    "display(HTML(resp.text))"
   ]
  },
  {
   "cell_type": "markdown",
   "metadata": {},
   "source": [
    "#### Stop the ExpressJS app\n",
    "Use `lsof` to find the process that uses port 3000 and kill it."
   ]
  },
  {
   "cell_type": "code",
   "execution_count": null,
   "metadata": {
    "collapsed": false
   },
   "outputs": [],
   "source": [
    "process=!lsof -i:3000 -t\n",
    "expressid = int(process[0])\n",
    "expressid"
   ]
  },
  {
   "cell_type": "code",
   "execution_count": null,
   "metadata": {
    "collapsed": true
   },
   "outputs": [],
   "source": [
    "!kill -9 $expressid"
   ]
  },
  {
   "cell_type": "markdown",
   "metadata": {},
   "source": [
    "#### Check if the server is down"
   ]
  },
  {
   "cell_type": "code",
   "execution_count": null,
   "metadata": {
    "collapsed": false
   },
   "outputs": [],
   "source": [
    "try:\n",
    "    resp = requests.get('http://localhost:3000')\n",
    "except:\n",
    "    print(\"Server is down!\")"
   ]
  },
  {
   "cell_type": "markdown",
   "metadata": {},
   "source": [
    "<img class=\"logo\" src=\"http://files.jitsejan.com/logos/mongoose.PNG\" />\n",
    "## Connection from ExpressJS to MongoDB \n",
    "[Mongoose](http://mongoosejs.com/) will be used to connect the Node application to the database."
   ]
  },
  {
   "cell_type": "markdown",
   "metadata": {},
   "source": [
    "#### Install package"
   ]
  },
  {
   "cell_type": "code",
   "execution_count": null,
   "metadata": {
    "collapsed": false
   },
   "outputs": [],
   "source": [
    "!cd server && npm install --save mongoose"
   ]
  },
  {
   "cell_type": "markdown",
   "metadata": {},
   "source": [
    "#### Check installation"
   ]
  },
  {
   "cell_type": "code",
   "execution_count": null,
   "metadata": {
    "collapsed": false
   },
   "outputs": [],
   "source": [
    "!cat server/package.json | grep mongoose"
   ]
  },
  {
   "cell_type": "markdown",
   "metadata": {},
   "source": [
    "#### Add the Mongoose connection\n",
    "Add the following to the top of `server/app.js`.\n",
    "\n",
    "```javascript\n",
    "var mongoose = require('mongoose');\n",
    "mongoose.connect('mongodb://localhost:27017/nintendo');\n",
    "var db = mongoose.connection;\n",
    "db.on(\"error\", console.error.bind(console, \"Connection error\"));\n",
    "db.once(\"open\", function(callback){\n",
    "  console.log(\"Connection successful\")\n",
    "});\n",
    "```"
   ]
  },
  {
   "cell_type": "code",
   "execution_count": null,
   "metadata": {
    "collapsed": false
   },
   "outputs": [],
   "source": [
    "%%file server/app.js\n",
    "var express = require('express');\n",
    "var path = require('path');\n",
    "var favicon = require('serve-favicon');\n",
    "var logger = require('morgan');\n",
    "var cookieParser = require('cookie-parser');\n",
    "var bodyParser = require('body-parser');\n",
    "// Mongoose connection\n",
    "var mongoose = require('mongoose');\n",
    "mongoose.connect('mongodb://localhost:27017/nintendo');\n",
    "var db = mongoose.connection;\n",
    "db.on(\"error\", console.error.bind(console, \"Connection error\"));\n",
    "db.once(\"open\", function(callback){\n",
    "  console.log(\"Connection successful\")\n",
    "});\n",
    "\n",
    "var index = require('./routes/index');\n",
    "var users = require('./routes/users');\n",
    "\n",
    "var app = express();\n",
    "\n",
    "// view engine setup\n",
    "app.set('views', path.join(__dirname, 'views'));\n",
    "app.set('view engine', 'ejs');\n",
    "\n",
    "// uncomment after placing your favicon in /public\n",
    "//app.use(favicon(path.join(__dirname, 'public', 'favicon.ico')));\n",
    "app.use(logger('dev'));\n",
    "app.use(bodyParser.json());\n",
    "app.use(bodyParser.urlencoded({ extended: false }));\n",
    "app.use(cookieParser());\n",
    "app.use(express.static(path.join(__dirname, 'public')));\n",
    "\n",
    "app.use('/', index);\n",
    "app.use('/users', users);\n",
    "\n",
    "// catch 404 and forward to error handler\n",
    "app.use(function(req, res, next) {\n",
    "  var err = new Error('Not Found');\n",
    "  err.status = 404;\n",
    "  next(err);\n",
    "});\n",
    "\n",
    "// error handler\n",
    "app.use(function(err, req, res, next) {\n",
    "  // set locals, only providing error in development\n",
    "  res.locals.message = err.message;\n",
    "  res.locals.error = req.app.get('env') === 'development' ? err : {};\n",
    "\n",
    "  // render the error page\n",
    "  res.status(err.status || 500);\n",
    "  res.render('error');\n",
    "});\n",
    "\n",
    "module.exports = app;"
   ]
  },
  {
   "cell_type": "code",
   "execution_count": null,
   "metadata": {
    "collapsed": false
   },
   "outputs": [],
   "source": [
    "!head -n 20 server/app.js"
   ]
  },
  {
   "cell_type": "markdown",
   "metadata": {},
   "source": [
    "#### Check if MongoDB initializes"
   ]
  },
  {
   "cell_type": "code",
   "execution_count": null,
   "metadata": {
    "collapsed": true
   },
   "outputs": [],
   "source": [
    "import subprocess\n",
    "proc = subprocess.Popen(\"cd server && npm start &\", shell=True, stdout=subprocess.PIPE)"
   ]
  },
  {
   "cell_type": "code",
   "execution_count": null,
   "metadata": {
    "collapsed": false
   },
   "outputs": [],
   "source": [
    "import time\n",
    "\n",
    "time.sleep(5)\n",
    "for line in proc.stdout:\n",
    "    print(str(line))\n",
    "    if 'Connection successful' in str(line):\n",
    "        print(\"Success!\")\n",
    "        break"
   ]
  },
  {
   "cell_type": "code",
   "execution_count": null,
   "metadata": {
    "collapsed": true
   },
   "outputs": [],
   "source": [
    "process=!lsof -i:3000 -t\n",
    "expressid = int(process[0])\n",
    "!kill -9 $expressid"
   ]
  },
  {
   "cell_type": "markdown",
   "metadata": {},
   "source": [
    "### Create new model\n",
    "Create the Mongoose model for the games that we gathered in the earlier step."
   ]
  },
  {
   "cell_type": "code",
   "execution_count": null,
   "metadata": {
    "collapsed": true
   },
   "outputs": [],
   "source": [
    "!mkdir server/models"
   ]
  },
  {
   "cell_type": "code",
   "execution_count": null,
   "metadata": {
    "collapsed": false
   },
   "outputs": [],
   "source": [
    "%%file server/models/game.js\n",
    "var mongoose = require(\"mongoose\");\n",
    "var Schema = mongoose.Schema;\n",
    "\n",
    "var GameSchema = new Schema({\n",
    "  console: {\n",
    "    type: String\n",
    "  },\n",
    "  name: {\n",
    "    type: String\n",
    "  },\n",
    "  image: {\n",
    "    type: String\n",
    "  },\n",
    "  sales: {\n",
    "    type: String\n",
    "  }\n",
    "});\n",
    "\n",
    "module.exports = mongoose.model(\"Game\", GameSchema);"
   ]
  },
  {
   "cell_type": "markdown",
   "metadata": {},
   "source": [
    "### Adding new route\n",
    "Create the route to access the data of the games. In the scaffold we already have the `index.js` and `users.js`, so lets create the `games.js` to setup the routes for the new pages."
   ]
  },
  {
   "cell_type": "markdown",
   "metadata": {},
   "source": [
    "#### Existing routes"
   ]
  },
  {
   "cell_type": "code",
   "execution_count": null,
   "metadata": {
    "collapsed": false
   },
   "outputs": [],
   "source": [
    "!cat server/routes/index.js"
   ]
  },
  {
   "cell_type": "code",
   "execution_count": null,
   "metadata": {
    "collapsed": false
   },
   "outputs": [],
   "source": [
    "!cat server/routes/users.js"
   ]
  },
  {
   "cell_type": "markdown",
   "metadata": {},
   "source": [
    "#### Add the route requirement\n",
    "Add the following to `server/app.js`:\n",
    "\n",
    "```javascript\n",
    "...\n",
    "var consoles = require('./routes/games.js');\n",
    "...\n",
    "app.use('/games', games);\n",
    "...\n",
    "```\n",
    "\n",
    "With `sed` we can insert text on a certain position in a file."
   ]
  },
  {
   "cell_type": "code",
   "execution_count": null,
   "metadata": {
    "collapsed": true
   },
   "outputs": [],
   "source": [
    "!sed -i \"18i var games = require('./routes/games');\" server/app.js"
   ]
  },
  {
   "cell_type": "markdown",
   "metadata": {},
   "source": [
    "Enable the routes in the app:"
   ]
  },
  {
   "cell_type": "code",
   "execution_count": null,
   "metadata": {
    "collapsed": true
   },
   "outputs": [],
   "source": [
    "!sed -i \"36i app.use('/games', games);\" server/app.js"
   ]
  },
  {
   "cell_type": "markdown",
   "metadata": {},
   "source": [
    "and create the route file `server/routes/games.js`:"
   ]
  },
  {
   "cell_type": "code",
   "execution_count": null,
   "metadata": {
    "collapsed": false
   },
   "outputs": [],
   "source": [
    "%%file server/routes/games.js\n",
    "var express = require('express');\n",
    "var router = express.Router();\n",
    "var Game = require(\"../models/game\");\n",
    "\n",
    "router.get('/', (req, res) => {\n",
    "  Game.find({}, '', function (error, games){\n",
    "    if (error) { game.error(error); }\n",
    "    res.send({\n",
    "      games: games\n",
    "    })\n",
    "  }).sort({_id:-1})\n",
    "})\n",
    "\n",
    "module.exports = router;"
   ]
  },
  {
   "cell_type": "markdown",
   "metadata": {},
   "source": [
    "Start the server and verify the new route which should return a JSON object."
   ]
  },
  {
   "cell_type": "code",
   "execution_count": null,
   "metadata": {
    "collapsed": false,
    "scrolled": false
   },
   "outputs": [],
   "source": [
    "import json\n",
    "import requests\n",
    "import time\n",
    "proc = subprocess.Popen(\"cd server && npm start &\", shell=True, stdout=subprocess.PIPE)\n",
    "time.sleep(5)\n",
    "resp = requests.get('http://localhost:3000/games').json()\n",
    "print(json.dumps(resp, indent=4))"
   ]
  },
  {
   "cell_type": "markdown",
   "metadata": {},
   "source": [
    "Lets grab the ID of the first game of the data to verify the route in the next step."
   ]
  },
  {
   "cell_type": "code",
   "execution_count": null,
   "metadata": {
    "collapsed": false
   },
   "outputs": [],
   "source": [
    "game_id = resp['games'][0]['_id']\n",
    "game_id"
   ]
  },
  {
   "cell_type": "markdown",
   "metadata": {},
   "source": [
    "Kill the application again."
   ]
  },
  {
   "cell_type": "code",
   "execution_count": null,
   "metadata": {
    "collapsed": true
   },
   "outputs": [],
   "source": [
    "process=!fuser 3000/tcp | awk '{print $1}'\n",
    "expressid = int(process[1])\n",
    "!kill -9 $expressid"
   ]
  },
  {
   "cell_type": "markdown",
   "metadata": {},
   "source": [
    "Add another route to the `games.js` to get information for a single game.\n",
    "\n",
    "```javascript\n",
    "router.get('/:id', (req, res) => {\n",
    "  var db = req.db;\n",
    "  Game.findById(req.params.id, '', function (error, game) {\n",
    "    if (error) { console.error(error); }\n",
    "    res.send(game)\n",
    "  })\n",
    "})\n",
    "```\n"
   ]
  },
  {
   "cell_type": "code",
   "execution_count": null,
   "metadata": {
    "collapsed": false
   },
   "outputs": [],
   "source": [
    "%%file server/routes/games.js\n",
    "var express = require('express');\n",
    "var router = express.Router();\n",
    "var Game = require(\"../models/game\");\n",
    "\n",
    "router.get('/', (req, res) => {\n",
    "  Game.find({}, '', function (error, games){\n",
    "    if (error) { game.error(error); }\n",
    "    res.send({\n",
    "      games: games\n",
    "    })\n",
    "  }).sort({_id:-1})\n",
    "})\n",
    "router.get('/:id', (req, res) => {\n",
    "  var db = req.db;\n",
    "  Game.findById(req.params.id, '', function (error, game) {\n",
    "    if (error) { console.error(error); }\n",
    "    res.send(game)\n",
    "  })\n",
    "})\n",
    "\n",
    "module.exports = router;"
   ]
  },
  {
   "cell_type": "markdown",
   "metadata": {},
   "source": [
    "#### Verify the game detail route\n",
    "As a final step to verify the API we check if we can get the detailed information for the game ID we saved in the previous step."
   ]
  },
  {
   "cell_type": "code",
   "execution_count": null,
   "metadata": {
    "collapsed": false
   },
   "outputs": [],
   "source": [
    "import time\n",
    "proc = subprocess.Popen(\"cd server && npm start &\", shell=True, stdout=subprocess.PIPE)\n",
    "time.sleep(5)\n",
    "resp = requests.get('http://localhost:3000/games/'+game_id).json()\n",
    "print(json.dumps(resp, indent=4))"
   ]
  },
  {
   "cell_type": "code",
   "execution_count": null,
   "metadata": {
    "collapsed": true
   },
   "outputs": [],
   "source": [
    "process=!fuser 3000/tcp | awk '{print $1}'\n",
    "expressid = int(process[1])\n",
    "!kill -9 $expressid"
   ]
  },
  {
   "cell_type": "markdown",
   "metadata": {},
   "source": [
    "### Conclusion\n",
    "For the back-end we have created an API using Mongoose and ExpressJS with the following two routes:\n",
    "* All games\n",
    "* Game detail\n",
    "<hr/>"
   ]
  },
  {
   "cell_type": "markdown",
   "metadata": {},
   "source": [
    "<img src=\"http://files.jitsejan.com/logos/vuejs.PNG\" class=\"logo\" />\n",
    "## Front-end\n",
    "The next step is to create the front-end that can talk to the back-end and visualize the information. As a Javascript framework we are going to use VueJS. We will install the Vue [CLI](https://github.com/vuejs/vue-cli).\n",
    "\n",
    "#### Create the client folder and install Vue"
   ]
  },
  {
   "cell_type": "code",
   "execution_count": null,
   "metadata": {
    "collapsed": true
   },
   "outputs": [],
   "source": [
    "!rm -rf client"
   ]
  },
  {
   "cell_type": "code",
   "execution_count": null,
   "metadata": {
    "collapsed": false
   },
   "outputs": [],
   "source": [
    "!mkdir client && cd client && npm init -y && npm install vue-cli --save"
   ]
  },
  {
   "cell_type": "code",
   "execution_count": null,
   "metadata": {
    "collapsed": false
   },
   "outputs": [],
   "source": [
    "ls -la client"
   ]
  },
  {
   "cell_type": "markdown",
   "metadata": {},
   "source": [
    "#### Check version of Vue"
   ]
  },
  {
   "cell_type": "code",
   "execution_count": null,
   "metadata": {
    "collapsed": false
   },
   "outputs": [],
   "source": [
    "!cd client && npm vue --version"
   ]
  },
  {
   "cell_type": "markdown",
   "metadata": {},
   "source": [
    "### Create the scaffold\n",
    "To create the scaffold we will use the `vue-cli`. However, this requires us to give direct input to the command line which is tricky because we need to answer different questions when creating the scaffold using the tool. The easiest way to automate this task is to use the Linux tool [Expect](https://linux.die.net/man/1/expect). Make sure the tool is installed on your system. \n",
    "\n",
    "```bash\n",
    "$ sudo apt-get install expect -y\n",
    "```\n",
    "\n",
    "Note: if you do not want to use this trick, you can also use the external terminal and run\n",
    "\n",
    "```bash\n",
    "$ vue init webpack\n",
    "```\n",
    "\n",
    "in the client directory or simply clone the [repository](https://github.com/vuejs-templates/webpack) to your local file system.\n",
    "\n",
    "The following script contains the answers for the prompts created by the `vue init`. "
   ]
  },
  {
   "cell_type": "code",
   "execution_count": null,
   "metadata": {
    "collapsed": false
   },
   "outputs": [],
   "source": [
    "%%file client/init_expect_script.sh\n",
    "#!/usr/bin/expect -f\n",
    "spawn npx vue init webpack\n",
    "\n",
    "expect \"Generate project in current directory?\" { send \"Y\\r\" }\n",
    "expect \"Project name\"\n",
    "send \"vueclient\\r\"\n",
    "expect \"Project description\"\n",
    "send \"An experiment with Jupyter and MEVN\\r\"\n",
    "expect \"Author\"\n",
    "send \"Jupyter\\r\\n\"\n",
    "expect \"Vue build\"\n",
    "send \"\\r\\n\"\n",
    "expect \"Install vue-router?\"\n",
    "send \"Y\\r\"\n",
    "expect \"Use ESLint to lint your code?\"\n",
    "send \"Y\\r\"\n",
    "expect \"Pick an ESLint preset\"\n",
    "send \"\\r\\n\"\n",
    "expect \"Set up unit tests\"\n",
    "send \"Y\\r\"\n",
    "expect \"Pick a test runner\"\n",
    "send \"\\r\\n\"\n",
    "expect \"Setup e2e tests with Nightwatch?\"\n",
    "send \"Y\\r\"\n",
    "expect \"Should we run `npm install` for you after the project has been created? (recommended)\"\n",
    "send \"\\r\\n\"\n",
    "interact"
   ]
  },
  {
   "cell_type": "code",
   "execution_count": null,
   "metadata": {
    "collapsed": true
   },
   "outputs": [],
   "source": [
    "!chmod 755 client/init_expect_script.sh"
   ]
  },
  {
   "cell_type": "code",
   "execution_count": null,
   "metadata": {
    "collapsed": false,
    "scrolled": false
   },
   "outputs": [],
   "source": [
    "!cd client && ./init_expect_script.sh"
   ]
  },
  {
   "cell_type": "code",
   "execution_count": null,
   "metadata": {
    "collapsed": false
   },
   "outputs": [],
   "source": [
    "ls client"
   ]
  },
  {
   "cell_type": "markdown",
   "metadata": {},
   "source": [
    "#### Temporary fix\n",
    "There seems to be an [issue](https://github.com/webpack/webpack-dev-server/issues/1259) with webpack which disables Node to start the application. For now the version of `webpack-dev-server` 2.9.7 seems to not throw any errors."
   ]
  },
  {
   "cell_type": "code",
   "execution_count": null,
   "metadata": {
    "collapsed": false
   },
   "outputs": [],
   "source": [
    "!cd client && npm install webpack-dev-server@2.9.7 --save-dev"
   ]
  },
  {
   "cell_type": "code",
   "execution_count": null,
   "metadata": {
    "collapsed": true
   },
   "outputs": [],
   "source": [
    "import time\n",
    "proc = subprocess.Popen(\"cd client && npm run dev &\", shell=True, stdout=subprocess.PIPE)\n",
    "time.sleep(10)"
   ]
  },
  {
   "cell_type": "markdown",
   "metadata": {},
   "source": [
    "### Check the default page\n",
    "The default page of Vue should be available on port 8080. Lets use [Selenium](http://www.seleniumhq.org/) to visit the webpage and make a screenshot."
   ]
  },
  {
   "cell_type": "markdown",
   "metadata": {},
   "source": [
    "#### Setup Selenium\n",
    "First create a Docker instance that runs Selenium to avoid the cumbersome installation on the local Linux machine."
   ]
  },
  {
   "cell_type": "code",
   "execution_count": null,
   "metadata": {
    "collapsed": true
   },
   "outputs": [],
   "source": [
    "selenium_running = False\n",
    "for cntr in docker_client.containers.list():\n",
    "    if 'selenium' in cntr.attrs['Config']['Image']:\n",
    "        selenium_running = True\n",
    "        container = cntr\n",
    "if selenium_running is False:\n",
    "    container = docker_client.containers.run(\"selenium/standalone-chrome:latest\", name='selenium', ports={'4444': '4444'}, detach=True)"
   ]
  },
  {
   "cell_type": "code",
   "execution_count": null,
   "metadata": {
    "collapsed": true
   },
   "outputs": [],
   "source": [
    "time.sleep(10)"
   ]
  },
  {
   "cell_type": "code",
   "execution_count": null,
   "metadata": {
    "collapsed": false
   },
   "outputs": [],
   "source": [
    "from selenium import webdriver\n",
    "from selenium.webdriver.common.desired_capabilities import DesiredCapabilities\n",
    "\n",
    "driver = webdriver.Remote(\"http://localhost:4444/wd/hub\", DesiredCapabilities.CHROME)\n",
    "driver.get('http://dev.jitsejan.com:8080')\n",
    "driver.save_screenshot('homepage.png')"
   ]
  },
  {
   "cell_type": "markdown",
   "metadata": {},
   "source": [
    "<img src=\"homepage.png\" class=\"screenshot\" />"
   ]
  },
  {
   "cell_type": "markdown",
   "metadata": {},
   "source": [
    "Kill the process on port 8080 after verifying the front page."
   ]
  },
  {
   "cell_type": "code",
   "execution_count": null,
   "metadata": {
    "collapsed": true
   },
   "outputs": [],
   "source": [
    "process=!fuser 8080/tcp | awk '{print $1}'\n",
    "vueid = int(process[1])\n",
    "!kill -9 $vueid"
   ]
  },
  {
   "cell_type": "markdown",
   "metadata": {},
   "source": [
    "As we can see from the screenshot, we cannot access the page because `webpack` has changed some configuration. In order to circument this we need to add the host to the script in `package.json` and change\n",
    "\n",
    "```javascript\n",
    "    \"dev\": \"webpack-dev-server --inline --progress --config build/webpack.dev.conf.js\",\n",
    "```\n",
    "\n",
    "to\n",
    "\n",
    "```javascript\n",
    "    \"dev\": \"webpack-dev-server --inline --progress --config build/webpack.dev.conf.js --host 0.0.0.0\",\n",
    "```\n",
    "\n",
    "which can be done with `sed`:"
   ]
  },
  {
   "cell_type": "code",
   "execution_count": null,
   "metadata": {
    "collapsed": true
   },
   "outputs": [],
   "source": [
    "!sed -i '/dev.*--inline/s/conf.js/conf.js --host 0.0.0.0/' client/package.json"
   ]
  },
  {
   "cell_type": "code",
   "execution_count": null,
   "metadata": {
    "collapsed": false
   },
   "outputs": [],
   "source": [
    "cat client/package.json | grep dev"
   ]
  },
  {
   "cell_type": "markdown",
   "metadata": {},
   "source": [
    "Additionally we need to disable the host check in `build/webpack.dev.conf.js` by adding \n",
    "\n",
    "```javascript\n",
    "disableHostCheck: true\n",
    "```\n",
    "\n",
    "to the `devServer`."
   ]
  },
  {
   "cell_type": "code",
   "execution_count": null,
   "metadata": {
    "collapsed": true
   },
   "outputs": [],
   "source": [
    "!sed -i \"26i\\ \\ \\ \\ disableHostCheck: true,\" client/build/webpack.dev.conf.js"
   ]
  },
  {
   "cell_type": "code",
   "execution_count": null,
   "metadata": {
    "collapsed": false
   },
   "outputs": [],
   "source": [
    "!grep -C3 disableHostCheck client/build/webpack.dev.conf.js --color=auto"
   ]
  },
  {
   "cell_type": "markdown",
   "metadata": {},
   "source": [
    "#### Retry"
   ]
  },
  {
   "cell_type": "code",
   "execution_count": null,
   "metadata": {
    "collapsed": true
   },
   "outputs": [],
   "source": [
    "proc = subprocess.Popen(\"cd client && npm run dev &\", shell=True, stdout=subprocess.PIPE)\n",
    "time.sleep(10)"
   ]
  },
  {
   "cell_type": "code",
   "execution_count": null,
   "metadata": {
    "collapsed": false
   },
   "outputs": [],
   "source": [
    "driver = webdriver.Remote(\"http://localhost:4444/wd/hub\", DesiredCapabilities.CHROME)\n",
    "driver.get('http://dev.jitsejan.com:8080')\n",
    "driver.get_screenshot_as_file('homepage_success.png')"
   ]
  },
  {
   "cell_type": "markdown",
   "metadata": {},
   "source": [
    "<img src='homepage_success.png' class=\"screenshot\" />"
   ]
  },
  {
   "cell_type": "code",
   "execution_count": null,
   "metadata": {
    "collapsed": true
   },
   "outputs": [],
   "source": [
    "process=!fuser 8080/tcp | awk '{print $1}'\n",
    "vueid = int(process[1])\n",
    "!kill -9 $vueid"
   ]
  },
  {
   "cell_type": "markdown",
   "metadata": {},
   "source": [
    "## Create games page"
   ]
  },
  {
   "cell_type": "code",
   "execution_count": null,
   "metadata": {
    "collapsed": false
   },
   "outputs": [],
   "source": [
    "ls client/src/components/"
   ]
  },
  {
   "cell_type": "markdown",
   "metadata": {},
   "source": [
    "### Create the component"
   ]
  },
  {
   "cell_type": "code",
   "execution_count": null,
   "metadata": {
    "collapsed": false
   },
   "outputs": [],
   "source": [
    "%%file client/src/components/Games.vue\n",
    "<template>\n",
    "  <div class=\"games\">\n",
    "    This page will list all the games.\n",
    "  </div>\n",
    "</template>\n",
    "\n",
    "<script>\n",
    "export default {\n",
    "  name: 'Games',\n",
    "  data () {\n",
    "    return {}\n",
    "  }\n",
    "}\n",
    "</script>"
   ]
  },
  {
   "cell_type": "code",
   "execution_count": null,
   "metadata": {
    "collapsed": false
   },
   "outputs": [],
   "source": [
    "ls client/src/components/"
   ]
  },
  {
   "cell_type": "markdown",
   "metadata": {},
   "source": [
    "### Create the route"
   ]
  },
  {
   "cell_type": "code",
   "execution_count": null,
   "metadata": {
    "collapsed": false
   },
   "outputs": [],
   "source": [
    "cat client/src/router/index.js"
   ]
  },
  {
   "cell_type": "markdown",
   "metadata": {},
   "source": [
    "Add the import of the Games component to the router file.\n",
    "\n",
    "```javascript\n",
    "import Games from '@/components/Games'\n",
    "```"
   ]
  },
  {
   "cell_type": "markdown",
   "metadata": {},
   "source": [
    "and add the path to the games page indicating to which component the page will link.\n",
    "\n",
    "```javascript\n",
    "...\n",
    "    {\n",
    "      path: '/games',\n",
    "      name: 'Games',\n",
    "      component: Games\n",
    "    }\n",
    "...\n",
    "```"
   ]
  },
  {
   "cell_type": "code",
   "execution_count": null,
   "metadata": {
    "collapsed": false
   },
   "outputs": [],
   "source": [
    "%%file client/src/router/index.js\n",
    "import Vue from 'vue'\n",
    "import Router from 'vue-router'\n",
    "import HelloWorld from '@/components/HelloWorld'\n",
    "import Games from '@/components/Games'\n",
    "\n",
    "Vue.use(Router)\n",
    "\n",
    "export default new Router({\n",
    "  routes: [\n",
    "    {\n",
    "      path: '/',\n",
    "      name: 'HelloWorld',\n",
    "      component: HelloWorld\n",
    "    },\n",
    "    {\n",
    "      path: '/games',\n",
    "      name: 'Games',\n",
    "      component: Games\n",
    "    }\n",
    "  ]\n",
    "})\n",
    "\n"
   ]
  },
  {
   "cell_type": "markdown",
   "metadata": {},
   "source": [
    "#### Verify the new route"
   ]
  },
  {
   "cell_type": "code",
   "execution_count": null,
   "metadata": {
    "collapsed": false
   },
   "outputs": [],
   "source": [
    "proc = subprocess.Popen(\"cd client && npm run dev &\", shell=True, stdout=subprocess.PIPE)\n",
    "time.sleep(10)\n",
    "\n",
    "driver = webdriver.Remote(\"http://localhost:4444/wd/hub\", DesiredCapabilities.CHROME)\n",
    "driver.get('http://dev.jitsejan.com:8080/ui/#/games')\n",
    "driver.get_screenshot_as_file('new_route.png')\n",
    "\n",
    "process=!fuser 8080/tcp | awk '{print $1}'\n",
    "vueid = int(process[1])\n",
    "!kill -9 $vueid"
   ]
  },
  {
   "cell_type": "markdown",
   "metadata": {},
   "source": [
    "<img src=\"new_route.png\" class=\"screenshot\" />"
   ]
  },
  {
   "cell_type": "markdown",
   "metadata": {},
   "source": [
    "### Connect to back-end\n",
    "We have the route complete, time to connect to the data from the database. For this we will use [axios](https://github.com/axios/axios).\n",
    "#### Install axios"
   ]
  },
  {
   "cell_type": "code",
   "execution_count": null,
   "metadata": {
    "collapsed": false
   },
   "outputs": [],
   "source": [
    "!cd client && npm install --save axios"
   ]
  },
  {
   "cell_type": "markdown",
   "metadata": {},
   "source": [
    "#### Setup connection with back-end\n",
    "Create a `services` folder that will contain the API Javascript files."
   ]
  },
  {
   "cell_type": "code",
   "execution_count": null,
   "metadata": {
    "collapsed": true
   },
   "outputs": [],
   "source": [
    "mkdir -p client/src/services"
   ]
  },
  {
   "cell_type": "code",
   "execution_count": null,
   "metadata": {
    "collapsed": false
   },
   "outputs": [],
   "source": [
    "%%file client/src/services/api.js\n",
    "import axios from 'axios'\n",
    "\n",
    "export default() => {\n",
    "  return axios.create({\n",
    "    baseURL: `http://dev.jitsejan.com:3000`\n",
    "  })\n",
    "}\n",
    "\n"
   ]
  },
  {
   "cell_type": "markdown",
   "metadata": {},
   "source": [
    "#### Create service to retrieve the games"
   ]
  },
  {
   "cell_type": "code",
   "execution_count": null,
   "metadata": {
    "collapsed": false
   },
   "outputs": [],
   "source": [
    "%%file client/src/services/GamesService.js\n",
    "import api from '@/services/api'\n",
    "\n",
    "export default {\n",
    "  fetchGames () {\n",
    "    return api().get('games')\n",
    "  }\n",
    "}\n",
    "\n"
   ]
  },
  {
   "cell_type": "markdown",
   "metadata": {},
   "source": [
    "#### Add the service to the Games component\n",
    "This component shows all the games available in the database. Note that this is the file that should be updated if you would like a more fancy layout, for example by adding [Bootstrap](https://getbootstrap.com/) or other frameworks."
   ]
  },
  {
   "cell_type": "code",
   "execution_count": null,
   "metadata": {
    "collapsed": false
   },
   "outputs": [],
   "source": [
    "%%file client/src/components/Games.vue\n",
    "<template>\n",
    "  <div class=\"games\">\n",
    "    <div class=\"games-div\" v-for=\"game in games\" :key=\"game._id\">\n",
    "      <p>\n",
    "        <span><b>{{ game.name }}</b></span><br />\n",
    "        <span>{{ game.console }}</span><br />\n",
    "        <span>{{ game.sales }}</span>\n",
    "        <a :href=\"'/ui/#/games/' + game._id\">Details</a>\n",
    "      </p>\n",
    "    </div>\n",
    "  </div>\n",
    "</template>\n",
    "\n",
    "<script>\n",
    "import GamesService from '@/services/GamesService'\n",
    "\n",
    "export default {\n",
    "  name: 'Games',\n",
    "  data () {\n",
    "    return {\n",
    "      games: []\n",
    "    }\n",
    "  },\n",
    "  mounted () {\n",
    "    this.getGames()\n",
    "  },\n",
    "  methods: {\n",
    "    async getGames () {\n",
    "      const response = await GamesService.fetchGames()\n",
    "      this.games = response.data.games\n",
    "    }\n",
    "  }\n",
    "}\n",
    "</script>\n",
    "\n"
   ]
  },
  {
   "cell_type": "markdown",
   "metadata": {},
   "source": [
    "Start both the Express back-end and the Vue front-end to verify if the data from the API is retrieved with the updated component.\n",
    "\n",
    "Small trick: by setting the logging preferences when starting the webdriver with Selenium, we can actually retrieve the logs you would normally see with the developer tools in the browser."
   ]
  },
  {
   "cell_type": "code",
   "execution_count": null,
   "metadata": {
    "collapsed": false
   },
   "outputs": [],
   "source": [
    "vueproc = subprocess.Popen(\"cd client && npm run dev &\", shell=True, stdout=subprocess.PIPE)\n",
    "expressproc = subprocess.Popen(\"cd server && npm start &\", shell=True, stdout=subprocess.PIPE)\n",
    "\n",
    "time.sleep(10)\n",
    "\n",
    "desired = DesiredCapabilities.CHROME\n",
    "desired ['loggingPrefs'] = { 'browser':'ALL' }\n",
    "        \n",
    "driver = webdriver.Remote(\"http://localhost:4444/wd/hub\", desired_capabilities=desired)\n",
    "driver.get('http://dev.jitsejan.com:8080/ui/#/games')\n",
    "driver.get_screenshot_as_file('new_route_with_data.png')\n",
    "\n",
    "vueprocess=!fuser 8080/tcp | awk '{print $1}'\n",
    "vueid = int(vueprocess[1])\n",
    "!kill -9 $vueid\n",
    "\n",
    "expressprocess=!fuser 3000/tcp | awk '{print $1}'\n",
    "expressid = int(expressprocess[1])\n",
    "!kill -9 $expressid"
   ]
  },
  {
   "cell_type": "code",
   "execution_count": null,
   "metadata": {
    "collapsed": false
   },
   "outputs": [],
   "source": [
    "logs = driver.get_log('browser')\n",
    "logs"
   ]
  },
  {
   "cell_type": "markdown",
   "metadata": {},
   "source": [
    "<img src=\"new_route_with_data.png\" class=\"screenshot\" />"
   ]
  },
  {
   "cell_type": "markdown",
   "metadata": {},
   "source": [
    "As we can see in the logs, we have an issue accessing the back-end because of the Access-Control-Allow-Origin limitation. To circumvent this, we need to make sure that we are allowed to access the API; hece install the package [Cors](https://www.npmjs.com/package/cors) and enable it in the Express application."
   ]
  },
  {
   "cell_type": "code",
   "execution_count": null,
   "metadata": {
    "collapsed": false
   },
   "outputs": [],
   "source": [
    "!cd server && npm install --save cors"
   ]
  },
  {
   "cell_type": "markdown",
   "metadata": {},
   "source": [
    "Add the requirement for the cors package and enable it in the Express app by adding the following to `server/app.js`.\n",
    "\n",
    "```javascript\n",
    "...\n",
    "var cors = require('cors')\n",
    "...\n",
    "app.use(cors())\n",
    "...\n",
    "```"
   ]
  },
  {
   "cell_type": "code",
   "execution_count": null,
   "metadata": {
    "collapsed": false
   },
   "outputs": [],
   "source": [
    "%%file server/app.js\n",
    "var express = require('express');\n",
    "var path = require('path');\n",
    "var favicon = require('serve-favicon');\n",
    "var logger = require('morgan');\n",
    "var cookieParser = require('cookie-parser');\n",
    "var bodyParser = require('body-parser');\n",
    "// Mongoose connection\n",
    "var mongoose = require('mongoose');\n",
    "mongoose.connect('mongodb://localhost:27017/nintendo');\n",
    "var db = mongoose.connection;\n",
    "db.on(\"error\", console.error.bind(console, \"Connection error\"));\n",
    "db.once(\"openUri\", function(callback){\n",
    "  console.log(\"Connection successful\")\n",
    "});\n",
    "var cors = require(\"cors\")\n",
    "\n",
    "var index = require('./routes/index');\n",
    "var users = require('./routes/users');\n",
    "var games = require('./routes/games');\n",
    "\n",
    "var app = express();\n",
    "app.use(cors());\n",
    "\n",
    "// view engine setup\n",
    "app.set('views', path.join(__dirname, 'views'));\n",
    "app.set('view engine', 'ejs');\n",
    "\n",
    "// uncomment after placing your favicon in /public\n",
    "//app.use(favicon(path.join(__dirname, 'public', 'favicon.ico')));\n",
    "app.use(logger('dev'));\n",
    "app.use(bodyParser.json());\n",
    "app.use(bodyParser.urlencoded({ extended: false }));\n",
    "app.use(cookieParser());\n",
    "app.use(express.static(path.join(__dirname, 'public')));\n",
    "\n",
    "app.use('/', index);\n",
    "app.use('/users', users);\n",
    "app.use('/games', games);\n",
    "\n",
    "// catch 404 and forward to error handler\n",
    "app.use(function(req, res, next) {\n",
    "  var err = new Error('Not Found');\n",
    "  err.status = 404;\n",
    "  next(err);\n",
    "});\n",
    "\n",
    "// error handler\n",
    "app.use(function(err, req, res, next) {\n",
    "  // set locals, only providing error in development\n",
    "  res.locals.message = err.message;\n",
    "  res.locals.error = req.app.get('env') === 'development' ? err : {};\n",
    "\n",
    "  // render the error page\n",
    "  res.status(err.status || 500);\n",
    "  res.render('error');\n",
    "});\n",
    "\n",
    "module.exports = app;"
   ]
  },
  {
   "cell_type": "markdown",
   "metadata": {},
   "source": [
    "Now we are connected and allowed to retrieve the data. We use Selenium and wait for the `games-div` to appear."
   ]
  },
  {
   "cell_type": "code",
   "execution_count": null,
   "metadata": {
    "collapsed": false,
    "scrolled": false
   },
   "outputs": [],
   "source": [
    "from selenium.webdriver.support.ui import WebDriverWait\n",
    "from selenium.webdriver.support import expected_conditions as EC\n",
    "from selenium.webdriver.common.by import By\n",
    "\n",
    "vueproc = subprocess.Popen(\"cd client && npm run dev &\", shell=True, stdout=subprocess.PIPE)\n",
    "expressproc = subprocess.Popen(\"cd server && npm start &\", shell=True, stdout=subprocess.PIPE)\n",
    "\n",
    "time.sleep(10)\n",
    "\n",
    "desired = DesiredCapabilities.CHROME\n",
    "desired ['loggingPrefs'] = { 'browser':'ALL' }\n",
    "        \n",
    "driver = webdriver.Remote(\"http://localhost:4444/wd/hub\", desired_capabilities=desired)\n",
    "driver.get('http://dev.jitsejan.com:8080/ui/#/games')\n",
    "WebDriverWait(driver, 5).until(EC.presence_of_element_located((By.CLASS_NAME, 'games-div')))\n",
    "driver.refresh()\n",
    "driver.save_screenshot('allgames.png')"
   ]
  },
  {
   "cell_type": "markdown",
   "metadata": {},
   "source": [
    "<img src=\"allgames.png\" class=\"screenshot\"/>"
   ]
  },
  {
   "cell_type": "markdown",
   "metadata": {},
   "source": [
    "#### Clean up"
   ]
  },
  {
   "cell_type": "code",
   "execution_count": null,
   "metadata": {
    "collapsed": true
   },
   "outputs": [],
   "source": [
    "driver.quit()\n",
    "\n",
    "vueprocess=!fuser 8080/tcp | awk '{print $1}'\n",
    "vueid = int(vueprocess[1])\n",
    "!kill -9 $vueid\n",
    "\n",
    "expressprocess=!fuser 3000/tcp | awk '{print $1}'\n",
    "expressid = int(expressprocess[1])\n",
    "!kill -9 $expressid"
   ]
  },
  {
   "cell_type": "markdown",
   "metadata": {},
   "source": [
    "#### Create detail page for the game\n",
    "Create the component and connect to the API by importing the service and execute the promise. Retrieving the data for a game can also be solved by extending the `GamesServices.js` we created earlier by adding another fetch function, but since every problem can be solved in different ways, I chose to use the method as shown in the following file."
   ]
  },
  {
   "cell_type": "code",
   "execution_count": null,
   "metadata": {
    "collapsed": true
   },
   "outputs": [],
   "source": [
    "!cp -r images client/static"
   ]
  },
  {
   "cell_type": "code",
   "execution_count": null,
   "metadata": {
    "collapsed": false
   },
   "outputs": [],
   "source": [
    "!ls client/static/images/"
   ]
  },
  {
   "cell_type": "code",
   "execution_count": null,
   "metadata": {
    "collapsed": false
   },
   "outputs": [],
   "source": [
    "%%file client/src/components/GamesDetail.vue\n",
    "<template>\n",
    "  <div class=\"games-detail\">\n",
    "    <h1>Details for {{ data.name }}</h1>\n",
    "    <img :src=\"'/static/' + data.image\" /><br/>\n",
    "    Console: {{ data.console }}<br/>\n",
    "    Sales: {{ data.sales}} million<br/>\n",
    "  </div>\n",
    "</template>\n",
    "\n",
    "<script>\n",
    "import api from '@/services/api'\n",
    "\n",
    "export default {\n",
    "  name: 'GamesDetail',\n",
    "  data () {\n",
    "    return {\n",
    "      data: ''\n",
    "    }\n",
    "  },\n",
    "  created () {\n",
    "    api().get('games/' + this.$route.params.id)\n",
    "      .then(response => {\n",
    "        this.data = response.data\n",
    "      })\n",
    "      .catch(e => {\n",
    "        this.errors.push(e)\n",
    "      })\n",
    "  }\n",
    "}\n",
    "</script>\n",
    "\n"
   ]
  },
  {
   "cell_type": "markdown",
   "metadata": {},
   "source": [
    "Add the route for the detail page by adding the following to `client/src/router/index.js`:\n",
    "    \n",
    "```javascript\n",
    "...\n",
    "import GamesDetail from '@/components/GamesDetail'\n",
    "...\n",
    "    {\n",
    "      path: '/games/:id',\n",
    "      name: 'GamesDetail',\n",
    "      component: GamesDetail\n",
    "    }\n",
    "```"
   ]
  },
  {
   "cell_type": "code",
   "execution_count": null,
   "metadata": {
    "collapsed": false
   },
   "outputs": [],
   "source": [
    "%%file client/src/router/index.js\n",
    "import Vue from 'vue'\n",
    "import Router from 'vue-router'\n",
    "import HelloWorld from '@/components/HelloWorld'\n",
    "import Games from '@/components/Games'\n",
    "import GamesDetail from '@/components/GamesDetail'\n",
    "\n",
    "Vue.use(Router)\n",
    "\n",
    "export default new Router({\n",
    "  routes: [\n",
    "    {\n",
    "      path: '/',\n",
    "      name: 'HelloWorld',\n",
    "      component: HelloWorld\n",
    "    },\n",
    "    {\n",
    "      path: '/games',\n",
    "      name: 'Games',\n",
    "      component: Games\n",
    "    },\n",
    "    {\n",
    "      path: '/games/:id',\n",
    "      name: 'GamesDetail',\n",
    "      component: GamesDetail\n",
    "    }\n",
    "  ]\n",
    "})\n",
    "\n"
   ]
  },
  {
   "cell_type": "markdown",
   "metadata": {},
   "source": [
    "Start the processes"
   ]
  },
  {
   "cell_type": "code",
   "execution_count": null,
   "metadata": {
    "collapsed": true
   },
   "outputs": [],
   "source": [
    "vueproc = subprocess.Popen(\"cd client && npm run dev &\", shell=True, stdout=subprocess.PIPE)\n",
    "expressproc = subprocess.Popen(\"cd server && npm start &\", shell=True, stdout=subprocess.PIPE)\n",
    "time.sleep(10)"
   ]
  },
  {
   "cell_type": "markdown",
   "metadata": {},
   "source": [
    "Verify the detail page for a given ID."
   ]
  },
  {
   "cell_type": "code",
   "execution_count": null,
   "metadata": {
    "collapsed": false
   },
   "outputs": [],
   "source": [
    "desired = DesiredCapabilities.CHROME\n",
    "desired ['loggingPrefs'] = { 'browser':'ALL' }\n",
    "        \n",
    "driver = webdriver.Remote(\"http://localhost:4444/wd/hub\", desired_capabilities=desired)\n",
    "driver.get('http://dev.jitsejan.com:8080/ui/#/games/'+game_id)\n",
    "driver.save_screenshot('gamedetail.png')"
   ]
  },
  {
   "cell_type": "markdown",
   "metadata": {},
   "source": [
    "<img class=\"screenshot\" src=\"gamedetail.png\"/>"
   ]
  },
  {
   "cell_type": "code",
   "execution_count": null,
   "metadata": {
    "collapsed": true
   },
   "outputs": [],
   "source": [
    "vueprocess=!fuser 8080/tcp | awk '{print $1}'\n",
    "vueid = int(vueprocess[1])\n",
    "!kill -9 $vueid\n",
    "\n",
    "expressprocess=!fuser 3000/tcp | awk '{print $1}'\n",
    "expressid = int(expressprocess[1])\n",
    "!kill -9 $expressid"
   ]
  },
  {
   "cell_type": "markdown",
   "metadata": {},
   "source": [
    "### Finalize\n",
    "To wrap this notebook up, lets update the generic `App.vue` to make it easier to navigate between the pages by adding a menu to `client/src/App.vue`."
   ]
  },
  {
   "cell_type": "code",
   "execution_count": null,
   "metadata": {
    "collapsed": false
   },
   "outputs": [],
   "source": [
    "%%file client/src/App.vue\n",
    "<template>\n",
    "  <div id=\"app\">\n",
    "    <router-link :to=\"{ name: 'HelloWorld' }\">Home</router-link>\n",
    "    <router-link :to=\"{ name: 'Games'}\">Games</router-link>\n",
    "    <router-view/>\n",
    "  </div>\n",
    "</template>\n",
    "\n",
    "<script>\n",
    "export default {\n",
    "  name: 'app'\n",
    "}\n",
    "</script>\n",
    "\n",
    "<style>\n",
    "#app {\n",
    "  font-family: 'Avenir', Helvetica, Arial, sans-serif;\n",
    "  -webkit-font-smoothing: antialiased;\n",
    "  -moz-osx-font-smoothing: grayscale;\n",
    "  text-align: center;\n",
    "  color: #2c3e50;\n",
    "  margin-top: 60px;\n",
    "}\n",
    "</style>\n",
    "\n"
   ]
  },
  {
   "cell_type": "code",
   "execution_count": null,
   "metadata": {
    "collapsed": true
   },
   "outputs": [],
   "source": [
    "vueproc = subprocess.Popen(\"cd client && npm run dev &\", shell=True, stdout=subprocess.PIPE)\n",
    "expressproc = subprocess.Popen(\"cd server && npm start &\", shell=True, stdout=subprocess.PIPE)\n",
    "time.sleep(10)"
   ]
  },
  {
   "cell_type": "code",
   "execution_count": null,
   "metadata": {
    "collapsed": false
   },
   "outputs": [],
   "source": [
    "desired = DesiredCapabilities.CHROME\n",
    "desired ['loggingPrefs'] = { 'browser':'ALL' }\n",
    "        \n",
    "driver = webdriver.Remote(\"http://localhost:4444/wd/hub\", desired_capabilities=desired)\n",
    "driver.get('http://dev.jitsejan.com:8080')\n",
    "driver.save_screenshot('menuadded.png')"
   ]
  },
  {
   "cell_type": "markdown",
   "metadata": {},
   "source": [
    "<img src=\"menuadded.png\" class=\"screenshot\" />"
   ]
  },
  {
   "cell_type": "markdown",
   "metadata": {},
   "source": [
    "## Future work\n",
    "In this example application I did not use any fancy styling or advanced HTML structures to make the website more appealing. Additionally, the API is only used to retrieve data, while obviously it could also used to create data, update it or delete it (CRUD), but for the scope of this notebook I kept it to a minimum. As a third improvement you could choose to put everything of this notebook in one Docker compose file, where MongoDB, Selenium, ExpressJS and VueJS are all containerized, but since I am not planning to port this application to another server, it is fine to simply install the files locally and remove them again after the notebook has finished."
   ]
  }
 ],
 "metadata": {
  "kernelspec": {
   "display_name": "Python 3",
   "language": "python",
   "name": "python3"
  },
  "language_info": {
   "codemirror_mode": {
    "name": "ipython",
    "version": 3
   },
   "file_extension": ".py",
   "mimetype": "text/x-python",
   "name": "python",
   "nbconvert_exporter": "python",
   "pygments_lexer": "ipython3",
   "version": "3.6.0"
  }
 },
 "nbformat": 4,
 "nbformat_minor": 2
}
